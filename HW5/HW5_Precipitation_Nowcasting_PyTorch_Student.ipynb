{
 "cells": [
  {
   "cell_type": "markdown",
   "metadata": {
    "id": "kjRBQ9voFMYx"
   },
   "source": [
    "# Precipitation Nowcasting using Neural Networks\n",
    "\n",
    "In this exercise, you are going to build a set of deep learning models on a real world task using PyTorch. PyTorch is an open source machine learning framework based on the Torch library, used for applications such as computer vision and natural language processing, primarily developed by Facebook's AI Research lab (FAIR).\n",
    "\n",
    "## Setting up to use the gpu  \n",
    "\n",
    "Before we start, we need to change the environment of Colab to use GPU. Do so by:\n",
    "\n",
    "Runtime -> Change runtime type -> Hardware accelerator -> GPU"
   ]
  },
  {
   "cell_type": "markdown",
   "metadata": {
    "id": "aelm29BaFKuc"
   },
   "source": [
    "## Deep Neural Networks with PyTorch ##\n",
    "\n",
    "To complete this exercise, you will need to build deep learning models for precipitation nowcasting. You will build a subset of the models shown below:\n",
    "- Fully Connected (Feedforward) Neural Network\n",
    "- Two-Dimentional Convolution Neural Network (2D-CNN)\n",
    "- Recurrent Neural Network with Gated Recurrent Unit (GRU)\n",
    "\n",
    "and one more model of your choice to achieve the highest score possible.\n",
    "\n",
    "We provide the code for data cleaning and some starter code for PyTorch in this notebook but feel free to modify those parts to suit your needs. Feel free to use additional libraries (e.g. scikit-learn) as long as you have a model for each type mentioned above.\n",
    "\n",
    "This notebook assumes you have already installed PyTorch with python3 and had GPU enabled. If you run this exercise on Colab you are all set."
   ]
  },
  {
   "cell_type": "code",
   "execution_count": 1,
   "metadata": {},
   "outputs": [
    {
     "name": "stdout",
     "output_type": "stream",
     "text": [
      "Sun Mar 20 19:04:00 2022       \n",
      "+-----------------------------------------------------------------------------+\n",
      "| NVIDIA-SMI 511.79       Driver Version: 511.79       CUDA Version: 11.6     |\n",
      "|-------------------------------+----------------------+----------------------+\n",
      "| GPU  Name            TCC/WDDM | Bus-Id        Disp.A | Volatile Uncorr. ECC |\n",
      "| Fan  Temp  Perf  Pwr:Usage/Cap|         Memory-Usage | GPU-Util  Compute M. |\n",
      "|                               |                      |               MIG M. |\n",
      "|===============================+======================+======================|\n",
      "|   0  NVIDIA GeForce ... WDDM  | 00000000:01:00.0  On |                  N/A |\n",
      "|  0%   48C    P8     9W / 180W |    632MiB /  8192MiB |      2%      Default |\n",
      "|                               |                      |                  N/A |\n",
      "+-------------------------------+----------------------+----------------------+\n",
      "                                                                               \n",
      "+-----------------------------------------------------------------------------+\n",
      "| Processes:                                                                  |\n",
      "|  GPU   GI   CI        PID   Type   Process name                  GPU Memory |\n",
      "|        ID   ID                                                   Usage      |\n",
      "|=============================================================================|\n",
      "|    0   N/A  N/A      1164    C+G                                   N/A      |\n",
      "|    0   N/A  N/A      3008    C+G   ...lPanel\\SystemSettings.exe    N/A      |\n",
      "|    0   N/A  N/A      3204    C+G                                   N/A      |\n",
      "|    0   N/A  N/A      3652    C+G   C:\\Windows\\explorer.exe         N/A      |\n",
      "|    0   N/A  N/A      3736    C+G   ...ge\\Application\\msedge.exe    N/A      |\n",
      "|    0   N/A  N/A      4532    C+G   ...kyb3d8bbwe\\Calculator.exe    N/A      |\n",
      "|    0   N/A  N/A      4736    C+G   ...bbwe\\Microsoft.Photos.exe    N/A      |\n",
      "|    0   N/A  N/A      8352    C+G   ...5n1h2txyewy\\SearchApp.exe    N/A      |\n",
      "|    0   N/A  N/A      9000    C+G   ...ekyb3d8bbwe\\YourPhone.exe    N/A      |\n",
      "|    0   N/A  N/A      9596    C+G   ...cw5n1h2txyewy\\LockApp.exe    N/A      |\n",
      "|    0   N/A  N/A     10904    C+G   ...perience\\NVIDIA Share.exe    N/A      |\n",
      "|    0   N/A  N/A     13680    C+G   ...\\app-1.0.9004\\Discord.exe    N/A      |\n",
      "|    0   N/A  N/A     14092    C+G   ...8bbwe\\WindowsTerminal.exe    N/A      |\n",
      "|    0   N/A  N/A     14120    C+G   ...h8wxbdkxb8p\\DCv2\\DCv2.exe    N/A      |\n",
      "|    0   N/A  N/A     14956    C+G   ...2txyewy\\TextInputHost.exe    N/A      |\n",
      "|    0   N/A  N/A     15224    C+G   ...y\\ShellExperienceHost.exe    N/A      |\n",
      "+-----------------------------------------------------------------------------+\n"
     ]
    }
   ],
   "source": [
    "!nvidia-smi"
   ]
  },
  {
   "cell_type": "markdown",
   "metadata": {
    "id": "zt5qwVJXFKue"
   },
   "source": [
    "## Precipitation Nowcasting ##\n",
    "\n",
    "Precipitation nowcasting is the the task of predicting the amount of rainfall in a certain region given some kind of sensor data.  The term nowcasting refers to tasks that try to predict the current or near future conditions (within 6 hours). \n",
    "\n",
    "You will be given satellite images in 3 different bands covering a 5 by 5 region from different parts of Thailand. In other words, your input will be a 5x5x3 image. Your task is to predict the amount of rainfal in the center pixel. You will first do the prediction using just a simple fully-connected neural network that view each pixel as different input features.\n",
    "\n",
    "Since the your input is basically an image, we will then view the input as an image and apply CNN to do the prediction. Finally, we can also add a time component since weather prediction can benefit greatly using previous time frames. Each data point actually contain 5 time steps, so each input data point has a size of 5x5x5x3 (time x height x width x channel), and the output data has a size of 5 (time). You will use this time information when you work with RNNs.\n",
    "\n",
    "Finally, we would like to thank the Thai Meteorological Department for providing the data for this assignment."
   ]
  },
  {
   "cell_type": "markdown",
   "metadata": {
    "id": "j5F3GHHeyc8k"
   },
   "source": [
    "## Weights and Biases\n",
    "\n",
    "[Weights and Biases](https://docs.wandb.ai/company) (wandb) is an experiment tracking tool for machine learning. It can log and visualize experiments in real time. It supports many popular ML frameworks, and obviously PyTorch is one of them. In this notebook you will learn how to log general metrics like losses, parameter distributions, and gradient distribution with wandb.\n",
    "\n",
    "To install wandb, run the cell below"
   ]
  },
  {
   "cell_type": "markdown",
   "metadata": {
    "id": "sl8f3SBNzzDE"
   },
   "source": [
    "## Setup\n",
    "\n",
    "1. Register [Wandb account](https://wandb.ai/login?signup=true) (and confirm your email)\n",
    "\n",
    "2. `wandb login` and copy paste the API key when prompt"
   ]
  },
  {
   "cell_type": "code",
   "execution_count": 5,
   "metadata": {
    "id": "UMIBnplmyjdH"
   },
   "outputs": [
    {
     "name": "stderr",
     "output_type": "stream",
     "text": [
      "wandb: Appending key for api.wandb.ai to your netrc file: C:\\Users\\onepi/.netrc\n"
     ]
    }
   ],
   "source": [
    "!wandb login {wandb_api_key}"
   ]
  },
  {
   "cell_type": "code",
   "execution_count": 4,
   "metadata": {
    "id": "BYYloecSFKuf"
   },
   "outputs": [
    {
     "data": {
      "text/plain": [
       "'1.11.0+cu113'"
      ]
     },
     "execution_count": 4,
     "metadata": {},
     "output_type": "execute_result"
    }
   ],
   "source": [
    "import os\n",
    "import numpy as np\n",
    "import pickle\n",
    "import pandas as pd\n",
    "import matplotlib.pyplot as plt\n",
    "import wandb\n",
    "import urllib\n",
    "import torch\n",
    "import torch.nn as nn\n",
    "import torch.nn.functional as F\n",
    "import torchvision.transforms as transforms\n",
    "\n",
    "from sklearn import preprocessing\n",
    "from torch.utils.data import Dataset\n",
    "from torch.utils.data import DataLoader\n",
    "from torchinfo import summary\n",
    "from tqdm.notebook import tqdm\n",
    "\n",
    "torch.__version__ # 1.10.0+cu111"
   ]
  },
  {
   "cell_type": "markdown",
   "metadata": {
    "id": "nDQFOLhM5F2k"
   },
   "source": [
    "## Loading the data\n",
    "Get the data set by going [here](https://drive.google.com/file/d/1NWR22fVVE0tO2Q5EbaPPrRKPhUem-jbw/view?usp=sharing) and click add to drive."
   ]
  },
  {
   "cell_type": "markdown",
   "metadata": {
    "id": "syY5DXvFFKuj"
   },
   "source": [
    "# Data Explanation #\n",
    "\n",
    "The data is an hourly measurement of water vapor in the atmosphere, and two infrared measurements of cloud imagery on a latitude-longitude coordinate. Each measurement is illustrated below as an image. These three features are included as different channels in your input data.\n",
    "\n",
    "<img src=\"https://raw.githubusercontent.com/burin-n/pattern-recognition/master/HW4/images/wvapor.png\" width=\"200\"> <img src=\"https://raw.githubusercontent.com/burin-n/pattern-recognition/master/HW4/images/cloud1.png\" width=\"200\"> <img src=\"https://raw.githubusercontent.com/burin-n/pattern-recognition/master/HW4/images/cloud2.png\" width=\"200\">\n",
    "\n",
    "We also provide the hourly precipitation (rainfall) records in the month of June, July, August, September, and October from weather stations spreaded around the country. A 5x5 grid around each weather station at a particular time will be paired with the precipitation recorded at the corresponding station as input and output data. Finally, five adjacent timesteps are stacked into one sequence.\n",
    "\n",
    "The month of June-August are provided as training data, while the months of September and October are used as validation and test sets, respectively.\n"
   ]
  },
  {
   "cell_type": "markdown",
   "metadata": {
    "id": "Z6ieaQpHFKuk"
   },
   "source": [
    "# Reading data"
   ]
  },
  {
   "cell_type": "code",
   "execution_count": 6,
   "metadata": {},
   "outputs": [
    {
     "name": "stdout",
     "output_type": "stream",
     "text": [
      " Volume in drive D is New Volume\n",
      " Volume Serial Number is 221B-65F0\n",
      "\n",
      " Directory of D:\\Grad_school\\Pattern\\HW5\\dataset\n",
      "\n",
      "03/03/2022  11:48 PM    <DIR>          .\n",
      "03/03/2022  11:48 PM    <DIR>          ..\n",
      "10/10/2018  01:56 AM       167,572,670 features-m10.pk\n",
      "10/12/2018  01:49 PM       116,539,670 features-m6.pk\n",
      "10/09/2018  11:54 PM       118,020,170 features-m7.pk\n",
      "10/09/2018  11:55 PM       109,762,670 features-m8.pk\n",
      "10/10/2018  12:09 AM       139,258,670 features-m9.pk\n",
      "10/10/2018  01:39 AM         4,468,763 labels-m10.pk\n",
      "10/12/2018  01:49 PM         3,107,883 labels-m6.pk\n",
      "10/09/2018  11:47 PM         3,147,363 labels-m7.pk\n",
      "10/09/2018  11:47 PM         2,927,163 labels-m8.pk\n",
      "10/10/2018  12:04 AM         3,713,723 labels-m9.pk\n",
      "              10 File(s)    668,518,745 bytes\n",
      "               2 Dir(s)  363,942,813,696 bytes free\n"
     ]
    }
   ],
   "source": [
    "!dir \"dataset\""
   ]
  },
  {
   "cell_type": "code",
   "execution_count": 7,
   "metadata": {
    "id": "pg0gCg-DFKul"
   },
   "outputs": [],
   "source": [
    "def read_data(months, data_dir='dataset'):\n",
    "    features = np.array([], dtype=np.float32).reshape(0,5,5,5,3)\n",
    "    labels = np.array([], dtype=np.float32).reshape(0,5)\n",
    "    for m in months:\n",
    "        filename = 'features-m{}.pk'.format(m)\n",
    "        with open(os.path.join(data_dir,filename), 'rb') as file:\n",
    "            features_temp = pickle.load(file)\n",
    "        features = np.concatenate((features, features_temp), axis=0)\n",
    "        \n",
    "        filename = 'labels-m{}.pk'.format(m)\n",
    "        with open(os.path.join(data_dir,filename), 'rb') as file:\n",
    "            labels_temp = pickle.load(file)\n",
    "        labels = np.concatenate((labels, labels_temp), axis=0)\n",
    "\n",
    "    return features, labels"
   ]
  },
  {
   "cell_type": "code",
   "execution_count": 8,
   "metadata": {
    "id": "O3zFs-CXFKuo"
   },
   "outputs": [
    {
     "name": "stdout",
     "output_type": "stream",
     "text": [
      "x_train shape: (229548, 5, 5, 5, 3)\n",
      "y_train shape: (229548, 5) \n",
      "\n",
      "x_val shape: (92839, 5, 5, 5, 3)\n",
      "y_val shape: (92839, 5) \n",
      "\n",
      "x_test shape: (111715, 5, 5, 5, 3)\n",
      "y_test shape: (111715, 5)\n"
     ]
    }
   ],
   "source": [
    "# use data from month 6,7,8 as training set\n",
    "x_train, y_train = read_data(months=[6,7,8])\n",
    "\n",
    "# use data from month 9 as validation set\n",
    "x_val, y_val = read_data(months=[9])\n",
    "\n",
    "# use data from month 10 as test set\n",
    "x_test, y_test = read_data(months=[10])\n",
    "\n",
    "print('x_train shape:',x_train.shape)\n",
    "print('y_train shape:', y_train.shape, '\\n')\n",
    "print('x_val shape:',x_val.shape)\n",
    "print('y_val shape:', y_val.shape, '\\n')\n",
    "print('x_test shape:',x_test.shape)\n",
    "print('y_test shape:', y_test.shape)"
   ]
  },
  {
   "cell_type": "markdown",
   "metadata": {
    "id": "pW6GD-8-FKur"
   },
   "source": [
    "**features** \n",
    "- dim 0: number of entries\n",
    "- dim 1: number of time-steps in ascending order\n",
    "- dim 2,3: a 5x5 grid around rain-measued station\n",
    "- dim 4: water vapor and two cloud imagenaries \n",
    "\n",
    "**labels**\n",
    "- dim 0: number of entries\n",
    "- dim 1: number of precipitation for each time-step"
   ]
  },
  {
   "cell_type": "markdown",
   "metadata": {
    "id": "FnNVxatKFKuy"
   },
   "source": [
    "# Three-Layer Feedforward Neural Networks"
   ]
  },
  {
   "cell_type": "code",
   "execution_count": 9,
   "metadata": {
    "id": "OGB0Jhk3FKuz"
   },
   "outputs": [
    {
     "name": "stdout",
     "output_type": "stream",
     "text": [
      "(1147740, 75) (1147740, 1)\n",
      "(464195, 75) (464195, 1)\n",
      "(558575, 75) (558575, 1)\n"
     ]
    }
   ],
   "source": [
    "# Dataset need to be reshaped to make it suitable for feedforword model\n",
    "def preprocess_for_ff(x_train, y_train, x_val, y_val):\n",
    "    x_train_ff = x_train.reshape((-1, 5*5*3))\n",
    "    y_train_ff = y_train.reshape((-1, 1))\n",
    "    x_val_ff = x_val.reshape((-1, 5*5*3))\n",
    "    y_val_ff = y_val.reshape((-1, 1))\n",
    "    x_test_ff = x_test.reshape((-1, 5*5*3))\n",
    "    y_test_ff = y_test.reshape((-1, 1))\n",
    "\n",
    "    return x_train_ff, y_train_ff, x_val_ff, y_val_ff, x_test_ff, y_test_ff\n",
    "\n",
    "x_train_ff, y_train_ff, x_val_ff, y_val_ff, x_test_ff, y_test_ff = preprocess_for_ff(x_train, y_train, x_val, y_val)\n",
    "print(x_train_ff.shape, y_train_ff.shape)\n",
    "print(x_val_ff.shape, y_val_ff.shape)\n",
    "print(x_test_ff.shape, y_test_ff.shape)"
   ]
  },
  {
   "cell_type": "markdown",
   "metadata": {
    "id": "p77LrAbilkK7"
   },
   "source": [
    "### TODO#1\n",
    "\n",
    "Explain each line of code in the function preprocess_for_ff()\n",
    "\n",
    "**Ans:** \n",
    "\n",
    "For each data entry (including timestep), data features are flattened from grid to linear (from 5x5 grid 3 features to 75 linear feature) --> In this point, spatial features and time-relate of each grid are neglected."
   ]
  },
  {
   "cell_type": "markdown",
   "metadata": {
    "id": "1dK4x_Td1WE0"
   },
   "source": [
    "## Dataset\n",
    "\n",
    "To prepare a DataLoader in order to feed data into the model, we need to create a `torch.utils.data.Dataset` object first. (Learn more about it [here](https://pytorch.org/docs/stable/data.html#map-style-datasets))\n",
    "\n",
    "Dataset is a simple class that the DataLoader will get data from, most of its functionality comes from `__getitem__(self, index)` method, which will return a single data point (both input and label). In real world scenarios the method can do some other stuffs such as\n",
    "\n",
    "1. Load images\n",
    "\n",
    "If your input (x) are images. Oftentimes you won't be able to fit all the training images into your RAM. Thus, you should pass an array (or list) of image path into the dataloader, and the `__getitem__` will be the one who dynamically loads the actual image from the harddisk for you.\n",
    "\n",
    "2. Data Normalization\n",
    "\n",
    "Data normalization helps improve stability of training. Unnormalized data can cause gradients to explode. There are many variants of normalization, but in this notebook we will use either minmax or z-score (std) normalization. Read [this](https://developers.google.com/machine-learning/data-prep/transform/normalization) (or google) if you wish to learn more about data normalization.\n",
    "\n",
    "3. Data Augmentation\n",
    "\n",
    "In computer vision, you might want to apply small changes to the images you use in training (adjust brightness, contrast, rotation) so that the model will generalize better on unseen data. There are two kinds of augmentation: static and dynamic. Static augmentation will augment images and save to disk as a new dataset. On the other hand, rather than applying the change initially and use the same change on each image every epoch, dynamic augmentation will augment each data differently for each epoch. Note that augmentation is usually done on the CPU and you might be bounded by the CPU instead. PyTorch has a dedicated [documentation about data augmentation](https://pytorch.org/vision/master/transforms.html) if you want to know more."
   ]
  },
  {
   "cell_type": "code",
   "execution_count": 10,
   "metadata": {
    "id": "TLgje5aC1Klu"
   },
   "outputs": [],
   "source": [
    "class RainfallDatasetFF(Dataset):\n",
    "    def __init__(self, x, y, normalizer):\n",
    "        self.x = x.astype(np.float32)\n",
    "        self.y = y.astype(np.float32)\n",
    "        self.normalizer = normalizer\n",
    "        print(self.x.shape)\n",
    "        print(self.y.shape)\n",
    "\n",
    "    def __getitem__(self, index):\n",
    "        x = self.x[index] # Retrieve data\n",
    "        x = self.normalizer.transform(x.reshape(1, -1)) # Normalize\n",
    "        y = self.y[index]\n",
    "        return x, y\n",
    "\n",
    "    def __len__(self):\n",
    "        return self.x.shape[0]"
   ]
  },
  {
   "cell_type": "code",
   "execution_count": 11,
   "metadata": {
    "id": "DCKaJISBFKus"
   },
   "outputs": [],
   "source": [
    "def normalizer_std(X):\n",
    "    scaler = preprocessing.StandardScaler().fit(X)\n",
    "    return scaler\n",
    "\n",
    "def normalizer_minmax(X):\n",
    "    scaler = preprocessing.MinMaxScaler().fit(X)\n",
    "    return scaler"
   ]
  },
  {
   "cell_type": "code",
   "execution_count": 12,
   "metadata": {
    "id": "4abkl13k3TVH"
   },
   "outputs": [
    {
     "name": "stdout",
     "output_type": "stream",
     "text": [
      "(1147740, 75)\n",
      "(1147740, 1)\n",
      "(464195, 75)\n",
      "(464195, 1)\n",
      "(558575, 75)\n",
      "(558575, 1)\n"
     ]
    }
   ],
   "source": [
    "normalizer = normalizer_std(x_train_ff) # We will normalize everything based on x_train\n",
    "\n",
    "train_dataset = RainfallDatasetFF(x_train_ff, y_train_ff, normalizer)\n",
    "val_dataset = RainfallDatasetFF(x_val_ff, y_val_ff, normalizer)\n",
    "test_dataset = RainfallDatasetFF(x_test_ff, y_test_ff, normalizer)"
   ]
  },
  {
   "cell_type": "markdown",
   "metadata": {
    "id": "eewgRWXf-mJ5"
   },
   "source": [
    "## DataLoader\n",
    "\n",
    "DataLoader feeds data from our dataset into the model. We can freely customize batch size, data shuffle for each data split, and much more with DataLoader class. If you're curious about what can you do with PyTorch's DataLoader, you can check [this documentation](https://pytorch.org/docs/stable/data.html)"
   ]
  },
  {
   "cell_type": "code",
   "execution_count": 13,
   "metadata": {
    "id": "S-eNOnvf-ne3"
   },
   "outputs": [],
   "source": [
    "train_loader = DataLoader(train_dataset, batch_size=1024, shuffle=True, pin_memory=True)\n",
    "val_loader = DataLoader(val_dataset, batch_size=1024, shuffle=False, pin_memory=True)\n",
    "test_loader = DataLoader(test_dataset, batch_size=1024, shuffle=False, pin_memory=True)"
   ]
  },
  {
   "cell_type": "markdown",
   "metadata": {
    "id": "2ETMKmwesM1G"
   },
   "source": [
    "## Loss Function\n",
    "\n",
    "PyTorch has many loss functions readily available for use. We can also write our own custom loss function as well. But for now, we will use [PyTorch's built-in mean squared error loss ](https://pytorch.org/docs/stable/generated/torch.nn.MSELoss.html)"
   ]
  },
  {
   "cell_type": "code",
   "execution_count": 21,
   "metadata": {
    "id": "dE0wOzDpsOeM"
   },
   "outputs": [],
   "source": [
    "loss_fn = nn.MSELoss()"
   ]
  },
  {
   "cell_type": "markdown",
   "metadata": {
    "id": "R2XXPjgWoruT"
   },
   "source": [
    "### TODO#2\n",
    "\n",
    "Why is the loss MSE?\n",
    "\n",
    "**Ans:**\n",
    "\n",
    "Because we're going to predict amount of rainfall which is regression task. MSE loss will measures how far is you prediction from ground truth value (Real distance)."
   ]
  },
  {
   "cell_type": "markdown",
   "metadata": {
    "id": "FAJdDTn_Kj2V"
   },
   "source": [
    "## Device\n",
    "\n",
    "Unlike Tensorflow/Keras, PyTorch allows user to freely put any Tensor or objects (loss functions, models, optimizers, etc.) in CPU or GPU. By default, all objects created will be in CPU. In order to use GPU we will have to supply `device = torch.device(\"cuda\")` into the objects to move it to GPU. You will usually see the syntax like `object.to(device)` for moving CPU object to GPU, or `o = Object(..., device=device)` to create the object in the GPU."
   ]
  },
  {
   "cell_type": "code",
   "execution_count": 22,
   "metadata": {
    "id": "9nHbeRbYKk3e"
   },
   "outputs": [
    {
     "name": "stdout",
     "output_type": "stream",
     "text": [
      "We are using : cuda\n"
     ]
    }
   ],
   "source": [
    "device = torch.device(\"cuda\" if torch.cuda.is_available() else \"cpu\")\n",
    "print(\"We are using :\", device)"
   ]
  },
  {
   "cell_type": "markdown",
   "metadata": {
    "id": "_qNgeii7-jIS"
   },
   "source": [
    "## Model\n",
    "\n",
    "Below, the code for creating a 3-layers fully connected neural network in PyTorch is provided. Run the code and make sure you understand what you are doing. Then, report the results."
   ]
  },
  {
   "cell_type": "code",
   "execution_count": 23,
   "metadata": {
    "id": "ddS--sUaFKu3"
   },
   "outputs": [],
   "source": [
    "class FeedForwardNN(nn.Module):\n",
    "    def __init__(self, hidden_size=200):\n",
    "        super(FeedForwardNN, self).__init__()\n",
    "        self.ff1 = nn.Linear(75, hidden_size)\n",
    "        self.ff2 = nn.Linear(hidden_size, hidden_size)\n",
    "        self.ff3 = nn.Linear(hidden_size, hidden_size)\n",
    "        self.out = nn.Linear(hidden_size, 1)\n",
    "\n",
    "    def forward(self, x):\n",
    "        hd1 = F.relu(self.ff1(x))\n",
    "        hd2 = F.relu(self.ff2(hd1))\n",
    "        y = F.relu(self.ff3(hd2))\n",
    "        y = self.out(y)\n",
    "        return y.reshape(-1, 1)"
   ]
  },
  {
   "cell_type": "markdown",
   "metadata": {
    "id": "oz8m8ijkmUdU"
   },
   "source": [
    "### TODO#3\n",
    "\n",
    "What is the activation function in the final dense layer? and why? Do you think there is a better activation function for the final layer?\n",
    "\n",
    "**Ans:**\n",
    "\n",
    "There is no activation function in the final dense layer. Or we could say \"Linear\" activation function is used because we want an output to be continuous value, so we won't put any constrain like \"ReLU\" which strictly output to zero if it negative, or \"sigmoid\" which squeezing output between 0 and 1."
   ]
  },
  {
   "cell_type": "code",
   "execution_count": 24,
   "metadata": {
    "id": "z1RKOxNBhyb0"
   },
   "outputs": [],
   "source": [
    "# Hyperparameters and other configs\n",
    "config = {\n",
    "    'architecture': 'feedforward',\n",
    "    'lr': 0.01,\n",
    "    'hidden_size': 200,\n",
    "    'scheduler_factor': 0.2,\n",
    "    'scheduler_patience': 2,\n",
    "    'scheduler_min_lr': 1e-4,\n",
    "    'epochs': 10\n",
    "}\n",
    "\n",
    "# Model\n",
    "model_ff = FeedForwardNN(hidden_size=config['hidden_size'])\n",
    "model_ff = model_ff.to(device)\n",
    "optimizer = torch.optim.Adam(model_ff.parameters(), lr=config['lr'])\n",
    "scheduler = torch.optim.lr_scheduler.ReduceLROnPlateau(\n",
    "    optimizer, \n",
    "    'min', \n",
    "    factor=config['scheduler_factor'], \n",
    "    patience=config['scheduler_patience'], \n",
    "    min_lr=config['scheduler_min_lr']\n",
    ")"
   ]
  },
  {
   "cell_type": "code",
   "execution_count": 17,
   "metadata": {
    "id": "tCa_T56Js_gD",
    "scrolled": true
   },
   "outputs": [
    {
     "data": {
      "image/svg+xml": [
       "<?xml version=\"1.0\" encoding=\"UTF-8\" standalone=\"no\"?>\r\n",
       "<!DOCTYPE svg PUBLIC \"-//W3C//DTD SVG 1.1//EN\"\r\n",
       " \"http://www.w3.org/Graphics/SVG/1.1/DTD/svg11.dtd\">\r\n",
       "<!-- Generated by graphviz version 2.38.0 (20140413.2041)\r\n",
       " -->\r\n",
       "<!-- Title: %3 Pages: 1 -->\r\n",
       "<svg width=\"459pt\" height=\"972pt\"\r\n",
       " viewBox=\"0.00 0.00 458.87 972.00\" xmlns=\"http://www.w3.org/2000/svg\" xmlns:xlink=\"http://www.w3.org/1999/xlink\">\r\n",
       "<g id=\"graph0\" class=\"graph\" transform=\"scale(0.686926 0.686926) rotate(0) translate(4 1411)\">\r\n",
       "<title>%3</title>\r\n",
       "<polygon fill=\"white\" stroke=\"none\" points=\"-4,4 -4,-1411 664,-1411 664,4 -4,4\"/>\r\n",
       "<!-- 2910452557488 -->\r\n",
       "<g id=\"node1\" class=\"node\"><title>2910452557488</title>\r\n",
       "<polygon fill=\"#caff70\" stroke=\"black\" points=\"581,-31 504,-31 504,-0 581,-0 581,-31\"/>\r\n",
       "<text text-anchor=\"middle\" x=\"542.5\" y=\"-7\" font-family=\"monospace\" font-size=\"10.00\"> (1024, 1)</text>\r\n",
       "</g>\r\n",
       "<!-- 2910452535248 -->\r\n",
       "<g id=\"node2\" class=\"node\"><title>2910452535248</title>\r\n",
       "<polygon fill=\"lightgrey\" stroke=\"black\" points=\"546,-92 403,-92 403,-73 546,-73 546,-92\"/>\r\n",
       "<text text-anchor=\"middle\" x=\"474.5\" y=\"-80\" font-family=\"monospace\" font-size=\"10.00\">ReshapeAliasBackward0</text>\r\n",
       "</g>\r\n",
       "<!-- 2910452535248&#45;&gt;2910452557488 -->\r\n",
       "<g id=\"edge43\" class=\"edge\"><title>2910452535248&#45;&gt;2910452557488</title>\r\n",
       "<path fill=\"none\" stroke=\"black\" d=\"M483.671,-72.7338C492.917,-63.8952 507.551,-49.9071 519.91,-38.0937\"/>\r\n",
       "<polygon fill=\"black\" stroke=\"black\" points=\"522.432,-40.5246 527.242,-31.0847 517.595,-35.4645 522.432,-40.5246\"/>\r\n",
       "</g>\r\n",
       "<!-- 2910452534912 -->\r\n",
       "<g id=\"node3\" class=\"node\"><title>2910452534912</title>\r\n",
       "<polygon fill=\"lightgrey\" stroke=\"black\" points=\"587,-153 498,-153 498,-134 587,-134 587,-153\"/>\r\n",
       "<text text-anchor=\"middle\" x=\"542.5\" y=\"-141\" font-family=\"monospace\" font-size=\"10.00\">AddBackward0</text>\r\n",
       "</g>\r\n",
       "<!-- 2910452534912&#45;&gt;2910452535248 -->\r\n",
       "<g id=\"edge1\" class=\"edge\"><title>2910452534912&#45;&gt;2910452535248</title>\r\n",
       "<path fill=\"none\" stroke=\"black\" d=\"M532.466,-133.794C521.92,-124.644 505.114,-110.062 492.307,-98.9504\"/>\r\n",
       "<polygon fill=\"black\" stroke=\"black\" points=\"494.422,-96.1513 484.575,-92.2414 489.834,-101.439 494.422,-96.1513\"/>\r\n",
       "</g>\r\n",
       "<!-- 2911035119856 -->\r\n",
       "<g id=\"node45\" class=\"node\"><title>2911035119856</title>\r\n",
       "<polygon fill=\"#a2cd5a\" stroke=\"black\" points=\"659,-98 564,-98 564,-67 659,-67 659,-98\"/>\r\n",
       "<text text-anchor=\"middle\" x=\"611.5\" y=\"-74\" font-family=\"monospace\" font-size=\"10.00\"> (1024, 1, 1)</text>\r\n",
       "</g>\r\n",
       "<!-- 2910452534912&#45;&gt;2911035119856 -->\r\n",
       "<g id=\"edge44\" class=\"edge\"><title>2910452534912&#45;&gt;2911035119856</title>\r\n",
       "<path fill=\"none\" stroke=\"black\" d=\"M552.681,-133.794C561.575,-126.189 574.856,-114.833 586.549,-104.835\"/>\r\n",
       "<polygon fill=\"black\" stroke=\"black\" points=\"588.991,-107.352 594.316,-98.1933 584.441,-102.032 588.991,-107.352\"/>\r\n",
       "</g>\r\n",
       "<!-- 2910452535872 -->\r\n",
       "<g id=\"node4\" class=\"node\"><title>2910452535872</title>\r\n",
       "<polygon fill=\"lightgrey\" stroke=\"black\" points=\"541,-208 410,-208 410,-189 541,-189 541,-208\"/>\r\n",
       "<text text-anchor=\"middle\" x=\"475.5\" y=\"-196\" font-family=\"monospace\" font-size=\"10.00\">UnsafeViewBackward0</text>\r\n",
       "</g>\r\n",
       "<!-- 2910452535872&#45;&gt;2910452534912 -->\r\n",
       "<g id=\"edge2\" class=\"edge\"><title>2910452535872&#45;&gt;2910452534912</title>\r\n",
       "<path fill=\"none\" stroke=\"black\" d=\"M486.265,-188.985C496.266,-181.073 511.387,-169.112 523.43,-159.585\"/>\r\n",
       "<polygon fill=\"black\" stroke=\"black\" points=\"525.868,-162.119 531.539,-153.17 521.525,-156.629 525.868,-162.119\"/>\r\n",
       "</g>\r\n",
       "<!-- 2910452534816 -->\r\n",
       "<g id=\"node5\" class=\"node\"><title>2910452534816</title>\r\n",
       "<polygon fill=\"lightgrey\" stroke=\"black\" points=\"517,-268.5 434,-268.5 434,-249.5 517,-249.5 517,-268.5\"/>\r\n",
       "<text text-anchor=\"middle\" x=\"475.5\" y=\"-256.5\" font-family=\"monospace\" font-size=\"10.00\">MmBackward0</text>\r\n",
       "</g>\r\n",
       "<!-- 2910452534816&#45;&gt;2910452535872 -->\r\n",
       "<g id=\"edge3\" class=\"edge\"><title>2910452534816&#45;&gt;2910452535872</title>\r\n",
       "<path fill=\"none\" stroke=\"black\" d=\"M475.5,-249.368C475.5,-241.246 475.5,-228.807 475.5,-218.385\"/>\r\n",
       "<polygon fill=\"black\" stroke=\"black\" points=\"479,-218.167 475.5,-208.167 472,-218.167 479,-218.167\"/>\r\n",
       "</g>\r\n",
       "<!-- 2910452535392 -->\r\n",
       "<g id=\"node6\" class=\"node\"><title>2910452535392</title>\r\n",
       "<polygon fill=\"lightgrey\" stroke=\"black\" points=\"471,-329 376,-329 376,-310 471,-310 471,-329\"/>\r\n",
       "<text text-anchor=\"middle\" x=\"423.5\" y=\"-317\" font-family=\"monospace\" font-size=\"10.00\">ViewBackward0</text>\r\n",
       "</g>\r\n",
       "<!-- 2910452535392&#45;&gt;2910452534816 -->\r\n",
       "<g id=\"edge4\" class=\"edge\"><title>2910452535392&#45;&gt;2910452534816</title>\r\n",
       "<path fill=\"none\" stroke=\"black\" d=\"M431.173,-309.868C439.007,-301.054 451.359,-287.159 461.036,-276.272\"/>\r\n",
       "<polygon fill=\"black\" stroke=\"black\" points=\"463.768,-278.467 467.796,-268.667 458.536,-273.816 463.768,-278.467\"/>\r\n",
       "</g>\r\n",
       "<!-- 2910452534624 -->\r\n",
       "<g id=\"node7\" class=\"node\"><title>2910452534624</title>\r\n",
       "<polygon fill=\"lightgrey\" stroke=\"black\" points=\"468,-384 373,-384 373,-365 468,-365 468,-384\"/>\r\n",
       "<text text-anchor=\"middle\" x=\"420.5\" y=\"-372\" font-family=\"monospace\" font-size=\"10.00\">ReluBackward0</text>\r\n",
       "</g>\r\n",
       "<!-- 2910452534624&#45;&gt;2910452535392 -->\r\n",
       "<g id=\"edge5\" class=\"edge\"><title>2910452534624&#45;&gt;2910452535392</title>\r\n",
       "<path fill=\"none\" stroke=\"black\" d=\"M420.995,-364.748C421.389,-357.802 421.952,-347.845 422.445,-339.135\"/>\r\n",
       "<polygon fill=\"black\" stroke=\"black\" points=\"425.943,-339.271 423.014,-329.089 418.954,-338.875 425.943,-339.271\"/>\r\n",
       "</g>\r\n",
       "<!-- 2910452534480 -->\r\n",
       "<g id=\"node8\" class=\"node\"><title>2910452534480</title>\r\n",
       "<polygon fill=\"lightgrey\" stroke=\"black\" points=\"465,-444.5 376,-444.5 376,-425.5 465,-425.5 465,-444.5\"/>\r\n",
       "<text text-anchor=\"middle\" x=\"420.5\" y=\"-432.5\" font-family=\"monospace\" font-size=\"10.00\">AddBackward0</text>\r\n",
       "</g>\r\n",
       "<!-- 2910452534480&#45;&gt;2910452534624 -->\r\n",
       "<g id=\"edge6\" class=\"edge\"><title>2910452534480&#45;&gt;2910452534624</title>\r\n",
       "<path fill=\"none\" stroke=\"black\" d=\"M420.5,-425.368C420.5,-417.246 420.5,-404.807 420.5,-394.385\"/>\r\n",
       "<polygon fill=\"black\" stroke=\"black\" points=\"424,-394.167 420.5,-384.167 417,-394.167 424,-394.167\"/>\r\n",
       "</g>\r\n",
       "<!-- 2910452534384 -->\r\n",
       "<g id=\"node9\" class=\"node\"><title>2910452534384</title>\r\n",
       "<polygon fill=\"lightgrey\" stroke=\"black\" points=\"419,-505 288,-505 288,-486 419,-486 419,-505\"/>\r\n",
       "<text text-anchor=\"middle\" x=\"353.5\" y=\"-493\" font-family=\"monospace\" font-size=\"10.00\">UnsafeViewBackward0</text>\r\n",
       "</g>\r\n",
       "<!-- 2910452534384&#45;&gt;2910452534480 -->\r\n",
       "<g id=\"edge7\" class=\"edge\"><title>2910452534384&#45;&gt;2910452534480</title>\r\n",
       "<path fill=\"none\" stroke=\"black\" d=\"M363.386,-485.868C373.777,-476.795 390.336,-462.337 402.955,-451.319\"/>\r\n",
       "<polygon fill=\"black\" stroke=\"black\" points=\"405.343,-453.881 410.573,-444.667 400.739,-448.608 405.343,-453.881\"/>\r\n",
       "</g>\r\n",
       "<!-- 2910452534192 -->\r\n",
       "<g id=\"node10\" class=\"node\"><title>2910452534192</title>\r\n",
       "<polygon fill=\"lightgrey\" stroke=\"black\" points=\"395,-565.5 312,-565.5 312,-546.5 395,-546.5 395,-565.5\"/>\r\n",
       "<text text-anchor=\"middle\" x=\"353.5\" y=\"-553.5\" font-family=\"monospace\" font-size=\"10.00\">MmBackward0</text>\r\n",
       "</g>\r\n",
       "<!-- 2910452534192&#45;&gt;2910452534384 -->\r\n",
       "<g id=\"edge8\" class=\"edge\"><title>2910452534192&#45;&gt;2910452534384</title>\r\n",
       "<path fill=\"none\" stroke=\"black\" d=\"M353.5,-546.368C353.5,-538.246 353.5,-525.807 353.5,-515.385\"/>\r\n",
       "<polygon fill=\"black\" stroke=\"black\" points=\"357,-515.167 353.5,-505.167 350,-515.167 357,-515.167\"/>\r\n",
       "</g>\r\n",
       "<!-- 2910452533808 -->\r\n",
       "<g id=\"node11\" class=\"node\"><title>2910452533808</title>\r\n",
       "<polygon fill=\"lightgrey\" stroke=\"black\" points=\"349,-626 254,-626 254,-607 349,-607 349,-626\"/>\r\n",
       "<text text-anchor=\"middle\" x=\"301.5\" y=\"-614\" font-family=\"monospace\" font-size=\"10.00\">ViewBackward0</text>\r\n",
       "</g>\r\n",
       "<!-- 2910452533808&#45;&gt;2910452534192 -->\r\n",
       "<g id=\"edge9\" class=\"edge\"><title>2910452533808&#45;&gt;2910452534192</title>\r\n",
       "<path fill=\"none\" stroke=\"black\" d=\"M309.173,-606.868C317.007,-598.054 329.359,-584.159 339.036,-573.272\"/>\r\n",
       "<polygon fill=\"black\" stroke=\"black\" points=\"341.768,-575.467 345.796,-565.667 336.536,-570.816 341.768,-575.467\"/>\r\n",
       "</g>\r\n",
       "<!-- 2910452535200 -->\r\n",
       "<g id=\"node12\" class=\"node\"><title>2910452535200</title>\r\n",
       "<polygon fill=\"lightgrey\" stroke=\"black\" points=\"346,-681 251,-681 251,-662 346,-662 346,-681\"/>\r\n",
       "<text text-anchor=\"middle\" x=\"298.5\" y=\"-669\" font-family=\"monospace\" font-size=\"10.00\">ReluBackward0</text>\r\n",
       "</g>\r\n",
       "<!-- 2910452535200&#45;&gt;2910452533808 -->\r\n",
       "<g id=\"edge10\" class=\"edge\"><title>2910452535200&#45;&gt;2910452533808</title>\r\n",
       "<path fill=\"none\" stroke=\"black\" d=\"M298.995,-661.748C299.389,-654.802 299.952,-644.845 300.445,-636.135\"/>\r\n",
       "<polygon fill=\"black\" stroke=\"black\" points=\"303.943,-636.271 301.014,-626.089 296.954,-635.875 303.943,-636.271\"/>\r\n",
       "</g>\r\n",
       "<!-- 2910452534144 -->\r\n",
       "<g id=\"node13\" class=\"node\"><title>2910452534144</title>\r\n",
       "<polygon fill=\"lightgrey\" stroke=\"black\" points=\"343,-741.5 254,-741.5 254,-722.5 343,-722.5 343,-741.5\"/>\r\n",
       "<text text-anchor=\"middle\" x=\"298.5\" y=\"-729.5\" font-family=\"monospace\" font-size=\"10.00\">AddBackward0</text>\r\n",
       "</g>\r\n",
       "<!-- 2910452534144&#45;&gt;2910452535200 -->\r\n",
       "<g id=\"edge11\" class=\"edge\"><title>2910452534144&#45;&gt;2910452535200</title>\r\n",
       "<path fill=\"none\" stroke=\"black\" d=\"M298.5,-722.368C298.5,-714.246 298.5,-701.807 298.5,-691.385\"/>\r\n",
       "<polygon fill=\"black\" stroke=\"black\" points=\"302,-691.167 298.5,-681.167 295,-691.167 302,-691.167\"/>\r\n",
       "</g>\r\n",
       "<!-- 2910452536112 -->\r\n",
       "<g id=\"node14\" class=\"node\"><title>2910452536112</title>\r\n",
       "<polygon fill=\"lightgrey\" stroke=\"black\" points=\"297,-802 166,-802 166,-783 297,-783 297,-802\"/>\r\n",
       "<text text-anchor=\"middle\" x=\"231.5\" y=\"-790\" font-family=\"monospace\" font-size=\"10.00\">UnsafeViewBackward0</text>\r\n",
       "</g>\r\n",
       "<!-- 2910452536112&#45;&gt;2910452534144 -->\r\n",
       "<g id=\"edge12\" class=\"edge\"><title>2910452536112&#45;&gt;2910452534144</title>\r\n",
       "<path fill=\"none\" stroke=\"black\" d=\"M241.386,-782.868C251.777,-773.795 268.336,-759.337 280.955,-748.319\"/>\r\n",
       "<polygon fill=\"black\" stroke=\"black\" points=\"283.343,-750.881 288.573,-741.667 278.739,-745.608 283.343,-750.881\"/>\r\n",
       "</g>\r\n",
       "<!-- 2910452536256 -->\r\n",
       "<g id=\"node15\" class=\"node\"><title>2910452536256</title>\r\n",
       "<polygon fill=\"lightgrey\" stroke=\"black\" points=\"273,-862.5 190,-862.5 190,-843.5 273,-843.5 273,-862.5\"/>\r\n",
       "<text text-anchor=\"middle\" x=\"231.5\" y=\"-850.5\" font-family=\"monospace\" font-size=\"10.00\">MmBackward0</text>\r\n",
       "</g>\r\n",
       "<!-- 2910452536256&#45;&gt;2910452536112 -->\r\n",
       "<g id=\"edge13\" class=\"edge\"><title>2910452536256&#45;&gt;2910452536112</title>\r\n",
       "<path fill=\"none\" stroke=\"black\" d=\"M231.5,-843.368C231.5,-835.246 231.5,-822.807 231.5,-812.385\"/>\r\n",
       "<polygon fill=\"black\" stroke=\"black\" points=\"235,-812.167 231.5,-802.167 228,-812.167 235,-812.167\"/>\r\n",
       "</g>\r\n",
       "<!-- 2910452536400 -->\r\n",
       "<g id=\"node16\" class=\"node\"><title>2910452536400</title>\r\n",
       "<polygon fill=\"lightgrey\" stroke=\"black\" points=\"227,-923 132,-923 132,-904 227,-904 227,-923\"/>\r\n",
       "<text text-anchor=\"middle\" x=\"179.5\" y=\"-911\" font-family=\"monospace\" font-size=\"10.00\">ViewBackward0</text>\r\n",
       "</g>\r\n",
       "<!-- 2910452536400&#45;&gt;2910452536256 -->\r\n",
       "<g id=\"edge14\" class=\"edge\"><title>2910452536400&#45;&gt;2910452536256</title>\r\n",
       "<path fill=\"none\" stroke=\"black\" d=\"M187.173,-903.868C195.007,-895.054 207.359,-881.159 217.036,-870.272\"/>\r\n",
       "<polygon fill=\"black\" stroke=\"black\" points=\"219.768,-872.467 223.796,-862.667 214.536,-867.816 219.768,-872.467\"/>\r\n",
       "</g>\r\n",
       "<!-- 2910452536544 -->\r\n",
       "<g id=\"node17\" class=\"node\"><title>2910452536544</title>\r\n",
       "<polygon fill=\"lightgrey\" stroke=\"black\" points=\"224,-978 129,-978 129,-959 224,-959 224,-978\"/>\r\n",
       "<text text-anchor=\"middle\" x=\"176.5\" y=\"-966\" font-family=\"monospace\" font-size=\"10.00\">ReluBackward0</text>\r\n",
       "</g>\r\n",
       "<!-- 2910452536544&#45;&gt;2910452536400 -->\r\n",
       "<g id=\"edge15\" class=\"edge\"><title>2910452536544&#45;&gt;2910452536400</title>\r\n",
       "<path fill=\"none\" stroke=\"black\" d=\"M176.995,-958.748C177.389,-951.802 177.952,-941.845 178.445,-933.135\"/>\r\n",
       "<polygon fill=\"black\" stroke=\"black\" points=\"181.943,-933.271 179.014,-923.089 174.954,-932.875 181.943,-933.271\"/>\r\n",
       "</g>\r\n",
       "<!-- 2910452536688 -->\r\n",
       "<g id=\"node18\" class=\"node\"><title>2910452536688</title>\r\n",
       "<polygon fill=\"lightgrey\" stroke=\"black\" points=\"221,-1038.5 132,-1038.5 132,-1019.5 221,-1019.5 221,-1038.5\"/>\r\n",
       "<text text-anchor=\"middle\" x=\"176.5\" y=\"-1026.5\" font-family=\"monospace\" font-size=\"10.00\">AddBackward0</text>\r\n",
       "</g>\r\n",
       "<!-- 2910452536688&#45;&gt;2910452536544 -->\r\n",
       "<g id=\"edge16\" class=\"edge\"><title>2910452536688&#45;&gt;2910452536544</title>\r\n",
       "<path fill=\"none\" stroke=\"black\" d=\"M176.5,-1019.37C176.5,-1011.25 176.5,-998.807 176.5,-988.385\"/>\r\n",
       "<polygon fill=\"black\" stroke=\"black\" points=\"180,-988.167 176.5,-978.167 173,-988.167 180,-988.167\"/>\r\n",
       "</g>\r\n",
       "<!-- 2910452536832 -->\r\n",
       "<g id=\"node19\" class=\"node\"><title>2910452536832</title>\r\n",
       "<polygon fill=\"lightgrey\" stroke=\"black\" points=\"175,-1099 44,-1099 44,-1080 175,-1080 175,-1099\"/>\r\n",
       "<text text-anchor=\"middle\" x=\"109.5\" y=\"-1087\" font-family=\"monospace\" font-size=\"10.00\">UnsafeViewBackward0</text>\r\n",
       "</g>\r\n",
       "<!-- 2910452536832&#45;&gt;2910452536688 -->\r\n",
       "<g id=\"edge17\" class=\"edge\"><title>2910452536832&#45;&gt;2910452536688</title>\r\n",
       "<path fill=\"none\" stroke=\"black\" d=\"M119.386,-1079.87C129.777,-1070.8 146.336,-1056.34 158.955,-1045.32\"/>\r\n",
       "<polygon fill=\"black\" stroke=\"black\" points=\"161.343,-1047.88 166.573,-1038.67 156.739,-1042.61 161.343,-1047.88\"/>\r\n",
       "</g>\r\n",
       "<!-- 2910452536976 -->\r\n",
       "<g id=\"node20\" class=\"node\"><title>2910452536976</title>\r\n",
       "<polygon fill=\"lightgrey\" stroke=\"black\" points=\"151,-1159.5 68,-1159.5 68,-1140.5 151,-1140.5 151,-1159.5\"/>\r\n",
       "<text text-anchor=\"middle\" x=\"109.5\" y=\"-1147.5\" font-family=\"monospace\" font-size=\"10.00\">MmBackward0</text>\r\n",
       "</g>\r\n",
       "<!-- 2910452536976&#45;&gt;2910452536832 -->\r\n",
       "<g id=\"edge18\" class=\"edge\"><title>2910452536976&#45;&gt;2910452536832</title>\r\n",
       "<path fill=\"none\" stroke=\"black\" d=\"M109.5,-1140.37C109.5,-1132.25 109.5,-1119.81 109.5,-1109.39\"/>\r\n",
       "<polygon fill=\"black\" stroke=\"black\" points=\"113,-1109.17 109.5,-1099.17 106,-1109.17 113,-1109.17\"/>\r\n",
       "</g>\r\n",
       "<!-- 2910452537120 -->\r\n",
       "<g id=\"node21\" class=\"node\"><title>2910452537120</title>\r\n",
       "<polygon fill=\"lightgrey\" stroke=\"black\" points=\"105,-1220 10,-1220 10,-1201 105,-1201 105,-1220\"/>\r\n",
       "<text text-anchor=\"middle\" x=\"57.5\" y=\"-1208\" font-family=\"monospace\" font-size=\"10.00\">ViewBackward0</text>\r\n",
       "</g>\r\n",
       "<!-- 2910452537120&#45;&gt;2910452536976 -->\r\n",
       "<g id=\"edge19\" class=\"edge\"><title>2910452537120&#45;&gt;2910452536976</title>\r\n",
       "<path fill=\"none\" stroke=\"black\" d=\"M65.1728,-1200.87C73.0072,-1192.05 85.3588,-1178.16 95.0359,-1167.27\"/>\r\n",
       "<polygon fill=\"black\" stroke=\"black\" points=\"97.768,-1169.47 101.796,-1159.67 92.5361,-1164.82 97.768,-1169.47\"/>\r\n",
       "</g>\r\n",
       "<!-- 2910452537264 -->\r\n",
       "<g id=\"node22\" class=\"node\"><title>2910452537264</title>\r\n",
       "<polygon fill=\"lightgrey\" stroke=\"black\" points=\"107,-1275 0,-1275 0,-1256 107,-1256 107,-1275\"/>\r\n",
       "<text text-anchor=\"middle\" x=\"53.5\" y=\"-1263\" font-family=\"monospace\" font-size=\"10.00\">ToCopyBackward0</text>\r\n",
       "</g>\r\n",
       "<!-- 2910452537264&#45;&gt;2910452537120 -->\r\n",
       "<g id=\"edge20\" class=\"edge\"><title>2910452537264&#45;&gt;2910452537120</title>\r\n",
       "<path fill=\"none\" stroke=\"black\" d=\"M54.1605,-1255.75C54.6848,-1248.8 55.4362,-1238.85 56.0936,-1230.13\"/>\r\n",
       "<polygon fill=\"black\" stroke=\"black\" points=\"59.5892,-1230.32 56.8518,-1220.09 52.609,-1229.8 59.5892,-1230.32\"/>\r\n",
       "</g>\r\n",
       "<!-- 2910452537408 -->\r\n",
       "<g id=\"node23\" class=\"node\"><title>2910452537408</title>\r\n",
       "<polygon fill=\"lightgrey\" stroke=\"black\" points=\"104,-1335.5 3,-1335.5 3,-1316.5 104,-1316.5 104,-1335.5\"/>\r\n",
       "<text text-anchor=\"middle\" x=\"53.5\" y=\"-1323.5\" font-family=\"monospace\" font-size=\"10.00\">AccumulateGrad</text>\r\n",
       "</g>\r\n",
       "<!-- 2910452537408&#45;&gt;2910452537264 -->\r\n",
       "<g id=\"edge21\" class=\"edge\"><title>2910452537408&#45;&gt;2910452537264</title>\r\n",
       "<path fill=\"none\" stroke=\"black\" d=\"M53.5,-1316.37C53.5,-1308.25 53.5,-1295.81 53.5,-1285.39\"/>\r\n",
       "<polygon fill=\"black\" stroke=\"black\" points=\"57.0001,-1285.17 53.5,-1275.17 50.0001,-1285.17 57.0001,-1285.17\"/>\r\n",
       "</g>\r\n",
       "<!-- 2910452556528 -->\r\n",
       "<g id=\"node24\" class=\"node\"><title>2910452556528</title>\r\n",
       "<polygon fill=\"lightblue\" stroke=\"black\" points=\"104,-1407 3,-1407 3,-1377 104,-1377 104,-1407\"/>\r\n",
       "<text text-anchor=\"middle\" x=\"53.5\" y=\"-1395\" font-family=\"monospace\" font-size=\"10.00\">sample_inputs</text>\r\n",
       "<text text-anchor=\"middle\" x=\"53.5\" y=\"-1384\" font-family=\"monospace\" font-size=\"10.00\"> (1024, 1, 75)</text>\r\n",
       "</g>\r\n",
       "<!-- 2910452556528&#45;&gt;2910452537408 -->\r\n",
       "<g id=\"edge22\" class=\"edge\"><title>2910452556528&#45;&gt;2910452537408</title>\r\n",
       "<path fill=\"none\" stroke=\"black\" d=\"M53.5,-1376.8C53.5,-1367.7 53.5,-1355.79 53.5,-1345.9\"/>\r\n",
       "<polygon fill=\"black\" stroke=\"black\" points=\"57.0001,-1345.84 53.5,-1335.84 50.0001,-1345.84 57.0001,-1345.84\"/>\r\n",
       "</g>\r\n",
       "<!-- 2910452537072 -->\r\n",
       "<g id=\"node25\" class=\"node\"><title>2910452537072</title>\r\n",
       "<polygon fill=\"lightgrey\" stroke=\"black\" points=\"209,-1220 132,-1220 132,-1201 209,-1201 209,-1220\"/>\r\n",
       "<text text-anchor=\"middle\" x=\"170.5\" y=\"-1208\" font-family=\"monospace\" font-size=\"10.00\">TBackward0</text>\r\n",
       "</g>\r\n",
       "<!-- 2910452537072&#45;&gt;2910452536976 -->\r\n",
       "<g id=\"edge23\" class=\"edge\"><title>2910452537072&#45;&gt;2910452536976</title>\r\n",
       "<path fill=\"none\" stroke=\"black\" d=\"M161.499,-1200.87C152.129,-1191.88 137.249,-1177.61 125.803,-1166.64\"/>\r\n",
       "<polygon fill=\"black\" stroke=\"black\" points=\"128.178,-1164.06 118.538,-1159.67 123.333,-1169.12 128.178,-1164.06\"/>\r\n",
       "</g>\r\n",
       "<!-- 2910452537552 -->\r\n",
       "<g id=\"node26\" class=\"node\"><title>2910452537552</title>\r\n",
       "<polygon fill=\"lightgrey\" stroke=\"black\" points=\"226,-1275 125,-1275 125,-1256 226,-1256 226,-1275\"/>\r\n",
       "<text text-anchor=\"middle\" x=\"175.5\" y=\"-1263\" font-family=\"monospace\" font-size=\"10.00\">AccumulateGrad</text>\r\n",
       "</g>\r\n",
       "<!-- 2910452537552&#45;&gt;2910452537072 -->\r\n",
       "<g id=\"edge24\" class=\"edge\"><title>2910452537552&#45;&gt;2910452537072</title>\r\n",
       "<path fill=\"none\" stroke=\"black\" d=\"M174.674,-1255.75C174.019,-1248.8 173.08,-1238.85 172.258,-1230.13\"/>\r\n",
       "<polygon fill=\"black\" stroke=\"black\" points=\"175.734,-1229.72 171.31,-1220.09 168.765,-1230.37 175.734,-1229.72\"/>\r\n",
       "</g>\r\n",
       "<!-- 2910452277520 -->\r\n",
       "<g id=\"node27\" class=\"node\"><title>2910452277520</title>\r\n",
       "<polygon fill=\"lightblue\" stroke=\"black\" points=\"214,-1341 137,-1341 137,-1311 214,-1311 214,-1341\"/>\r\n",
       "<text text-anchor=\"middle\" x=\"175.5\" y=\"-1329\" font-family=\"monospace\" font-size=\"10.00\">ff1.weight</text>\r\n",
       "<text text-anchor=\"middle\" x=\"175.5\" y=\"-1318\" font-family=\"monospace\" font-size=\"10.00\"> (200, 75)</text>\r\n",
       "</g>\r\n",
       "<!-- 2910452277520&#45;&gt;2910452537552 -->\r\n",
       "<g id=\"edge25\" class=\"edge\"><title>2910452277520&#45;&gt;2910452537552</title>\r\n",
       "<path fill=\"none\" stroke=\"black\" d=\"M175.5,-1310.84C175.5,-1303.21 175.5,-1293.7 175.5,-1285.45\"/>\r\n",
       "<polygon fill=\"black\" stroke=\"black\" points=\"179,-1285.27 175.5,-1275.27 172,-1285.27 179,-1285.27\"/>\r\n",
       "</g>\r\n",
       "<!-- 2910452536784 -->\r\n",
       "<g id=\"node28\" class=\"node\"><title>2910452536784</title>\r\n",
       "<polygon fill=\"lightgrey\" stroke=\"black\" points=\"294,-1099 193,-1099 193,-1080 294,-1080 294,-1099\"/>\r\n",
       "<text text-anchor=\"middle\" x=\"243.5\" y=\"-1087\" font-family=\"monospace\" font-size=\"10.00\">AccumulateGrad</text>\r\n",
       "</g>\r\n",
       "<!-- 2910452536784&#45;&gt;2910452536688 -->\r\n",
       "<g id=\"edge26\" class=\"edge\"><title>2910452536784&#45;&gt;2910452536688</title>\r\n",
       "<path fill=\"none\" stroke=\"black\" d=\"M233.614,-1079.87C223.223,-1070.8 206.664,-1056.34 194.045,-1045.32\"/>\r\n",
       "<polygon fill=\"black\" stroke=\"black\" points=\"196.261,-1042.61 186.427,-1038.67 191.657,-1047.88 196.261,-1042.61\"/>\r\n",
       "</g>\r\n",
       "<!-- 2910452277680 -->\r\n",
       "<g id=\"node29\" class=\"node\"><title>2910452277680</title>\r\n",
       "<polygon fill=\"lightblue\" stroke=\"black\" points=\"276,-1165 211,-1165 211,-1135 276,-1135 276,-1165\"/>\r\n",
       "<text text-anchor=\"middle\" x=\"243.5\" y=\"-1153\" font-family=\"monospace\" font-size=\"10.00\">ff1.bias</text>\r\n",
       "<text text-anchor=\"middle\" x=\"243.5\" y=\"-1142\" font-family=\"monospace\" font-size=\"10.00\"> (200)</text>\r\n",
       "</g>\r\n",
       "<!-- 2910452277680&#45;&gt;2910452536784 -->\r\n",
       "<g id=\"edge27\" class=\"edge\"><title>2910452277680&#45;&gt;2910452536784</title>\r\n",
       "<path fill=\"none\" stroke=\"black\" d=\"M243.5,-1134.84C243.5,-1127.21 243.5,-1117.7 243.5,-1109.45\"/>\r\n",
       "<polygon fill=\"black\" stroke=\"black\" points=\"247,-1109.27 243.5,-1099.27 240,-1109.27 247,-1109.27\"/>\r\n",
       "</g>\r\n",
       "<!-- 2910452536352 -->\r\n",
       "<g id=\"node30\" class=\"node\"><title>2910452536352</title>\r\n",
       "<polygon fill=\"lightgrey\" stroke=\"black\" points=\"328,-923 251,-923 251,-904 328,-904 328,-923\"/>\r\n",
       "<text text-anchor=\"middle\" x=\"289.5\" y=\"-911\" font-family=\"monospace\" font-size=\"10.00\">TBackward0</text>\r\n",
       "</g>\r\n",
       "<!-- 2910452536352&#45;&gt;2910452536256 -->\r\n",
       "<g id=\"edge28\" class=\"edge\"><title>2910452536352&#45;&gt;2910452536256</title>\r\n",
       "<path fill=\"none\" stroke=\"black\" d=\"M280.942,-903.868C272.118,-894.968 258.156,-880.886 247.316,-869.953\"/>\r\n",
       "<polygon fill=\"black\" stroke=\"black\" points=\"249.619,-867.304 240.093,-862.667 244.648,-872.233 249.619,-867.304\"/>\r\n",
       "</g>\r\n",
       "<!-- 2910452536736 -->\r\n",
       "<g id=\"node31\" class=\"node\"><title>2910452536736</title>\r\n",
       "<polygon fill=\"lightgrey\" stroke=\"black\" points=\"343,-978 242,-978 242,-959 343,-959 343,-978\"/>\r\n",
       "<text text-anchor=\"middle\" x=\"292.5\" y=\"-966\" font-family=\"monospace\" font-size=\"10.00\">AccumulateGrad</text>\r\n",
       "</g>\r\n",
       "<!-- 2910452536736&#45;&gt;2910452536352 -->\r\n",
       "<g id=\"edge29\" class=\"edge\"><title>2910452536736&#45;&gt;2910452536352</title>\r\n",
       "<path fill=\"none\" stroke=\"black\" d=\"M292.005,-958.748C291.611,-951.802 291.048,-941.845 290.555,-933.135\"/>\r\n",
       "<polygon fill=\"black\" stroke=\"black\" points=\"294.046,-932.875 289.986,-923.089 287.057,-933.271 294.046,-932.875\"/>\r\n",
       "</g>\r\n",
       "<!-- 2910452269120 -->\r\n",
       "<g id=\"node32\" class=\"node\"><title>2910452269120</title>\r\n",
       "<polygon fill=\"lightblue\" stroke=\"black\" points=\"334,-1044 251,-1044 251,-1014 334,-1014 334,-1044\"/>\r\n",
       "<text text-anchor=\"middle\" x=\"292.5\" y=\"-1032\" font-family=\"monospace\" font-size=\"10.00\">ff2.weight</text>\r\n",
       "<text text-anchor=\"middle\" x=\"292.5\" y=\"-1021\" font-family=\"monospace\" font-size=\"10.00\"> (200, 200)</text>\r\n",
       "</g>\r\n",
       "<!-- 2910452269120&#45;&gt;2910452536736 -->\r\n",
       "<g id=\"edge30\" class=\"edge\"><title>2910452269120&#45;&gt;2910452536736</title>\r\n",
       "<path fill=\"none\" stroke=\"black\" d=\"M292.5,-1013.84C292.5,-1006.21 292.5,-996.704 292.5,-988.45\"/>\r\n",
       "<polygon fill=\"black\" stroke=\"black\" points=\"296,-988.266 292.5,-978.266 289,-988.266 296,-988.266\"/>\r\n",
       "</g>\r\n",
       "<!-- 2910452536064 -->\r\n",
       "<g id=\"node33\" class=\"node\"><title>2910452536064</title>\r\n",
       "<polygon fill=\"lightgrey\" stroke=\"black\" points=\"416,-802 315,-802 315,-783 416,-783 416,-802\"/>\r\n",
       "<text text-anchor=\"middle\" x=\"365.5\" y=\"-790\" font-family=\"monospace\" font-size=\"10.00\">AccumulateGrad</text>\r\n",
       "</g>\r\n",
       "<!-- 2910452536064&#45;&gt;2910452534144 -->\r\n",
       "<g id=\"edge31\" class=\"edge\"><title>2910452536064&#45;&gt;2910452534144</title>\r\n",
       "<path fill=\"none\" stroke=\"black\" d=\"M355.614,-782.868C345.223,-773.795 328.664,-759.337 316.045,-748.319\"/>\r\n",
       "<polygon fill=\"black\" stroke=\"black\" points=\"318.261,-745.608 308.427,-741.667 313.657,-750.881 318.261,-745.608\"/>\r\n",
       "</g>\r\n",
       "<!-- 2910452277360 -->\r\n",
       "<g id=\"node34\" class=\"node\"><title>2910452277360</title>\r\n",
       "<polygon fill=\"lightblue\" stroke=\"black\" points=\"398,-868 333,-868 333,-838 398,-838 398,-868\"/>\r\n",
       "<text text-anchor=\"middle\" x=\"365.5\" y=\"-856\" font-family=\"monospace\" font-size=\"10.00\">ff2.bias</text>\r\n",
       "<text text-anchor=\"middle\" x=\"365.5\" y=\"-845\" font-family=\"monospace\" font-size=\"10.00\"> (200)</text>\r\n",
       "</g>\r\n",
       "<!-- 2910452277360&#45;&gt;2910452536064 -->\r\n",
       "<g id=\"edge32\" class=\"edge\"><title>2910452277360&#45;&gt;2910452536064</title>\r\n",
       "<path fill=\"none\" stroke=\"black\" d=\"M365.5,-837.839C365.5,-830.214 365.5,-820.704 365.5,-812.45\"/>\r\n",
       "<polygon fill=\"black\" stroke=\"black\" points=\"369,-812.266 365.5,-802.266 362,-812.266 369,-812.266\"/>\r\n",
       "</g>\r\n",
       "<!-- 2910452533952 -->\r\n",
       "<g id=\"node35\" class=\"node\"><title>2910452533952</title>\r\n",
       "<polygon fill=\"lightgrey\" stroke=\"black\" points=\"450,-626 373,-626 373,-607 450,-607 450,-626\"/>\r\n",
       "<text text-anchor=\"middle\" x=\"411.5\" y=\"-614\" font-family=\"monospace\" font-size=\"10.00\">TBackward0</text>\r\n",
       "</g>\r\n",
       "<!-- 2910452533952&#45;&gt;2910452534192 -->\r\n",
       "<g id=\"edge33\" class=\"edge\"><title>2910452533952&#45;&gt;2910452534192</title>\r\n",
       "<path fill=\"none\" stroke=\"black\" d=\"M402.942,-606.868C394.118,-597.968 380.156,-583.886 369.316,-572.953\"/>\r\n",
       "<polygon fill=\"black\" stroke=\"black\" points=\"371.619,-570.304 362.093,-565.667 366.648,-575.233 371.619,-570.304\"/>\r\n",
       "</g>\r\n",
       "<!-- 2910452536016 -->\r\n",
       "<g id=\"node36\" class=\"node\"><title>2910452536016</title>\r\n",
       "<polygon fill=\"lightgrey\" stroke=\"black\" points=\"465,-681 364,-681 364,-662 465,-662 465,-681\"/>\r\n",
       "<text text-anchor=\"middle\" x=\"414.5\" y=\"-669\" font-family=\"monospace\" font-size=\"10.00\">AccumulateGrad</text>\r\n",
       "</g>\r\n",
       "<!-- 2910452536016&#45;&gt;2910452533952 -->\r\n",
       "<g id=\"edge34\" class=\"edge\"><title>2910452536016&#45;&gt;2910452533952</title>\r\n",
       "<path fill=\"none\" stroke=\"black\" d=\"M414.005,-661.748C413.611,-654.802 413.048,-644.845 412.555,-636.135\"/>\r\n",
       "<polygon fill=\"black\" stroke=\"black\" points=\"416.046,-635.875 411.986,-626.089 409.057,-636.271 416.046,-635.875\"/>\r\n",
       "</g>\r\n",
       "<!-- 2910452277120 -->\r\n",
       "<g id=\"node37\" class=\"node\"><title>2910452277120</title>\r\n",
       "<polygon fill=\"lightblue\" stroke=\"black\" points=\"456,-747 373,-747 373,-717 456,-717 456,-747\"/>\r\n",
       "<text text-anchor=\"middle\" x=\"414.5\" y=\"-735\" font-family=\"monospace\" font-size=\"10.00\">ff3.weight</text>\r\n",
       "<text text-anchor=\"middle\" x=\"414.5\" y=\"-724\" font-family=\"monospace\" font-size=\"10.00\"> (200, 200)</text>\r\n",
       "</g>\r\n",
       "<!-- 2910452277120&#45;&gt;2910452536016 -->\r\n",
       "<g id=\"edge35\" class=\"edge\"><title>2910452277120&#45;&gt;2910452536016</title>\r\n",
       "<path fill=\"none\" stroke=\"black\" d=\"M414.5,-716.839C414.5,-709.214 414.5,-699.704 414.5,-691.45\"/>\r\n",
       "<polygon fill=\"black\" stroke=\"black\" points=\"418,-691.266 414.5,-681.266 411,-691.266 418,-691.266\"/>\r\n",
       "</g>\r\n",
       "<!-- 2910452534432 -->\r\n",
       "<g id=\"node38\" class=\"node\"><title>2910452534432</title>\r\n",
       "<polygon fill=\"lightgrey\" stroke=\"black\" points=\"538,-505 437,-505 437,-486 538,-486 538,-505\"/>\r\n",
       "<text text-anchor=\"middle\" x=\"487.5\" y=\"-493\" font-family=\"monospace\" font-size=\"10.00\">AccumulateGrad</text>\r\n",
       "</g>\r\n",
       "<!-- 2910452534432&#45;&gt;2910452534480 -->\r\n",
       "<g id=\"edge36\" class=\"edge\"><title>2910452534432&#45;&gt;2910452534480</title>\r\n",
       "<path fill=\"none\" stroke=\"black\" d=\"M477.614,-485.868C467.223,-476.795 450.664,-462.337 438.045,-451.319\"/>\r\n",
       "<polygon fill=\"black\" stroke=\"black\" points=\"440.261,-448.608 430.427,-444.667 435.657,-453.881 440.261,-448.608\"/>\r\n",
       "</g>\r\n",
       "<!-- 2910452277600 -->\r\n",
       "<g id=\"node39\" class=\"node\"><title>2910452277600</title>\r\n",
       "<polygon fill=\"lightblue\" stroke=\"black\" points=\"520,-571 455,-571 455,-541 520,-541 520,-571\"/>\r\n",
       "<text text-anchor=\"middle\" x=\"487.5\" y=\"-559\" font-family=\"monospace\" font-size=\"10.00\">ff3.bias</text>\r\n",
       "<text text-anchor=\"middle\" x=\"487.5\" y=\"-548\" font-family=\"monospace\" font-size=\"10.00\"> (200)</text>\r\n",
       "</g>\r\n",
       "<!-- 2910452277600&#45;&gt;2910452534432 -->\r\n",
       "<g id=\"edge37\" class=\"edge\"><title>2910452277600&#45;&gt;2910452534432</title>\r\n",
       "<path fill=\"none\" stroke=\"black\" d=\"M487.5,-540.839C487.5,-533.214 487.5,-523.704 487.5,-515.45\"/>\r\n",
       "<polygon fill=\"black\" stroke=\"black\" points=\"491,-515.266 487.5,-505.266 484,-515.266 491,-515.266\"/>\r\n",
       "</g>\r\n",
       "<!-- 2910452534768 -->\r\n",
       "<g id=\"node40\" class=\"node\"><title>2910452534768</title>\r\n",
       "<polygon fill=\"lightgrey\" stroke=\"black\" points=\"572,-329 495,-329 495,-310 572,-310 572,-329\"/>\r\n",
       "<text text-anchor=\"middle\" x=\"533.5\" y=\"-317\" font-family=\"monospace\" font-size=\"10.00\">TBackward0</text>\r\n",
       "</g>\r\n",
       "<!-- 2910452534768&#45;&gt;2910452534816 -->\r\n",
       "<g id=\"edge38\" class=\"edge\"><title>2910452534768&#45;&gt;2910452534816</title>\r\n",
       "<path fill=\"none\" stroke=\"black\" d=\"M524.942,-309.868C516.118,-300.968 502.156,-286.886 491.316,-275.953\"/>\r\n",
       "<polygon fill=\"black\" stroke=\"black\" points=\"493.619,-273.304 484.093,-268.667 488.648,-278.233 493.619,-273.304\"/>\r\n",
       "</g>\r\n",
       "<!-- 2910452535008 -->\r\n",
       "<g id=\"node41\" class=\"node\"><title>2910452535008</title>\r\n",
       "<polygon fill=\"lightgrey\" stroke=\"black\" points=\"587,-384 486,-384 486,-365 587,-365 587,-384\"/>\r\n",
       "<text text-anchor=\"middle\" x=\"536.5\" y=\"-372\" font-family=\"monospace\" font-size=\"10.00\">AccumulateGrad</text>\r\n",
       "</g>\r\n",
       "<!-- 2910452535008&#45;&gt;2910452534768 -->\r\n",
       "<g id=\"edge39\" class=\"edge\"><title>2910452535008&#45;&gt;2910452534768</title>\r\n",
       "<path fill=\"none\" stroke=\"black\" d=\"M536.005,-364.748C535.611,-357.802 535.048,-347.845 534.555,-339.135\"/>\r\n",
       "<polygon fill=\"black\" stroke=\"black\" points=\"538.046,-338.875 533.986,-329.089 531.057,-339.271 538.046,-338.875\"/>\r\n",
       "</g>\r\n",
       "<!-- 2910452277760 -->\r\n",
       "<g id=\"node42\" class=\"node\"><title>2910452277760</title>\r\n",
       "<polygon fill=\"lightblue\" stroke=\"black\" points=\"575,-450 498,-450 498,-420 575,-420 575,-450\"/>\r\n",
       "<text text-anchor=\"middle\" x=\"536.5\" y=\"-438\" font-family=\"monospace\" font-size=\"10.00\">out.weight</text>\r\n",
       "<text text-anchor=\"middle\" x=\"536.5\" y=\"-427\" font-family=\"monospace\" font-size=\"10.00\"> (1, 200)</text>\r\n",
       "</g>\r\n",
       "<!-- 2910452277760&#45;&gt;2910452535008 -->\r\n",
       "<g id=\"edge40\" class=\"edge\"><title>2910452277760&#45;&gt;2910452535008</title>\r\n",
       "<path fill=\"none\" stroke=\"black\" d=\"M536.5,-419.839C536.5,-412.214 536.5,-402.704 536.5,-394.45\"/>\r\n",
       "<polygon fill=\"black\" stroke=\"black\" points=\"540,-394.266 536.5,-384.266 533,-394.266 540,-394.266\"/>\r\n",
       "</g>\r\n",
       "<!-- 2910452535584 -->\r\n",
       "<g id=\"node43\" class=\"node\"><title>2910452535584</title>\r\n",
       "<polygon fill=\"lightgrey\" stroke=\"black\" points=\"660,-208 559,-208 559,-189 660,-189 660,-208\"/>\r\n",
       "<text text-anchor=\"middle\" x=\"609.5\" y=\"-196\" font-family=\"monospace\" font-size=\"10.00\">AccumulateGrad</text>\r\n",
       "</g>\r\n",
       "<!-- 2910452535584&#45;&gt;2910452534912 -->\r\n",
       "<g id=\"edge41\" class=\"edge\"><title>2910452535584&#45;&gt;2910452534912</title>\r\n",
       "<path fill=\"none\" stroke=\"black\" d=\"M598.735,-188.985C588.734,-181.073 573.613,-169.112 561.57,-159.585\"/>\r\n",
       "<polygon fill=\"black\" stroke=\"black\" points=\"563.475,-156.629 553.461,-153.17 559.132,-162.119 563.475,-156.629\"/>\r\n",
       "</g>\r\n",
       "<!-- 2910452277840 -->\r\n",
       "<g id=\"node44\" class=\"node\"><title>2910452277840</title>\r\n",
       "<polygon fill=\"lightblue\" stroke=\"black\" points=\"642,-274 577,-274 577,-244 642,-244 642,-274\"/>\r\n",
       "<text text-anchor=\"middle\" x=\"609.5\" y=\"-262\" font-family=\"monospace\" font-size=\"10.00\">out.bias</text>\r\n",
       "<text text-anchor=\"middle\" x=\"609.5\" y=\"-251\" font-family=\"monospace\" font-size=\"10.00\"> (1)</text>\r\n",
       "</g>\r\n",
       "<!-- 2910452277840&#45;&gt;2910452535584 -->\r\n",
       "<g id=\"edge42\" class=\"edge\"><title>2910452277840&#45;&gt;2910452535584</title>\r\n",
       "<path fill=\"none\" stroke=\"black\" d=\"M609.5,-243.839C609.5,-236.214 609.5,-226.704 609.5,-218.45\"/>\r\n",
       "<polygon fill=\"black\" stroke=\"black\" points=\"613,-218.266 609.5,-208.266 606,-218.266 613,-218.266\"/>\r\n",
       "</g>\r\n",
       "<!-- 2911035119856&#45;&gt;2910452557488 -->\r\n",
       "<g id=\"edge45\" class=\"edge\"><title>2911035119856&#45;&gt;2910452557488</title>\r\n",
       "<path fill=\"none\" stroke=\"black\" stroke-dasharray=\"1,5\" d=\"M595.843,-66.7505C586.844,-58.2736 575.379,-47.4727 565.385,-38.0585\"/>\r\n",
       "<polygon fill=\"black\" stroke=\"black\" points=\"567.774,-35.5005 558.095,-31.1911 562.974,-40.5957 567.774,-35.5005\"/>\r\n",
       "</g>\r\n",
       "</g>\r\n",
       "</svg>\r\n"
      ],
      "text/plain": [
       "<graphviz.dot.Digraph at 0x2a5a47d5150>"
      ]
     },
     "execution_count": 17,
     "metadata": {},
     "output_type": "execute_result"
    }
   ],
   "source": [
    "# Visualize model with torchviz\n",
    "from torchviz import make_dot\n",
    "sample_inputs = next(iter(train_loader))[0].requires_grad_(True)\n",
    "sample_y = model_ff(sample_inputs.to(device))\n",
    "make_dot(sample_y, params=dict(list(model_ff.named_parameters())+[('sample_inputs', sample_inputs)]))"
   ]
  },
  {
   "cell_type": "code",
   "execution_count": 20,
   "metadata": {
    "id": "4S1EzAAioGtc"
   },
   "outputs": [
    {
     "data": {
      "text/plain": [
       "==========================================================================================\n",
       "Layer (type:depth-idx)                   Output Shape              Param #\n",
       "==========================================================================================\n",
       "FeedForwardNN                            --                        --\n",
       "├─Linear: 1-1                            [1024, 200]               15,200\n",
       "├─Linear: 1-2                            [1024, 200]               40,200\n",
       "├─Linear: 1-3                            [1024, 200]               40,200\n",
       "├─Linear: 1-4                            [1024, 1]                 201\n",
       "==========================================================================================\n",
       "Total params: 95,801\n",
       "Trainable params: 95,801\n",
       "Non-trainable params: 0\n",
       "Total mult-adds (M): 98.10\n",
       "==========================================================================================\n",
       "Input size (MB): 0.31\n",
       "Forward/backward pass size (MB): 4.92\n",
       "Params size (MB): 0.38\n",
       "Estimated Total Size (MB): 5.61\n",
       "=========================================================================================="
      ]
     },
     "execution_count": 20,
     "metadata": {},
     "output_type": "execute_result"
    }
   ],
   "source": [
    "summary(model_ff, input_size=(1024, 75))"
   ]
  },
  {
   "cell_type": "markdown",
   "metadata": {
    "id": "EfnyZsPlmJW7"
   },
   "source": [
    "### TODO#4\n",
    "\n",
    "Explain why the first linear layer has number of parameters = 15200\n",
    "\n",
    "**Ans:**\n",
    "\n",
    "We set the first hidden layer neuron to 200 which each neuron takes 75 features from input. Additionally, bias term for each neuron which is plus 200. Overall parameters is (200 * 75) + 200 = 15200\n"
   ]
  },
  {
   "cell_type": "markdown",
   "metadata": {
    "id": "WLyflo2MxrRW"
   },
   "source": [
    "# Training"
   ]
  },
  {
   "cell_type": "code",
   "execution_count": 21,
   "metadata": {
    "id": "-JqOdbMlxsKl"
   },
   "outputs": [
    {
     "name": "stderr",
     "output_type": "stream",
     "text": [
      "\u001b[34m\u001b[1mwandb\u001b[0m: Currently logged in as: \u001b[33mniqulafuse\u001b[0m (use `wandb login --relogin` to force relogin)\n"
     ]
    },
    {
     "data": {
      "text/html": [
       "Tracking run with wandb version 0.12.11"
      ],
      "text/plain": [
       "<IPython.core.display.HTML object>"
      ]
     },
     "metadata": {},
     "output_type": "display_data"
    },
    {
     "data": {
      "text/html": [
       "Run data is saved locally in <code>D:\\Grad_school\\Pattern\\HW5\\wandb\\run-20220312_174956-555z4xxk</code>"
      ],
      "text/plain": [
       "<IPython.core.display.HTML object>"
      ]
     },
     "metadata": {},
     "output_type": "display_data"
    },
    {
     "data": {
      "text/html": [
       "Syncing run <strong><a href=\"https://wandb.ai/niqulafuse/precipitation-nowcasting/runs/555z4xxk\" target=\"_blank\">silver-gorge-3</a></strong> to <a href=\"https://wandb.ai/niqulafuse/precipitation-nowcasting\" target=\"_blank\">Weights & Biases</a> (<a href=\"https://wandb.me/run\" target=\"_blank\">docs</a>)<br/>"
      ],
      "text/plain": [
       "<IPython.core.display.HTML object>"
      ]
     },
     "metadata": {},
     "output_type": "display_data"
    },
    {
     "name": "stdout",
     "output_type": "stream",
     "text": [
      "Training epoch 1...\n",
      "Current LR: 0.01\n"
     ]
    },
    {
     "data": {
      "application/vnd.jupyter.widget-view+json": {
       "model_id": "bad294a7e55a4d9892819e64be04ced6",
       "version_major": 2,
       "version_minor": 0
      },
      "text/plain": [
       "  0%|          | 0/1121 [00:00<?, ?it/s]"
      ]
     },
     "metadata": {},
     "output_type": "display_data"
    },
    {
     "name": "stdout",
     "output_type": "stream",
     "text": [
      "Epoch 1 train loss: 1.9333\n",
      "Validating epoch 1\n"
     ]
    },
    {
     "data": {
      "application/vnd.jupyter.widget-view+json": {
       "model_id": "47e8f7368c8b4542b7734e096537a14d",
       "version_major": 2,
       "version_minor": 0
      },
      "text/plain": [
       "  0%|          | 0/454 [00:00<?, ?it/s]"
      ]
     },
     "metadata": {},
     "output_type": "display_data"
    },
    {
     "name": "stdout",
     "output_type": "stream",
     "text": [
      "Epoch 1 val loss: 1.6607\n",
      "Saving new best model..\n",
      "Training epoch 2...\n",
      "Current LR: 0.01\n"
     ]
    },
    {
     "data": {
      "application/vnd.jupyter.widget-view+json": {
       "model_id": "84d9d14a90034e7d915a064776e33f9e",
       "version_major": 2,
       "version_minor": 0
      },
      "text/plain": [
       "  0%|          | 0/1121 [00:00<?, ?it/s]"
      ]
     },
     "metadata": {},
     "output_type": "display_data"
    },
    {
     "name": "stdout",
     "output_type": "stream",
     "text": [
      "Epoch 2 train loss: 1.9236\n",
      "Validating epoch 2\n"
     ]
    },
    {
     "data": {
      "application/vnd.jupyter.widget-view+json": {
       "model_id": "0b43163563624c7b873eb6d6f26a3eea",
       "version_major": 2,
       "version_minor": 0
      },
      "text/plain": [
       "  0%|          | 0/454 [00:00<?, ?it/s]"
      ]
     },
     "metadata": {},
     "output_type": "display_data"
    },
    {
     "name": "stdout",
     "output_type": "stream",
     "text": [
      "Epoch 2 val loss: 1.6610\n",
      "Training epoch 3...\n",
      "Current LR: 0.01\n"
     ]
    },
    {
     "data": {
      "application/vnd.jupyter.widget-view+json": {
       "model_id": "4818e3412d614d30bd76c8404f7cd9b7",
       "version_major": 2,
       "version_minor": 0
      },
      "text/plain": [
       "  0%|          | 0/1121 [00:00<?, ?it/s]"
      ]
     },
     "metadata": {},
     "output_type": "display_data"
    },
    {
     "name": "stdout",
     "output_type": "stream",
     "text": [
      "Epoch 3 train loss: 1.9236\n",
      "Validating epoch 3\n"
     ]
    },
    {
     "data": {
      "application/vnd.jupyter.widget-view+json": {
       "model_id": "2558e3259945404f904fbd412be3f2fd",
       "version_major": 2,
       "version_minor": 0
      },
      "text/plain": [
       "  0%|          | 0/454 [00:00<?, ?it/s]"
      ]
     },
     "metadata": {},
     "output_type": "display_data"
    },
    {
     "name": "stdout",
     "output_type": "stream",
     "text": [
      "Epoch 3 val loss: 1.6603\n",
      "Saving new best model..\n",
      "Training epoch 4...\n",
      "Current LR: 0.01\n"
     ]
    },
    {
     "data": {
      "application/vnd.jupyter.widget-view+json": {
       "model_id": "14ad8d626ca34f7486c07c6cedcbb32a",
       "version_major": 2,
       "version_minor": 0
      },
      "text/plain": [
       "  0%|          | 0/1121 [00:00<?, ?it/s]"
      ]
     },
     "metadata": {},
     "output_type": "display_data"
    },
    {
     "name": "stdout",
     "output_type": "stream",
     "text": [
      "Epoch 4 train loss: 1.9236\n",
      "Validating epoch 4\n"
     ]
    },
    {
     "data": {
      "application/vnd.jupyter.widget-view+json": {
       "model_id": "a26b625f103042c7b3f1486f2e68609a",
       "version_major": 2,
       "version_minor": 0
      },
      "text/plain": [
       "  0%|          | 0/454 [00:00<?, ?it/s]"
      ]
     },
     "metadata": {},
     "output_type": "display_data"
    },
    {
     "name": "stdout",
     "output_type": "stream",
     "text": [
      "Epoch 4 val loss: 1.6619\n",
      "Training epoch 5...\n",
      "Current LR: 0.01\n"
     ]
    },
    {
     "data": {
      "application/vnd.jupyter.widget-view+json": {
       "model_id": "5538ce7d6d3147dbaa97e507bfd82911",
       "version_major": 2,
       "version_minor": 0
      },
      "text/plain": [
       "  0%|          | 0/1121 [00:00<?, ?it/s]"
      ]
     },
     "metadata": {},
     "output_type": "display_data"
    },
    {
     "name": "stdout",
     "output_type": "stream",
     "text": [
      "Epoch 5 train loss: 1.9236\n",
      "Validating epoch 5\n"
     ]
    },
    {
     "data": {
      "application/vnd.jupyter.widget-view+json": {
       "model_id": "232bd49a9486414684adc96b99ce7ba1",
       "version_major": 2,
       "version_minor": 0
      },
      "text/plain": [
       "  0%|          | 0/454 [00:00<?, ?it/s]"
      ]
     },
     "metadata": {},
     "output_type": "display_data"
    },
    {
     "name": "stdout",
     "output_type": "stream",
     "text": [
      "Epoch 5 val loss: 1.6616\n",
      "Training epoch 6...\n",
      "Current LR: 0.01\n"
     ]
    },
    {
     "data": {
      "application/vnd.jupyter.widget-view+json": {
       "model_id": "34f2de88030e46b38a57b200ef073323",
       "version_major": 2,
       "version_minor": 0
      },
      "text/plain": [
       "  0%|          | 0/1121 [00:00<?, ?it/s]"
      ]
     },
     "metadata": {},
     "output_type": "display_data"
    },
    {
     "name": "stdout",
     "output_type": "stream",
     "text": [
      "Epoch 6 train loss: 1.9234\n",
      "Validating epoch 6\n"
     ]
    },
    {
     "data": {
      "application/vnd.jupyter.widget-view+json": {
       "model_id": "49fcac1c057b418089205c0bf60f608a",
       "version_major": 2,
       "version_minor": 0
      },
      "text/plain": [
       "  0%|          | 0/454 [00:00<?, ?it/s]"
      ]
     },
     "metadata": {},
     "output_type": "display_data"
    },
    {
     "name": "stdout",
     "output_type": "stream",
     "text": [
      "Epoch 6 val loss: 1.6622\n",
      "Training epoch 7...\n",
      "Current LR: 0.002\n"
     ]
    },
    {
     "data": {
      "application/vnd.jupyter.widget-view+json": {
       "model_id": "7e176b52dfae4aba8bc6612c682b35cb",
       "version_major": 2,
       "version_minor": 0
      },
      "text/plain": [
       "  0%|          | 0/1121 [00:00<?, ?it/s]"
      ]
     },
     "metadata": {},
     "output_type": "display_data"
    },
    {
     "name": "stdout",
     "output_type": "stream",
     "text": [
      "Epoch 7 train loss: 1.9233\n",
      "Validating epoch 7\n"
     ]
    },
    {
     "data": {
      "application/vnd.jupyter.widget-view+json": {
       "model_id": "c63f6812f63346758a4adc7de2df4aa0",
       "version_major": 2,
       "version_minor": 0
      },
      "text/plain": [
       "  0%|          | 0/454 [00:00<?, ?it/s]"
      ]
     },
     "metadata": {},
     "output_type": "display_data"
    },
    {
     "name": "stdout",
     "output_type": "stream",
     "text": [
      "Epoch 7 val loss: 1.6609\n",
      "Training epoch 8...\n",
      "Current LR: 0.002\n"
     ]
    },
    {
     "data": {
      "application/vnd.jupyter.widget-view+json": {
       "model_id": "0523b32e26804d639de2401410c95f7e",
       "version_major": 2,
       "version_minor": 0
      },
      "text/plain": [
       "  0%|          | 0/1121 [00:00<?, ?it/s]"
      ]
     },
     "metadata": {},
     "output_type": "display_data"
    },
    {
     "name": "stdout",
     "output_type": "stream",
     "text": [
      "Epoch 8 train loss: 1.9236\n",
      "Validating epoch 8\n"
     ]
    },
    {
     "data": {
      "application/vnd.jupyter.widget-view+json": {
       "model_id": "b0a409e3d43e415bb3b4ab8ffbda2d8f",
       "version_major": 2,
       "version_minor": 0
      },
      "text/plain": [
       "  0%|          | 0/454 [00:00<?, ?it/s]"
      ]
     },
     "metadata": {},
     "output_type": "display_data"
    },
    {
     "name": "stdout",
     "output_type": "stream",
     "text": [
      "Epoch 8 val loss: 1.6624\n",
      "Training epoch 9...\n",
      "Current LR: 0.002\n"
     ]
    },
    {
     "data": {
      "application/vnd.jupyter.widget-view+json": {
       "model_id": "f542a6e5be4d4dfa9c267e97aa1a19b1",
       "version_major": 2,
       "version_minor": 0
      },
      "text/plain": [
       "  0%|          | 0/1121 [00:00<?, ?it/s]"
      ]
     },
     "metadata": {},
     "output_type": "display_data"
    },
    {
     "name": "stdout",
     "output_type": "stream",
     "text": [
      "Epoch 9 train loss: 1.9233\n",
      "Validating epoch 9\n"
     ]
    },
    {
     "data": {
      "application/vnd.jupyter.widget-view+json": {
       "model_id": "8d49e784e31648b8a495324ce400daa4",
       "version_major": 2,
       "version_minor": 0
      },
      "text/plain": [
       "  0%|          | 0/454 [00:00<?, ?it/s]"
      ]
     },
     "metadata": {},
     "output_type": "display_data"
    },
    {
     "name": "stdout",
     "output_type": "stream",
     "text": [
      "Epoch 9 val loss: 1.6611\n",
      "Training epoch 10...\n",
      "Current LR: 0.0004\n"
     ]
    },
    {
     "data": {
      "application/vnd.jupyter.widget-view+json": {
       "model_id": "beee62e9bf4d411ab29a8383618c9644",
       "version_major": 2,
       "version_minor": 0
      },
      "text/plain": [
       "  0%|          | 0/1121 [00:00<?, ?it/s]"
      ]
     },
     "metadata": {},
     "output_type": "display_data"
    },
    {
     "name": "stdout",
     "output_type": "stream",
     "text": [
      "Epoch 10 train loss: 1.9235\n",
      "Validating epoch 10\n"
     ]
    },
    {
     "data": {
      "application/vnd.jupyter.widget-view+json": {
       "model_id": "f8fb950e486d4562b35f3cf8d59e7f85",
       "version_major": 2,
       "version_minor": 0
      },
      "text/plain": [
       "  0%|          | 0/454 [00:00<?, ?it/s]"
      ]
     },
     "metadata": {},
     "output_type": "display_data"
    },
    {
     "name": "stdout",
     "output_type": "stream",
     "text": [
      "Epoch 10 val loss: 1.6614\n",
      "\n"
     ]
    },
    {
     "data": {
      "text/html": [
       "Waiting for W&B process to finish... <strong style=\"color:green\">(success).</strong>"
      ],
      "text/plain": [
       "<IPython.core.display.HTML object>"
      ]
     },
     "metadata": {},
     "output_type": "display_data"
    },
    {
     "data": {
      "application/vnd.jupyter.widget-view+json": {
       "model_id": "",
       "version_major": 2,
       "version_minor": 0
      },
      "text/plain": [
       "VBox(children=(Label(value='0.001 MB of 0.001 MB uploaded (0.000 MB deduped)\\r'), FloatProgress(value=1.0, max…"
      ]
     },
     "metadata": {},
     "output_type": "display_data"
    },
    {
     "data": {
      "text/html": [
       "<style>\n",
       "    table.wandb td:nth-child(1) { padding: 0 10px; text-align: right }\n",
       "    .wandb-row { display: flex; flex-direction: row; flex-wrap: wrap; width: 100% }\n",
       "    .wandb-col { display: flex; flex-direction: column; flex-basis: 100%; flex: 1; padding: 10px; }\n",
       "    </style>\n",
       "<div class=\"wandb-row\"><div class=\"wandb-col\"><h3>Run history:</h3><br/><table class=\"wandb\"><tr><td>lr</td><td>██████▂▂▂▁</td></tr><tr><td>train_loss</td><td>█▁▁▁▁▁▁▁▁▁</td></tr><tr><td>val_loss</td><td>▂▄▁▆▅▇▃█▄▅</td></tr></table><br/></div><div class=\"wandb-col\"><h3>Run summary:</h3><br/><table class=\"wandb\"><tr><td>lr</td><td>0.0004</td></tr><tr><td>train_loss</td><td>1.92353</td></tr><tr><td>val_loss</td><td>1.6614</td></tr></table><br/></div></div>"
      ],
      "text/plain": [
       "<IPython.core.display.HTML object>"
      ]
     },
     "metadata": {},
     "output_type": "display_data"
    },
    {
     "data": {
      "text/html": [
       "Synced <strong style=\"color:#cdcd00\">silver-gorge-3</strong>: <a href=\"https://wandb.ai/niqulafuse/precipitation-nowcasting/runs/555z4xxk\" target=\"_blank\">https://wandb.ai/niqulafuse/precipitation-nowcasting/runs/555z4xxk</a><br/>Synced 6 W&B file(s), 0 media file(s), 0 artifact file(s) and 0 other file(s)"
      ],
      "text/plain": [
       "<IPython.core.display.HTML object>"
      ]
     },
     "metadata": {},
     "output_type": "display_data"
    },
    {
     "data": {
      "text/html": [
       "Find logs at: <code>.\\wandb\\run-20220312_174956-555z4xxk\\logs</code>"
      ],
      "text/plain": [
       "<IPython.core.display.HTML object>"
      ]
     },
     "metadata": {},
     "output_type": "display_data"
    },
    {
     "name": "stdout",
     "output_type": "stream",
     "text": [
      "Finished Training\n"
     ]
    }
   ],
   "source": [
    "train_losses = []\n",
    "val_losses = []\n",
    "learning_rates = []\n",
    "\n",
    "\"\"\"# Start wandb run\n",
    "wandb.init(\n",
    "    project='precipitation-nowcasting',\n",
    "    config=config,\n",
    ")\"\"\"\n",
    "\n",
    "# Log parameters and gradients\n",
    "\"\"\"wandb.watch(model_ff, log='all')\"\"\"\n",
    "\n",
    "for epoch in range(config['epochs']):  # loop over the dataset multiple times\n",
    "    \n",
    "    # Training\n",
    "    train_loss = []\n",
    "    current_lr = optimizer.param_groups[0]['lr']\n",
    "    learning_rates.append(current_lr)\n",
    "\n",
    "    # Flag model as training. Some layers behave differently in training and\n",
    "    # inference modes, such as dropout, BN, etc.\n",
    "    model_ff.train()\n",
    "\n",
    "    print(f\"Training epoch {epoch+1}...\")\n",
    "    print(f\"Current LR: {current_lr}\")\n",
    "\n",
    "    for i, (inputs, y_true) in enumerate(tqdm(train_loader)):\n",
    "        # Transfer data from cpu to gpu\n",
    "        inputs = inputs.to(device)\n",
    "        y_true = y_true.to(device)\n",
    "\n",
    "        # Reset the gradient\n",
    "        optimizer.zero_grad()\n",
    "\n",
    "        # Predict\n",
    "        y_pred = model_ff(inputs)\n",
    "\n",
    "        # Calculate loss\n",
    "        loss = loss_fn(y_pred, y_true)\n",
    "\n",
    "        # Compute gradient\n",
    "        loss.backward()\n",
    "        \n",
    "        # Update parameters\n",
    "        optimizer.step()\n",
    "\n",
    "        # Log stuff\n",
    "        train_loss.append(loss)\n",
    "        \n",
    "    avg_train_loss = torch.stack(train_loss).mean().item()\n",
    "    train_losses.append(avg_train_loss)\n",
    "\n",
    "    print(f\"Epoch {epoch+1} train loss: {avg_train_loss:.4f}\")\n",
    "    \n",
    "    # Validation\n",
    "    model_ff.eval()\n",
    "    with torch.no_grad(): # No gradient is required during validation\n",
    "        print(f\"Validating epoch {epoch+1}\")\n",
    "        val_loss = []\n",
    "        for i, (inputs, y_true) in enumerate(tqdm(val_loader)):\n",
    "            # Transfer data from cpu to gpu\n",
    "            inputs = inputs.to(device)\n",
    "            y_true = y_true.to(device)\n",
    "            \n",
    "            # Predict\n",
    "            y_pred = model_ff(inputs)\n",
    "\n",
    "            # Calculate loss\n",
    "            loss = loss_fn(y_pred, y_true)\n",
    "\n",
    "            # Log stuff\n",
    "            val_loss.append(loss)\n",
    "        \n",
    "        avg_val_loss = torch.stack(val_loss).mean().item()\n",
    "        val_losses.append(avg_val_loss)\n",
    "        print(f\"Epoch {epoch+1} val loss: {avg_val_loss:.4f}\")\n",
    "\n",
    "        # LR adjustment with scheduler\n",
    "        scheduler.step(avg_val_loss)\n",
    "\n",
    "        # Save checkpoint if val_loss is the best we got\n",
    "        best_val_loss = np.inf if epoch == 0 else min(val_losses[:-1])\n",
    "        if avg_val_loss < best_val_loss:\n",
    "            # Save whatever you want\n",
    "            state = {\n",
    "                'epoch': epoch,\n",
    "                'model': model_ff.state_dict(),\n",
    "                'optimizer': optimizer.state_dict(),\n",
    "                'scheduler': scheduler.state_dict(),\n",
    "                'train_loss': avg_train_loss,\n",
    "                'val_loss': avg_val_loss,\n",
    "                'best_val_loss': best_val_loss,\n",
    "            }\n",
    "            \n",
    "            print(f\"Saving new best model..\")\n",
    "            torch.save(state, 'model_ff.pth.tar')\n",
    "    \n",
    "    \"\"\"wandb.log({\n",
    "        'train_loss': avg_train_loss,\n",
    "        'val_loss': avg_val_loss,\n",
    "        'lr': current_lr,\n",
    "    })\"\"\"\n",
    "\n",
    "\"\"\"wandb.finish()\"\"\"\n",
    "print('Finished Training')"
   ]
  },
  {
   "cell_type": "markdown",
   "metadata": {
    "id": "PeXGk-wHm9Nj"
   },
   "source": [
    "### TODO#5\n",
    "\n",
    "Plot loss and val_loss as a function of epochs."
   ]
  },
  {
   "cell_type": "code",
   "execution_count": 23,
   "metadata": {
    "id": "0iDWp6jqRRIT"
   },
   "outputs": [
    {
     "data": {
      "image/png": "[encoded data removed]",
      "text/plain": [
       "<Figure size 432x288 with 1 Axes>"
      ]
     },
     "metadata": {
      "needs_background": "light"
     },
     "output_type": "display_data"
    },
    {
     "data": {
      "image/png": "[encoded data removed]",
      "text/plain": [
       "<Figure size 432x288 with 1 Axes>"
      ]
     },
     "metadata": {
      "needs_background": "light"
     },
     "output_type": "display_data"
    }
   ],
   "source": [
    "plt.plot(train_losses)\n",
    "plt.title(\"Mean Square Error\")\n",
    "plt.xlabel(\"epochs\")\n",
    "plt.ylabel(\"train loss\")\n",
    "plt.show()\n",
    "plt.plot(val_losses, c='r')\n",
    "plt.title(\"Mean Square Error\")\n",
    "plt.xlabel(\"epochs\")\n",
    "plt.ylabel(\"validation loss\")\n",
    "plt.show()"
   ]
  },
  {
   "cell_type": "markdown",
   "metadata": {
    "id": "jXmuk1a2nRSA"
   },
   "source": [
    "### TODO#6\n",
    "\n",
    "When does the model start to overfit?\n",
    "\n",
    "**Ans:**\n",
    "\n",
    "Around epoch 3-4."
   ]
  },
  {
   "cell_type": "markdown",
   "metadata": {
    "id": "UXQgJYrTne0o"
   },
   "source": [
    "### TODO#7\n",
    "\n",
    "Plot the learning rate as a function of the epochs."
   ]
  },
  {
   "cell_type": "code",
   "execution_count": 24,
   "metadata": {
    "id": "i5ZdGDjJnka7"
   },
   "outputs": [
    {
     "data": {
      "image/png": "[encoded data removed]",
      "text/plain": [
       "<Figure size 432x288 with 1 Axes>"
      ]
     },
     "metadata": {
      "needs_background": "light"
     },
     "output_type": "display_data"
    }
   ],
   "source": [
    "plt.plot(learning_rates)\n",
    "plt.xlabel(\"epochs\")\n",
    "plt.ylabel(\"LR\")\n",
    "plt.show()"
   ]
  },
  {
   "cell_type": "markdown",
   "metadata": {
    "id": "mKjTiHm4o4ba"
   },
   "source": [
    "### TODO#8\n",
    "\n",
    "What makes the learning rate change?\n",
    "(hint: try to understand the scheduler [ReduceLROnPlateau](https://pytorch.org/docs/stable/generated/torch.optim.lr_scheduler.ReduceLROnPlateau.html))\n",
    "\n",
    "\n",
    "**Ans:**\n",
    "\n",
    "Learning rate is changed when evaluation metric (On validation set, to be percise) has stopped improving for a \"patience\" number of epochs. in our case 2 epoch."
   ]
  },
  {
   "cell_type": "markdown",
   "metadata": {
    "id": "Mdf-mv_v7Nl8"
   },
   "source": [
    "# Load Model\n",
    "\n",
    "Use the code snippet below to load the model you just trained"
   ]
  },
  {
   "cell_type": "code",
   "execution_count": 25,
   "metadata": {
    "id": "CipUyLZ07PKd"
   },
   "outputs": [
    {
     "name": "stdout",
     "output_type": "stream",
     "text": [
      "Loaded epoch 2 model\n"
     ]
    }
   ],
   "source": [
    "checkpoint = torch.load('model_ff.pth.tar')\n",
    "loaded_model = FeedForwardNN(hidden_size=config['hidden_size']) # Create model object\n",
    "loaded_model.load_state_dict(checkpoint['model']) # Load weights\n",
    "print(f\"Loaded epoch {checkpoint['epoch']} model\")"
   ]
  },
  {
   "cell_type": "markdown",
   "metadata": {
    "id": "JhLdhEr2ZLWL"
   },
   "source": [
    "# A more complex scheduling\n",
    "\n",
    "The scheduler can be very complicated and you can write your own heuristic for it.\n",
    "\n",
    "### TODO#9\n",
    "\n",
    "Implement a custom learning rate scheduler that behaves like the following graph.\n",
    "\n",
    "You might want to learn how to use [PyTorch's built-in learning rate schedulers](https://pytorch.org/docs/stable/optim.html#how-to-adjust-learning-rate) in order to build your own.\n",
    "\n",
    "Learning rate should be function of epoch.\n",
    "\n",
    "![](https://raw.githubusercontent.com/pjumruspun/ComProg2021-Workshop/main/graph.png)"
   ]
  },
  {
   "cell_type": "code",
   "execution_count": 25,
   "metadata": {
    "id": "YkUFFRjsaMK_"
   },
   "outputs": [],
   "source": [
    "# Implement scheduler here\n",
    "class MyScheduler():\n",
    "    def __init__(self, optimizer: torch.optim.Optimizer):\n",
    "        self.optimizer = optimizer\n",
    "        \n",
    "    def get_lr(self):\n",
    "        return self.optimizer.param_groups[0]['lr']\n",
    "    \n",
    "    def check_condition(self, epoch):\n",
    "        lr_list = [0.0001, 0.0004, 0.0007, 0.001, 0.0008, 0.0007, 0.0005, 0.001, 0.0006, 0.0001, 0.0001]\n",
    "        lr = lr_list[epoch]\n",
    "        return lr\n",
    "    \n",
    "    def step(self, epoch):\n",
    "        # Changes the learning rate here\n",
    "        new_lr = self.check_condition(epoch)\n",
    "        for params in self.optimizer.param_groups:\n",
    "            params['lr'] = new_lr\n",
    "        return new_lr"
   ]
  },
  {
   "cell_type": "code",
   "execution_count": 26,
   "metadata": {
    "id": "3XbxPkzyaSQ3"
   },
   "outputs": [],
   "source": [
    "# Now train with your scheduler\n",
    "# my_scheduler = MyScheduler(...)\n",
    "# Hyperparameters and other configs\n",
    "config = {\n",
    "    'architecture': 'feedforward',\n",
    "    'lr': 0.0001,\n",
    "    'hidden_size': 200,\n",
    "    'epochs': 10\n",
    "}\n",
    "\n",
    "# Model\n",
    "model_ff = FeedForwardNN(hidden_size=config['hidden_size'])\n",
    "model_ff = model_ff.to(device)\n",
    "optimizer = torch.optim.Adam(model_ff.parameters(), lr=config['lr'])\n",
    "my_scheduler = MyScheduler(optimizer)"
   ]
  },
  {
   "cell_type": "code",
   "execution_count": 27,
   "metadata": {},
   "outputs": [],
   "source": [
    "# Train function\n",
    "def train(model, optimizer, scheduler, train_loader, val_loader, config, scheduler_input=\"loss\", wandb_save=False):\n",
    "    if wandb_save==True:\n",
    "        # Start wandb run\n",
    "        wandb.init(\n",
    "            project='precipitation-nowcasting',\n",
    "            config=config,\n",
    "        )\n",
    "        # Log parameters and gradients\n",
    "        wandb.watch(model, log='all')\n",
    "    \n",
    "    train_losses = []\n",
    "    val_losses = []\n",
    "    learning_rates = []\n",
    "    for epoch in range(config['epochs']):\n",
    "        train_loss = []\n",
    "        current_lr = optimizer.param_groups[0]['lr']\n",
    "        learning_rates.append(current_lr)\n",
    "        \n",
    "        model.train()\n",
    "        print(f\"Training epoch {epoch+1}...\")\n",
    "        print(f\"Current LR: {current_lr}\")\n",
    "        \n",
    "        for i, (inputs, y_true) in enumerate(tqdm(train_loader)):\n",
    "            inputs = inputs.to(device)\n",
    "            y_true = y_true.to(device)\n",
    "            optimizer.zero_grad()\n",
    "            y_pred = model(inputs)\n",
    "            loss = loss_fn(y_pred, y_true)\n",
    "            loss.backward()\n",
    "            optimizer.step()\n",
    "            train_loss.append(loss)\n",
    "        \n",
    "        avg_train_loss = torch.stack(train_loss).mean().item()\n",
    "        train_losses.append(avg_train_loss)\n",
    "\n",
    "        print(f\"Epoch {epoch+1} train loss: {avg_train_loss:.4f}\")\n",
    "\n",
    "        # Validation\n",
    "        model.eval()\n",
    "        with torch.no_grad(): # No gradient is required during validation\n",
    "            print(f\"Validating epoch {epoch+1}\")\n",
    "            val_loss = []\n",
    "            for i, (inputs, y_true) in enumerate(tqdm(val_loader)):\n",
    "                inputs = inputs.to(device)\n",
    "                y_true = y_true.to(device)\n",
    "                y_pred = model(inputs)\n",
    "                loss = loss_fn(y_pred, y_true)\n",
    "                val_loss.append(loss)\n",
    "\n",
    "            avg_val_loss = torch.stack(val_loss).mean().item()\n",
    "            val_losses.append(avg_val_loss)\n",
    "            print(f\"Epoch {epoch+1} val loss: {avg_val_loss:.4f}\")\n",
    "            \n",
    "            if scheduler != None:\n",
    "                if scheduler_input == \"epoch\":\n",
    "                    scheduler.step(epoch+1)\n",
    "                elif scheduler_input == \"loss\":\n",
    "                    scheduler.step(avg_val_loss)\n",
    "        \n",
    "            best_val_loss = np.inf if epoch == 0 else min(val_losses[:-1])\n",
    "            if avg_val_loss < best_val_loss:\n",
    "                state = {\n",
    "                    'epoch': epoch,\n",
    "                    'model': model.state_dict(),\n",
    "                    'optimizer': optimizer.state_dict(),\n",
    "                    'train_loss': avg_train_loss,\n",
    "                    'val_loss': avg_val_loss,\n",
    "                    'best_val_loss': best_val_loss,\n",
    "                }\n",
    "\n",
    "                print(f\"Saving new best model..\")\n",
    "                torch.save(state, 'model_'+str(model.__class__.__name__)+'.pth.tar')\n",
    "        if wandb_save==True:\n",
    "            wandb.log({\n",
    "                'train_loss': avg_train_loss,\n",
    "                'val_loss': avg_val_loss,\n",
    "                'lr': current_lr,\n",
    "            })\n",
    "            \n",
    "    if wandb_save==True:\n",
    "        wandb.finish()\n",
    "    print('Finished Training')\n",
    "    \n",
    "    return {\"train loss\": train_losses, \"val loss\": val_losses, \"lr\":learning_rates}"
   ]
  },
  {
   "cell_type": "code",
   "execution_count": 47,
   "metadata": {},
   "outputs": [
    {
     "data": {
      "text/html": [
       "Tracking run with wandb version 0.12.11"
      ],
      "text/plain": [
       "<IPython.core.display.HTML object>"
      ]
     },
     "metadata": {},
     "output_type": "display_data"
    },
    {
     "data": {
      "text/html": [
       "Run data is saved locally in <code>D:\\Grad_school\\Pattern\\HW5\\wandb\\run-20220312_184800-kx5lx38q</code>"
      ],
      "text/plain": [
       "<IPython.core.display.HTML object>"
      ]
     },
     "metadata": {},
     "output_type": "display_data"
    },
    {
     "data": {
      "text/html": [
       "Syncing run <strong><a href=\"https://wandb.ai/niqulafuse/precipitation-nowcasting/runs/kx5lx38q\" target=\"_blank\">robust-darkness-7</a></strong> to <a href=\"https://wandb.ai/niqulafuse/precipitation-nowcasting\" target=\"_blank\">Weights & Biases</a> (<a href=\"https://wandb.me/run\" target=\"_blank\">docs</a>)<br/>"
      ],
      "text/plain": [
       "<IPython.core.display.HTML object>"
      ]
     },
     "metadata": {},
     "output_type": "display_data"
    },
    {
     "name": "stdout",
     "output_type": "stream",
     "text": [
      "Training epoch 1...\n",
      "Current LR: 0.0001\n"
     ]
    },
    {
     "data": {
      "application/vnd.jupyter.widget-view+json": {
       "model_id": "4e03f47bf6dc4fe8974ec585dbad8930",
       "version_major": 2,
       "version_minor": 0
      },
      "text/plain": [
       "  0%|          | 0/1121 [00:00<?, ?it/s]"
      ]
     },
     "metadata": {},
     "output_type": "display_data"
    },
    {
     "name": "stdout",
     "output_type": "stream",
     "text": [
      "Epoch 1 train loss: 1.9194\n",
      "Validating epoch 1\n"
     ]
    },
    {
     "data": {
      "application/vnd.jupyter.widget-view+json": {
       "model_id": "0ec3d348733c4b2e811caa92e1f4c64d",
       "version_major": 2,
       "version_minor": 0
      },
      "text/plain": [
       "  0%|          | 0/454 [00:00<?, ?it/s]"
      ]
     },
     "metadata": {},
     "output_type": "display_data"
    },
    {
     "name": "stdout",
     "output_type": "stream",
     "text": [
      "Epoch 1 val loss: 1.6575\n",
      "Saving new best model..\n",
      "Training epoch 2...\n",
      "Current LR: 0.0004\n"
     ]
    },
    {
     "data": {
      "application/vnd.jupyter.widget-view+json": {
       "model_id": "c94ebe5c8f4a44e98ce369cc5bbd86a1",
       "version_major": 2,
       "version_minor": 0
      },
      "text/plain": [
       "  0%|          | 0/1121 [00:00<?, ?it/s]"
      ]
     },
     "metadata": {},
     "output_type": "display_data"
    },
    {
     "name": "stdout",
     "output_type": "stream",
     "text": [
      "Epoch 2 train loss: 1.9184\n",
      "Validating epoch 2\n"
     ]
    },
    {
     "data": {
      "application/vnd.jupyter.widget-view+json": {
       "model_id": "40df8f70c6074c08abdb7b76f73f9f08",
       "version_major": 2,
       "version_minor": 0
      },
      "text/plain": [
       "  0%|          | 0/454 [00:00<?, ?it/s]"
      ]
     },
     "metadata": {},
     "output_type": "display_data"
    },
    {
     "name": "stdout",
     "output_type": "stream",
     "text": [
      "Epoch 2 val loss: 1.6581\n",
      "Training epoch 3...\n",
      "Current LR: 0.0007\n"
     ]
    },
    {
     "data": {
      "application/vnd.jupyter.widget-view+json": {
       "model_id": "403f79ba36cf45e49d030d3e548b3e92",
       "version_major": 2,
       "version_minor": 0
      },
      "text/plain": [
       "  0%|          | 0/1121 [00:00<?, ?it/s]"
      ]
     },
     "metadata": {},
     "output_type": "display_data"
    },
    {
     "name": "stdout",
     "output_type": "stream",
     "text": [
      "Epoch 3 train loss: 1.9184\n",
      "Validating epoch 3\n"
     ]
    },
    {
     "data": {
      "application/vnd.jupyter.widget-view+json": {
       "model_id": "8bdc621c4e8540ed92de61894dd81f7f",
       "version_major": 2,
       "version_minor": 0
      },
      "text/plain": [
       "  0%|          | 0/454 [00:00<?, ?it/s]"
      ]
     },
     "metadata": {},
     "output_type": "display_data"
    },
    {
     "name": "stdout",
     "output_type": "stream",
     "text": [
      "Epoch 3 val loss: 1.6560\n",
      "Saving new best model..\n",
      "Training epoch 4...\n",
      "Current LR: 0.001\n"
     ]
    },
    {
     "data": {
      "application/vnd.jupyter.widget-view+json": {
       "model_id": "81ecb61b6e404d2597b2e3daecf36ee6",
       "version_major": 2,
       "version_minor": 0
      },
      "text/plain": [
       "  0%|          | 0/1121 [00:00<?, ?it/s]"
      ]
     },
     "metadata": {},
     "output_type": "display_data"
    },
    {
     "name": "stdout",
     "output_type": "stream",
     "text": [
      "Epoch 4 train loss: 1.9186\n",
      "Validating epoch 4\n"
     ]
    },
    {
     "data": {
      "application/vnd.jupyter.widget-view+json": {
       "model_id": "0ad0f8bf294947af93ffc06be94bcf6c",
       "version_major": 2,
       "version_minor": 0
      },
      "text/plain": [
       "  0%|          | 0/454 [00:00<?, ?it/s]"
      ]
     },
     "metadata": {},
     "output_type": "display_data"
    },
    {
     "name": "stdout",
     "output_type": "stream",
     "text": [
      "Epoch 4 val loss: 1.6567\n",
      "Training epoch 5...\n",
      "Current LR: 0.0008\n"
     ]
    },
    {
     "data": {
      "application/vnd.jupyter.widget-view+json": {
       "model_id": "c782f38e96eb46b68861ff652a2fd40b",
       "version_major": 2,
       "version_minor": 0
      },
      "text/plain": [
       "  0%|          | 0/1121 [00:00<?, ?it/s]"
      ]
     },
     "metadata": {},
     "output_type": "display_data"
    },
    {
     "name": "stdout",
     "output_type": "stream",
     "text": [
      "Epoch 5 train loss: 1.9182\n",
      "Validating epoch 5\n"
     ]
    },
    {
     "data": {
      "application/vnd.jupyter.widget-view+json": {
       "model_id": "4a903d3014c6474aac567fcfdd0fdbb7",
       "version_major": 2,
       "version_minor": 0
      },
      "text/plain": [
       "  0%|          | 0/454 [00:00<?, ?it/s]"
      ]
     },
     "metadata": {},
     "output_type": "display_data"
    },
    {
     "name": "stdout",
     "output_type": "stream",
     "text": [
      "Epoch 5 val loss: 1.6573\n",
      "Training epoch 6...\n",
      "Current LR: 0.0007\n"
     ]
    },
    {
     "data": {
      "application/vnd.jupyter.widget-view+json": {
       "model_id": "ef3f00a9eaf54686acd7d663dd6e2bc8",
       "version_major": 2,
       "version_minor": 0
      },
      "text/plain": [
       "  0%|          | 0/1121 [00:00<?, ?it/s]"
      ]
     },
     "metadata": {},
     "output_type": "display_data"
    },
    {
     "name": "stdout",
     "output_type": "stream",
     "text": [
      "Epoch 6 train loss: 1.9179\n",
      "Validating epoch 6\n"
     ]
    },
    {
     "data": {
      "application/vnd.jupyter.widget-view+json": {
       "model_id": "7be12b3059e44090bc451f3b71b9014d",
       "version_major": 2,
       "version_minor": 0
      },
      "text/plain": [
       "  0%|          | 0/454 [00:00<?, ?it/s]"
      ]
     },
     "metadata": {},
     "output_type": "display_data"
    },
    {
     "name": "stdout",
     "output_type": "stream",
     "text": [
      "Epoch 6 val loss: 1.6559\n",
      "Saving new best model..\n",
      "Training epoch 7...\n",
      "Current LR: 0.0005\n"
     ]
    },
    {
     "data": {
      "application/vnd.jupyter.widget-view+json": {
       "model_id": "4978144f226944a6b982289c689fce61",
       "version_major": 2,
       "version_minor": 0
      },
      "text/plain": [
       "  0%|          | 0/1121 [00:00<?, ?it/s]"
      ]
     },
     "metadata": {},
     "output_type": "display_data"
    },
    {
     "name": "stdout",
     "output_type": "stream",
     "text": [
      "Epoch 7 train loss: 1.9176\n",
      "Validating epoch 7\n"
     ]
    },
    {
     "data": {
      "application/vnd.jupyter.widget-view+json": {
       "model_id": "a3c7767badca4d649a943d2eb10a2954",
       "version_major": 2,
       "version_minor": 0
      },
      "text/plain": [
       "  0%|          | 0/454 [00:00<?, ?it/s]"
      ]
     },
     "metadata": {},
     "output_type": "display_data"
    },
    {
     "name": "stdout",
     "output_type": "stream",
     "text": [
      "Epoch 7 val loss: 1.6560\n",
      "Training epoch 8...\n",
      "Current LR: 0.001\n"
     ]
    },
    {
     "data": {
      "application/vnd.jupyter.widget-view+json": {
       "model_id": "77c7a0a89679432cad1a93585f153e3f",
       "version_major": 2,
       "version_minor": 0
      },
      "text/plain": [
       "  0%|          | 0/1121 [00:00<?, ?it/s]"
      ]
     },
     "metadata": {},
     "output_type": "display_data"
    },
    {
     "name": "stdout",
     "output_type": "stream",
     "text": [
      "Epoch 8 train loss: 1.9185\n",
      "Validating epoch 8\n"
     ]
    },
    {
     "data": {
      "application/vnd.jupyter.widget-view+json": {
       "model_id": "03934c8911634b06b549e41e93f59bb2",
       "version_major": 2,
       "version_minor": 0
      },
      "text/plain": [
       "  0%|          | 0/454 [00:00<?, ?it/s]"
      ]
     },
     "metadata": {},
     "output_type": "display_data"
    },
    {
     "name": "stdout",
     "output_type": "stream",
     "text": [
      "Epoch 8 val loss: 1.6567\n",
      "Training epoch 9...\n",
      "Current LR: 0.0006\n"
     ]
    },
    {
     "data": {
      "application/vnd.jupyter.widget-view+json": {
       "model_id": "68a4fcef314442239c0f8db71b503a61",
       "version_major": 2,
       "version_minor": 0
      },
      "text/plain": [
       "  0%|          | 0/1121 [00:00<?, ?it/s]"
      ]
     },
     "metadata": {},
     "output_type": "display_data"
    },
    {
     "name": "stdout",
     "output_type": "stream",
     "text": [
      "Epoch 9 train loss: 1.9178\n",
      "Validating epoch 9\n"
     ]
    },
    {
     "data": {
      "application/vnd.jupyter.widget-view+json": {
       "model_id": "419bc2f9e9104128a4848bfd20ffdd24",
       "version_major": 2,
       "version_minor": 0
      },
      "text/plain": [
       "  0%|          | 0/454 [00:00<?, ?it/s]"
      ]
     },
     "metadata": {},
     "output_type": "display_data"
    },
    {
     "name": "stdout",
     "output_type": "stream",
     "text": [
      "Epoch 9 val loss: 1.6564\n",
      "Training epoch 10...\n",
      "Current LR: 0.0001\n"
     ]
    },
    {
     "data": {
      "application/vnd.jupyter.widget-view+json": {
       "model_id": "fb1a436eb85941c9ac6a3ba00dbc269f",
       "version_major": 2,
       "version_minor": 0
      },
      "text/plain": [
       "  0%|          | 0/1121 [00:00<?, ?it/s]"
      ]
     },
     "metadata": {},
     "output_type": "display_data"
    },
    {
     "name": "stdout",
     "output_type": "stream",
     "text": [
      "Epoch 10 train loss: 1.9169\n",
      "Validating epoch 10\n"
     ]
    },
    {
     "data": {
      "application/vnd.jupyter.widget-view+json": {
       "model_id": "b998678c92284e1cab084e8cd4501e3e",
       "version_major": 2,
       "version_minor": 0
      },
      "text/plain": [
       "  0%|          | 0/454 [00:00<?, ?it/s]"
      ]
     },
     "metadata": {},
     "output_type": "display_data"
    },
    {
     "name": "stdout",
     "output_type": "stream",
     "text": [
      "Epoch 10 val loss: 1.6558\n",
      "Saving new best model..\n",
      "\n"
     ]
    },
    {
     "data": {
      "text/html": [
       "Waiting for W&B process to finish... <strong style=\"color:green\">(success).</strong>"
      ],
      "text/plain": [
       "<IPython.core.display.HTML object>"
      ]
     },
     "metadata": {},
     "output_type": "display_data"
    },
    {
     "data": {
      "application/vnd.jupyter.widget-view+json": {
       "model_id": "",
       "version_major": 2,
       "version_minor": 0
      },
      "text/plain": [
       "VBox(children=(Label(value='0.001 MB of 0.001 MB uploaded (0.000 MB deduped)\\r'), FloatProgress(value=1.0, max…"
      ]
     },
     "metadata": {},
     "output_type": "display_data"
    },
    {
     "data": {
      "text/html": [
       "<style>\n",
       "    table.wandb td:nth-child(1) { padding: 0 10px; text-align: right }\n",
       "    .wandb-row { display: flex; flex-direction: row; flex-wrap: wrap; width: 100% }\n",
       "    .wandb-col { display: flex; flex-direction: column; flex-basis: 100%; flex: 1; padding: 10px; }\n",
       "    </style>\n",
       "<div class=\"wandb-row\"><div class=\"wandb-col\"><h3>Run history:</h3><br/><table class=\"wandb\"><tr><td>lr</td><td>▁▃▆█▆▆▄█▅▁</td></tr><tr><td>train_loss</td><td>█▅▅▆▅▄▃▆▄▁</td></tr><tr><td>val_loss</td><td>▆█▂▄▆▁▂▄▃▁</td></tr></table><br/></div><div class=\"wandb-col\"><h3>Run summary:</h3><br/><table class=\"wandb\"><tr><td>lr</td><td>0.0001</td></tr><tr><td>train_loss</td><td>1.91688</td></tr><tr><td>val_loss</td><td>1.65581</td></tr></table><br/></div></div>"
      ],
      "text/plain": [
       "<IPython.core.display.HTML object>"
      ]
     },
     "metadata": {},
     "output_type": "display_data"
    },
    {
     "data": {
      "text/html": [
       "Synced <strong style=\"color:#cdcd00\">robust-darkness-7</strong>: <a href=\"https://wandb.ai/niqulafuse/precipitation-nowcasting/runs/kx5lx38q\" target=\"_blank\">https://wandb.ai/niqulafuse/precipitation-nowcasting/runs/kx5lx38q</a><br/>Synced 6 W&B file(s), 0 media file(s), 0 artifact file(s) and 0 other file(s)"
      ],
      "text/plain": [
       "<IPython.core.display.HTML object>"
      ]
     },
     "metadata": {},
     "output_type": "display_data"
    },
    {
     "data": {
      "text/html": [
       "Find logs at: <code>.\\wandb\\run-20220312_184800-kx5lx38q\\logs</code>"
      ],
      "text/plain": [
       "<IPython.core.display.HTML object>"
      ]
     },
     "metadata": {},
     "output_type": "display_data"
    },
    {
     "name": "stdout",
     "output_type": "stream",
     "text": [
      "Finished Training\n"
     ]
    }
   ],
   "source": [
    "train(model=model_ff, optimizer=optimizer, scheduler=my_scheduler,\n",
    "      train_loader=train_loader, val_loader=val_loader, config=config, scheduler_input=\"epoch\", wandb_save=False)"
   ]
  },
  {
   "cell_type": "markdown",
   "metadata": {
    "id": "2JguJELuFKvL"
   },
   "source": [
    "# [Optional] Wandb #\n",
    "\n",
    "You should now have a project in wandb with the name `precipitation-nowcasting`, which you should see the latest run you just finished inside the project. If you look into the run, you should be able to see plots of learning rate, train loss, val loss in the `Charts` section. Below it should be `Gradients` and `Parameters` section."
   ]
  },
  {
   "cell_type": "markdown",
   "metadata": {
    "id": "3TUMxeJvFKvM"
   },
   "source": [
    "# Wandb Observation #\n",
    "\n",
    "### Optional TODO#1 \n",
    "\n",
    "Write your own interpretation of the logs from this example. A simple sentence or two for each section is sufficient.\n",
    "\n",
    "**Your answer:** \n",
    "\n",
    "- train loss and val loss show thier loss for each epoch that we can observe our model behavier.\n",
    "- Gradients part shows gradient distribution for each step. If our model reach the optimum point, gradient trend should be shirnk toward zero, if not we can consider tuning our hyperparameters (if gradient not shrink to zero, we may lower model learning rate)\n",
    "- Also for Parameters part, we can observe how our model's parameters change over step. This may indicate that the model is learn over time."
   ]
  },
  {
   "cell_type": "markdown",
   "metadata": {
    "id": "4opfOdo5jpXf"
   },
   "source": [
    "# Evaluation"
   ]
  },
  {
   "cell_type": "code",
   "execution_count": 83,
   "metadata": {},
   "outputs": [
    {
     "name": "stdout",
     "output_type": "stream",
     "text": [
      "Loaded epoch 9 model\n"
     ]
    }
   ],
   "source": [
    "checkpoint = torch.load('model_ff.pth.tar')\n",
    "loaded_model = FeedForwardNN(hidden_size=config['hidden_size']) # Create model object\n",
    "loaded_model.load_state_dict(checkpoint['model']) # Load weights\n",
    "print(f\"Loaded epoch {checkpoint['epoch']} model\")\n",
    "loaded_model = loaded_model.to(device)"
   ]
  },
  {
   "cell_type": "code",
   "execution_count": 28,
   "metadata": {
    "id": "ymW77BubFKvC"
   },
   "outputs": [],
   "source": [
    "################################################################################\n",
    "# TODO#10:                                                                     #\n",
    "# Write a function to evaluate your model. Your function must predicts         #\n",
    "# using the input model and return mean square error of the model.             #\n",
    "#                                                                              #\n",
    "# Hint: Read how to use PyTorch's MSE Loss                                     #\n",
    "# https://pytorch.org/docs/stable/generated/torch.nn.MSELoss.html              #\n",
    "################################################################################\n",
    "#                            WRITE YOUR CODE BELOW                             #\n",
    "################################################################################\n",
    "def evaluate(data_loader, model):\n",
    "    \"\"\"\n",
    "    Evaluate model on validation data given by data_loader\n",
    "    \"\"\"\n",
    "    # write code here\n",
    "    loss = 0\n",
    "    model.eval()\n",
    "    with torch.no_grad():\n",
    "        for idx, (data, y_true) in enumerate(data_loader):\n",
    "            data = data.to(device)\n",
    "            y_true = y_true.to(device)\n",
    "            y_pred = model(data)\n",
    "            loss += loss_fn(y_pred, y_true)\n",
    "    mse = loss/len(data_loader)\n",
    "    return mse"
   ]
  },
  {
   "cell_type": "code",
   "execution_count": 22,
   "metadata": {
    "id": "w7t7ks7vFKvF"
   },
   "outputs": [],
   "source": [
    "# We will use majority rule as a baseline.\n",
    "def majority_baseline(train_set, val_set):\n",
    "    unique, counts = np.unique(train_set, return_counts=True)\n",
    "    majority = unique[np.argmax(counts)]\n",
    "    baseline = 0\n",
    "    val_set = val_set.reshape(-1,1)\n",
    "    for r in val_set:\n",
    "        baseline += (majority - r) ** 2 / len(val_set)\n",
    "    return baseline"
   ]
  },
  {
   "cell_type": "code",
   "execution_count": 23,
   "metadata": {
    "id": "v_QU7h4lFKvJ"
   },
   "outputs": [
    {
     "name": "stdout",
     "output_type": "stream",
     "text": [
      "baseline\n",
      "train [1.94397725]\n",
      "validate [1.6746546]\n"
     ]
    }
   ],
   "source": [
    "print('baseline')\n",
    "print('train', majority_baseline(y_train, y_train))\n",
    "print('validate', majority_baseline(y_train, y_val))"
   ]
  },
  {
   "cell_type": "code",
   "execution_count": 86,
   "metadata": {
    "id": "0dUc0Y9_wHrx"
   },
   "outputs": [
    {
     "name": "stdout",
     "output_type": "stream",
     "text": [
      "FF-model\n",
      "train 1.9169749021530151\n",
      "validate 1.6558082103729248\n"
     ]
    }
   ],
   "source": [
    "print('FF-model')\n",
    "print('train', evaluate(train_loader, loaded_model).item())\n",
    "print('validate', evaluate(val_loader, loaded_model).item())"
   ]
  },
  {
   "cell_type": "markdown",
   "metadata": {
    "id": "w0Ynr3VgFKvN"
   },
   "source": [
    "# Dropout #\n",
    "\n",
    "You might notice that the 3-layered feedforward does not use dropout at all. Now, try adding dropout (dropout rate of 20%) to the model, run, and report the result again.\n",
    "\n",
    "To access PyTorch's dropout, use `nn.Dropout`. Read more about PyTorch's built-in Dropout layer [here](https://pytorch.org/docs/stable/generated/torch.nn.Dropout.html)"
   ]
  },
  {
   "cell_type": "code",
   "execution_count": 85,
   "metadata": {
    "id": "rbnMbqT7FKvO"
   },
   "outputs": [],
   "source": [
    "################################################################################\n",
    "# TODO#11:                                                                     #\n",
    "# Write a feedforward model with dropout                                       #\n",
    "################################################################################\n",
    "#                            WRITE YOUR CODE BELOW                             #\n",
    "################################################################################\n",
    "class FeedForwardDropout(nn.Module):\n",
    "    def __init__(self, input_size=75, output_size=1, hidden_size=200, dropout_rate=0.2):\n",
    "        super(FeedForwardDropout, self).__init__()\n",
    "        self.ff1 = nn.Linear(input_size, hidden_size)\n",
    "        self.ff2 = nn.Linear(hidden_size, hidden_size)\n",
    "        self.ff3 = nn.Linear(hidden_size, hidden_size)\n",
    "        self.out = nn.Linear(hidden_size, output_size)\n",
    "        self.dropout = nn.Dropout(p=dropout_rate)\n",
    "        self.relu = nn.ReLU()\n",
    "\n",
    "    def forward(self, x):\n",
    "        x = self.ff1(x)\n",
    "        x = self.relu(x)\n",
    "        x = self.dropout(x)\n",
    "        x = self.ff2(x)\n",
    "        x = self.relu(x)\n",
    "        x = self.dropout(x)\n",
    "        x = self.ff3(x)\n",
    "        x = self.relu(x)\n",
    "        x = self.dropout(x)\n",
    "        x = self.out(x)\n",
    "    \n",
    "        return x.reshape(-1, 1)"
   ]
  },
  {
   "cell_type": "code",
   "execution_count": 115,
   "metadata": {
    "id": "TJHG3fvMFKvU",
    "scrolled": true
   },
   "outputs": [
    {
     "name": "stdout",
     "output_type": "stream",
     "text": [
      "start training ff dropout\n"
     ]
    },
    {
     "data": {
      "text/html": [
       "Tracking run with wandb version 0.12.11"
      ],
      "text/plain": [
       "<IPython.core.display.HTML object>"
      ]
     },
     "metadata": {},
     "output_type": "display_data"
    },
    {
     "data": {
      "text/html": [
       "Run data is saved locally in <code>D:\\Grad_school\\Pattern\\HW5\\wandb\\run-20220312_215430-26oj8zbs</code>"
      ],
      "text/plain": [
       "<IPython.core.display.HTML object>"
      ]
     },
     "metadata": {},
     "output_type": "display_data"
    },
    {
     "data": {
      "text/html": [
       "Syncing run <strong><a href=\"https://wandb.ai/niqulafuse/precipitation-nowcasting/runs/26oj8zbs\" target=\"_blank\">fragrant-silence-12</a></strong> to <a href=\"https://wandb.ai/niqulafuse/precipitation-nowcasting\" target=\"_blank\">Weights & Biases</a> (<a href=\"https://wandb.me/run\" target=\"_blank\">docs</a>)<br/>"
      ],
      "text/plain": [
       "<IPython.core.display.HTML object>"
      ]
     },
     "metadata": {},
     "output_type": "display_data"
    },
    {
     "name": "stdout",
     "output_type": "stream",
     "text": [
      "Training epoch 1...\n",
      "Current LR: 0.01\n"
     ]
    },
    {
     "data": {
      "application/vnd.jupyter.widget-view+json": {
       "model_id": "cc02ee8fd65e4306998a269769a4d5fc",
       "version_major": 2,
       "version_minor": 0
      },
      "text/plain": [
       "  0%|          | 0/1121 [00:00<?, ?it/s]"
      ]
     },
     "metadata": {},
     "output_type": "display_data"
    },
    {
     "name": "stdout",
     "output_type": "stream",
     "text": [
      "Epoch 1 train loss: 1.9352\n",
      "Validating epoch 1\n"
     ]
    },
    {
     "data": {
      "application/vnd.jupyter.widget-view+json": {
       "model_id": "375707f3c72646ae941a5f1fe3f2ee48",
       "version_major": 2,
       "version_minor": 0
      },
      "text/plain": [
       "  0%|          | 0/454 [00:00<?, ?it/s]"
      ]
     },
     "metadata": {},
     "output_type": "display_data"
    },
    {
     "name": "stdout",
     "output_type": "stream",
     "text": [
      "Epoch 1 val loss: 1.6617\n",
      "Saving new best model..\n",
      "Training epoch 2...\n",
      "Current LR: 0.01\n"
     ]
    },
    {
     "data": {
      "application/vnd.jupyter.widget-view+json": {
       "model_id": "767daa74fd9d4a4b9ea85c533bf5a4f1",
       "version_major": 2,
       "version_minor": 0
      },
      "text/plain": [
       "  0%|          | 0/1121 [00:00<?, ?it/s]"
      ]
     },
     "metadata": {},
     "output_type": "display_data"
    },
    {
     "name": "stdout",
     "output_type": "stream",
     "text": [
      "Epoch 2 train loss: 1.9234\n",
      "Validating epoch 2\n"
     ]
    },
    {
     "data": {
      "application/vnd.jupyter.widget-view+json": {
       "model_id": "a77cbfbb50914db38d7a7057d9091cc6",
       "version_major": 2,
       "version_minor": 0
      },
      "text/plain": [
       "  0%|          | 0/454 [00:00<?, ?it/s]"
      ]
     },
     "metadata": {},
     "output_type": "display_data"
    },
    {
     "name": "stdout",
     "output_type": "stream",
     "text": [
      "Epoch 2 val loss: 1.6633\n",
      "Training epoch 3...\n",
      "Current LR: 0.01\n"
     ]
    },
    {
     "data": {
      "application/vnd.jupyter.widget-view+json": {
       "model_id": "bd911a2565f143e1a1275858b3b5e88f",
       "version_major": 2,
       "version_minor": 0
      },
      "text/plain": [
       "  0%|          | 0/1121 [00:00<?, ?it/s]"
      ]
     },
     "metadata": {},
     "output_type": "display_data"
    },
    {
     "name": "stdout",
     "output_type": "stream",
     "text": [
      "Epoch 3 train loss: 1.9235\n",
      "Validating epoch 3\n"
     ]
    },
    {
     "data": {
      "application/vnd.jupyter.widget-view+json": {
       "model_id": "c20cb61aa1de47bda8902605bf2b70f2",
       "version_major": 2,
       "version_minor": 0
      },
      "text/plain": [
       "  0%|          | 0/454 [00:00<?, ?it/s]"
      ]
     },
     "metadata": {},
     "output_type": "display_data"
    },
    {
     "name": "stdout",
     "output_type": "stream",
     "text": [
      "Epoch 3 val loss: 1.6614\n",
      "Saving new best model..\n",
      "Training epoch 4...\n",
      "Current LR: 0.01\n"
     ]
    },
    {
     "data": {
      "application/vnd.jupyter.widget-view+json": {
       "model_id": "d7b443e29aca4083afca4d7d10696c7d",
       "version_major": 2,
       "version_minor": 0
      },
      "text/plain": [
       "  0%|          | 0/1121 [00:00<?, ?it/s]"
      ]
     },
     "metadata": {},
     "output_type": "display_data"
    },
    {
     "name": "stdout",
     "output_type": "stream",
     "text": [
      "Epoch 4 train loss: 1.9234\n",
      "Validating epoch 4\n"
     ]
    },
    {
     "data": {
      "application/vnd.jupyter.widget-view+json": {
       "model_id": "105cc45372cc402f82f83d677a1a1d06",
       "version_major": 2,
       "version_minor": 0
      },
      "text/plain": [
       "  0%|          | 0/454 [00:00<?, ?it/s]"
      ]
     },
     "metadata": {},
     "output_type": "display_data"
    },
    {
     "name": "stdout",
     "output_type": "stream",
     "text": [
      "Epoch 4 val loss: 1.6615\n",
      "Training epoch 5...\n",
      "Current LR: 0.01\n"
     ]
    },
    {
     "data": {
      "application/vnd.jupyter.widget-view+json": {
       "model_id": "2b53e76ed74a451eb1ccfcf3aa355fe4",
       "version_major": 2,
       "version_minor": 0
      },
      "text/plain": [
       "  0%|          | 0/1121 [00:00<?, ?it/s]"
      ]
     },
     "metadata": {},
     "output_type": "display_data"
    },
    {
     "name": "stdout",
     "output_type": "stream",
     "text": [
      "Epoch 5 train loss: 1.9234\n",
      "Validating epoch 5\n"
     ]
    },
    {
     "data": {
      "application/vnd.jupyter.widget-view+json": {
       "model_id": "2da141c2af6a4dbfac819de5211938f4",
       "version_major": 2,
       "version_minor": 0
      },
      "text/plain": [
       "  0%|          | 0/454 [00:00<?, ?it/s]"
      ]
     },
     "metadata": {},
     "output_type": "display_data"
    },
    {
     "name": "stdout",
     "output_type": "stream",
     "text": [
      "Epoch 5 val loss: 1.6619\n",
      "Training epoch 6...\n",
      "Current LR: 0.01\n"
     ]
    },
    {
     "data": {
      "application/vnd.jupyter.widget-view+json": {
       "model_id": "775fb39f173a4351be8282fb89e1a383",
       "version_major": 2,
       "version_minor": 0
      },
      "text/plain": [
       "  0%|          | 0/1121 [00:00<?, ?it/s]"
      ]
     },
     "metadata": {},
     "output_type": "display_data"
    },
    {
     "name": "stdout",
     "output_type": "stream",
     "text": [
      "Epoch 6 train loss: 1.9238\n",
      "Validating epoch 6\n"
     ]
    },
    {
     "data": {
      "application/vnd.jupyter.widget-view+json": {
       "model_id": "f8813c95c162425a875eb04466393387",
       "version_major": 2,
       "version_minor": 0
      },
      "text/plain": [
       "  0%|          | 0/454 [00:00<?, ?it/s]"
      ]
     },
     "metadata": {},
     "output_type": "display_data"
    },
    {
     "name": "stdout",
     "output_type": "stream",
     "text": [
      "Epoch 6 val loss: 1.6612\n",
      "Saving new best model..\n",
      "Training epoch 7...\n",
      "Current LR: 0.01\n"
     ]
    },
    {
     "data": {
      "application/vnd.jupyter.widget-view+json": {
       "model_id": "56e95ff5b5f641108c912cf221fe1d11",
       "version_major": 2,
       "version_minor": 0
      },
      "text/plain": [
       "  0%|          | 0/1121 [00:00<?, ?it/s]"
      ]
     },
     "metadata": {},
     "output_type": "display_data"
    },
    {
     "name": "stdout",
     "output_type": "stream",
     "text": [
      "Epoch 7 train loss: 1.9236\n",
      "Validating epoch 7\n"
     ]
    },
    {
     "data": {
      "application/vnd.jupyter.widget-view+json": {
       "model_id": "38411a2da0da47df86dd9bdc0e4c5963",
       "version_major": 2,
       "version_minor": 0
      },
      "text/plain": [
       "  0%|          | 0/454 [00:00<?, ?it/s]"
      ]
     },
     "metadata": {},
     "output_type": "display_data"
    },
    {
     "name": "stdout",
     "output_type": "stream",
     "text": [
      "Epoch 7 val loss: 1.6606\n",
      "Saving new best model..\n",
      "Training epoch 8...\n",
      "Current LR: 0.01\n"
     ]
    },
    {
     "data": {
      "application/vnd.jupyter.widget-view+json": {
       "model_id": "0ac85943fd5a4ac3bbef4e956c809e27",
       "version_major": 2,
       "version_minor": 0
      },
      "text/plain": [
       "  0%|          | 0/1121 [00:00<?, ?it/s]"
      ]
     },
     "metadata": {},
     "output_type": "display_data"
    },
    {
     "name": "stdout",
     "output_type": "stream",
     "text": [
      "Epoch 8 train loss: 1.9236\n",
      "Validating epoch 8\n"
     ]
    },
    {
     "data": {
      "application/vnd.jupyter.widget-view+json": {
       "model_id": "caafda9ac05248ddb240a1a834e64c77",
       "version_major": 2,
       "version_minor": 0
      },
      "text/plain": [
       "  0%|          | 0/454 [00:00<?, ?it/s]"
      ]
     },
     "metadata": {},
     "output_type": "display_data"
    },
    {
     "name": "stdout",
     "output_type": "stream",
     "text": [
      "Epoch 8 val loss: 1.6612\n",
      "Training epoch 9...\n",
      "Current LR: 0.01\n"
     ]
    },
    {
     "data": {
      "application/vnd.jupyter.widget-view+json": {
       "model_id": "e13a009bf5ad428cb68f10579904f56c",
       "version_major": 2,
       "version_minor": 0
      },
      "text/plain": [
       "  0%|          | 0/1121 [00:00<?, ?it/s]"
      ]
     },
     "metadata": {},
     "output_type": "display_data"
    },
    {
     "name": "stdout",
     "output_type": "stream",
     "text": [
      "Epoch 9 train loss: 1.9237\n",
      "Validating epoch 9\n"
     ]
    },
    {
     "data": {
      "application/vnd.jupyter.widget-view+json": {
       "model_id": "81f402d4bb484674bf6c0d96ca95f040",
       "version_major": 2,
       "version_minor": 0
      },
      "text/plain": [
       "  0%|          | 0/454 [00:00<?, ?it/s]"
      ]
     },
     "metadata": {},
     "output_type": "display_data"
    },
    {
     "name": "stdout",
     "output_type": "stream",
     "text": [
      "Epoch 9 val loss: 1.6611\n",
      "Training epoch 10...\n",
      "Current LR: 0.01\n"
     ]
    },
    {
     "data": {
      "application/vnd.jupyter.widget-view+json": {
       "model_id": "67f3a345644e47388ba16793bbcc4d47",
       "version_major": 2,
       "version_minor": 0
      },
      "text/plain": [
       "  0%|          | 0/1121 [00:00<?, ?it/s]"
      ]
     },
     "metadata": {},
     "output_type": "display_data"
    },
    {
     "name": "stdout",
     "output_type": "stream",
     "text": [
      "Epoch 10 train loss: 1.9236\n",
      "Validating epoch 10\n"
     ]
    },
    {
     "data": {
      "application/vnd.jupyter.widget-view+json": {
       "model_id": "55338b37961f4686a056b91fb4162595",
       "version_major": 2,
       "version_minor": 0
      },
      "text/plain": [
       "  0%|          | 0/454 [00:00<?, ?it/s]"
      ]
     },
     "metadata": {},
     "output_type": "display_data"
    },
    {
     "name": "stdout",
     "output_type": "stream",
     "text": [
      "Epoch 10 val loss: 1.6612\n",
      "\n"
     ]
    },
    {
     "data": {
      "text/html": [
       "Waiting for W&B process to finish... <strong style=\"color:green\">(success).</strong>"
      ],
      "text/plain": [
       "<IPython.core.display.HTML object>"
      ]
     },
     "metadata": {},
     "output_type": "display_data"
    },
    {
     "data": {
      "application/vnd.jupyter.widget-view+json": {
       "model_id": "",
       "version_major": 2,
       "version_minor": 0
      },
      "text/plain": [
       "VBox(children=(Label(value='0.001 MB of 0.001 MB uploaded (0.000 MB deduped)\\r'), FloatProgress(value=1.0, max…"
      ]
     },
     "metadata": {},
     "output_type": "display_data"
    },
    {
     "data": {
      "text/html": [
       "<style>\n",
       "    table.wandb td:nth-child(1) { padding: 0 10px; text-align: right }\n",
       "    .wandb-row { display: flex; flex-direction: row; flex-wrap: wrap; width: 100% }\n",
       "    .wandb-col { display: flex; flex-direction: column; flex-basis: 100%; flex: 1; padding: 10px; }\n",
       "    </style>\n",
       "<div class=\"wandb-row\"><div class=\"wandb-col\"><h3>Run history:</h3><br/><table class=\"wandb\"><tr><td>lr</td><td>▁▁▁▁▁▁▁▁▁▁</td></tr><tr><td>train_loss</td><td>█▁▁▁▁▁▁▁▁▁</td></tr><tr><td>val_loss</td><td>▄█▃▃▄▃▁▃▂▂</td></tr></table><br/></div><div class=\"wandb-col\"><h3>Run summary:</h3><br/><table class=\"wandb\"><tr><td>lr</td><td>0.01</td></tr><tr><td>train_loss</td><td>1.9236</td></tr><tr><td>val_loss</td><td>1.66115</td></tr></table><br/></div></div>"
      ],
      "text/plain": [
       "<IPython.core.display.HTML object>"
      ]
     },
     "metadata": {},
     "output_type": "display_data"
    },
    {
     "data": {
      "text/html": [
       "Synced <strong style=\"color:#cdcd00\">fragrant-silence-12</strong>: <a href=\"https://wandb.ai/niqulafuse/precipitation-nowcasting/runs/26oj8zbs\" target=\"_blank\">https://wandb.ai/niqulafuse/precipitation-nowcasting/runs/26oj8zbs</a><br/>Synced 6 W&B file(s), 0 media file(s), 0 artifact file(s) and 0 other file(s)"
      ],
      "text/plain": [
       "<IPython.core.display.HTML object>"
      ]
     },
     "metadata": {},
     "output_type": "display_data"
    },
    {
     "data": {
      "text/html": [
       "Find logs at: <code>.\\wandb\\run-20220312_215430-26oj8zbs\\logs</code>"
      ],
      "text/plain": [
       "<IPython.core.display.HTML object>"
      ]
     },
     "metadata": {},
     "output_type": "display_data"
    },
    {
     "name": "stdout",
     "output_type": "stream",
     "text": [
      "Finished Training\n"
     ]
    }
   ],
   "source": [
    "################################################################################\n",
    "# TODO#12:                                                                     #\n",
    "# Complete the code to train your dropout model                                #\n",
    "################################################################################\n",
    "print('start training ff dropout')\n",
    "################################################################################\n",
    "#                            WRITE YOUR CODE BELOW                             #\n",
    "################################################################################\n",
    "config_dropout = {\n",
    "    'architecture': 'feedforward_dropout',\n",
    "    'lr': 0.01,\n",
    "    'hidden_size': 200,\n",
    "    'scheduler_factor': 0.2,\n",
    "    'scheduler_patience': 2,\n",
    "    'scheduler_min_lr': 1e-4,\n",
    "    'epochs': 10\n",
    "}\n",
    "\n",
    "# Model\n",
    "model_ff_dropout = FeedForwardDropout(hidden_size=config_dropout['hidden_size'], dropout_rate=0.2)\n",
    "model_ff_dropout = model_ff_dropout.to(device)\n",
    "optimizer = torch.optim.Adam(model_ff_dropout.parameters(), lr=config_dropout['lr'])\n",
    "scheduler = torch.optim.lr_scheduler.ReduceLROnPlateau(\n",
    "    optimizer, \n",
    "    'min', \n",
    "    factor=config_dropout['scheduler_factor'], \n",
    "    patience=config_dropout['scheduler_patience'], \n",
    "    min_lr=config_dropout['scheduler_min_lr']\n",
    ")\n",
    "\n",
    "history = train(model=model_ff_dropout, optimizer=optimizer, scheduler=scheduler,\n",
    "                train_loader=train_loader, val_loader=val_loader, config=config_dropout, scheduler_input=\"loss\", wandb_save=True)"
   ]
  },
  {
   "cell_type": "markdown",
   "metadata": {
    "id": "flM71KL-q9wI"
   },
   "source": [
    "### TODO#13\n",
    "\n",
    "Plot the losses and MSE of the training and validation as before. Evaluate the dropout model's performance"
   ]
  },
  {
   "cell_type": "code",
   "execution_count": 116,
   "metadata": {
    "id": "sAIRXOxTEcox",
    "scrolled": false
   },
   "outputs": [
    {
     "data": {
      "image/png": "[encoded data removed]",
      "text/plain": [
       "<Figure size 432x288 with 1 Axes>"
      ]
     },
     "metadata": {
      "needs_background": "light"
     },
     "output_type": "display_data"
    },
    {
     "data": {
      "image/png": "[encoded data removed]",
      "text/plain": [
       "<Figure size 432x288 with 1 Axes>"
      ]
     },
     "metadata": {
      "needs_background": "light"
     },
     "output_type": "display_data"
    }
   ],
   "source": [
    "# Plot here\n",
    "plt.plot(history['train loss'])\n",
    "plt.title(\"Mean Square Error\")\n",
    "plt.xlabel(\"epochs\")\n",
    "plt.ylabel(\"train loss\")\n",
    "plt.show()\n",
    "plt.plot(history['val loss'], c='r')\n",
    "plt.title(\"Mean Square Error\")\n",
    "plt.xlabel(\"epochs\")\n",
    "plt.ylabel(\"validation loss\")\n",
    "plt.show()"
   ]
  },
  {
   "cell_type": "code",
   "execution_count": 149,
   "metadata": {},
   "outputs": [],
   "source": [
    "def get_model(model, path, config):\n",
    "    checkpoint = torch.load(path)\n",
    "    loaded_model = model(hidden_size=config['hidden_size']) # Create model object\n",
    "    loaded_model.load_state_dict(checkpoint['model']) # Load weights\n",
    "    print(f\"Loaded epoch {checkpoint['epoch']} model\")\n",
    "    loaded_model = loaded_model.to(device)\n",
    "    return loaded_model"
   ]
  },
  {
   "cell_type": "code",
   "execution_count": 98,
   "metadata": {
    "id": "JYJcKIDEon2c"
   },
   "outputs": [
    {
     "name": "stdout",
     "output_type": "stream",
     "text": [
      "FF-Dropout-model\n",
      "Loaded epoch 6 model\n",
      "train 1.9237030744552612\n",
      "validate 1.660577416419983\n"
     ]
    }
   ],
   "source": [
    "# Evaluate\n",
    "print('FF-Dropout-model')\n",
    "loaded_model = get_model(model=FeedForwardDropout, path='model_FeedForwardDropout.pth.tar', config=config_dropout)\n",
    "print('train', evaluate(train_loader, loaded_model).item())\n",
    "print('validate', evaluate(val_loader, loaded_model).item())"
   ]
  },
  {
   "cell_type": "markdown",
   "metadata": {
    "id": "nJFdUpD8FKvc"
   },
   "source": [
    "# Convolution Neural Networks\n",
    "Now let's try to incorporate the grid sturcture to your model. Instead of passing in vectors, we are going to pass in the 5x5 grid into the model (5lat x 5long x 3channel). You are going to implement you own 2d-convolution neural networks with the following structure.\n",
    "```\n",
    "==========================================================================================\n",
    "Layer (type:depth-idx)                   Output Shape              Param #\n",
    "==========================================================================================\n",
    "Conv2DNN                                 --                        --\n",
    "├─Conv2d: 1-1                            [1024, 200, 3, 3]         5,600\n",
    "├─Linear: 1-2                            [1024, 200]               360,200\n",
    "├─Linear: 1-3                            [1024, 200]               40,200\n",
    "├─Linear: 1-4                            [1024, 1]                 201\n",
    "==========================================================================================\n",
    "Total params: 406,201\n",
    "Trainable params: 406,201\n",
    "Non-trainable params: 0\n",
    "```\n",
    "These parameters are simple guidelines to save your time.    \n",
    "You can play with them in the final section which you can choose any normalization methods, activation function, as well as any hyperparameter the way you want.         \n",
    "\n",
    "Hint: You should read PyTorch documentation to see the list of available layers and options you can use.                         "
   ]
  },
  {
   "cell_type": "code",
   "execution_count": 73,
   "metadata": {
    "id": "U6vLD-bdFKvc"
   },
   "outputs": [],
   "source": [
    "################################################################################\n",
    "# TODO#14:                                                                     #\n",
    "# Complete the code for preparing data for training CNN                        #\n",
    "# Input for CNN should not have time step.                                     #\n",
    "################################################################################\n",
    "#                            WRITE YOUR CODE BELOW                             #\n",
    "################################################################################\n",
    "def CNN_preprocessing(data, label):\n",
    "    x = data.reshape((-1, 5, 5, 3))\n",
    "    y = label.reshape((-1, 1))\n",
    "    return x, y\n",
    "\n",
    "class normalizer_std_cnn():\n",
    "    def __init__(self):\n",
    "        self.scalers = {}\n",
    "    \n",
    "    def fit(self, data):\n",
    "        X = data.copy()\n",
    "        X = X.reshape((-1, 25, 3))\n",
    "        for i in range(X.shape[2]):\n",
    "            self.scalers[i] = preprocessing.StandardScaler()\n",
    "            self.scalers[i].fit(X[:,:,i])\n",
    "        return self\n",
    "    \n",
    "    def transform(self, data):\n",
    "        X = data.copy()\n",
    "        X = X.reshape((-1, 25, 3)) \n",
    "        for i in range(X.shape[2]):\n",
    "            X[:,:,i] = self.scalers[i].transform(X[:,:,i]) \n",
    "        return X.reshape((-1, 5, 5, 3))\n",
    "    \n",
    "class CNNDataset(Dataset):\n",
    "    def __init__(self, x, y):\n",
    "        self.x = x.astype(np.float32)\n",
    "        self.x = np.moveaxis(self.x, -1, 1)\n",
    "        self.y = y.astype(np.float32)\n",
    "\n",
    "    def __getitem__(self, index):\n",
    "        x = self.x[index] # Retrieve data\n",
    "        y = self.y[index]\n",
    "        return x, y\n",
    "\n",
    "    def __len__(self):\n",
    "        return self.x.shape[0]"
   ]
  },
  {
   "cell_type": "code",
   "execution_count": 181,
   "metadata": {},
   "outputs": [],
   "source": [
    "# Data preprocessing\n",
    "x_train_cnn, y_train_cnn = CNN_preprocessing(x_train, y_train)\n",
    "x_val_cnn, y_val_cnn = CNN_preprocessing(x_val, y_val)\n",
    "x_test_cnn, y_test_cnn = CNN_preprocessing(x_test, y_test)\n",
    "\n",
    "# Normalization for CNN\n",
    "CNN_norm = normalizer_std_cnn()\n",
    "CNN_norm.fit(data=x_train_cnn)\n",
    "\n",
    "x_train_cnn = CNN_norm.transform(data=x_train_cnn)\n",
    "x_val_cnn = CNN_norm.transform(data=x_val_cnn)\n",
    "x_test_cnn = CNN_norm.transform(data=x_test_cnn)\n",
    "\n",
    "# Create dataset\n",
    "train_dataset_cnn = CNNDataset(x_train_cnn, y_train_cnn)\n",
    "val_dataset_cnn = CNNDataset(x_val_cnn, y_val_cnn)\n",
    "test_dataset_cnn = CNNDataset(x_test_cnn, y_test_cnn)\n",
    "\n",
    "# Data loader\n",
    "train_loader_cnn = DataLoader(train_dataset_cnn, batch_size=1024, shuffle=True, pin_memory=True)\n",
    "val_loader_cnn = DataLoader(val_dataset_cnn, batch_size=1024, shuffle=False, pin_memory=True)\n",
    "test_loader_cnn = DataLoader(test_dataset_cnn, batch_size=1024, shuffle=False, pin_memory=True)"
   ]
  },
  {
   "cell_type": "code",
   "execution_count": 209,
   "metadata": {
    "id": "v1kmlOtfFKvg"
   },
   "outputs": [],
   "source": [
    "################################################################################\n",
    "# TODO#15:                                                                     #\n",
    "# Write a PyTorch convolutional neural network model.                          #\n",
    "# You might want to use the layer torch.flatten somewhere                      #\n",
    "################################################################################\n",
    "#                            WRITE YOUR CODE BELOW                             #\n",
    "################################################################################\n",
    "class Conv2DNN(nn.Module):\n",
    "    def __init__(self, input_channel=3, output_size=1, hidden_size=200):\n",
    "        super(Conv2DNN, self).__init__()\n",
    "        self.conv = nn.Conv2d(in_channels=input_channel, out_channels=hidden_size,\n",
    "                              kernel_size=3, stride=1, padding='valid')\n",
    "        self.fc1 = nn.Linear(3*3*hidden_size, hidden_size)\n",
    "        self.fc2 = nn.Linear(hidden_size, hidden_size)\n",
    "        self.out = nn.Linear(hidden_size, output_size)\n",
    "        self.relu = nn.ReLU()\n",
    "        \n",
    "    def forward(self, x):\n",
    "        x = self.relu(self.conv(x).flatten(start_dim=1))\n",
    "        x = self.relu(self.fc1(x))\n",
    "        x = self.relu(self.fc2(x))\n",
    "        x = self.out(x)\n",
    "        return x"
   ]
  },
  {
   "cell_type": "code",
   "execution_count": 213,
   "metadata": {
    "id": "2-bDQL3FFKvj",
    "scrolled": true
   },
   "outputs": [
    {
     "name": "stdout",
     "output_type": "stream",
     "text": [
      "start training conv2d\n",
      "Training epoch 1...\n",
      "Current LR: 0.0005\n"
     ]
    },
    {
     "data": {
      "application/vnd.jupyter.widget-view+json": {
       "model_id": "1b856ab618af461b9261219e99b762db",
       "version_major": 2,
       "version_minor": 0
      },
      "text/plain": [
       "  0%|          | 0/1121 [00:00<?, ?it/s]"
      ]
     },
     "metadata": {},
     "output_type": "display_data"
    },
    {
     "name": "stdout",
     "output_type": "stream",
     "text": [
      "Epoch 1 train loss: 1.9210\n",
      "Validating epoch 1\n"
     ]
    },
    {
     "data": {
      "application/vnd.jupyter.widget-view+json": {
       "model_id": "4b2f38dca21f4a2c83121cba0cda3418",
       "version_major": 2,
       "version_minor": 0
      },
      "text/plain": [
       "  0%|          | 0/454 [00:00<?, ?it/s]"
      ]
     },
     "metadata": {},
     "output_type": "display_data"
    },
    {
     "name": "stdout",
     "output_type": "stream",
     "text": [
      "Epoch 1 val loss: 1.6567\n",
      "Saving new best model..\n",
      "Training epoch 2...\n",
      "Current LR: 0.0005\n"
     ]
    },
    {
     "data": {
      "application/vnd.jupyter.widget-view+json": {
       "model_id": "9ac29ca914d64550ba17950be911c69c",
       "version_major": 2,
       "version_minor": 0
      },
      "text/plain": [
       "  0%|          | 0/1121 [00:00<?, ?it/s]"
      ]
     },
     "metadata": {},
     "output_type": "display_data"
    },
    {
     "name": "stdout",
     "output_type": "stream",
     "text": [
      "Epoch 2 train loss: 1.9185\n",
      "Validating epoch 2\n"
     ]
    },
    {
     "data": {
      "application/vnd.jupyter.widget-view+json": {
       "model_id": "6a865184244e40bfbf75d3e60006a350",
       "version_major": 2,
       "version_minor": 0
      },
      "text/plain": [
       "  0%|          | 0/454 [00:00<?, ?it/s]"
      ]
     },
     "metadata": {},
     "output_type": "display_data"
    },
    {
     "name": "stdout",
     "output_type": "stream",
     "text": [
      "Epoch 2 val loss: 1.6565\n",
      "Saving new best model..\n",
      "Training epoch 3...\n",
      "Current LR: 0.0005\n"
     ]
    },
    {
     "data": {
      "application/vnd.jupyter.widget-view+json": {
       "model_id": "b31eaab9b0a841479546a8d2b92a2b65",
       "version_major": 2,
       "version_minor": 0
      },
      "text/plain": [
       "  0%|          | 0/1121 [00:00<?, ?it/s]"
      ]
     },
     "metadata": {},
     "output_type": "display_data"
    },
    {
     "name": "stdout",
     "output_type": "stream",
     "text": [
      "Epoch 3 train loss: 1.9181\n",
      "Validating epoch 3\n"
     ]
    },
    {
     "data": {
      "application/vnd.jupyter.widget-view+json": {
       "model_id": "125999d827b54d64b5a7dfe74329448c",
       "version_major": 2,
       "version_minor": 0
      },
      "text/plain": [
       "  0%|          | 0/454 [00:00<?, ?it/s]"
      ]
     },
     "metadata": {},
     "output_type": "display_data"
    },
    {
     "name": "stdout",
     "output_type": "stream",
     "text": [
      "Epoch 3 val loss: 1.6565\n",
      "Saving new best model..\n",
      "Training epoch 4...\n",
      "Current LR: 0.0005\n"
     ]
    },
    {
     "data": {
      "application/vnd.jupyter.widget-view+json": {
       "model_id": "fadc10ad86274ba79acef4ad034e4667",
       "version_major": 2,
       "version_minor": 0
      },
      "text/plain": [
       "  0%|          | 0/1121 [00:00<?, ?it/s]"
      ]
     },
     "metadata": {},
     "output_type": "display_data"
    },
    {
     "name": "stdout",
     "output_type": "stream",
     "text": [
      "Epoch 4 train loss: 1.9181\n",
      "Validating epoch 4\n"
     ]
    },
    {
     "data": {
      "application/vnd.jupyter.widget-view+json": {
       "model_id": "43db59260bb74cdaa19588dc37e64481",
       "version_major": 2,
       "version_minor": 0
      },
      "text/plain": [
       "  0%|          | 0/454 [00:00<?, ?it/s]"
      ]
     },
     "metadata": {},
     "output_type": "display_data"
    },
    {
     "name": "stdout",
     "output_type": "stream",
     "text": [
      "Epoch 4 val loss: 1.6558\n",
      "Saving new best model..\n",
      "Training epoch 5...\n",
      "Current LR: 0.0005\n"
     ]
    },
    {
     "data": {
      "application/vnd.jupyter.widget-view+json": {
       "model_id": "c2e3938f0ae44d4197b5f1c7972f5620",
       "version_major": 2,
       "version_minor": 0
      },
      "text/plain": [
       "  0%|          | 0/1121 [00:00<?, ?it/s]"
      ]
     },
     "metadata": {},
     "output_type": "display_data"
    },
    {
     "name": "stdout",
     "output_type": "stream",
     "text": [
      "Epoch 5 train loss: 1.9180\n",
      "Validating epoch 5\n"
     ]
    },
    {
     "data": {
      "application/vnd.jupyter.widget-view+json": {
       "model_id": "fbcf38cd28164f26bb2264fae68f2226",
       "version_major": 2,
       "version_minor": 0
      },
      "text/plain": [
       "  0%|          | 0/454 [00:00<?, ?it/s]"
      ]
     },
     "metadata": {},
     "output_type": "display_data"
    },
    {
     "name": "stdout",
     "output_type": "stream",
     "text": [
      "Epoch 5 val loss: 1.6564\n",
      "Training epoch 6...\n",
      "Current LR: 0.0005\n"
     ]
    },
    {
     "data": {
      "application/vnd.jupyter.widget-view+json": {
       "model_id": "276d6269bac84aed8b8fa3bfc5423582",
       "version_major": 2,
       "version_minor": 0
      },
      "text/plain": [
       "  0%|          | 0/1121 [00:00<?, ?it/s]"
      ]
     },
     "metadata": {},
     "output_type": "display_data"
    },
    {
     "name": "stdout",
     "output_type": "stream",
     "text": [
      "Epoch 6 train loss: 1.9183\n",
      "Validating epoch 6\n"
     ]
    },
    {
     "data": {
      "application/vnd.jupyter.widget-view+json": {
       "model_id": "be1282c2eb74411d96eb984dca8b8625",
       "version_major": 2,
       "version_minor": 0
      },
      "text/plain": [
       "  0%|          | 0/454 [00:00<?, ?it/s]"
      ]
     },
     "metadata": {},
     "output_type": "display_data"
    },
    {
     "name": "stdout",
     "output_type": "stream",
     "text": [
      "Epoch 6 val loss: 1.6562\n",
      "Training epoch 7...\n",
      "Current LR: 0.0005\n"
     ]
    },
    {
     "data": {
      "application/vnd.jupyter.widget-view+json": {
       "model_id": "0f761349863d4228893010b692e0f08a",
       "version_major": 2,
       "version_minor": 0
      },
      "text/plain": [
       "  0%|          | 0/1121 [00:00<?, ?it/s]"
      ]
     },
     "metadata": {},
     "output_type": "display_data"
    },
    {
     "name": "stdout",
     "output_type": "stream",
     "text": [
      "Epoch 7 train loss: 1.9179\n",
      "Validating epoch 7\n"
     ]
    },
    {
     "data": {
      "application/vnd.jupyter.widget-view+json": {
       "model_id": "9eb64b6ba34742f99e72f48bb6cae746",
       "version_major": 2,
       "version_minor": 0
      },
      "text/plain": [
       "  0%|          | 0/454 [00:00<?, ?it/s]"
      ]
     },
     "metadata": {},
     "output_type": "display_data"
    },
    {
     "name": "stdout",
     "output_type": "stream",
     "text": [
      "Epoch 7 val loss: 1.6558\n",
      "Training epoch 8...\n",
      "Current LR: 0.0001\n"
     ]
    },
    {
     "data": {
      "application/vnd.jupyter.widget-view+json": {
       "model_id": "a391bc74ebdb46aab64689864439bcae",
       "version_major": 2,
       "version_minor": 0
      },
      "text/plain": [
       "  0%|          | 0/1121 [00:00<?, ?it/s]"
      ]
     },
     "metadata": {},
     "output_type": "display_data"
    },
    {
     "name": "stdout",
     "output_type": "stream",
     "text": [
      "Epoch 8 train loss: 1.9182\n",
      "Validating epoch 8\n"
     ]
    },
    {
     "data": {
      "application/vnd.jupyter.widget-view+json": {
       "model_id": "4a059efa559f480591db238d71b82079",
       "version_major": 2,
       "version_minor": 0
      },
      "text/plain": [
       "  0%|          | 0/454 [00:00<?, ?it/s]"
      ]
     },
     "metadata": {},
     "output_type": "display_data"
    },
    {
     "name": "stdout",
     "output_type": "stream",
     "text": [
      "Epoch 8 val loss: 1.6562\n",
      "Training epoch 9...\n",
      "Current LR: 0.0001\n"
     ]
    },
    {
     "data": {
      "application/vnd.jupyter.widget-view+json": {
       "model_id": "f310dd4d074a43209ba581dbb1b4c1a0",
       "version_major": 2,
       "version_minor": 0
      },
      "text/plain": [
       "  0%|          | 0/1121 [00:00<?, ?it/s]"
      ]
     },
     "metadata": {},
     "output_type": "display_data"
    },
    {
     "name": "stdout",
     "output_type": "stream",
     "text": [
      "Epoch 9 train loss: 1.9179\n",
      "Validating epoch 9\n"
     ]
    },
    {
     "data": {
      "application/vnd.jupyter.widget-view+json": {
       "model_id": "8233c1cabece4e3d926af0b068720a9a",
       "version_major": 2,
       "version_minor": 0
      },
      "text/plain": [
       "  0%|          | 0/454 [00:00<?, ?it/s]"
      ]
     },
     "metadata": {},
     "output_type": "display_data"
    },
    {
     "name": "stdout",
     "output_type": "stream",
     "text": [
      "Epoch 9 val loss: 1.6560\n",
      "Training epoch 10...\n",
      "Current LR: 0.0001\n"
     ]
    },
    {
     "data": {
      "application/vnd.jupyter.widget-view+json": {
       "model_id": "ae549045700c4a728e7c2706c8a66bed",
       "version_major": 2,
       "version_minor": 0
      },
      "text/plain": [
       "  0%|          | 0/1121 [00:00<?, ?it/s]"
      ]
     },
     "metadata": {},
     "output_type": "display_data"
    },
    {
     "name": "stdout",
     "output_type": "stream",
     "text": [
      "Epoch 10 train loss: 1.9180\n",
      "Validating epoch 10\n"
     ]
    },
    {
     "data": {
      "application/vnd.jupyter.widget-view+json": {
       "model_id": "4597dc38e706438f94f442ea491b27be",
       "version_major": 2,
       "version_minor": 0
      },
      "text/plain": [
       "  0%|          | 0/454 [00:00<?, ?it/s]"
      ]
     },
     "metadata": {},
     "output_type": "display_data"
    },
    {
     "name": "stdout",
     "output_type": "stream",
     "text": [
      "Epoch 10 val loss: 1.6558\n",
      "Training epoch 11...\n",
      "Current LR: 0.0001\n"
     ]
    },
    {
     "data": {
      "application/vnd.jupyter.widget-view+json": {
       "model_id": "8e5105427b164c5a932448b9f5ec8b36",
       "version_major": 2,
       "version_minor": 0
      },
      "text/plain": [
       "  0%|          | 0/1121 [00:00<?, ?it/s]"
      ]
     },
     "metadata": {},
     "output_type": "display_data"
    },
    {
     "name": "stdout",
     "output_type": "stream",
     "text": [
      "Epoch 11 train loss: 1.9179\n",
      "Validating epoch 11\n"
     ]
    },
    {
     "data": {
      "application/vnd.jupyter.widget-view+json": {
       "model_id": "9dfd12ac3ce34450b3c39b24dea55930",
       "version_major": 2,
       "version_minor": 0
      },
      "text/plain": [
       "  0%|          | 0/454 [00:00<?, ?it/s]"
      ]
     },
     "metadata": {},
     "output_type": "display_data"
    },
    {
     "name": "stdout",
     "output_type": "stream",
     "text": [
      "Epoch 11 val loss: 1.6562\n",
      "Training epoch 12...\n",
      "Current LR: 0.0001\n"
     ]
    },
    {
     "data": {
      "application/vnd.jupyter.widget-view+json": {
       "model_id": "79e6138fefa949ad82b732c23d3925ed",
       "version_major": 2,
       "version_minor": 0
      },
      "text/plain": [
       "  0%|          | 0/1121 [00:00<?, ?it/s]"
      ]
     },
     "metadata": {},
     "output_type": "display_data"
    },
    {
     "name": "stdout",
     "output_type": "stream",
     "text": [
      "Epoch 12 train loss: 1.9177\n",
      "Validating epoch 12\n"
     ]
    },
    {
     "data": {
      "application/vnd.jupyter.widget-view+json": {
       "model_id": "5ed665dbe88f43b6bdeee82a22d6de50",
       "version_major": 2,
       "version_minor": 0
      },
      "text/plain": [
       "  0%|          | 0/454 [00:00<?, ?it/s]"
      ]
     },
     "metadata": {},
     "output_type": "display_data"
    },
    {
     "name": "stdout",
     "output_type": "stream",
     "text": [
      "Epoch 12 val loss: 1.6562\n",
      "Training epoch 13...\n",
      "Current LR: 0.0001\n"
     ]
    },
    {
     "data": {
      "application/vnd.jupyter.widget-view+json": {
       "model_id": "53662059c43a4ae687ca3b1a0cb6a3cf",
       "version_major": 2,
       "version_minor": 0
      },
      "text/plain": [
       "  0%|          | 0/1121 [00:00<?, ?it/s]"
      ]
     },
     "metadata": {},
     "output_type": "display_data"
    },
    {
     "name": "stdout",
     "output_type": "stream",
     "text": [
      "Epoch 13 train loss: 1.9179\n",
      "Validating epoch 13\n"
     ]
    },
    {
     "data": {
      "application/vnd.jupyter.widget-view+json": {
       "model_id": "2e00ad20c52843fc958a2761dee96523",
       "version_major": 2,
       "version_minor": 0
      },
      "text/plain": [
       "  0%|          | 0/454 [00:00<?, ?it/s]"
      ]
     },
     "metadata": {},
     "output_type": "display_data"
    },
    {
     "name": "stdout",
     "output_type": "stream",
     "text": [
      "Epoch 13 val loss: 1.6564\n",
      "Training epoch 14...\n",
      "Current LR: 0.0001\n"
     ]
    },
    {
     "data": {
      "application/vnd.jupyter.widget-view+json": {
       "model_id": "fd7a089573e941cd9133bef80fec1b30",
       "version_major": 2,
       "version_minor": 0
      },
      "text/plain": [
       "  0%|          | 0/1121 [00:00<?, ?it/s]"
      ]
     },
     "metadata": {},
     "output_type": "display_data"
    },
    {
     "name": "stdout",
     "output_type": "stream",
     "text": [
      "Epoch 14 train loss: 1.9179\n",
      "Validating epoch 14\n"
     ]
    },
    {
     "data": {
      "application/vnd.jupyter.widget-view+json": {
       "model_id": "1a000dcd05954f408924e44afc69ed49",
       "version_major": 2,
       "version_minor": 0
      },
      "text/plain": [
       "  0%|          | 0/454 [00:00<?, ?it/s]"
      ]
     },
     "metadata": {},
     "output_type": "display_data"
    },
    {
     "name": "stdout",
     "output_type": "stream",
     "text": [
      "Epoch 14 val loss: 1.6560\n",
      "Training epoch 15...\n",
      "Current LR: 0.0001\n"
     ]
    },
    {
     "data": {
      "application/vnd.jupyter.widget-view+json": {
       "model_id": "e222df3eefbe4425b139cff34545d3d2",
       "version_major": 2,
       "version_minor": 0
      },
      "text/plain": [
       "  0%|          | 0/1121 [00:00<?, ?it/s]"
      ]
     },
     "metadata": {},
     "output_type": "display_data"
    },
    {
     "name": "stdout",
     "output_type": "stream",
     "text": [
      "Epoch 15 train loss: 1.9181\n",
      "Validating epoch 15\n"
     ]
    },
    {
     "data": {
      "application/vnd.jupyter.widget-view+json": {
       "model_id": "6d2875eb841443e8bf998e7938792187",
       "version_major": 2,
       "version_minor": 0
      },
      "text/plain": [
       "  0%|          | 0/454 [00:00<?, ?it/s]"
      ]
     },
     "metadata": {},
     "output_type": "display_data"
    },
    {
     "name": "stdout",
     "output_type": "stream",
     "text": [
      "Epoch 15 val loss: 1.6562\n",
      "Training epoch 16...\n",
      "Current LR: 0.0001\n"
     ]
    },
    {
     "data": {
      "application/vnd.jupyter.widget-view+json": {
       "model_id": "621c471be39f4524a738db5b1101444c",
       "version_major": 2,
       "version_minor": 0
      },
      "text/plain": [
       "  0%|          | 0/1121 [00:00<?, ?it/s]"
      ]
     },
     "metadata": {},
     "output_type": "display_data"
    },
    {
     "name": "stdout",
     "output_type": "stream",
     "text": [
      "Epoch 16 train loss: 1.9177\n",
      "Validating epoch 16\n"
     ]
    },
    {
     "data": {
      "application/vnd.jupyter.widget-view+json": {
       "model_id": "9cb409e0bf9c459aa886740beb0b0cd4",
       "version_major": 2,
       "version_minor": 0
      },
      "text/plain": [
       "  0%|          | 0/454 [00:00<?, ?it/s]"
      ]
     },
     "metadata": {},
     "output_type": "display_data"
    },
    {
     "name": "stdout",
     "output_type": "stream",
     "text": [
      "Epoch 16 val loss: 1.6561\n",
      "Training epoch 17...\n",
      "Current LR: 0.0001\n"
     ]
    },
    {
     "data": {
      "application/vnd.jupyter.widget-view+json": {
       "model_id": "76447e927d194d498cafe38d722fc7db",
       "version_major": 2,
       "version_minor": 0
      },
      "text/plain": [
       "  0%|          | 0/1121 [00:00<?, ?it/s]"
      ]
     },
     "metadata": {},
     "output_type": "display_data"
    },
    {
     "name": "stdout",
     "output_type": "stream",
     "text": [
      "Epoch 17 train loss: 1.9179\n",
      "Validating epoch 17\n"
     ]
    },
    {
     "data": {
      "application/vnd.jupyter.widget-view+json": {
       "model_id": "3d5d4576c5be4d45af8c9a2c9f684aa2",
       "version_major": 2,
       "version_minor": 0
      },
      "text/plain": [
       "  0%|          | 0/454 [00:00<?, ?it/s]"
      ]
     },
     "metadata": {},
     "output_type": "display_data"
    },
    {
     "name": "stdout",
     "output_type": "stream",
     "text": [
      "Epoch 17 val loss: 1.6560\n",
      "Training epoch 18...\n",
      "Current LR: 0.0001\n"
     ]
    },
    {
     "data": {
      "application/vnd.jupyter.widget-view+json": {
       "model_id": "07480459aebe48c2bad24c740e2e9183",
       "version_major": 2,
       "version_minor": 0
      },
      "text/plain": [
       "  0%|          | 0/1121 [00:00<?, ?it/s]"
      ]
     },
     "metadata": {},
     "output_type": "display_data"
    },
    {
     "name": "stdout",
     "output_type": "stream",
     "text": [
      "Epoch 18 train loss: 1.9179\n",
      "Validating epoch 18\n"
     ]
    },
    {
     "data": {
      "application/vnd.jupyter.widget-view+json": {
       "model_id": "7ba8666dd6ed41db9046e29df451f4fa",
       "version_major": 2,
       "version_minor": 0
      },
      "text/plain": [
       "  0%|          | 0/454 [00:00<?, ?it/s]"
      ]
     },
     "metadata": {},
     "output_type": "display_data"
    },
    {
     "name": "stdout",
     "output_type": "stream",
     "text": [
      "Epoch 18 val loss: 1.6562\n",
      "Training epoch 19...\n",
      "Current LR: 0.0001\n"
     ]
    },
    {
     "data": {
      "application/vnd.jupyter.widget-view+json": {
       "model_id": "a036f5d9658d44de9420034b1e850cb8",
       "version_major": 2,
       "version_minor": 0
      },
      "text/plain": [
       "  0%|          | 0/1121 [00:00<?, ?it/s]"
      ]
     },
     "metadata": {},
     "output_type": "display_data"
    },
    {
     "name": "stdout",
     "output_type": "stream",
     "text": [
      "Epoch 19 train loss: 1.9179\n",
      "Validating epoch 19\n"
     ]
    },
    {
     "data": {
      "application/vnd.jupyter.widget-view+json": {
       "model_id": "a0e6833fa393437397fc7ba6d25c0ead",
       "version_major": 2,
       "version_minor": 0
      },
      "text/plain": [
       "  0%|          | 0/454 [00:00<?, ?it/s]"
      ]
     },
     "metadata": {},
     "output_type": "display_data"
    },
    {
     "name": "stdout",
     "output_type": "stream",
     "text": [
      "Epoch 19 val loss: 1.6562\n",
      "Training epoch 20...\n",
      "Current LR: 0.0001\n"
     ]
    },
    {
     "data": {
      "application/vnd.jupyter.widget-view+json": {
       "model_id": "644225b424d141bcaf2adfb28e025166",
       "version_major": 2,
       "version_minor": 0
      },
      "text/plain": [
       "  0%|          | 0/1121 [00:00<?, ?it/s]"
      ]
     },
     "metadata": {},
     "output_type": "display_data"
    },
    {
     "name": "stdout",
     "output_type": "stream",
     "text": [
      "Epoch 20 train loss: 1.9176\n",
      "Validating epoch 20\n"
     ]
    },
    {
     "data": {
      "application/vnd.jupyter.widget-view+json": {
       "model_id": "615a8f414a0a4f50b9736a0218fef190",
       "version_major": 2,
       "version_minor": 0
      },
      "text/plain": [
       "  0%|          | 0/454 [00:00<?, ?it/s]"
      ]
     },
     "metadata": {},
     "output_type": "display_data"
    },
    {
     "name": "stdout",
     "output_type": "stream",
     "text": [
      "Epoch 20 val loss: 1.6562\n",
      "Finished Training\n"
     ]
    }
   ],
   "source": [
    "################################################################################\n",
    "# TODO#16:                                                                     #\n",
    "# Complete the code to train your cnn model                                    #\n",
    "################################################################################\n",
    "print('start training conv2d')\n",
    "################################################################################\n",
    "#                            WRITE YOUR CODE BELOW                             #\n",
    "################################################################################\n",
    "config_cnn = {\n",
    "    'architecture': 'CNN',\n",
    "    'lr': 0.0005,\n",
    "    'hidden_size': 200,\n",
    "    'scheduler_factor': 0.2,\n",
    "    'scheduler_patience': 2,\n",
    "    'scheduler_min_lr': 1e-4,\n",
    "    'epochs': 20\n",
    "}\n",
    "\n",
    "# Model\n",
    "torch.manual_seed(121)\n",
    "model_cnn = Conv2DNN(hidden_size=config_cnn['hidden_size'])\n",
    "model_cnn = model_cnn.to(device)\n",
    "optimizer = torch.optim.Adam(model_cnn.parameters(), lr=config_cnn['lr'])\n",
    "scheduler = torch.optim.lr_scheduler.ReduceLROnPlateau(\n",
    "    optimizer, \n",
    "    'min', \n",
    "    factor=config_cnn['scheduler_factor'], \n",
    "    patience=config_cnn['scheduler_patience'], \n",
    "    min_lr=config_cnn['scheduler_min_lr']\n",
    ")\n",
    "\n",
    "history = train(model=model_cnn, optimizer=optimizer, scheduler=scheduler,\n",
    "                train_loader=train_loader_cnn, val_loader=val_loader_cnn, config=config_cnn, scheduler_input=\"loss\", wandb_save=False)"
   ]
  },
  {
   "cell_type": "code",
   "execution_count": 164,
   "metadata": {
    "id": "6FcmyjxLPrxG"
   },
   "outputs": [
    {
     "data": {
      "image/png": "[encoded data removed]",
      "text/plain": [
       "<Figure size 432x288 with 1 Axes>"
      ]
     },
     "metadata": {
      "needs_background": "light"
     },
     "output_type": "display_data"
    },
    {
     "data": {
      "image/png": "[encoded data removed]",
      "text/plain": [
       "<Figure size 432x288 with 1 Axes>"
      ]
     },
     "metadata": {
      "needs_background": "light"
     },
     "output_type": "display_data"
    }
   ],
   "source": [
    "# Plot here\n",
    "plt.plot(history['train loss'])\n",
    "plt.title(\"Mean Square Error\")\n",
    "plt.xlabel(\"epochs\")\n",
    "plt.ylabel(\"train loss\")\n",
    "plt.show()\n",
    "plt.plot(history['val loss'], c='r')\n",
    "plt.title(\"Mean Square Error\")\n",
    "plt.xlabel(\"epochs\")\n",
    "plt.ylabel(\"validation loss\")\n",
    "plt.show()"
   ]
  },
  {
   "cell_type": "code",
   "execution_count": 215,
   "metadata": {
    "id": "jOGI2ll7xMU5"
   },
   "outputs": [
    {
     "name": "stdout",
     "output_type": "stream",
     "text": [
      "CNN-model\n",
      "Loaded epoch 3 model\n",
      "train 1.9184238910675049\n",
      "validate 1.655809760093689\n"
     ]
    }
   ],
   "source": [
    "# Evaluate\n",
    "print('CNN-model')\n",
    "loaded_model = get_model(model=Conv2DNN, path='model_Conv2DNN.pth.tar', config=config_cnn)\n",
    "print('train', evaluate(train_loader_cnn, loaded_model).item())\n",
    "print('validate', evaluate(val_loader_cnn, loaded_model).item())"
   ]
  },
  {
   "cell_type": "markdown",
   "metadata": {
    "id": "WEARLiH0FKvo"
   },
   "source": [
    "# Gated Recurrent Units\n",
    "\n",
    "Now, you want to add time steps into your model. Recall the original data has 5 time steps per item. You are going to pass in a data of the form 5 timesteps x 75data. This can be done using a GRU layer. Implement you own GRU network with the following structure.\n",
    "```\n",
    "==========================================================================================\n",
    "Layer (type:depth-idx)                   Output Shape              Param #\n",
    "==========================================================================================\n",
    "GRUModel                                 --                        --\n",
    "├─GRU: 1-1                               [1024, 5, 200]            166,200\n",
    "├─Linear: 1-2                            [1024, 5, 200]            40,200\n",
    "├─Linear: 1-3                            [1024, 5, 1]              201\n",
    "==========================================================================================\n",
    "Total params: 206,601\n",
    "Trainable params: 206,601\n",
    "Non-trainable params: 0\n",
    "```\n",
    "\n",
    "\n",
    "These parameters are simple guidelines to save your time.    \n",
    "You can play with them in the final section which you can choose any normalization methods, activation function, as well as any hyperparameter the way you want.         \n",
    "The result should be better than the feedforward model and at least on par with your CNN model.    \n",
    "\n",
    "Do consult PyTorch documentation on how to use [GRUs](https://pytorch.org/docs/stable/generated/torch.nn.GRU.html).\n"
   ]
  },
  {
   "cell_type": "code",
   "execution_count": 104,
   "metadata": {
    "id": "q53iJttkFKvo"
   },
   "outputs": [],
   "source": [
    "################################################################################\n",
    "# TODO#17:                                                                     #\n",
    "# Complete the code for preparing data for training GRU                        #\n",
    "# GRU's input should has 3 dimensions.                                         #\n",
    "# The dimensions should compose of entries, time-step, and features.           #\n",
    "################################################################################\n",
    "#                            WRITE YOUR CODE BELOW                             #\n",
    "################################################################################\n",
    "def GRU_preprocessing(data, label):\n",
    "    x = data.reshape((-1, 5, 75))\n",
    "    y = label.reshape((-1, 5))\n",
    "    return x, y\n",
    "\n",
    "class normalizer_std_gru():\n",
    "    def __init__(self):\n",
    "        self.scalers = preprocessing.StandardScaler()\n",
    "    \n",
    "    def fit(self, data):\n",
    "        X = data.copy()\n",
    "        X = X.reshape((-1, 75))\n",
    "        self.scalers.fit(X)\n",
    "        return self\n",
    "    \n",
    "    def transform(self, data):\n",
    "        X = data.copy()\n",
    "        X = X.reshape((-1, 75))\n",
    "        X = self.scalers.transform(X) \n",
    "        return X.reshape(-1, 5, 75)\n",
    "    \n",
    "class GRUDataset(Dataset):\n",
    "    def __init__(self, x, y):\n",
    "        self.x = x.astype(np.float32)\n",
    "        self.y = y.astype(np.float32)\n",
    "        \n",
    "    def __getitem__(self, index):\n",
    "        x = self.x[index] # Retrieve data\n",
    "        y = self.y[index]\n",
    "        return x, y\n",
    "\n",
    "    def __len__(self):\n",
    "        return self.x.shape[0]"
   ]
  },
  {
   "cell_type": "code",
   "execution_count": 113,
   "metadata": {},
   "outputs": [],
   "source": [
    "# Data preprocessing\n",
    "x_train_gru, y_train_gru = GRU_preprocessing(x_train, y_train)\n",
    "x_val_gru, y_val_gru = GRU_preprocessing(x_val, y_val)\n",
    "x_test_gru, y_test_gru = GRU_preprocessing(x_test, y_test)\n",
    "\n",
    "# Normalization for GRU\n",
    "GRU_norm = normalizer_std_gru()\n",
    "GRU_norm.fit(data=x_train_gru)\n",
    "\n",
    "x_train_gru = GRU_norm.transform(data=x_train_gru)\n",
    "x_val_gru = GRU_norm.transform(data=x_val_gru)\n",
    "x_test_gru = GRU_norm.transform(data=x_test_gru)\n",
    "\n",
    "# Create dataset\n",
    "train_dataset_gru = GRUDataset(x_train_gru, y_train_gru)\n",
    "val_dataset_gru = GRUDataset(x_val_gru, y_val_gru)\n",
    "test_dataset_gru = GRUDataset(x_test_gru, y_test_gru)\n",
    "\n",
    "# Data loader\n",
    "train_loader_gru = DataLoader(train_dataset_gru, batch_size=1024, shuffle=True, pin_memory=True)\n",
    "val_loader_gru = DataLoader(val_dataset_gru, batch_size=1024, shuffle=False, pin_memory=True)\n",
    "test_loader_gru = DataLoader(test_dataset_gru, batch_size=1024, shuffle=False, pin_memory=True)"
   ]
  },
  {
   "cell_type": "code",
   "execution_count": 114,
   "metadata": {
    "id": "Dk6hF98mFKvq"
   },
   "outputs": [],
   "source": [
    "################################################################################\n",
    "# TODO#18                                                                      #\n",
    "# Write a PyTorch GRU model.                                                   #\n",
    "# Your goal is to predict a precipitation of every time step.                  #\n",
    "#                                                                              #\n",
    "# Hint: You should read PyTorch documentation to see the list of available     #\n",
    "# layers and options you can use.                                              #\n",
    "################################################################################\n",
    "#                            WRITE YOUR CODE BELOW                             #\n",
    "################################################################################\n",
    "class GRUModel(nn.Module):\n",
    "    def __init__(self, input_size=75, output_size=1, hidden_size=200):\n",
    "        super(GRUModel, self).__init__()\n",
    "        self.gru = nn.GRU(input_size, hidden_size, num_layers=1, batch_first=True)\n",
    "        self.fc1 = nn.Linear(hidden_size, hidden_size)\n",
    "        self.out = nn.Linear(hidden_size, output_size)\n",
    "        self.relu = nn.ReLU()\n",
    "        \n",
    "    def forward(self, x):\n",
    "        x, h = self.gru(x)\n",
    "        x = self.relu(x)\n",
    "        x = self.fc1(x)\n",
    "        x = self.relu(x)\n",
    "        x = self.out(x)\n",
    "        return np.squeeze(x)"
   ]
  },
  {
   "cell_type": "code",
   "execution_count": 116,
   "metadata": {
    "id": "f02waLbMFKvx",
    "scrolled": true
   },
   "outputs": [
    {
     "name": "stdout",
     "output_type": "stream",
     "text": [
      "start training gru\n",
      "Training epoch 1...\n",
      "Current LR: 0.01\n"
     ]
    },
    {
     "data": {
      "application/vnd.jupyter.widget-view+json": {
       "model_id": "ff48f10389d94e84bafa4910aa751e21",
       "version_major": 2,
       "version_minor": 0
      },
      "text/plain": [
       "  0%|          | 0/225 [00:00<?, ?it/s]"
      ]
     },
     "metadata": {},
     "output_type": "display_data"
    },
    {
     "name": "stdout",
     "output_type": "stream",
     "text": [
      "Epoch 1 train loss: 1.9251\n",
      "Validating epoch 1\n"
     ]
    },
    {
     "data": {
      "application/vnd.jupyter.widget-view+json": {
       "model_id": "bae1a537d8ed4a56b739d7422fffbce5",
       "version_major": 2,
       "version_minor": 0
      },
      "text/plain": [
       "  0%|          | 0/91 [00:00<?, ?it/s]"
      ]
     },
     "metadata": {},
     "output_type": "display_data"
    },
    {
     "name": "stdout",
     "output_type": "stream",
     "text": [
      "Epoch 1 val loss: 1.6751\n",
      "Saving new best model..\n",
      "Training epoch 2...\n",
      "Current LR: 0.01\n"
     ]
    },
    {
     "data": {
      "application/vnd.jupyter.widget-view+json": {
       "model_id": "a39896d4646a4c90bbe28d838ffa31fb",
       "version_major": 2,
       "version_minor": 0
      },
      "text/plain": [
       "  0%|          | 0/225 [00:00<?, ?it/s]"
      ]
     },
     "metadata": {},
     "output_type": "display_data"
    },
    {
     "name": "stdout",
     "output_type": "stream",
     "text": [
      "Epoch 2 train loss: 1.9149\n",
      "Validating epoch 2\n"
     ]
    },
    {
     "data": {
      "application/vnd.jupyter.widget-view+json": {
       "model_id": "fc755486b9c4410e8bc46f1d4af1b60b",
       "version_major": 2,
       "version_minor": 0
      },
      "text/plain": [
       "  0%|          | 0/91 [00:00<?, ?it/s]"
      ]
     },
     "metadata": {},
     "output_type": "display_data"
    },
    {
     "name": "stdout",
     "output_type": "stream",
     "text": [
      "Epoch 2 val loss: 1.6710\n",
      "Saving new best model..\n",
      "Training epoch 3...\n",
      "Current LR: 0.01\n"
     ]
    },
    {
     "data": {
      "application/vnd.jupyter.widget-view+json": {
       "model_id": "428d222ac4084624b21d6262759746a0",
       "version_major": 2,
       "version_minor": 0
      },
      "text/plain": [
       "  0%|          | 0/225 [00:00<?, ?it/s]"
      ]
     },
     "metadata": {},
     "output_type": "display_data"
    },
    {
     "name": "stdout",
     "output_type": "stream",
     "text": [
      "Epoch 3 train loss: 1.9095\n",
      "Validating epoch 3\n"
     ]
    },
    {
     "data": {
      "application/vnd.jupyter.widget-view+json": {
       "model_id": "760191c45b424ad68ecb1865d1ee7a73",
       "version_major": 2,
       "version_minor": 0
      },
      "text/plain": [
       "  0%|          | 0/91 [00:00<?, ?it/s]"
      ]
     },
     "metadata": {},
     "output_type": "display_data"
    },
    {
     "name": "stdout",
     "output_type": "stream",
     "text": [
      "Epoch 3 val loss: 1.6688\n",
      "Saving new best model..\n",
      "Training epoch 4...\n",
      "Current LR: 0.01\n"
     ]
    },
    {
     "data": {
      "application/vnd.jupyter.widget-view+json": {
       "model_id": "0af8482f8ec84f849957ce2c83281a86",
       "version_major": 2,
       "version_minor": 0
      },
      "text/plain": [
       "  0%|          | 0/225 [00:00<?, ?it/s]"
      ]
     },
     "metadata": {},
     "output_type": "display_data"
    },
    {
     "name": "stdout",
     "output_type": "stream",
     "text": [
      "Epoch 4 train loss: 1.9090\n",
      "Validating epoch 4\n"
     ]
    },
    {
     "data": {
      "application/vnd.jupyter.widget-view+json": {
       "model_id": "fe84ce0d63454158a0e4f3b8af9d8462",
       "version_major": 2,
       "version_minor": 0
      },
      "text/plain": [
       "  0%|          | 0/91 [00:00<?, ?it/s]"
      ]
     },
     "metadata": {},
     "output_type": "display_data"
    },
    {
     "name": "stdout",
     "output_type": "stream",
     "text": [
      "Epoch 4 val loss: 1.6687\n",
      "Saving new best model..\n",
      "Training epoch 5...\n",
      "Current LR: 0.01\n"
     ]
    },
    {
     "data": {
      "application/vnd.jupyter.widget-view+json": {
       "model_id": "344b64a853364788a033561c73304648",
       "version_major": 2,
       "version_minor": 0
      },
      "text/plain": [
       "  0%|          | 0/225 [00:00<?, ?it/s]"
      ]
     },
     "metadata": {},
     "output_type": "display_data"
    },
    {
     "name": "stdout",
     "output_type": "stream",
     "text": [
      "Epoch 5 train loss: 1.9087\n",
      "Validating epoch 5\n"
     ]
    },
    {
     "data": {
      "application/vnd.jupyter.widget-view+json": {
       "model_id": "b3cc0ee8316148a4837de5a9d49166c8",
       "version_major": 2,
       "version_minor": 0
      },
      "text/plain": [
       "  0%|          | 0/91 [00:00<?, ?it/s]"
      ]
     },
     "metadata": {},
     "output_type": "display_data"
    },
    {
     "name": "stdout",
     "output_type": "stream",
     "text": [
      "Epoch 5 val loss: 1.6699\n",
      "Training epoch 6...\n",
      "Current LR: 0.01\n"
     ]
    },
    {
     "data": {
      "application/vnd.jupyter.widget-view+json": {
       "model_id": "ca007012d19e4dafafca6d72b20b2e9a",
       "version_major": 2,
       "version_minor": 0
      },
      "text/plain": [
       "  0%|          | 0/225 [00:00<?, ?it/s]"
      ]
     },
     "metadata": {},
     "output_type": "display_data"
    },
    {
     "name": "stdout",
     "output_type": "stream",
     "text": [
      "Epoch 6 train loss: 1.9098\n",
      "Validating epoch 6\n"
     ]
    },
    {
     "data": {
      "application/vnd.jupyter.widget-view+json": {
       "model_id": "32f719eeef84408e99a8763569ae3565",
       "version_major": 2,
       "version_minor": 0
      },
      "text/plain": [
       "  0%|          | 0/91 [00:00<?, ?it/s]"
      ]
     },
     "metadata": {},
     "output_type": "display_data"
    },
    {
     "name": "stdout",
     "output_type": "stream",
     "text": [
      "Epoch 6 val loss: 1.6751\n",
      "Training epoch 7...\n",
      "Current LR: 0.002\n"
     ]
    },
    {
     "data": {
      "application/vnd.jupyter.widget-view+json": {
       "model_id": "4d2930183a7f4c99a1497d564ed469c4",
       "version_major": 2,
       "version_minor": 0
      },
      "text/plain": [
       "  0%|          | 0/225 [00:00<?, ?it/s]"
      ]
     },
     "metadata": {},
     "output_type": "display_data"
    },
    {
     "name": "stdout",
     "output_type": "stream",
     "text": [
      "Epoch 7 train loss: 1.9132\n",
      "Validating epoch 7\n"
     ]
    },
    {
     "data": {
      "application/vnd.jupyter.widget-view+json": {
       "model_id": "1928cdf9a4084502a8ef6487242c932f",
       "version_major": 2,
       "version_minor": 0
      },
      "text/plain": [
       "  0%|          | 0/91 [00:00<?, ?it/s]"
      ]
     },
     "metadata": {},
     "output_type": "display_data"
    },
    {
     "name": "stdout",
     "output_type": "stream",
     "text": [
      "Epoch 7 val loss: 1.6724\n",
      "Training epoch 8...\n",
      "Current LR: 0.002\n"
     ]
    },
    {
     "data": {
      "application/vnd.jupyter.widget-view+json": {
       "model_id": "00dca6a8e8884b1d9ec5cc03bbc201b4",
       "version_major": 2,
       "version_minor": 0
      },
      "text/plain": [
       "  0%|          | 0/225 [00:00<?, ?it/s]"
      ]
     },
     "metadata": {},
     "output_type": "display_data"
    },
    {
     "name": "stdout",
     "output_type": "stream",
     "text": [
      "Epoch 8 train loss: 1.9113\n",
      "Validating epoch 8\n"
     ]
    },
    {
     "data": {
      "application/vnd.jupyter.widget-view+json": {
       "model_id": "effa5517e0744328ba096fa9623a7a27",
       "version_major": 2,
       "version_minor": 0
      },
      "text/plain": [
       "  0%|          | 0/91 [00:00<?, ?it/s]"
      ]
     },
     "metadata": {},
     "output_type": "display_data"
    },
    {
     "name": "stdout",
     "output_type": "stream",
     "text": [
      "Epoch 8 val loss: 1.6691\n",
      "Training epoch 9...\n",
      "Current LR: 0.002\n"
     ]
    },
    {
     "data": {
      "application/vnd.jupyter.widget-view+json": {
       "model_id": "b077ddfdf19943c5a1092003c57f32dc",
       "version_major": 2,
       "version_minor": 0
      },
      "text/plain": [
       "  0%|          | 0/225 [00:00<?, ?it/s]"
      ]
     },
     "metadata": {},
     "output_type": "display_data"
    },
    {
     "name": "stdout",
     "output_type": "stream",
     "text": [
      "Epoch 9 train loss: 1.9146\n",
      "Validating epoch 9\n"
     ]
    },
    {
     "data": {
      "application/vnd.jupyter.widget-view+json": {
       "model_id": "46c303a636d04b33aa316494187e105c",
       "version_major": 2,
       "version_minor": 0
      },
      "text/plain": [
       "  0%|          | 0/91 [00:00<?, ?it/s]"
      ]
     },
     "metadata": {},
     "output_type": "display_data"
    },
    {
     "name": "stdout",
     "output_type": "stream",
     "text": [
      "Epoch 9 val loss: 1.6693\n",
      "Training epoch 10...\n",
      "Current LR: 0.0004\n"
     ]
    },
    {
     "data": {
      "application/vnd.jupyter.widget-view+json": {
       "model_id": "a93df6f38c9343f38ba9599cd7e3a34d",
       "version_major": 2,
       "version_minor": 0
      },
      "text/plain": [
       "  0%|          | 0/225 [00:00<?, ?it/s]"
      ]
     },
     "metadata": {},
     "output_type": "display_data"
    },
    {
     "name": "stdout",
     "output_type": "stream",
     "text": [
      "Epoch 10 train loss: 1.9029\n",
      "Validating epoch 10\n"
     ]
    },
    {
     "data": {
      "application/vnd.jupyter.widget-view+json": {
       "model_id": "1819fe254c7248d69f1391e9e05dc5ee",
       "version_major": 2,
       "version_minor": 0
      },
      "text/plain": [
       "  0%|          | 0/91 [00:00<?, ?it/s]"
      ]
     },
     "metadata": {},
     "output_type": "display_data"
    },
    {
     "name": "stdout",
     "output_type": "stream",
     "text": [
      "Epoch 10 val loss: 1.6686\n",
      "Saving new best model..\n",
      "Finished Training\n"
     ]
    }
   ],
   "source": [
    "################################################################################\n",
    "# TODO#19                                                                      #\n",
    "# Complete the code to train your gru model                                    #\n",
    "################################################################################\n",
    "print('start training gru')\n",
    "################################################################################\n",
    "#                            WRITE YOUR CODE BELOW                             #\n",
    "################################################################################\n",
    "loss_fn = nn.MSELoss()\n",
    "config_gru = {\n",
    "    'architecture': 'GRU',\n",
    "    'lr': 0.01,\n",
    "    'hidden_size': 200,\n",
    "    'scheduler_factor': 0.2,\n",
    "    'scheduler_patience': 2,\n",
    "    'scheduler_min_lr': 1e-4,\n",
    "    'epochs': 10\n",
    "}\n",
    "\n",
    "# Model\n",
    "model_gru = GRUModel(hidden_size=config_gru['hidden_size'])\n",
    "model_gru = model_gru.to(device)\n",
    "optimizer = torch.optim.Adam(model_gru.parameters(), lr=config_gru['lr'])\n",
    "scheduler = torch.optim.lr_scheduler.ReduceLROnPlateau(\n",
    "    optimizer, \n",
    "    'min', \n",
    "    factor=config_gru['scheduler_factor'], \n",
    "    patience=config_gru['scheduler_patience'], \n",
    "    min_lr=config_gru['scheduler_min_lr']\n",
    ")\n",
    "\n",
    "history = train(model=model_gru, optimizer=optimizer, scheduler=scheduler,\n",
    "                train_loader=train_loader_gru, val_loader=val_loader_gru,\n",
    "                config=config_gru, scheduler_input=\"loss\", wandb_save=False)"
   ]
  },
  {
   "cell_type": "code",
   "execution_count": 117,
   "metadata": {
    "id": "W2HzoOqpP2Tc"
   },
   "outputs": [
    {
     "data": {
      "image/png": "[encoded data removed]",
      "text/plain": [
       "<Figure size 432x288 with 1 Axes>"
      ]
     },
     "metadata": {
      "needs_background": "light"
     },
     "output_type": "display_data"
    },
    {
     "data": {
      "image/png": "[encoded data removed]",
      "text/plain": [
       "<Figure size 432x288 with 1 Axes>"
      ]
     },
     "metadata": {
      "needs_background": "light"
     },
     "output_type": "display_data"
    }
   ],
   "source": [
    "# Plot\n",
    "plt.plot(history['train loss'])\n",
    "plt.title(\"Mean Square Error\")\n",
    "plt.xlabel(\"epochs\")\n",
    "plt.ylabel(\"train loss\")\n",
    "plt.show()\n",
    "plt.plot(history['val loss'], c='r')\n",
    "plt.title(\"Mean Square Error\")\n",
    "plt.xlabel(\"epochs\")\n",
    "plt.ylabel(\"validation loss\")\n",
    "plt.show()"
   ]
  },
  {
   "cell_type": "code",
   "execution_count": 118,
   "metadata": {
    "id": "M0Zbc4mIFKv0"
   },
   "outputs": [
    {
     "name": "stdout",
     "output_type": "stream",
     "text": [
      "GRU-model\n",
      "Loaded epoch 9 model\n",
      "train 1.9158204793930054\n",
      "validate 1.6685786247253418\n"
     ]
    }
   ],
   "source": [
    "# Evaluate\n",
    "print('GRU-model')\n",
    "loaded_model = get_model(model=GRUModel, path='model_GRUModel.pth.tar', config=config_gru)\n",
    "print('train', evaluate(train_loader_gru, loaded_model).item())\n",
    "print('validate', evaluate(val_loader_gru, loaded_model).item())"
   ]
  },
  {
   "cell_type": "markdown",
   "metadata": {
    "id": "gkoGHlI8FKv5"
   },
   "source": [
    "# Final Section\n",
    "# PyTorch playground\n",
    "\n",
    "Now, train the best model you can do for this task. You can use any model structure and function available.    \n",
    "Remember that trainig time increases with the complexity of the model. You might find printing computation graphs helpful in debugging complicated models.    \n",
    "Your model should be better than your CNN or GRU model in the previous sections.\n",
    "\n",
    "Some ideas:\n",
    "\n",
    "- Tune the hyperparameters\n",
    "- Adding dropouts\n",
    "- Combining CNN with GRUs\n",
    "\n",
    "You should tune your model on training and validation set.    \n",
    "**The test set should be used only for the last evaluation.**"
   ]
  },
  {
   "cell_type": "code",
   "execution_count": 72,
   "metadata": {
    "id": "NH741odv8zOq"
   },
   "outputs": [],
   "source": [
    "# Prep data as you see fit\n",
    "def hybrid_preprocessing(data, label):\n",
    "    x = data.reshape((-1, 5, 5, 3))\n",
    "    y = label.reshape((-1, 5))\n",
    "    return x, y\n",
    "\n",
    "class normalizer_std_hybrid():\n",
    "    def __init__(self):\n",
    "        self.scalers = {}\n",
    "    \n",
    "    def fit(self, data):\n",
    "        X = data.copy()\n",
    "        X = X.reshape((-1, 25, 3))\n",
    "        for i in range(X.shape[2]):\n",
    "            self.scalers[i] = preprocessing.StandardScaler()\n",
    "            self.scalers[i].fit(X[:,:,i])\n",
    "        return self\n",
    "    \n",
    "    def transform(self, data):\n",
    "        X = data.copy()\n",
    "        X = X.reshape((-1, 25, 3)) \n",
    "        for i in range(X.shape[2]):\n",
    "            X[:,:,i] = self.scalers[i].transform(X[:,:,i]) \n",
    "        return X.reshape((-1, 5, 5, 5, 3))\n",
    "    \n",
    "class hybridDataset(Dataset):\n",
    "    def __init__(self, x, y):\n",
    "        self.x = x.astype(np.float32)\n",
    "        self.x = np.moveaxis(self.x, -1, 2)\n",
    "        self.y = y.astype(np.float32)\n",
    "\n",
    "    def __getitem__(self, index):\n",
    "        x = self.x[index] # Retrieve data\n",
    "        y = self.y[index]\n",
    "        return x, y\n",
    "\n",
    "    def __len__(self):\n",
    "        return self.x.shape[0]"
   ]
  },
  {
   "cell_type": "code",
   "execution_count": 110,
   "metadata": {},
   "outputs": [],
   "source": [
    "# Data preprocessing\n",
    "x_train_hyb, y_train_hyb = hybrid_preprocessing(x_train, y_train)\n",
    "x_val_hyb, y_val_hyb = hybrid_preprocessing(x_val, y_val)\n",
    "x_test_hyb, y_test_hyb = hybrid_preprocessing(x_test, y_test)\n",
    "\n",
    "# Normalization for CNN\n",
    "hybrid_norm = normalizer_std_hybrid()\n",
    "hybrid_norm.fit(data=x_train_hyb)\n",
    "\n",
    "x_train_hyb = hybrid_norm.transform(data=x_train_hyb)\n",
    "x_val_hyb = hybrid_norm.transform(data=x_val_hyb)\n",
    "x_test_hyb = hybrid_norm.transform(data=x_test_hyb)\n",
    "\n",
    "# Create dataset\n",
    "train_dataset_hyb = hybridDataset(x_train_hyb, y_train_hyb)\n",
    "val_dataset_hyb = hybridDataset(x_val_hyb, y_val_hyb)\n",
    "test_dataset_hyb = hybridDataset(x_test_hyb, y_test_hyb)\n",
    "\n",
    "# Data loader\n",
    "train_loader_hyb = DataLoader(train_dataset_hyb, batch_size=1024, shuffle=True, pin_memory=True)\n",
    "val_loader_hyb = DataLoader(val_dataset_hyb, batch_size=1024, shuffle=False, pin_memory=True)\n",
    "test_loader_hyb = DataLoader(test_dataset_hyb, batch_size=1024, shuffle=False, pin_memory=True)"
   ]
  },
  {
   "cell_type": "code",
   "execution_count": 146,
   "metadata": {
    "id": "2hibvTeKFKv5"
   },
   "outputs": [],
   "source": [
    "################################################################################\n",
    "# TODO#20                                                                      #\n",
    "# Write a function that returns your best PyTorch model. You can use anything  #\n",
    "# you want. The goal here is to create the best model you can think of.        #\n",
    "#                                                                              #\n",
    "# Hint: You should read PyTorch documentation to see the list of available     #\n",
    "# layers and options you can use.                                              #\n",
    "################################################################################\n",
    "#                            WRITE YOUR CODE BELOW                             #\n",
    "################################################################################\n",
    "class CNNGRUNet(nn.Module):\n",
    "    def __init__(self, input_channel=3, output_size=1, hidden_channel=10, hidden_size=128):\n",
    "        super(CNNGRUNet, self).__init__()\n",
    "        self.conv1 = nn.Conv2d(in_channels=input_channel, out_channels=hidden_channel, kernel_size=2)\n",
    "        self.batchnorm_conv1 = nn.BatchNorm2d(hidden_channel)\n",
    "        self.conv2 = nn.Conv2d(in_channels=hidden_channel, out_channels=hidden_channel*2, kernel_size=2)\n",
    "        self.batchnorm_conv2 = nn.BatchNorm2d(hidden_channel*2)\n",
    "        self.maxpool = nn.MaxPool2d(kernel_size=3) \n",
    "        self.gru = nn.GRU(hidden_channel*2, hidden_size, num_layers=2, batch_first=True, dropout=0.2)\n",
    "        self.layernorm_gru = nn.LayerNorm(hidden_size)\n",
    "        #self.fcMatch = nn.Linear(9, 75)\n",
    "        self.fc1 = nn.Linear(hidden_size, hidden_size*2)\n",
    "        self.layernorm_fc1 = nn.LayerNorm(hidden_size*2)\n",
    "        #self.fc2 = nn.Linear(hidden_size*2, hidden_size*4)\n",
    "        #self.fc3 = nn.Linear(hidden_size*4, hidden_size*2)\n",
    "        self.out = nn.Linear(hidden_size*2, output_size)\n",
    "        self.relu = nn.ReLU()\n",
    "        self.dropout = nn.Dropout(p=0.2)\n",
    "        \n",
    "    def forward(self, x):\n",
    "        # CNN Section\n",
    "        x_gru = torch.zeros((x.shape[0], x.shape[1], 20)).to(device)\n",
    "        for i in range(5):\n",
    "            x_cnn = x[:, i, :, :, :]\n",
    "            x_cnn = self.conv1(x_cnn)\n",
    "            x_cnn = self.relu(x_cnn)\n",
    "            x_cnn = self.batchnorm_conv1(x_cnn)\n",
    "            x_cnn = self.conv2(x_cnn)\n",
    "            x_cnn = self.relu(x_cnn)\n",
    "            x_cnn = self.batchnorm_conv2(x_cnn)\n",
    "            x_cnn = self.maxpool(x_cnn)\n",
    "            x_cnn = x_cnn.flatten(start_dim=1) #2*2*200.\n",
    "            #x_cnn = self.fcMatch(x_cnn)\n",
    "            x_gru[:, i, :] = x_cnn\n",
    "        \n",
    "        x, h = self.gru(x_gru)\n",
    "        x = self.relu(x)\n",
    "        x = self.layernorm_gru(x)\n",
    "        x = self.fc1(x)\n",
    "        x = self.relu(x)\n",
    "        x = self.layernorm_fc1(x)\n",
    "        x = self.dropout(x)\n",
    "        \"\"\"x = self.fc2(x)\n",
    "        x = self.dropout(x)\n",
    "        x = self.relu(x)\n",
    "        x = self.fc3(x)\n",
    "        x = self.dropout(x)\n",
    "        x = self.relu(x)\"\"\"\n",
    "        x = self.out(x)\n",
    "        \n",
    "        return np.squeeze(x)\n",
    "    \n",
    "class SiameseNet(nn.Module):\n",
    "    def __init__(self, input_channel=3, output_size=1, hidden_channel=32, hidden_size=128):\n",
    "        super(SiameseNet, self).__init__()\n",
    "        self.conv1 = nn.Conv2d(in_channels=input_channel, out_channels=hidden_channel, kernel_size=2)\n",
    "        self.conv2 = nn.Conv2d(in_channels=hidden_channel, out_channels=hidden_channel*2, kernel_size=2)\n",
    "        self.maxpool = nn.MaxPool2d(kernel_size=3) \n",
    "        self.gru = nn.GRU(75, hidden_size, num_layers=2, batch_first=True, dropout=0.2)\n",
    "        #self.fcMatch = nn.Linear(9, 75)\n",
    "        self.fc1 = nn.Linear((hidden_channel*2 + hidden_size), hidden_size*4)\n",
    "        #self.fc2 = nn.Linear(hidden_size*2, hidden_size*4)\n",
    "        #self.fc3 = nn.Linear(hidden_size*4, hidden_size*2)\n",
    "        self.out = nn.Linear(hidden_size*4, output_size)\n",
    "        self.relu = nn.ReLU()\n",
    "        self.dropout = nn.Dropout(p=0.2)\n",
    "        \n",
    "    def forward(self, x):\n",
    "        # CNN Section\n",
    "        x_c = torch.zeros((x.shape[0], x.shape[1], 64)).to(device)\n",
    "        for i in range(5):\n",
    "            x_cnn = x[:, i, :, :, :]\n",
    "            x_cnn = self.conv1(x_cnn)\n",
    "            x_cnn = self.relu(x_cnn)\n",
    "            x_cnn = self.conv2(x_cnn)\n",
    "            x_cnn = self.relu(x_cnn)\n",
    "            x_cnn = self.maxpool(x_cnn)\n",
    "            x_cnn = x_cnn.flatten(start_dim=1) #1*1*20.\n",
    "            #x_cnn = self.fcMatch(x_cnn)\n",
    "            x_c[:, i, :] = x_cnn\n",
    "        \n",
    "        x_gru = x.reshape((-1, 5, 75))\n",
    "        x_gru, h = self.gru(x_gru)\n",
    "        x_gru = self.relu(x_gru)\n",
    "        x = torch.concat((x_c, x_gru), axis=2)\n",
    "        x = self.fc1(x)\n",
    "        x = self.dropout(x)\n",
    "        x = self.relu(x)\n",
    "        \"\"\"x = self.fc2(x)\n",
    "        x = self.dropout(x)\n",
    "        x = self.relu(x)\n",
    "        x = self.fc3(x)\n",
    "        x = self.dropout(x)\n",
    "        x = self.relu(x)\"\"\"\n",
    "        x = self.out(x)\n",
    "        \n",
    "        return np.squeeze(x)"
   ]
  },
  {
   "cell_type": "code",
   "execution_count": 112,
   "metadata": {},
   "outputs": [],
   "source": [
    "model_hb = CNNGRUNet().to(device)"
   ]
  },
  {
   "cell_type": "code",
   "execution_count": 115,
   "metadata": {
    "scrolled": true
   },
   "outputs": [
    {
     "data": {
      "image/svg+xml": [
       "<?xml version=\"1.0\" encoding=\"UTF-8\" standalone=\"no\"?>\r\n",
       "<!DOCTYPE svg PUBLIC \"-//W3C//DTD SVG 1.1//EN\"\r\n",
       " \"http://www.w3.org/Graphics/SVG/1.1/DTD/svg11.dtd\">\r\n",
       "<!-- Generated by graphviz version 2.38.0 (20140413.2041)\r\n",
       " -->\r\n",
       "<!-- Title: %3 Pages: 1 -->\r\n",
       "<svg width=\"1896pt\" height=\"1954pt\"\r\n",
       " viewBox=\"0.00 0.00 1896.00 1954.00\" xmlns=\"http://www.w3.org/2000/svg\" xmlns:xlink=\"http://www.w3.org/1999/xlink\">\r\n",
       "<g id=\"graph0\" class=\"graph\" transform=\"scale(1 1) rotate(0) translate(4 1950)\">\r\n",
       "<title>%3</title>\r\n",
       "<polygon fill=\"white\" stroke=\"none\" points=\"-4,4 -4,-1950 1892,-1950 1892,4 -4,4\"/>\r\n",
       "<!-- 1445650757440 -->\r\n",
       "<g id=\"node1\" class=\"node\"><title>1445650757440</title>\r\n",
       "<polygon fill=\"#caff70\" stroke=\"black\" points=\"1626,-31 1549,-31 1549,-0 1626,-0 1626,-31\"/>\r\n",
       "<text text-anchor=\"middle\" x=\"1587.5\" y=\"-7\" font-family=\"monospace\" font-size=\"10.00\"> (1024, 5)</text>\r\n",
       "</g>\r\n",
       "<!-- 1444776401584 -->\r\n",
       "<g id=\"node2\" class=\"node\"><title>1444776401584</title>\r\n",
       "<polygon fill=\"lightgrey\" stroke=\"black\" points=\"1583,-92 1470,-92 1470,-73 1583,-73 1583,-92\"/>\r\n",
       "<text text-anchor=\"middle\" x=\"1526.5\" y=\"-80\" font-family=\"monospace\" font-size=\"10.00\">SqueezeBackward0</text>\r\n",
       "</g>\r\n",
       "<!-- 1444776401584&#45;&gt;1445650757440 -->\r\n",
       "<g id=\"edge131\" class=\"edge\"><title>1444776401584&#45;&gt;1445650757440</title>\r\n",
       "<path fill=\"none\" stroke=\"black\" d=\"M1534.73,-72.7338C1542.94,-63.9786 1555.9,-50.1706 1566.92,-38.4287\"/>\r\n",
       "<polygon fill=\"black\" stroke=\"black\" points=\"1569.52,-40.7717 1573.81,-31.0847 1564.42,-35.9815 1569.52,-40.7717\"/>\r\n",
       "</g>\r\n",
       "<!-- 1444776409888 -->\r\n",
       "<g id=\"node3\" class=\"node\"><title>1444776409888</title>\r\n",
       "<polygon fill=\"lightgrey\" stroke=\"black\" points=\"1632,-153 1543,-153 1543,-134 1632,-134 1632,-153\"/>\r\n",
       "<text text-anchor=\"middle\" x=\"1587.5\" y=\"-141\" font-family=\"monospace\" font-size=\"10.00\">AddBackward0</text>\r\n",
       "</g>\r\n",
       "<!-- 1444776409888&#45;&gt;1444776401584 -->\r\n",
       "<g id=\"edge1\" class=\"edge\"><title>1444776409888&#45;&gt;1444776401584</title>\r\n",
       "<path fill=\"none\" stroke=\"black\" d=\"M1578.5,-133.794C1569.13,-124.731 1554.25,-110.339 1542.8,-99.2688\"/>\r\n",
       "<polygon fill=\"black\" stroke=\"black\" points=\"1545.16,-96.6779 1535.54,-92.2414 1540.29,-101.709 1545.16,-96.6779\"/>\r\n",
       "</g>\r\n",
       "<!-- 1443897521744 -->\r\n",
       "<g id=\"node113\" class=\"node\"><title>1443897521744</title>\r\n",
       "<polygon fill=\"#a2cd5a\" stroke=\"black\" points=\"1696,-98 1601,-98 1601,-67 1696,-67 1696,-98\"/>\r\n",
       "<text text-anchor=\"middle\" x=\"1648.5\" y=\"-74\" font-family=\"monospace\" font-size=\"10.00\"> (1024, 5, 1)</text>\r\n",
       "</g>\r\n",
       "<!-- 1444776409888&#45;&gt;1443897521744 -->\r\n",
       "<g id=\"edge132\" class=\"edge\"><title>1444776409888&#45;&gt;1443897521744</title>\r\n",
       "<path fill=\"none\" stroke=\"black\" d=\"M1596.5,-133.794C1604.21,-126.336 1615.65,-115.269 1625.84,-105.413\"/>\r\n",
       "<polygon fill=\"black\" stroke=\"black\" points=\"1628.55,-107.661 1633.31,-98.1933 1623.69,-102.63 1628.55,-107.661\"/>\r\n",
       "</g>\r\n",
       "<!-- 1444776410368 -->\r\n",
       "<g id=\"node4\" class=\"node\"><title>1444776410368</title>\r\n",
       "<polygon fill=\"lightgrey\" stroke=\"black\" points=\"1586,-208 1455,-208 1455,-189 1586,-189 1586,-208\"/>\r\n",
       "<text text-anchor=\"middle\" x=\"1520.5\" y=\"-196\" font-family=\"monospace\" font-size=\"10.00\">UnsafeViewBackward0</text>\r\n",
       "</g>\r\n",
       "<!-- 1444776410368&#45;&gt;1444776409888 -->\r\n",
       "<g id=\"edge2\" class=\"edge\"><title>1444776410368&#45;&gt;1444776409888</title>\r\n",
       "<path fill=\"none\" stroke=\"black\" d=\"M1531.26,-188.985C1541.27,-181.073 1556.39,-169.112 1568.43,-159.585\"/>\r\n",
       "<polygon fill=\"black\" stroke=\"black\" points=\"1570.87,-162.119 1576.54,-153.17 1566.53,-156.629 1570.87,-162.119\"/>\r\n",
       "</g>\r\n",
       "<!-- 1444776396352 -->\r\n",
       "<g id=\"node5\" class=\"node\"><title>1444776396352</title>\r\n",
       "<polygon fill=\"lightgrey\" stroke=\"black\" points=\"1562,-268.5 1479,-268.5 1479,-249.5 1562,-249.5 1562,-268.5\"/>\r\n",
       "<text text-anchor=\"middle\" x=\"1520.5\" y=\"-256.5\" font-family=\"monospace\" font-size=\"10.00\">MmBackward0</text>\r\n",
       "</g>\r\n",
       "<!-- 1444776396352&#45;&gt;1444776410368 -->\r\n",
       "<g id=\"edge3\" class=\"edge\"><title>1444776396352&#45;&gt;1444776410368</title>\r\n",
       "<path fill=\"none\" stroke=\"black\" d=\"M1520.5,-249.368C1520.5,-241.246 1520.5,-228.807 1520.5,-218.385\"/>\r\n",
       "<polygon fill=\"black\" stroke=\"black\" points=\"1524,-218.167 1520.5,-208.167 1517,-218.167 1524,-218.167\"/>\r\n",
       "</g>\r\n",
       "<!-- 1444776410176 -->\r\n",
       "<g id=\"node6\" class=\"node\"><title>1444776410176</title>\r\n",
       "<polygon fill=\"lightgrey\" stroke=\"black\" points=\"1516,-329 1421,-329 1421,-310 1516,-310 1516,-329\"/>\r\n",
       "<text text-anchor=\"middle\" x=\"1468.5\" y=\"-317\" font-family=\"monospace\" font-size=\"10.00\">ViewBackward0</text>\r\n",
       "</g>\r\n",
       "<!-- 1444776410176&#45;&gt;1444776396352 -->\r\n",
       "<g id=\"edge4\" class=\"edge\"><title>1444776410176&#45;&gt;1444776396352</title>\r\n",
       "<path fill=\"none\" stroke=\"black\" d=\"M1476.17,-309.868C1484.01,-301.054 1496.36,-287.159 1506.04,-276.272\"/>\r\n",
       "<polygon fill=\"black\" stroke=\"black\" points=\"1508.77,-278.467 1512.8,-268.667 1503.54,-273.816 1508.77,-278.467\"/>\r\n",
       "</g>\r\n",
       "<!-- 1444776396448 -->\r\n",
       "<g id=\"node7\" class=\"node\"><title>1444776396448</title>\r\n",
       "<polygon fill=\"lightgrey\" stroke=\"black\" points=\"1513,-384 1418,-384 1418,-365 1513,-365 1513,-384\"/>\r\n",
       "<text text-anchor=\"middle\" x=\"1465.5\" y=\"-372\" font-family=\"monospace\" font-size=\"10.00\">ReluBackward0</text>\r\n",
       "</g>\r\n",
       "<!-- 1444776396448&#45;&gt;1444776410176 -->\r\n",
       "<g id=\"edge5\" class=\"edge\"><title>1444776396448&#45;&gt;1444776410176</title>\r\n",
       "<path fill=\"none\" stroke=\"black\" d=\"M1466,-364.748C1466.39,-357.802 1466.95,-347.845 1467.45,-339.135\"/>\r\n",
       "<polygon fill=\"black\" stroke=\"black\" points=\"1470.94,-339.271 1468.01,-329.089 1463.95,-338.875 1470.94,-339.271\"/>\r\n",
       "</g>\r\n",
       "<!-- 1444776410704 -->\r\n",
       "<g id=\"node8\" class=\"node\"><title>1444776410704</title>\r\n",
       "<polygon fill=\"lightgrey\" stroke=\"black\" points=\"1536,-444.5 1387,-444.5 1387,-425.5 1536,-425.5 1536,-444.5\"/>\r\n",
       "<text text-anchor=\"middle\" x=\"1461.5\" y=\"-432.5\" font-family=\"monospace\" font-size=\"10.00\">NativeDropoutBackward0</text>\r\n",
       "</g>\r\n",
       "<!-- 1444776410704&#45;&gt;1444776396448 -->\r\n",
       "<g id=\"edge6\" class=\"edge\"><title>1444776410704&#45;&gt;1444776396448</title>\r\n",
       "<path fill=\"none\" stroke=\"black\" d=\"M1462.09,-425.368C1462.65,-417.246 1463.5,-404.807 1464.21,-394.385\"/>\r\n",
       "<polygon fill=\"black\" stroke=\"black\" points=\"1467.72,-394.383 1464.91,-384.167 1460.73,-393.905 1467.72,-394.383\"/>\r\n",
       "</g>\r\n",
       "<!-- 1444776400432 -->\r\n",
       "<g id=\"node9\" class=\"node\"><title>1444776400432</title>\r\n",
       "<polygon fill=\"lightgrey\" stroke=\"black\" points=\"1506,-505 1417,-505 1417,-486 1506,-486 1506,-505\"/>\r\n",
       "<text text-anchor=\"middle\" x=\"1461.5\" y=\"-493\" font-family=\"monospace\" font-size=\"10.00\">AddBackward0</text>\r\n",
       "</g>\r\n",
       "<!-- 1444776400432&#45;&gt;1444776410704 -->\r\n",
       "<g id=\"edge7\" class=\"edge\"><title>1444776400432&#45;&gt;1444776410704</title>\r\n",
       "<path fill=\"none\" stroke=\"black\" d=\"M1461.5,-485.868C1461.5,-477.746 1461.5,-465.307 1461.5,-454.885\"/>\r\n",
       "<polygon fill=\"black\" stroke=\"black\" points=\"1465,-454.667 1461.5,-444.667 1458,-454.667 1465,-454.667\"/>\r\n",
       "</g>\r\n",
       "<!-- 1444776410656 -->\r\n",
       "<g id=\"node10\" class=\"node\"><title>1444776410656</title>\r\n",
       "<polygon fill=\"lightgrey\" stroke=\"black\" points=\"1460,-560 1329,-560 1329,-541 1460,-541 1460,-560\"/>\r\n",
       "<text text-anchor=\"middle\" x=\"1394.5\" y=\"-548\" font-family=\"monospace\" font-size=\"10.00\">UnsafeViewBackward0</text>\r\n",
       "</g>\r\n",
       "<!-- 1444776410656&#45;&gt;1444776400432 -->\r\n",
       "<g id=\"edge8\" class=\"edge\"><title>1444776410656&#45;&gt;1444776400432</title>\r\n",
       "<path fill=\"none\" stroke=\"black\" d=\"M1405.26,-540.985C1415.27,-533.073 1430.39,-521.112 1442.43,-511.585\"/>\r\n",
       "<polygon fill=\"black\" stroke=\"black\" points=\"1444.87,-514.119 1450.54,-505.17 1440.53,-508.629 1444.87,-514.119\"/>\r\n",
       "</g>\r\n",
       "<!-- 1443896358416 -->\r\n",
       "<g id=\"node11\" class=\"node\"><title>1443896358416</title>\r\n",
       "<polygon fill=\"lightgrey\" stroke=\"black\" points=\"1436,-620.5 1353,-620.5 1353,-601.5 1436,-601.5 1436,-620.5\"/>\r\n",
       "<text text-anchor=\"middle\" x=\"1394.5\" y=\"-608.5\" font-family=\"monospace\" font-size=\"10.00\">MmBackward0</text>\r\n",
       "</g>\r\n",
       "<!-- 1443896358416&#45;&gt;1444776410656 -->\r\n",
       "<g id=\"edge9\" class=\"edge\"><title>1443896358416&#45;&gt;1444776410656</title>\r\n",
       "<path fill=\"none\" stroke=\"black\" d=\"M1394.5,-601.368C1394.5,-593.246 1394.5,-580.807 1394.5,-570.385\"/>\r\n",
       "<polygon fill=\"black\" stroke=\"black\" points=\"1398,-570.167 1394.5,-560.167 1391,-570.167 1398,-570.167\"/>\r\n",
       "</g>\r\n",
       "<!-- 1444776884208 -->\r\n",
       "<g id=\"node12\" class=\"node\"><title>1444776884208</title>\r\n",
       "<polygon fill=\"lightgrey\" stroke=\"black\" points=\"1390,-681 1295,-681 1295,-662 1390,-662 1390,-681\"/>\r\n",
       "<text text-anchor=\"middle\" x=\"1342.5\" y=\"-669\" font-family=\"monospace\" font-size=\"10.00\">ViewBackward0</text>\r\n",
       "</g>\r\n",
       "<!-- 1444776884208&#45;&gt;1443896358416 -->\r\n",
       "<g id=\"edge10\" class=\"edge\"><title>1444776884208&#45;&gt;1443896358416</title>\r\n",
       "<path fill=\"none\" stroke=\"black\" d=\"M1350.17,-661.868C1358.01,-653.054 1370.36,-639.159 1380.04,-628.272\"/>\r\n",
       "<polygon fill=\"black\" stroke=\"black\" points=\"1382.77,-630.467 1386.8,-620.667 1377.54,-625.816 1382.77,-630.467\"/>\r\n",
       "</g>\r\n",
       "<!-- 1444776885408 -->\r\n",
       "<g id=\"node13\" class=\"node\"><title>1444776885408</title>\r\n",
       "<polygon fill=\"lightgrey\" stroke=\"black\" points=\"1389,-736 1288,-736 1288,-717 1389,-717 1389,-736\"/>\r\n",
       "<text text-anchor=\"middle\" x=\"1338.5\" y=\"-724\" font-family=\"monospace\" font-size=\"10.00\">CloneBackward0</text>\r\n",
       "</g>\r\n",
       "<!-- 1444776885408&#45;&gt;1444776884208 -->\r\n",
       "<g id=\"edge11\" class=\"edge\"><title>1444776885408&#45;&gt;1444776884208</title>\r\n",
       "<path fill=\"none\" stroke=\"black\" d=\"M1339.16,-716.748C1339.68,-709.802 1340.44,-699.845 1341.09,-691.135\"/>\r\n",
       "<polygon fill=\"black\" stroke=\"black\" points=\"1344.59,-691.324 1341.85,-681.089 1337.61,-690.797 1344.59,-691.324\"/>\r\n",
       "</g>\r\n",
       "<!-- 1444776881088 -->\r\n",
       "<g id=\"node14\" class=\"node\"><title>1444776881088</title>\r\n",
       "<polygon fill=\"lightgrey\" stroke=\"black\" points=\"1386,-796.5 1291,-796.5 1291,-777.5 1386,-777.5 1386,-796.5\"/>\r\n",
       "<text text-anchor=\"middle\" x=\"1338.5\" y=\"-784.5\" font-family=\"monospace\" font-size=\"10.00\">ReluBackward0</text>\r\n",
       "</g>\r\n",
       "<!-- 1444776881088&#45;&gt;1444776885408 -->\r\n",
       "<g id=\"edge12\" class=\"edge\"><title>1444776881088&#45;&gt;1444776885408</title>\r\n",
       "<path fill=\"none\" stroke=\"black\" d=\"M1338.5,-777.368C1338.5,-769.246 1338.5,-756.807 1338.5,-746.385\"/>\r\n",
       "<polygon fill=\"black\" stroke=\"black\" points=\"1342,-746.167 1338.5,-736.167 1335,-746.167 1342,-746.167\"/>\r\n",
       "</g>\r\n",
       "<!-- 1444776879312 -->\r\n",
       "<g id=\"node15\" class=\"node\"><title>1444776879312</title>\r\n",
       "<polygon fill=\"lightgrey\" stroke=\"black\" points=\"1398,-857 1279,-857 1279,-838 1398,-838 1398,-857\"/>\r\n",
       "<text text-anchor=\"middle\" x=\"1338.5\" y=\"-845\" font-family=\"monospace\" font-size=\"10.00\">CudnnRnnBackward0</text>\r\n",
       "</g>\r\n",
       "<!-- 1444776879312&#45;&gt;1444776881088 -->\r\n",
       "<g id=\"edge13\" class=\"edge\"><title>1444776879312&#45;&gt;1444776881088</title>\r\n",
       "<path fill=\"none\" stroke=\"black\" d=\"M1338.5,-837.868C1338.5,-829.746 1338.5,-817.307 1338.5,-806.885\"/>\r\n",
       "<polygon fill=\"black\" stroke=\"black\" points=\"1342,-806.667 1338.5,-796.667 1335,-806.667 1342,-806.667\"/>\r\n",
       "</g>\r\n",
       "<!-- 1444776870480 -->\r\n",
       "<g id=\"node16\" class=\"node\"><title>1444776870480</title>\r\n",
       "<polygon fill=\"lightgrey\" stroke=\"black\" points=\"913,-912 836,-912 836,-893 913,-893 913,-912\"/>\r\n",
       "<text text-anchor=\"middle\" x=\"874.5\" y=\"-900\" font-family=\"monospace\" font-size=\"10.00\">CopySlices</text>\r\n",
       "</g>\r\n",
       "<!-- 1444776870480&#45;&gt;1444776879312 -->\r\n",
       "<g id=\"edge14\" class=\"edge\"><title>1444776870480&#45;&gt;1444776879312</title>\r\n",
       "<path fill=\"none\" stroke=\"black\" d=\"M913.192,-894.273C916,-893.819 918.791,-893.389 921.5,-893 1043.26,-875.516 1185.93,-861.728 1268.88,-854.372\"/>\r\n",
       "<polygon fill=\"black\" stroke=\"black\" points=\"1269.29,-857.85 1278.94,-853.485 1268.67,-850.877 1269.29,-857.85\"/>\r\n",
       "</g>\r\n",
       "<!-- 1444776880416 -->\r\n",
       "<g id=\"node17\" class=\"node\"><title>1444776880416</title>\r\n",
       "<polygon fill=\"lightgrey\" stroke=\"black\" points=\"761,-972.5 684,-972.5 684,-953.5 761,-953.5 761,-972.5\"/>\r\n",
       "<text text-anchor=\"middle\" x=\"722.5\" y=\"-960.5\" font-family=\"monospace\" font-size=\"10.00\">CopySlices</text>\r\n",
       "</g>\r\n",
       "<!-- 1444776880416&#45;&gt;1444776870480 -->\r\n",
       "<g id=\"edge15\" class=\"edge\"><title>1444776880416&#45;&gt;1444776870480</title>\r\n",
       "<path fill=\"none\" stroke=\"black\" d=\"M744.602,-953.494C770.493,-943.529 813.579,-926.947 842.973,-915.634\"/>\r\n",
       "<polygon fill=\"black\" stroke=\"black\" points=\"844.296,-918.875 852.371,-912.017 841.781,-912.342 844.296,-918.875\"/>\r\n",
       "</g>\r\n",
       "<!-- 1444776872736 -->\r\n",
       "<g id=\"node18\" class=\"node\"><title>1444776872736</title>\r\n",
       "<polygon fill=\"lightgrey\" stroke=\"black\" points=\"501,-1033 424,-1033 424,-1014 501,-1014 501,-1033\"/>\r\n",
       "<text text-anchor=\"middle\" x=\"462.5\" y=\"-1021\" font-family=\"monospace\" font-size=\"10.00\">CopySlices</text>\r\n",
       "</g>\r\n",
       "<!-- 1444776872736&#45;&gt;1444776880416 -->\r\n",
       "<g id=\"edge16\" class=\"edge\"><title>1444776872736&#45;&gt;1444776880416</title>\r\n",
       "<path fill=\"none\" stroke=\"black\" d=\"M500.306,-1013.99C546.423,-1003.62 624.432,-986.065 674.678,-974.76\"/>\r\n",
       "<polygon fill=\"black\" stroke=\"black\" points=\"675.66,-978.127 684.648,-972.517 674.124,-971.297 675.66,-978.127\"/>\r\n",
       "</g>\r\n",
       "<!-- 1444776875664 -->\r\n",
       "<g id=\"node19\" class=\"node\"><title>1444776875664</title>\r\n",
       "<polygon fill=\"lightgrey\" stroke=\"black\" points=\"501,-1088 424,-1088 424,-1069 501,-1069 501,-1088\"/>\r\n",
       "<text text-anchor=\"middle\" x=\"462.5\" y=\"-1076\" font-family=\"monospace\" font-size=\"10.00\">CopySlices</text>\r\n",
       "</g>\r\n",
       "<!-- 1444776875664&#45;&gt;1444776872736 -->\r\n",
       "<g id=\"edge17\" class=\"edge\"><title>1444776875664&#45;&gt;1444776872736</title>\r\n",
       "<path fill=\"none\" stroke=\"black\" d=\"M462.5,-1068.75C462.5,-1061.8 462.5,-1051.85 462.5,-1043.13\"/>\r\n",
       "<polygon fill=\"black\" stroke=\"black\" points=\"466,-1043.09 462.5,-1033.09 459,-1043.09 466,-1043.09\"/>\r\n",
       "</g>\r\n",
       "<!-- 1444776876096 -->\r\n",
       "<g id=\"node20\" class=\"node\"><title>1444776876096</title>\r\n",
       "<polygon fill=\"lightgrey\" stroke=\"black\" points=\"358,-1143 281,-1143 281,-1124 358,-1124 358,-1143\"/>\r\n",
       "<text text-anchor=\"middle\" x=\"319.5\" y=\"-1131\" font-family=\"monospace\" font-size=\"10.00\">CopySlices</text>\r\n",
       "</g>\r\n",
       "<!-- 1444776876096&#45;&gt;1444776875664 -->\r\n",
       "<g id=\"edge18\" class=\"edge\"><title>1444776876096&#45;&gt;1444776875664</title>\r\n",
       "<path fill=\"none\" stroke=\"black\" d=\"M342.475,-1123.98C365.998,-1115.27 402.787,-1101.63 429.438,-1091.75\"/>\r\n",
       "<polygon fill=\"black\" stroke=\"black\" points=\"430.946,-1094.93 439.107,-1088.17 428.513,-1088.36 430.946,-1094.93\"/>\r\n",
       "</g>\r\n",
       "<!-- 1444776882720 -->\r\n",
       "<g id=\"node21\" class=\"node\"><title>1444776882720</title>\r\n",
       "<polygon fill=\"lightgrey\" stroke=\"black\" points=\"381,-1198 238,-1198 238,-1179 381,-1179 381,-1198\"/>\r\n",
       "<text text-anchor=\"middle\" x=\"309.5\" y=\"-1186\" font-family=\"monospace\" font-size=\"10.00\">ReshapeAliasBackward0</text>\r\n",
       "</g>\r\n",
       "<!-- 1444776882720&#45;&gt;1444776876096 -->\r\n",
       "<g id=\"edge19\" class=\"edge\"><title>1444776882720&#45;&gt;1444776876096</title>\r\n",
       "<path fill=\"none\" stroke=\"black\" d=\"M311.151,-1178.75C312.462,-1171.8 314.341,-1161.85 315.984,-1153.13\"/>\r\n",
       "<polygon fill=\"black\" stroke=\"black\" points=\"319.465,-1153.56 317.879,-1143.09 312.586,-1152.27 319.465,-1153.56\"/>\r\n",
       "</g>\r\n",
       "<!-- 1444776876576 -->\r\n",
       "<g id=\"node22\" class=\"node\"><title>1444776876576</title>\r\n",
       "<polygon fill=\"lightgrey\" stroke=\"black\" points=\"400,-1253 209,-1253 209,-1234 400,-1234 400,-1253\"/>\r\n",
       "<text text-anchor=\"middle\" x=\"304.5\" y=\"-1241\" font-family=\"monospace\" font-size=\"10.00\">MaxPool2DWithIndicesBackward0</text>\r\n",
       "</g>\r\n",
       "<!-- 1444776876576&#45;&gt;1444776882720 -->\r\n",
       "<g id=\"edge20\" class=\"edge\"><title>1444776876576&#45;&gt;1444776882720</title>\r\n",
       "<path fill=\"none\" stroke=\"black\" d=\"M305.326,-1233.75C305.981,-1226.8 306.92,-1216.85 307.742,-1208.13\"/>\r\n",
       "<polygon fill=\"black\" stroke=\"black\" points=\"311.235,-1208.37 308.69,-1198.09 304.266,-1207.72 311.235,-1208.37\"/>\r\n",
       "</g>\r\n",
       "<!-- 1444776877296 -->\r\n",
       "<g id=\"node23\" class=\"node\"><title>1444776877296</title>\r\n",
       "<polygon fill=\"lightgrey\" stroke=\"black\" points=\"379,-1308 284,-1308 284,-1289 379,-1289 379,-1308\"/>\r\n",
       "<text text-anchor=\"middle\" x=\"331.5\" y=\"-1296\" font-family=\"monospace\" font-size=\"10.00\">ReluBackward0</text>\r\n",
       "</g>\r\n",
       "<!-- 1444776877296&#45;&gt;1444776876576 -->\r\n",
       "<g id=\"edge21\" class=\"edge\"><title>1444776877296&#45;&gt;1444776876576</title>\r\n",
       "<path fill=\"none\" stroke=\"black\" d=\"M327.041,-1288.75C323.385,-1281.57 318.091,-1271.18 313.552,-1262.27\"/>\r\n",
       "<polygon fill=\"black\" stroke=\"black\" points=\"316.533,-1260.41 308.876,-1253.09 310.296,-1263.59 316.533,-1260.41\"/>\r\n",
       "</g>\r\n",
       "<!-- 1444776884688 -->\r\n",
       "<g id=\"node24\" class=\"node\"><title>1444776884688</title>\r\n",
       "<polygon fill=\"lightgrey\" stroke=\"black\" points=\"414,-1363 277,-1363 277,-1344 414,-1344 414,-1363\"/>\r\n",
       "<text text-anchor=\"middle\" x=\"345.5\" y=\"-1351\" font-family=\"monospace\" font-size=\"10.00\">ConvolutionBackward0</text>\r\n",
       "</g>\r\n",
       "<!-- 1444776884688&#45;&gt;1444776877296 -->\r\n",
       "<g id=\"edge22\" class=\"edge\"><title>1444776884688&#45;&gt;1444776877296</title>\r\n",
       "<path fill=\"none\" stroke=\"black\" d=\"M343.188,-1343.75C341.333,-1336.72 338.665,-1326.62 336.346,-1317.84\"/>\r\n",
       "<polygon fill=\"black\" stroke=\"black\" points=\"339.707,-1316.86 333.769,-1308.09 332.939,-1318.65 339.707,-1316.86\"/>\r\n",
       "</g>\r\n",
       "<!-- 1444776883392 -->\r\n",
       "<g id=\"node25\" class=\"node\"><title>1444776883392</title>\r\n",
       "<polygon fill=\"lightgrey\" stroke=\"black\" points=\"314,-1418 219,-1418 219,-1399 314,-1399 314,-1418\"/>\r\n",
       "<text text-anchor=\"middle\" x=\"266.5\" y=\"-1406\" font-family=\"monospace\" font-size=\"10.00\">ReluBackward0</text>\r\n",
       "</g>\r\n",
       "<!-- 1444776883392&#45;&gt;1444776884688 -->\r\n",
       "<g id=\"edge23\" class=\"edge\"><title>1444776883392&#45;&gt;1444776884688</title>\r\n",
       "<path fill=\"none\" stroke=\"black\" d=\"M279.193,-1398.98C291.329,-1390.84 309.858,-1378.41 324.246,-1368.76\"/>\r\n",
       "<polygon fill=\"black\" stroke=\"black\" points=\"326.222,-1371.65 332.576,-1363.17 322.322,-1365.84 326.222,-1371.65\"/>\r\n",
       "</g>\r\n",
       "<!-- 1444776872400 -->\r\n",
       "<g id=\"node26\" class=\"node\"><title>1444776872400</title>\r\n",
       "<polygon fill=\"lightgrey\" stroke=\"black\" points=\"323,-1478.5 186,-1478.5 186,-1459.5 323,-1459.5 323,-1478.5\"/>\r\n",
       "<text text-anchor=\"middle\" x=\"254.5\" y=\"-1466.5\" font-family=\"monospace\" font-size=\"10.00\">ConvolutionBackward0</text>\r\n",
       "</g>\r\n",
       "<!-- 1444776872400&#45;&gt;1444776883392 -->\r\n",
       "<g id=\"edge24\" class=\"edge\"><title>1444776872400&#45;&gt;1444776883392</title>\r\n",
       "<path fill=\"none\" stroke=\"black\" d=\"M256.271,-1459.37C257.955,-1451.16 260.543,-1438.54 262.694,-1428.05\"/>\r\n",
       "<polygon fill=\"black\" stroke=\"black\" points=\"266.141,-1428.67 264.722,-1418.17 259.284,-1427.26 266.141,-1428.67\"/>\r\n",
       "</g>\r\n",
       "<!-- 1444776879888 -->\r\n",
       "<g id=\"node27\" class=\"node\"><title>1444776879888</title>\r\n",
       "<polygon fill=\"lightgrey\" stroke=\"black\" points=\"306,-1539 205,-1539 205,-1520 306,-1520 306,-1539\"/>\r\n",
       "<text text-anchor=\"middle\" x=\"255.5\" y=\"-1527\" font-family=\"monospace\" font-size=\"10.00\">SliceBackward0</text>\r\n",
       "</g>\r\n",
       "<!-- 1444776879888&#45;&gt;1444776872400 -->\r\n",
       "<g id=\"edge25\" class=\"edge\"><title>1444776879888&#45;&gt;1444776872400</title>\r\n",
       "<path fill=\"none\" stroke=\"black\" d=\"M255.352,-1519.87C255.214,-1511.75 255.001,-1499.31 254.823,-1488.89\"/>\r\n",
       "<polygon fill=\"black\" stroke=\"black\" points=\"258.319,-1488.61 254.648,-1478.67 251.32,-1488.73 258.319,-1488.61\"/>\r\n",
       "</g>\r\n",
       "<!-- 1444776879984 -->\r\n",
       "<g id=\"node28\" class=\"node\"><title>1444776879984</title>\r\n",
       "<polygon fill=\"lightgrey\" stroke=\"black\" points=\"309,-1599.5 208,-1599.5 208,-1580.5 309,-1580.5 309,-1599.5\"/>\r\n",
       "<text text-anchor=\"middle\" x=\"258.5\" y=\"-1587.5\" font-family=\"monospace\" font-size=\"10.00\">SliceBackward0</text>\r\n",
       "</g>\r\n",
       "<!-- 1444776879984&#45;&gt;1444776879888 -->\r\n",
       "<g id=\"edge26\" class=\"edge\"><title>1444776879984&#45;&gt;1444776879888</title>\r\n",
       "<path fill=\"none\" stroke=\"black\" d=\"M258.057,-1580.37C257.641,-1572.25 257.003,-1559.81 256.468,-1549.39\"/>\r\n",
       "<polygon fill=\"black\" stroke=\"black\" points=\"259.952,-1548.97 255.944,-1539.17 252.961,-1549.33 259.952,-1548.97\"/>\r\n",
       "</g>\r\n",
       "<!-- 1444776879504 -->\r\n",
       "<g id=\"node29\" class=\"node\"><title>1444776879504</title>\r\n",
       "<polygon fill=\"lightgrey\" stroke=\"black\" points=\"311,-1660 210,-1660 210,-1641 311,-1641 311,-1660\"/>\r\n",
       "<text text-anchor=\"middle\" x=\"260.5\" y=\"-1648\" font-family=\"monospace\" font-size=\"10.00\">SliceBackward0</text>\r\n",
       "</g>\r\n",
       "<!-- 1444776879504&#45;&gt;1444776879984 -->\r\n",
       "<g id=\"edge27\" class=\"edge\"><title>1444776879504&#45;&gt;1444776879984</title>\r\n",
       "<path fill=\"none\" stroke=\"black\" d=\"M260.205,-1640.87C259.927,-1632.75 259.502,-1620.31 259.146,-1609.89\"/>\r\n",
       "<polygon fill=\"black\" stroke=\"black\" points=\"262.636,-1609.54 258.796,-1599.67 255.64,-1609.78 262.636,-1609.54\"/>\r\n",
       "</g>\r\n",
       "<!-- 1444776870528 -->\r\n",
       "<g id=\"node30\" class=\"node\"><title>1444776870528</title>\r\n",
       "<polygon fill=\"lightgrey\" stroke=\"black\" points=\"350,-1715 243,-1715 243,-1696 350,-1696 350,-1715\"/>\r\n",
       "<text text-anchor=\"middle\" x=\"296.5\" y=\"-1703\" font-family=\"monospace\" font-size=\"10.00\">SelectBackward0</text>\r\n",
       "</g>\r\n",
       "<!-- 1444776870528&#45;&gt;1444776879504 -->\r\n",
       "<g id=\"edge28\" class=\"edge\"><title>1444776870528&#45;&gt;1444776879504</title>\r\n",
       "<path fill=\"none\" stroke=\"black\" d=\"M290.555,-1695.75C285.523,-1688.34 278.163,-1677.5 271.987,-1668.41\"/>\r\n",
       "<polygon fill=\"black\" stroke=\"black\" points=\"274.848,-1666.39 266.334,-1660.09 269.058,-1670.33 274.848,-1666.39\"/>\r\n",
       "</g>\r\n",
       "<!-- 1444776875088 -->\r\n",
       "<g id=\"node31\" class=\"node\"><title>1444776875088</title>\r\n",
       "<polygon fill=\"lightgrey\" stroke=\"black\" points=\"353,-1770 252,-1770 252,-1751 353,-1751 353,-1770\"/>\r\n",
       "<text text-anchor=\"middle\" x=\"302.5\" y=\"-1758\" font-family=\"monospace\" font-size=\"10.00\">SliceBackward0</text>\r\n",
       "</g>\r\n",
       "<!-- 1444776875088&#45;&gt;1444776870528 -->\r\n",
       "<g id=\"edge29\" class=\"edge\"><title>1444776875088&#45;&gt;1444776870528</title>\r\n",
       "<path fill=\"none\" stroke=\"black\" d=\"M301.509,-1750.75C300.723,-1743.8 299.596,-1733.85 298.61,-1725.13\"/>\r\n",
       "<polygon fill=\"black\" stroke=\"black\" points=\"302.075,-1724.63 297.472,-1715.09 295.12,-1725.42 302.075,-1724.63\"/>\r\n",
       "</g>\r\n",
       "<!-- 1444776882576 -->\r\n",
       "<g id=\"node32\" class=\"node\"><title>1444776882576</title>\r\n",
       "<polygon fill=\"lightgrey\" stroke=\"black\" points=\"481,-1825 374,-1825 374,-1806 481,-1806 481,-1825\"/>\r\n",
       "<text text-anchor=\"middle\" x=\"427.5\" y=\"-1813\" font-family=\"monospace\" font-size=\"10.00\">ToCopyBackward0</text>\r\n",
       "</g>\r\n",
       "<!-- 1444776882576&#45;&gt;1444776875088 -->\r\n",
       "<g id=\"edge30\" class=\"edge\"><title>1444776882576&#45;&gt;1444776875088</title>\r\n",
       "<path fill=\"none\" stroke=\"black\" d=\"M407.417,-1805.98C387.127,-1797.38 355.545,-1783.99 332.329,-1774.15\"/>\r\n",
       "<polygon fill=\"black\" stroke=\"black\" points=\"333.522,-1770.85 322.949,-1770.17 330.789,-1777.3 333.522,-1770.85\"/>\r\n",
       "</g>\r\n",
       "<!-- 1444776885984 -->\r\n",
       "<g id=\"node53\" class=\"node\"><title>1444776885984</title>\r\n",
       "<polygon fill=\"lightgrey\" stroke=\"black\" points=\"478,-1770 377,-1770 377,-1751 478,-1751 478,-1770\"/>\r\n",
       "<text text-anchor=\"middle\" x=\"427.5\" y=\"-1758\" font-family=\"monospace\" font-size=\"10.00\">SliceBackward0</text>\r\n",
       "</g>\r\n",
       "<!-- 1444776882576&#45;&gt;1444776885984 -->\r\n",
       "<g id=\"edge52\" class=\"edge\"><title>1444776882576&#45;&gt;1444776885984</title>\r\n",
       "<path fill=\"none\" stroke=\"black\" d=\"M427.5,-1805.75C427.5,-1798.8 427.5,-1788.85 427.5,-1780.13\"/>\r\n",
       "<polygon fill=\"black\" stroke=\"black\" points=\"431,-1780.09 427.5,-1770.09 424,-1780.09 431,-1780.09\"/>\r\n",
       "</g>\r\n",
       "<!-- 1444776882048 -->\r\n",
       "<g id=\"node64\" class=\"node\"><title>1444776882048</title>\r\n",
       "<polygon fill=\"lightgrey\" stroke=\"black\" points=\"220,-1770 119,-1770 119,-1751 220,-1751 220,-1770\"/>\r\n",
       "<text text-anchor=\"middle\" x=\"169.5\" y=\"-1758\" font-family=\"monospace\" font-size=\"10.00\">SliceBackward0</text>\r\n",
       "</g>\r\n",
       "<!-- 1444776882576&#45;&gt;1444776882048 -->\r\n",
       "<g id=\"edge68\" class=\"edge\"><title>1444776882576&#45;&gt;1444776882048</title>\r\n",
       "<path fill=\"none\" stroke=\"black\" d=\"M386.048,-1805.98C341.232,-1796.78 269.725,-1782.09 221.253,-1772.13\"/>\r\n",
       "<polygon fill=\"black\" stroke=\"black\" points=\"221.777,-1768.67 211.277,-1770.08 220.368,-1775.52 221.777,-1768.67\"/>\r\n",
       "</g>\r\n",
       "<!-- 1449285753328 -->\r\n",
       "<g id=\"node75\" class=\"node\"><title>1449285753328</title>\r\n",
       "<polygon fill=\"lightgrey\" stroke=\"black\" points=\"628,-1770 527,-1770 527,-1751 628,-1751 628,-1770\"/>\r\n",
       "<text text-anchor=\"middle\" x=\"577.5\" y=\"-1758\" font-family=\"monospace\" font-size=\"10.00\">SliceBackward0</text>\r\n",
       "</g>\r\n",
       "<!-- 1444776882576&#45;&gt;1449285753328 -->\r\n",
       "<g id=\"edge84\" class=\"edge\"><title>1444776882576&#45;&gt;1449285753328</title>\r\n",
       "<path fill=\"none\" stroke=\"black\" d=\"M451.6,-1805.98C476.383,-1797.23 515.204,-1783.51 543.188,-1773.62\"/>\r\n",
       "<polygon fill=\"black\" stroke=\"black\" points=\"544.699,-1776.8 552.961,-1770.17 542.367,-1770.2 544.699,-1776.8\"/>\r\n",
       "</g>\r\n",
       "<!-- 1449285755200 -->\r\n",
       "<g id=\"node86\" class=\"node\"><title>1449285755200</title>\r\n",
       "<polygon fill=\"lightgrey\" stroke=\"black\" points=\"779,-1770 678,-1770 678,-1751 779,-1751 779,-1770\"/>\r\n",
       "<text text-anchor=\"middle\" x=\"728.5\" y=\"-1758\" font-family=\"monospace\" font-size=\"10.00\">SliceBackward0</text>\r\n",
       "</g>\r\n",
       "<!-- 1444776882576&#45;&gt;1449285755200 -->\r\n",
       "<g id=\"edge100\" class=\"edge\"><title>1444776882576&#45;&gt;1449285755200</title>\r\n",
       "<path fill=\"none\" stroke=\"black\" d=\"M475.861,-1805.98C528.692,-1796.68 613.319,-1781.78 669.887,-1771.82\"/>\r\n",
       "<polygon fill=\"black\" stroke=\"black\" points=\"670.519,-1775.26 679.76,-1770.08 669.305,-1768.37 670.519,-1775.26\"/>\r\n",
       "</g>\r\n",
       "<!-- 1444776879600 -->\r\n",
       "<g id=\"node33\" class=\"node\"><title>1444776879600</title>\r\n",
       "<polygon fill=\"lightgrey\" stroke=\"black\" points=\"478,-1880 377,-1880 377,-1861 478,-1861 478,-1880\"/>\r\n",
       "<text text-anchor=\"middle\" x=\"427.5\" y=\"-1868\" font-family=\"monospace\" font-size=\"10.00\">AccumulateGrad</text>\r\n",
       "</g>\r\n",
       "<!-- 1444776879600&#45;&gt;1444776882576 -->\r\n",
       "<g id=\"edge31\" class=\"edge\"><title>1444776879600&#45;&gt;1444776882576</title>\r\n",
       "<path fill=\"none\" stroke=\"black\" d=\"M427.5,-1860.75C427.5,-1853.8 427.5,-1843.85 427.5,-1835.13\"/>\r\n",
       "<polygon fill=\"black\" stroke=\"black\" points=\"431,-1835.09 427.5,-1825.09 424,-1835.09 431,-1835.09\"/>\r\n",
       "</g>\r\n",
       "<!-- 1444774634624 -->\r\n",
       "<g id=\"node34\" class=\"node\"><title>1444774634624</title>\r\n",
       "<polygon fill=\"lightblue\" stroke=\"black\" points=\"493,-1946 362,-1946 362,-1916 493,-1916 493,-1946\"/>\r\n",
       "<text text-anchor=\"middle\" x=\"427.5\" y=\"-1934\" font-family=\"monospace\" font-size=\"10.00\">sample_inputs</text>\r\n",
       "<text text-anchor=\"middle\" x=\"427.5\" y=\"-1923\" font-family=\"monospace\" font-size=\"10.00\"> (1024, 5, 3, 5, 5)</text>\r\n",
       "</g>\r\n",
       "<!-- 1444774634624&#45;&gt;1444776879600 -->\r\n",
       "<g id=\"edge32\" class=\"edge\"><title>1444774634624&#45;&gt;1444776879600</title>\r\n",
       "<path fill=\"none\" stroke=\"black\" d=\"M427.5,-1915.84C427.5,-1908.21 427.5,-1898.7 427.5,-1890.45\"/>\r\n",
       "<polygon fill=\"black\" stroke=\"black\" points=\"431,-1890.27 427.5,-1880.27 424,-1890.27 431,-1890.27\"/>\r\n",
       "</g>\r\n",
       "<!-- 1444776873696 -->\r\n",
       "<g id=\"node35\" class=\"node\"><title>1444776873696</title>\r\n",
       "<polygon fill=\"lightgrey\" stroke=\"black\" points=\"597,-1539 496,-1539 496,-1520 597,-1520 597,-1539\"/>\r\n",
       "<text text-anchor=\"middle\" x=\"546.5\" y=\"-1527\" font-family=\"monospace\" font-size=\"10.00\">AccumulateGrad</text>\r\n",
       "</g>\r\n",
       "<!-- 1444776873696&#45;&gt;1444776872400 -->\r\n",
       "<g id=\"edge33\" class=\"edge\"><title>1444776873696&#45;&gt;1444776872400</title>\r\n",
       "<path fill=\"none\" stroke=\"black\" d=\"M504.041,-1519.99C451.923,-1509.55 363.54,-1491.85 307.151,-1480.55\"/>\r\n",
       "<polygon fill=\"black\" stroke=\"black\" points=\"307.503,-1477.05 297.011,-1478.52 306.128,-1483.91 307.503,-1477.05\"/>\r\n",
       "</g>\r\n",
       "<!-- 1444776878256 -->\r\n",
       "<g id=\"node48\" class=\"node\"><title>1444776878256</title>\r\n",
       "<polygon fill=\"lightgrey\" stroke=\"black\" points=\"698,-1478.5 561,-1478.5 561,-1459.5 698,-1459.5 698,-1478.5\"/>\r\n",
       "<text text-anchor=\"middle\" x=\"629.5\" y=\"-1466.5\" font-family=\"monospace\" font-size=\"10.00\">ConvolutionBackward0</text>\r\n",
       "</g>\r\n",
       "<!-- 1444776873696&#45;&gt;1444776878256 -->\r\n",
       "<g id=\"edge53\" class=\"edge\"><title>1444776873696&#45;&gt;1444776878256</title>\r\n",
       "<path fill=\"none\" stroke=\"black\" d=\"M558.747,-1519.87C571.865,-1510.62 592.917,-1495.78 608.653,-1484.69\"/>\r\n",
       "<polygon fill=\"black\" stroke=\"black\" points=\"611.045,-1487.29 617.203,-1478.67 607.013,-1481.57 611.045,-1487.29\"/>\r\n",
       "</g>\r\n",
       "<!-- 1444776876192 -->\r\n",
       "<g id=\"node59\" class=\"node\"><title>1444776876192</title>\r\n",
       "<polygon fill=\"lightgrey\" stroke=\"black\" points=\"168,-1478.5 31,-1478.5 31,-1459.5 168,-1459.5 168,-1478.5\"/>\r\n",
       "<text text-anchor=\"middle\" x=\"99.5\" y=\"-1466.5\" font-family=\"monospace\" font-size=\"10.00\">ConvolutionBackward0</text>\r\n",
       "</g>\r\n",
       "<!-- 1444776873696&#45;&gt;1444776876192 -->\r\n",
       "<g id=\"edge69\" class=\"edge\"><title>1444776873696&#45;&gt;1444776876192</title>\r\n",
       "<path fill=\"none\" stroke=\"black\" d=\"M495.773,-1521.22C492.636,-1520.8 489.526,-1520.39 486.5,-1520 348.934,-1502.27 313.693,-1504.42 176.5,-1484 169.118,-1482.9 161.359,-1481.63 153.724,-1480.31\"/>\r\n",
       "<polygon fill=\"black\" stroke=\"black\" points=\"154.258,-1476.85 143.801,-1478.56 153.04,-1483.74 154.258,-1476.85\"/>\r\n",
       "</g>\r\n",
       "<!-- 1444776870816 -->\r\n",
       "<g id=\"node70\" class=\"node\"><title>1444776870816</title>\r\n",
       "<polygon fill=\"lightgrey\" stroke=\"black\" points=\"853,-1478.5 716,-1478.5 716,-1459.5 853,-1459.5 853,-1478.5\"/>\r\n",
       "<text text-anchor=\"middle\" x=\"784.5\" y=\"-1466.5\" font-family=\"monospace\" font-size=\"10.00\">ConvolutionBackward0</text>\r\n",
       "</g>\r\n",
       "<!-- 1444776873696&#45;&gt;1444776870816 -->\r\n",
       "<g id=\"edge85\" class=\"edge\"><title>1444776873696&#45;&gt;1444776870816</title>\r\n",
       "<path fill=\"none\" stroke=\"black\" d=\"M581.107,-1519.99C623.058,-1509.68 693.836,-1492.28 739.857,-1480.97\"/>\r\n",
       "<polygon fill=\"black\" stroke=\"black\" points=\"740.975,-1484.3 749.851,-1478.52 739.305,-1477.5 740.975,-1484.3\"/>\r\n",
       "</g>\r\n",
       "<!-- 1449285753280 -->\r\n",
       "<g id=\"node81\" class=\"node\"><title>1449285753280</title>\r\n",
       "<polygon fill=\"lightgrey\" stroke=\"black\" points=\"1008,-1478.5 871,-1478.5 871,-1459.5 1008,-1459.5 1008,-1478.5\"/>\r\n",
       "<text text-anchor=\"middle\" x=\"939.5\" y=\"-1466.5\" font-family=\"monospace\" font-size=\"10.00\">ConvolutionBackward0</text>\r\n",
       "</g>\r\n",
       "<!-- 1444776873696&#45;&gt;1449285753280 -->\r\n",
       "<g id=\"edge101\" class=\"edge\"><title>1444776873696&#45;&gt;1449285753280</title>\r\n",
       "<path fill=\"none\" stroke=\"black\" d=\"M597.029,-1521.21C599.895,-1520.8 602.734,-1520.39 605.5,-1520 719.251,-1503.81 748.046,-1502.15 861.5,-1484 868.692,-1482.85 876.244,-1481.58 883.701,-1480.28\"/>\r\n",
       "<polygon fill=\"black\" stroke=\"black\" points=\"884.526,-1483.69 893.768,-1478.51 883.312,-1476.79 884.526,-1483.69\"/>\r\n",
       "</g>\r\n",
       "<!-- 1444777335744 -->\r\n",
       "<g id=\"node36\" class=\"node\"><title>1444777335744</title>\r\n",
       "<polygon fill=\"lightblue\" stroke=\"black\" points=\"597,-1605 496,-1605 496,-1575 597,-1575 597,-1605\"/>\r\n",
       "<text text-anchor=\"middle\" x=\"546.5\" y=\"-1593\" font-family=\"monospace\" font-size=\"10.00\">conv1.weight</text>\r\n",
       "<text text-anchor=\"middle\" x=\"546.5\" y=\"-1582\" font-family=\"monospace\" font-size=\"10.00\"> (10, 3, 2, 2)</text>\r\n",
       "</g>\r\n",
       "<!-- 1444777335744&#45;&gt;1444776873696 -->\r\n",
       "<g id=\"edge34\" class=\"edge\"><title>1444777335744&#45;&gt;1444776873696</title>\r\n",
       "<path fill=\"none\" stroke=\"black\" d=\"M546.5,-1574.84C546.5,-1567.21 546.5,-1557.7 546.5,-1549.45\"/>\r\n",
       "<polygon fill=\"black\" stroke=\"black\" points=\"550,-1549.27 546.5,-1539.27 543,-1549.27 550,-1549.27\"/>\r\n",
       "</g>\r\n",
       "<!-- 1444776883728 -->\r\n",
       "<g id=\"node37\" class=\"node\"><title>1444776883728</title>\r\n",
       "<polygon fill=\"lightgrey\" stroke=\"black\" points=\"716,-1539 615,-1539 615,-1520 716,-1520 716,-1539\"/>\r\n",
       "<text text-anchor=\"middle\" x=\"665.5\" y=\"-1527\" font-family=\"monospace\" font-size=\"10.00\">AccumulateGrad</text>\r\n",
       "</g>\r\n",
       "<!-- 1444776883728&#45;&gt;1444776872400 -->\r\n",
       "<g id=\"edge35\" class=\"edge\"><title>1444776883728&#45;&gt;1444776872400</title>\r\n",
       "<path fill=\"none\" stroke=\"black\" d=\"M614.766,-1521.28C611.631,-1520.84 608.523,-1520.41 605.5,-1520 483.805,-1503.39 452.847,-1502.99 331.5,-1484 324.301,-1482.87 316.74,-1481.6 309.284,-1480.3\"/>\r\n",
       "<polygon fill=\"black\" stroke=\"black\" points=\"309.683,-1476.82 299.225,-1478.52 308.459,-1483.71 309.683,-1476.82\"/>\r\n",
       "</g>\r\n",
       "<!-- 1444776883728&#45;&gt;1444776878256 -->\r\n",
       "<g id=\"edge54\" class=\"edge\"><title>1444776883728&#45;&gt;1444776878256</title>\r\n",
       "<path fill=\"none\" stroke=\"black\" d=\"M660.188,-1519.87C654.924,-1511.31 646.713,-1497.97 640.109,-1487.24\"/>\r\n",
       "<polygon fill=\"black\" stroke=\"black\" points=\"643.056,-1485.35 634.834,-1478.67 637.094,-1489.02 643.056,-1485.35\"/>\r\n",
       "</g>\r\n",
       "<!-- 1444776883728&#45;&gt;1444776876192 -->\r\n",
       "<g id=\"edge70\" class=\"edge\"><title>1444776883728&#45;&gt;1444776876192</title>\r\n",
       "<path fill=\"none\" stroke=\"black\" d=\"M614.787,-1521.11C611.647,-1520.72 608.532,-1520.34 605.5,-1520 415.367,-1498.57 366.178,-1509.14 176.5,-1484 168.639,-1482.96 160.361,-1481.66 152.264,-1480.29\"/>\r\n",
       "<polygon fill=\"black\" stroke=\"black\" points=\"152.605,-1476.79 142.15,-1478.51 151.393,-1483.69 152.605,-1476.79\"/>\r\n",
       "</g>\r\n",
       "<!-- 1444776883728&#45;&gt;1444776870816 -->\r\n",
       "<g id=\"edge86\" class=\"edge\"><title>1444776883728&#45;&gt;1444776870816</title>\r\n",
       "<path fill=\"none\" stroke=\"black\" d=\"M682.804,-1519.99C702.545,-1510.29 735.055,-1494.31 757.995,-1483.03\"/>\r\n",
       "<polygon fill=\"black\" stroke=\"black\" points=\"759.745,-1486.07 767.175,-1478.52 756.657,-1479.79 759.745,-1486.07\"/>\r\n",
       "</g>\r\n",
       "<!-- 1444776883728&#45;&gt;1449285753280 -->\r\n",
       "<g id=\"edge102\" class=\"edge\"><title>1444776883728&#45;&gt;1449285753280</title>\r\n",
       "<path fill=\"none\" stroke=\"black\" d=\"M705.342,-1519.99C754.145,-1509.57 836.838,-1491.92 889.765,-1480.62\"/>\r\n",
       "<polygon fill=\"black\" stroke=\"black\" points=\"890.561,-1484.03 899.61,-1478.52 889.1,-1477.18 890.561,-1484.03\"/>\r\n",
       "</g>\r\n",
       "<!-- 1448558347744 -->\r\n",
       "<g id=\"node38\" class=\"node\"><title>1448558347744</title>\r\n",
       "<polygon fill=\"lightblue\" stroke=\"black\" points=\"704,-1605 627,-1605 627,-1575 704,-1575 704,-1605\"/>\r\n",
       "<text text-anchor=\"middle\" x=\"665.5\" y=\"-1593\" font-family=\"monospace\" font-size=\"10.00\">conv1.bias</text>\r\n",
       "<text text-anchor=\"middle\" x=\"665.5\" y=\"-1582\" font-family=\"monospace\" font-size=\"10.00\"> (10)</text>\r\n",
       "</g>\r\n",
       "<!-- 1448558347744&#45;&gt;1444776883728 -->\r\n",
       "<g id=\"edge36\" class=\"edge\"><title>1448558347744&#45;&gt;1444776883728</title>\r\n",
       "<path fill=\"none\" stroke=\"black\" d=\"M665.5,-1574.84C665.5,-1567.21 665.5,-1557.7 665.5,-1549.45\"/>\r\n",
       "<polygon fill=\"black\" stroke=\"black\" points=\"669,-1549.27 665.5,-1539.27 662,-1549.27 669,-1549.27\"/>\r\n",
       "</g>\r\n",
       "<!-- 1444776871680 -->\r\n",
       "<g id=\"node39\" class=\"node\"><title>1444776871680</title>\r\n",
       "<polygon fill=\"lightgrey\" stroke=\"black\" points=\"445,-1418 344,-1418 344,-1399 445,-1399 445,-1418\"/>\r\n",
       "<text text-anchor=\"middle\" x=\"394.5\" y=\"-1406\" font-family=\"monospace\" font-size=\"10.00\">AccumulateGrad</text>\r\n",
       "</g>\r\n",
       "<!-- 1444776871680&#45;&gt;1444776884688 -->\r\n",
       "<g id=\"edge37\" class=\"edge\"><title>1444776871680&#45;&gt;1444776884688</title>\r\n",
       "<path fill=\"none\" stroke=\"black\" d=\"M386.409,-1398.75C379.345,-1391.11 368.912,-1379.82 360.351,-1370.56\"/>\r\n",
       "<polygon fill=\"black\" stroke=\"black\" points=\"362.799,-1368.06 353.441,-1363.09 357.659,-1372.81 362.799,-1368.06\"/>\r\n",
       "</g>\r\n",
       "<!-- 1444776871344 -->\r\n",
       "<g id=\"node46\" class=\"node\"><title>1444776871344</title>\r\n",
       "<polygon fill=\"lightgrey\" stroke=\"black\" points=\"582,-1363 445,-1363 445,-1344 582,-1344 582,-1363\"/>\r\n",
       "<text text-anchor=\"middle\" x=\"513.5\" y=\"-1351\" font-family=\"monospace\" font-size=\"10.00\">ConvolutionBackward0</text>\r\n",
       "</g>\r\n",
       "<!-- 1444776871680&#45;&gt;1444776871344 -->\r\n",
       "<g id=\"edge55\" class=\"edge\"><title>1444776871680&#45;&gt;1444776871344</title>\r\n",
       "<path fill=\"none\" stroke=\"black\" d=\"M413.619,-1398.98C432.849,-1390.42 462.733,-1377.11 484.806,-1367.28\"/>\r\n",
       "<polygon fill=\"black\" stroke=\"black\" points=\"486.322,-1370.44 494.033,-1363.17 483.474,-1364.04 486.322,-1370.44\"/>\r\n",
       "</g>\r\n",
       "<!-- 1444776870192 -->\r\n",
       "<g id=\"node57\" class=\"node\"><title>1444776870192</title>\r\n",
       "<polygon fill=\"lightgrey\" stroke=\"black\" points=\"225,-1363 88,-1363 88,-1344 225,-1344 225,-1363\"/>\r\n",
       "<text text-anchor=\"middle\" x=\"156.5\" y=\"-1351\" font-family=\"monospace\" font-size=\"10.00\">ConvolutionBackward0</text>\r\n",
       "</g>\r\n",
       "<!-- 1444776871680&#45;&gt;1444776870192 -->\r\n",
       "<g id=\"edge71\" class=\"edge\"><title>1444776871680&#45;&gt;1444776870192</title>\r\n",
       "<path fill=\"none\" stroke=\"black\" d=\"M356.261,-1398.98C315.093,-1389.82 249.508,-1375.21 204.804,-1365.26\"/>\r\n",
       "<polygon fill=\"black\" stroke=\"black\" points=\"205.56,-1361.84 195.039,-1363.08 204.039,-1368.67 205.56,-1361.84\"/>\r\n",
       "</g>\r\n",
       "<!-- 1444776879792 -->\r\n",
       "<g id=\"node68\" class=\"node\"><title>1444776879792</title>\r\n",
       "<polygon fill=\"lightgrey\" stroke=\"black\" points=\"750,-1363 613,-1363 613,-1344 750,-1344 750,-1363\"/>\r\n",
       "<text text-anchor=\"middle\" x=\"681.5\" y=\"-1351\" font-family=\"monospace\" font-size=\"10.00\">ConvolutionBackward0</text>\r\n",
       "</g>\r\n",
       "<!-- 1444776871680&#45;&gt;1444776879792 -->\r\n",
       "<g id=\"edge87\" class=\"edge\"><title>1444776871680&#45;&gt;1444776879792</title>\r\n",
       "<path fill=\"none\" stroke=\"black\" d=\"M440.612,-1398.98C490.777,-1389.72 571.009,-1374.9 624.942,-1364.94\"/>\r\n",
       "<polygon fill=\"black\" stroke=\"black\" points=\"625.829,-1368.34 635.027,-1363.08 624.558,-1361.46 625.829,-1368.34\"/>\r\n",
       "</g>\r\n",
       "<!-- 1444776880944 -->\r\n",
       "<g id=\"node79\" class=\"node\"><title>1444776880944</title>\r\n",
       "<polygon fill=\"lightgrey\" stroke=\"black\" points=\"914,-1363 777,-1363 777,-1344 914,-1344 914,-1363\"/>\r\n",
       "<text text-anchor=\"middle\" x=\"845.5\" y=\"-1351\" font-family=\"monospace\" font-size=\"10.00\">ConvolutionBackward0</text>\r\n",
       "</g>\r\n",
       "<!-- 1444776871680&#45;&gt;1444776880944 -->\r\n",
       "<g id=\"edge103\" class=\"edge\"><title>1444776871680&#45;&gt;1444776880944</title>\r\n",
       "<path fill=\"none\" stroke=\"black\" d=\"M445.017,-1400.12C447.886,-1399.73 450.729,-1399.36 453.5,-1399 561.746,-1385.06 687.113,-1371.23 766.349,-1362.78\"/>\r\n",
       "<polygon fill=\"black\" stroke=\"black\" points=\"767.164,-1366.21 776.737,-1361.67 766.423,-1359.25 767.164,-1366.21\"/>\r\n",
       "</g>\r\n",
       "<!-- 1444777331104 -->\r\n",
       "<g id=\"node40\" class=\"node\"><title>1444777331104</title>\r\n",
       "<polygon fill=\"lightblue\" stroke=\"black\" points=\"448,-1484 341,-1484 341,-1454 448,-1454 448,-1484\"/>\r\n",
       "<text text-anchor=\"middle\" x=\"394.5\" y=\"-1472\" font-family=\"monospace\" font-size=\"10.00\">conv2.weight</text>\r\n",
       "<text text-anchor=\"middle\" x=\"394.5\" y=\"-1461\" font-family=\"monospace\" font-size=\"10.00\"> (20, 10, 2, 2)</text>\r\n",
       "</g>\r\n",
       "<!-- 1444777331104&#45;&gt;1444776871680 -->\r\n",
       "<g id=\"edge38\" class=\"edge\"><title>1444777331104&#45;&gt;1444776871680</title>\r\n",
       "<path fill=\"none\" stroke=\"black\" d=\"M394.5,-1453.84C394.5,-1446.21 394.5,-1436.7 394.5,-1428.45\"/>\r\n",
       "<polygon fill=\"black\" stroke=\"black\" points=\"398,-1428.27 394.5,-1418.27 391,-1428.27 398,-1428.27\"/>\r\n",
       "</g>\r\n",
       "<!-- 1444776883488 -->\r\n",
       "<g id=\"node41\" class=\"node\"><title>1444776883488</title>\r\n",
       "<polygon fill=\"lightgrey\" stroke=\"black\" points=\"564,-1418 463,-1418 463,-1399 564,-1399 564,-1418\"/>\r\n",
       "<text text-anchor=\"middle\" x=\"513.5\" y=\"-1406\" font-family=\"monospace\" font-size=\"10.00\">AccumulateGrad</text>\r\n",
       "</g>\r\n",
       "<!-- 1444776883488&#45;&gt;1444776884688 -->\r\n",
       "<g id=\"edge39\" class=\"edge\"><title>1444776883488&#45;&gt;1444776884688</title>\r\n",
       "<path fill=\"none\" stroke=\"black\" d=\"M486.508,-1398.98C458.303,-1390.09 413.861,-1376.07 382.418,-1366.15\"/>\r\n",
       "<polygon fill=\"black\" stroke=\"black\" points=\"383.293,-1362.75 372.704,-1363.08 381.187,-1369.43 383.293,-1362.75\"/>\r\n",
       "</g>\r\n",
       "<!-- 1444776883488&#45;&gt;1444776871344 -->\r\n",
       "<g id=\"edge56\" class=\"edge\"><title>1444776883488&#45;&gt;1444776871344</title>\r\n",
       "<path fill=\"none\" stroke=\"black\" d=\"M513.5,-1398.75C513.5,-1391.8 513.5,-1381.85 513.5,-1373.13\"/>\r\n",
       "<polygon fill=\"black\" stroke=\"black\" points=\"517,-1373.09 513.5,-1363.09 510,-1373.09 517,-1373.09\"/>\r\n",
       "</g>\r\n",
       "<!-- 1444776883488&#45;&gt;1444776870192 -->\r\n",
       "<g id=\"edge72\" class=\"edge\"><title>1444776883488&#45;&gt;1444776870192</title>\r\n",
       "<path fill=\"none\" stroke=\"black\" d=\"M462.73,-1399.96C400.072,-1390.66 293.318,-1374.81 223.858,-1364.5\"/>\r\n",
       "<polygon fill=\"black\" stroke=\"black\" points=\"224.295,-1361.03 213.89,-1363.02 223.267,-1367.95 224.295,-1361.03\"/>\r\n",
       "</g>\r\n",
       "<!-- 1444776883488&#45;&gt;1444776879792 -->\r\n",
       "<g id=\"edge88\" class=\"edge\"><title>1444776883488&#45;&gt;1444776879792</title>\r\n",
       "<path fill=\"none\" stroke=\"black\" d=\"M540.492,-1398.98C568.697,-1390.09 613.139,-1376.07 644.582,-1366.15\"/>\r\n",
       "<polygon fill=\"black\" stroke=\"black\" points=\"645.813,-1369.43 654.296,-1363.08 643.707,-1362.75 645.813,-1369.43\"/>\r\n",
       "</g>\r\n",
       "<!-- 1444776883488&#45;&gt;1444776880944 -->\r\n",
       "<g id=\"edge104\" class=\"edge\"><title>1444776883488&#45;&gt;1444776880944</title>\r\n",
       "<path fill=\"none\" stroke=\"black\" d=\"M564.285,-1399.39C622.702,-1390.07 718.682,-1374.75 781.989,-1364.64\"/>\r\n",
       "<polygon fill=\"black\" stroke=\"black\" points=\"782.923,-1368.03 792.247,-1363 781.82,-1361.12 782.923,-1368.03\"/>\r\n",
       "</g>\r\n",
       "<!-- 1444777333504 -->\r\n",
       "<g id=\"node42\" class=\"node\"><title>1444777333504</title>\r\n",
       "<polygon fill=\"lightblue\" stroke=\"black\" points=\"543,-1484 466,-1484 466,-1454 543,-1454 543,-1484\"/>\r\n",
       "<text text-anchor=\"middle\" x=\"504.5\" y=\"-1472\" font-family=\"monospace\" font-size=\"10.00\">conv2.bias</text>\r\n",
       "<text text-anchor=\"middle\" x=\"504.5\" y=\"-1461\" font-family=\"monospace\" font-size=\"10.00\"> (20)</text>\r\n",
       "</g>\r\n",
       "<!-- 1444777333504&#45;&gt;1444776883488 -->\r\n",
       "<g id=\"edge40\" class=\"edge\"><title>1444777333504&#45;&gt;1444776883488</title>\r\n",
       "<path fill=\"none\" stroke=\"black\" d=\"M506.679,-1453.84C507.865,-1446.13 509.348,-1436.49 510.628,-1428.17\"/>\r\n",
       "<polygon fill=\"black\" stroke=\"black\" points=\"514.09,-1428.68 512.151,-1418.27 507.171,-1427.62 514.09,-1428.68\"/>\r\n",
       "</g>\r\n",
       "<!-- 1444776882864 -->\r\n",
       "<g id=\"node43\" class=\"node\"><title>1444776882864</title>\r\n",
       "<polygon fill=\"lightgrey\" stroke=\"black\" points=\"559,-1143 416,-1143 416,-1124 559,-1124 559,-1143\"/>\r\n",
       "<text text-anchor=\"middle\" x=\"487.5\" y=\"-1131\" font-family=\"monospace\" font-size=\"10.00\">ReshapeAliasBackward0</text>\r\n",
       "</g>\r\n",
       "<!-- 1444776882864&#45;&gt;1444776875664 -->\r\n",
       "<g id=\"edge41\" class=\"edge\"><title>1444776882864&#45;&gt;1444776875664</title>\r\n",
       "<path fill=\"none\" stroke=\"black\" d=\"M483.372,-1123.75C479.986,-1116.57 475.084,-1106.18 470.881,-1097.27\"/>\r\n",
       "<polygon fill=\"black\" stroke=\"black\" points=\"473.983,-1095.64 466.551,-1088.09 467.652,-1098.63 473.983,-1095.64\"/>\r\n",
       "</g>\r\n",
       "<!-- 1444776884448 -->\r\n",
       "<g id=\"node44\" class=\"node\"><title>1444776884448</title>\r\n",
       "<polygon fill=\"lightgrey\" stroke=\"black\" points=\"609,-1253 418,-1253 418,-1234 609,-1234 609,-1253\"/>\r\n",
       "<text text-anchor=\"middle\" x=\"513.5\" y=\"-1241\" font-family=\"monospace\" font-size=\"10.00\">MaxPool2DWithIndicesBackward0</text>\r\n",
       "</g>\r\n",
       "<!-- 1444776884448&#45;&gt;1444776882864 -->\r\n",
       "<g id=\"edge42\" class=\"edge\"><title>1444776884448&#45;&gt;1444776882864</title>\r\n",
       "<path fill=\"none\" stroke=\"black\" d=\"M511.372,-1233.66C507.142,-1216.09 497.598,-1176.45 491.942,-1152.95\"/>\r\n",
       "<polygon fill=\"black\" stroke=\"black\" points=\"495.328,-1152.06 489.584,-1143.16 488.522,-1153.7 495.328,-1152.06\"/>\r\n",
       "</g>\r\n",
       "<!-- 1444776872352 -->\r\n",
       "<g id=\"node45\" class=\"node\"><title>1444776872352</title>\r\n",
       "<polygon fill=\"lightgrey\" stroke=\"black\" points=\"561,-1308 466,-1308 466,-1289 561,-1289 561,-1308\"/>\r\n",
       "<text text-anchor=\"middle\" x=\"513.5\" y=\"-1296\" font-family=\"monospace\" font-size=\"10.00\">ReluBackward0</text>\r\n",
       "</g>\r\n",
       "<!-- 1444776872352&#45;&gt;1444776884448 -->\r\n",
       "<g id=\"edge43\" class=\"edge\"><title>1444776872352&#45;&gt;1444776884448</title>\r\n",
       "<path fill=\"none\" stroke=\"black\" d=\"M513.5,-1288.75C513.5,-1281.8 513.5,-1271.85 513.5,-1263.13\"/>\r\n",
       "<polygon fill=\"black\" stroke=\"black\" points=\"517,-1263.09 513.5,-1253.09 510,-1263.09 517,-1263.09\"/>\r\n",
       "</g>\r\n",
       "<!-- 1444776871344&#45;&gt;1444776872352 -->\r\n",
       "<g id=\"edge44\" class=\"edge\"><title>1444776871344&#45;&gt;1444776872352</title>\r\n",
       "<path fill=\"none\" stroke=\"black\" d=\"M513.5,-1343.75C513.5,-1336.8 513.5,-1326.85 513.5,-1318.13\"/>\r\n",
       "<polygon fill=\"black\" stroke=\"black\" points=\"517,-1318.09 513.5,-1308.09 510,-1318.09 517,-1318.09\"/>\r\n",
       "</g>\r\n",
       "<!-- 1444776871584 -->\r\n",
       "<g id=\"node47\" class=\"node\"><title>1444776871584</title>\r\n",
       "<polygon fill=\"lightgrey\" stroke=\"black\" points=\"677,-1418 582,-1418 582,-1399 677,-1399 677,-1418\"/>\r\n",
       "<text text-anchor=\"middle\" x=\"629.5\" y=\"-1406\" font-family=\"monospace\" font-size=\"10.00\">ReluBackward0</text>\r\n",
       "</g>\r\n",
       "<!-- 1444776871584&#45;&gt;1444776871344 -->\r\n",
       "<g id=\"edge45\" class=\"edge\"><title>1444776871584&#45;&gt;1444776871344</title>\r\n",
       "<path fill=\"none\" stroke=\"black\" d=\"M610.863,-1398.98C592.202,-1390.46 563.248,-1377.23 541.76,-1367.41\"/>\r\n",
       "<polygon fill=\"black\" stroke=\"black\" points=\"543.027,-1364.14 532.477,-1363.17 540.118,-1370.51 543.027,-1364.14\"/>\r\n",
       "</g>\r\n",
       "<!-- 1444776878256&#45;&gt;1444776871584 -->\r\n",
       "<g id=\"edge46\" class=\"edge\"><title>1444776878256&#45;&gt;1444776871584</title>\r\n",
       "<path fill=\"none\" stroke=\"black\" d=\"M629.5,-1459.37C629.5,-1451.25 629.5,-1438.81 629.5,-1428.39\"/>\r\n",
       "<polygon fill=\"black\" stroke=\"black\" points=\"633,-1428.17 629.5,-1418.17 626,-1428.17 633,-1428.17\"/>\r\n",
       "</g>\r\n",
       "<!-- 1444776870144 -->\r\n",
       "<g id=\"node49\" class=\"node\"><title>1444776870144</title>\r\n",
       "<polygon fill=\"lightgrey\" stroke=\"black\" points=\"478,-1539 377,-1539 377,-1520 478,-1520 478,-1539\"/>\r\n",
       "<text text-anchor=\"middle\" x=\"427.5\" y=\"-1527\" font-family=\"monospace\" font-size=\"10.00\">SliceBackward0</text>\r\n",
       "</g>\r\n",
       "<!-- 1444776870144&#45;&gt;1444776878256 -->\r\n",
       "<g id=\"edge47\" class=\"edge\"><title>1444776870144&#45;&gt;1444776878256</title>\r\n",
       "<path fill=\"none\" stroke=\"black\" d=\"M456.873,-1519.99C492.104,-1509.79 551.291,-1492.65 590.372,-1481.33\"/>\r\n",
       "<polygon fill=\"black\" stroke=\"black\" points=\"591.46,-1484.66 600.092,-1478.52 589.513,-1477.94 591.46,-1484.66\"/>\r\n",
       "</g>\r\n",
       "<!-- 1444776871920 -->\r\n",
       "<g id=\"node50\" class=\"node\"><title>1444776871920</title>\r\n",
       "<polygon fill=\"lightgrey\" stroke=\"black\" points=\"478,-1599.5 377,-1599.5 377,-1580.5 478,-1580.5 478,-1599.5\"/>\r\n",
       "<text text-anchor=\"middle\" x=\"427.5\" y=\"-1587.5\" font-family=\"monospace\" font-size=\"10.00\">SliceBackward0</text>\r\n",
       "</g>\r\n",
       "<!-- 1444776871920&#45;&gt;1444776870144 -->\r\n",
       "<g id=\"edge48\" class=\"edge\"><title>1444776871920&#45;&gt;1444776870144</title>\r\n",
       "<path fill=\"none\" stroke=\"black\" d=\"M427.5,-1580.37C427.5,-1572.25 427.5,-1559.81 427.5,-1549.39\"/>\r\n",
       "<polygon fill=\"black\" stroke=\"black\" points=\"431,-1549.17 427.5,-1539.17 424,-1549.17 431,-1549.17\"/>\r\n",
       "</g>\r\n",
       "<!-- 1444776877632 -->\r\n",
       "<g id=\"node51\" class=\"node\"><title>1444776877632</title>\r\n",
       "<polygon fill=\"lightgrey\" stroke=\"black\" points=\"478,-1660 377,-1660 377,-1641 478,-1641 478,-1660\"/>\r\n",
       "<text text-anchor=\"middle\" x=\"427.5\" y=\"-1648\" font-family=\"monospace\" font-size=\"10.00\">SliceBackward0</text>\r\n",
       "</g>\r\n",
       "<!-- 1444776877632&#45;&gt;1444776871920 -->\r\n",
       "<g id=\"edge49\" class=\"edge\"><title>1444776877632&#45;&gt;1444776871920</title>\r\n",
       "<path fill=\"none\" stroke=\"black\" d=\"M427.5,-1640.87C427.5,-1632.75 427.5,-1620.31 427.5,-1609.89\"/>\r\n",
       "<polygon fill=\"black\" stroke=\"black\" points=\"431,-1609.67 427.5,-1599.67 424,-1609.67 431,-1609.67\"/>\r\n",
       "</g>\r\n",
       "<!-- 1444776871008 -->\r\n",
       "<g id=\"node52\" class=\"node\"><title>1444776871008</title>\r\n",
       "<polygon fill=\"lightgrey\" stroke=\"black\" points=\"481,-1715 374,-1715 374,-1696 481,-1696 481,-1715\"/>\r\n",
       "<text text-anchor=\"middle\" x=\"427.5\" y=\"-1703\" font-family=\"monospace\" font-size=\"10.00\">SelectBackward0</text>\r\n",
       "</g>\r\n",
       "<!-- 1444776871008&#45;&gt;1444776877632 -->\r\n",
       "<g id=\"edge50\" class=\"edge\"><title>1444776871008&#45;&gt;1444776877632</title>\r\n",
       "<path fill=\"none\" stroke=\"black\" d=\"M427.5,-1695.75C427.5,-1688.8 427.5,-1678.85 427.5,-1670.13\"/>\r\n",
       "<polygon fill=\"black\" stroke=\"black\" points=\"431,-1670.09 427.5,-1660.09 424,-1670.09 431,-1670.09\"/>\r\n",
       "</g>\r\n",
       "<!-- 1444776885984&#45;&gt;1444776871008 -->\r\n",
       "<g id=\"edge51\" class=\"edge\"><title>1444776885984&#45;&gt;1444776871008</title>\r\n",
       "<path fill=\"none\" stroke=\"black\" d=\"M427.5,-1750.75C427.5,-1743.8 427.5,-1733.85 427.5,-1725.13\"/>\r\n",
       "<polygon fill=\"black\" stroke=\"black\" points=\"431,-1725.09 427.5,-1715.09 424,-1725.09 431,-1725.09\"/>\r\n",
       "</g>\r\n",
       "<!-- 1444776879936 -->\r\n",
       "<g id=\"node54\" class=\"node\"><title>1444776879936</title>\r\n",
       "<polygon fill=\"lightgrey\" stroke=\"black\" points=\"356,-1088 213,-1088 213,-1069 356,-1069 356,-1088\"/>\r\n",
       "<text text-anchor=\"middle\" x=\"284.5\" y=\"-1076\" font-family=\"monospace\" font-size=\"10.00\">ReshapeAliasBackward0</text>\r\n",
       "</g>\r\n",
       "<!-- 1444776879936&#45;&gt;1444776872736 -->\r\n",
       "<g id=\"edge57\" class=\"edge\"><title>1444776879936&#45;&gt;1444776872736</title>\r\n",
       "<path fill=\"none\" stroke=\"black\" d=\"M313.099,-1068.98C343.112,-1060.05 390.478,-1045.94 423.816,-1036.02\"/>\r\n",
       "<polygon fill=\"black\" stroke=\"black\" points=\"425.092,-1039.29 433.677,-1033.08 423.094,-1032.58 425.092,-1039.29\"/>\r\n",
       "</g>\r\n",
       "<!-- 1444776872784 -->\r\n",
       "<g id=\"node55\" class=\"node\"><title>1444776872784</title>\r\n",
       "<polygon fill=\"lightgrey\" stroke=\"black\" points=\"191,-1253 0,-1253 0,-1234 191,-1234 191,-1253\"/>\r\n",
       "<text text-anchor=\"middle\" x=\"95.5\" y=\"-1241\" font-family=\"monospace\" font-size=\"10.00\">MaxPool2DWithIndicesBackward0</text>\r\n",
       "</g>\r\n",
       "<!-- 1444776872784&#45;&gt;1444776879936 -->\r\n",
       "<g id=\"edge58\" class=\"edge\"><title>1444776872784&#45;&gt;1444776879936</title>\r\n",
       "<path fill=\"none\" stroke=\"black\" d=\"M105.395,-1233.97C135.618,-1207.9 227.04,-1129.06 266.284,-1095.21\"/>\r\n",
       "<polygon fill=\"black\" stroke=\"black\" points=\"268.957,-1097.53 274.244,-1088.34 264.386,-1092.23 268.957,-1097.53\"/>\r\n",
       "</g>\r\n",
       "<!-- 1444776884784 -->\r\n",
       "<g id=\"node56\" class=\"node\"><title>1444776884784</title>\r\n",
       "<polygon fill=\"lightgrey\" stroke=\"black\" points=\"181,-1308 86,-1308 86,-1289 181,-1289 181,-1308\"/>\r\n",
       "<text text-anchor=\"middle\" x=\"133.5\" y=\"-1296\" font-family=\"monospace\" font-size=\"10.00\">ReluBackward0</text>\r\n",
       "</g>\r\n",
       "<!-- 1444776884784&#45;&gt;1444776872784 -->\r\n",
       "<g id=\"edge59\" class=\"edge\"><title>1444776884784&#45;&gt;1444776872784</title>\r\n",
       "<path fill=\"none\" stroke=\"black\" d=\"M127.225,-1288.75C121.913,-1281.34 114.145,-1270.5 107.625,-1261.41\"/>\r\n",
       "<polygon fill=\"black\" stroke=\"black\" points=\"110.33,-1259.18 101.658,-1253.09 104.641,-1263.26 110.33,-1259.18\"/>\r\n",
       "</g>\r\n",
       "<!-- 1444776870192&#45;&gt;1444776884784 -->\r\n",
       "<g id=\"edge60\" class=\"edge\"><title>1444776870192&#45;&gt;1444776884784</title>\r\n",
       "<path fill=\"none\" stroke=\"black\" d=\"M152.702,-1343.75C149.587,-1336.57 145.077,-1326.18 141.211,-1317.27\"/>\r\n",
       "<polygon fill=\"black\" stroke=\"black\" points=\"144.419,-1315.87 137.227,-1308.09 137.998,-1318.66 144.419,-1315.87\"/>\r\n",
       "</g>\r\n",
       "<!-- 1444776884352 -->\r\n",
       "<g id=\"node58\" class=\"node\"><title>1444776884352</title>\r\n",
       "<polygon fill=\"lightgrey\" stroke=\"black\" points=\"180,-1418 85,-1418 85,-1399 180,-1399 180,-1418\"/>\r\n",
       "<text text-anchor=\"middle\" x=\"132.5\" y=\"-1406\" font-family=\"monospace\" font-size=\"10.00\">ReluBackward0</text>\r\n",
       "</g>\r\n",
       "<!-- 1444776884352&#45;&gt;1444776870192 -->\r\n",
       "<g id=\"edge61\" class=\"edge\"><title>1444776884352&#45;&gt;1444776870192</title>\r\n",
       "<path fill=\"none\" stroke=\"black\" d=\"M136.463,-1398.75C139.713,-1391.57 144.419,-1381.18 148.454,-1372.27\"/>\r\n",
       "<polygon fill=\"black\" stroke=\"black\" points=\"151.674,-1373.64 152.611,-1363.09 145.297,-1370.75 151.674,-1373.64\"/>\r\n",
       "</g>\r\n",
       "<!-- 1444776876192&#45;&gt;1444776884352 -->\r\n",
       "<g id=\"edge62\" class=\"edge\"><title>1444776876192&#45;&gt;1444776884352</title>\r\n",
       "<path fill=\"none\" stroke=\"black\" d=\"M104.369,-1459.37C109.146,-1450.9 116.569,-1437.74 122.591,-1427.07\"/>\r\n",
       "<polygon fill=\"black\" stroke=\"black\" points=\"125.746,-1428.6 127.611,-1418.17 119.649,-1425.16 125.746,-1428.6\"/>\r\n",
       "</g>\r\n",
       "<!-- 1444776883824 -->\r\n",
       "<g id=\"node60\" class=\"node\"><title>1444776883824</title>\r\n",
       "<polygon fill=\"lightgrey\" stroke=\"black\" points=\"168,-1539 67,-1539 67,-1520 168,-1520 168,-1539\"/>\r\n",
       "<text text-anchor=\"middle\" x=\"117.5\" y=\"-1527\" font-family=\"monospace\" font-size=\"10.00\">SliceBackward0</text>\r\n",
       "</g>\r\n",
       "<!-- 1444776883824&#45;&gt;1444776876192 -->\r\n",
       "<g id=\"edge63\" class=\"edge\"><title>1444776883824&#45;&gt;1444776876192</title>\r\n",
       "<path fill=\"none\" stroke=\"black\" d=\"M114.844,-1519.87C112.318,-1511.66 108.436,-1499.04 105.209,-1488.55\"/>\r\n",
       "<polygon fill=\"black\" stroke=\"black\" points=\"108.453,-1487.2 102.167,-1478.67 101.763,-1489.25 108.453,-1487.2\"/>\r\n",
       "</g>\r\n",
       "<!-- 1444776882432 -->\r\n",
       "<g id=\"node61\" class=\"node\"><title>1444776882432</title>\r\n",
       "<polygon fill=\"lightgrey\" stroke=\"black\" points=\"177,-1599.5 76,-1599.5 76,-1580.5 177,-1580.5 177,-1599.5\"/>\r\n",
       "<text text-anchor=\"middle\" x=\"126.5\" y=\"-1587.5\" font-family=\"monospace\" font-size=\"10.00\">SliceBackward0</text>\r\n",
       "</g>\r\n",
       "<!-- 1444776882432&#45;&gt;1444776883824 -->\r\n",
       "<g id=\"edge64\" class=\"edge\"><title>1444776882432&#45;&gt;1444776883824</title>\r\n",
       "<path fill=\"none\" stroke=\"black\" d=\"M125.172,-1580.37C123.909,-1572.16 121.968,-1559.54 120.354,-1549.05\"/>\r\n",
       "<polygon fill=\"black\" stroke=\"black\" points=\"123.813,-1548.52 118.833,-1539.17 116.895,-1549.58 123.813,-1548.52\"/>\r\n",
       "</g>\r\n",
       "<!-- 1444776872160 -->\r\n",
       "<g id=\"node62\" class=\"node\"><title>1444776872160</title>\r\n",
       "<polygon fill=\"lightgrey\" stroke=\"black\" points=\"189,-1660 88,-1660 88,-1641 189,-1641 189,-1660\"/>\r\n",
       "<text text-anchor=\"middle\" x=\"138.5\" y=\"-1648\" font-family=\"monospace\" font-size=\"10.00\">SliceBackward0</text>\r\n",
       "</g>\r\n",
       "<!-- 1444776872160&#45;&gt;1444776882432 -->\r\n",
       "<g id=\"edge65\" class=\"edge\"><title>1444776872160&#45;&gt;1444776882432</title>\r\n",
       "<path fill=\"none\" stroke=\"black\" d=\"M136.729,-1640.87C135.045,-1632.66 132.457,-1620.04 130.306,-1609.55\"/>\r\n",
       "<polygon fill=\"black\" stroke=\"black\" points=\"133.716,-1608.76 128.278,-1599.67 126.859,-1610.17 133.716,-1608.76\"/>\r\n",
       "</g>\r\n",
       "<!-- 1444776883008 -->\r\n",
       "<g id=\"node63\" class=\"node\"><title>1444776883008</title>\r\n",
       "<polygon fill=\"lightgrey\" stroke=\"black\" points=\"214,-1715 107,-1715 107,-1696 214,-1696 214,-1715\"/>\r\n",
       "<text text-anchor=\"middle\" x=\"160.5\" y=\"-1703\" font-family=\"monospace\" font-size=\"10.00\">SelectBackward0</text>\r\n",
       "</g>\r\n",
       "<!-- 1444776883008&#45;&gt;1444776872160 -->\r\n",
       "<g id=\"edge66\" class=\"edge\"><title>1444776883008&#45;&gt;1444776872160</title>\r\n",
       "<path fill=\"none\" stroke=\"black\" d=\"M156.867,-1695.75C153.92,-1688.65 149.667,-1678.4 145.995,-1669.56\"/>\r\n",
       "<polygon fill=\"black\" stroke=\"black\" points=\"149.132,-1667.98 142.065,-1660.09 142.667,-1670.67 149.132,-1667.98\"/>\r\n",
       "</g>\r\n",
       "<!-- 1444776882048&#45;&gt;1444776883008 -->\r\n",
       "<g id=\"edge67\" class=\"edge\"><title>1444776882048&#45;&gt;1444776883008</title>\r\n",
       "<path fill=\"none\" stroke=\"black\" d=\"M168.014,-1750.75C166.834,-1743.8 165.144,-1733.85 163.664,-1725.13\"/>\r\n",
       "<polygon fill=\"black\" stroke=\"black\" points=\"167.083,-1724.36 161.959,-1715.09 160.182,-1725.53 167.083,-1724.36\"/>\r\n",
       "</g>\r\n",
       "<!-- 1444776872496 -->\r\n",
       "<g id=\"node65\" class=\"node\"><title>1444776872496</title>\r\n",
       "<polygon fill=\"lightgrey\" stroke=\"black\" points=\"794,-1033 651,-1033 651,-1014 794,-1014 794,-1033\"/>\r\n",
       "<text text-anchor=\"middle\" x=\"722.5\" y=\"-1021\" font-family=\"monospace\" font-size=\"10.00\">ReshapeAliasBackward0</text>\r\n",
       "</g>\r\n",
       "<!-- 1444776872496&#45;&gt;1444776880416 -->\r\n",
       "<g id=\"edge73\" class=\"edge\"><title>1444776872496&#45;&gt;1444776880416</title>\r\n",
       "<path fill=\"none\" stroke=\"black\" d=\"M722.5,-1013.87C722.5,-1005.75 722.5,-993.307 722.5,-982.885\"/>\r\n",
       "<polygon fill=\"black\" stroke=\"black\" points=\"726,-982.667 722.5,-972.667 719,-982.667 726,-982.667\"/>\r\n",
       "</g>\r\n",
       "<!-- 1444776881904 -->\r\n",
       "<g id=\"node66\" class=\"node\"><title>1444776881904</title>\r\n",
       "<polygon fill=\"lightgrey\" stroke=\"black\" points=\"818,-1253 627,-1253 627,-1234 818,-1234 818,-1253\"/>\r\n",
       "<text text-anchor=\"middle\" x=\"722.5\" y=\"-1241\" font-family=\"monospace\" font-size=\"10.00\">MaxPool2DWithIndicesBackward0</text>\r\n",
       "</g>\r\n",
       "<!-- 1444776881904&#45;&gt;1444776872496 -->\r\n",
       "<g id=\"edge74\" class=\"edge\"><title>1444776881904&#45;&gt;1444776872496</title>\r\n",
       "<path fill=\"none\" stroke=\"black\" d=\"M722.5,-1233.95C722.5,-1201.95 722.5,-1088.68 722.5,-1043.4\"/>\r\n",
       "<polygon fill=\"black\" stroke=\"black\" points=\"726,-1043.22 722.5,-1033.22 719,-1043.22 726,-1043.22\"/>\r\n",
       "</g>\r\n",
       "<!-- 1444776875808 -->\r\n",
       "<g id=\"node67\" class=\"node\"><title>1444776875808</title>\r\n",
       "<polygon fill=\"lightgrey\" stroke=\"black\" points=\"756,-1308 661,-1308 661,-1289 756,-1289 756,-1308\"/>\r\n",
       "<text text-anchor=\"middle\" x=\"708.5\" y=\"-1296\" font-family=\"monospace\" font-size=\"10.00\">ReluBackward0</text>\r\n",
       "</g>\r\n",
       "<!-- 1444776875808&#45;&gt;1444776881904 -->\r\n",
       "<g id=\"edge75\" class=\"edge\"><title>1444776875808&#45;&gt;1444776881904</title>\r\n",
       "<path fill=\"none\" stroke=\"black\" d=\"M710.812,-1288.75C712.667,-1281.72 715.335,-1271.62 717.654,-1262.84\"/>\r\n",
       "<polygon fill=\"black\" stroke=\"black\" points=\"721.061,-1263.65 720.231,-1253.09 714.293,-1261.86 721.061,-1263.65\"/>\r\n",
       "</g>\r\n",
       "<!-- 1444776879792&#45;&gt;1444776875808 -->\r\n",
       "<g id=\"edge76\" class=\"edge\"><title>1444776879792&#45;&gt;1444776875808</title>\r\n",
       "<path fill=\"none\" stroke=\"black\" d=\"M685.959,-1343.75C689.615,-1336.57 694.909,-1326.18 699.448,-1317.27\"/>\r\n",
       "<polygon fill=\"black\" stroke=\"black\" points=\"702.704,-1318.59 704.124,-1308.09 696.467,-1315.41 702.704,-1318.59\"/>\r\n",
       "</g>\r\n",
       "<!-- 1444776883680 -->\r\n",
       "<g id=\"node69\" class=\"node\"><title>1444776883680</title>\r\n",
       "<polygon fill=\"lightgrey\" stroke=\"black\" points=\"811,-1418 716,-1418 716,-1399 811,-1399 811,-1418\"/>\r\n",
       "<text text-anchor=\"middle\" x=\"763.5\" y=\"-1406\" font-family=\"monospace\" font-size=\"10.00\">ReluBackward0</text>\r\n",
       "</g>\r\n",
       "<!-- 1444776883680&#45;&gt;1444776879792 -->\r\n",
       "<g id=\"edge77\" class=\"edge\"><title>1444776883680&#45;&gt;1444776879792</title>\r\n",
       "<path fill=\"none\" stroke=\"black\" d=\"M750.325,-1398.98C737.728,-1390.84 718.496,-1378.41 703.561,-1368.76\"/>\r\n",
       "<polygon fill=\"black\" stroke=\"black\" points=\"705.213,-1365.66 694.914,-1363.17 701.413,-1371.54 705.213,-1365.66\"/>\r\n",
       "</g>\r\n",
       "<!-- 1444776870816&#45;&gt;1444776883680 -->\r\n",
       "<g id=\"edge78\" class=\"edge\"><title>1444776870816&#45;&gt;1444776883680</title>\r\n",
       "<path fill=\"none\" stroke=\"black\" d=\"M781.401,-1459.37C778.424,-1451.07 773.83,-1438.28 770.042,-1427.72\"/>\r\n",
       "<polygon fill=\"black\" stroke=\"black\" points=\"773.284,-1426.4 766.611,-1418.17 766.696,-1428.76 773.284,-1426.4\"/>\r\n",
       "</g>\r\n",
       "<!-- 1449285759760 -->\r\n",
       "<g id=\"node71\" class=\"node\"><title>1449285759760</title>\r\n",
       "<polygon fill=\"lightgrey\" stroke=\"black\" points=\"835,-1539 734,-1539 734,-1520 835,-1520 835,-1539\"/>\r\n",
       "<text text-anchor=\"middle\" x=\"784.5\" y=\"-1527\" font-family=\"monospace\" font-size=\"10.00\">SliceBackward0</text>\r\n",
       "</g>\r\n",
       "<!-- 1449285759760&#45;&gt;1444776870816 -->\r\n",
       "<g id=\"edge79\" class=\"edge\"><title>1449285759760&#45;&gt;1444776870816</title>\r\n",
       "<path fill=\"none\" stroke=\"black\" d=\"M784.5,-1519.87C784.5,-1511.75 784.5,-1499.31 784.5,-1488.89\"/>\r\n",
       "<polygon fill=\"black\" stroke=\"black\" points=\"788,-1488.67 784.5,-1478.67 781,-1488.67 788,-1488.67\"/>\r\n",
       "</g>\r\n",
       "<!-- 1449285759616 -->\r\n",
       "<g id=\"node72\" class=\"node\"><title>1449285759616</title>\r\n",
       "<polygon fill=\"lightgrey\" stroke=\"black\" points=\"829,-1599.5 728,-1599.5 728,-1580.5 829,-1580.5 829,-1599.5\"/>\r\n",
       "<text text-anchor=\"middle\" x=\"778.5\" y=\"-1587.5\" font-family=\"monospace\" font-size=\"10.00\">SliceBackward0</text>\r\n",
       "</g>\r\n",
       "<!-- 1449285759616&#45;&gt;1449285759760 -->\r\n",
       "<g id=\"edge80\" class=\"edge\"><title>1449285759616&#45;&gt;1449285759760</title>\r\n",
       "<path fill=\"none\" stroke=\"black\" d=\"M779.385,-1580.37C780.218,-1572.25 781.494,-1559.81 782.563,-1549.39\"/>\r\n",
       "<polygon fill=\"black\" stroke=\"black\" points=\"786.072,-1549.47 783.611,-1539.17 779.109,-1548.76 786.072,-1549.47\"/>\r\n",
       "</g>\r\n",
       "<!-- 1449285753088 -->\r\n",
       "<g id=\"node73\" class=\"node\"><title>1449285753088</title>\r\n",
       "<polygon fill=\"lightgrey\" stroke=\"black\" points=\"801,-1660 700,-1660 700,-1641 801,-1641 801,-1660\"/>\r\n",
       "<text text-anchor=\"middle\" x=\"750.5\" y=\"-1648\" font-family=\"monospace\" font-size=\"10.00\">SliceBackward0</text>\r\n",
       "</g>\r\n",
       "<!-- 1449285753088&#45;&gt;1449285759616 -->\r\n",
       "<g id=\"edge81\" class=\"edge\"><title>1449285753088&#45;&gt;1449285759616</title>\r\n",
       "<path fill=\"none\" stroke=\"black\" d=\"M754.631,-1640.87C758.643,-1632.49 764.855,-1619.51 769.935,-1608.89\"/>\r\n",
       "<polygon fill=\"black\" stroke=\"black\" points=\"773.191,-1610.2 774.352,-1599.67 766.877,-1607.18 773.191,-1610.2\"/>\r\n",
       "</g>\r\n",
       "<!-- 1449285761440 -->\r\n",
       "<g id=\"node74\" class=\"node\"><title>1449285761440</title>\r\n",
       "<polygon fill=\"lightgrey\" stroke=\"black\" points=\"662,-1715 555,-1715 555,-1696 662,-1696 662,-1715\"/>\r\n",
       "<text text-anchor=\"middle\" x=\"608.5\" y=\"-1703\" font-family=\"monospace\" font-size=\"10.00\">SelectBackward0</text>\r\n",
       "</g>\r\n",
       "<!-- 1449285761440&#45;&gt;1449285753088 -->\r\n",
       "<g id=\"edge82\" class=\"edge\"><title>1449285761440&#45;&gt;1449285753088</title>\r\n",
       "<path fill=\"none\" stroke=\"black\" d=\"M631.315,-1695.98C654.673,-1687.27 691.205,-1673.63 717.669,-1663.75\"/>\r\n",
       "<polygon fill=\"black\" stroke=\"black\" points=\"719.125,-1666.95 727.27,-1660.17 716.678,-1660.39 719.125,-1666.95\"/>\r\n",
       "</g>\r\n",
       "<!-- 1449285753328&#45;&gt;1449285761440 -->\r\n",
       "<g id=\"edge83\" class=\"edge\"><title>1449285753328&#45;&gt;1449285761440</title>\r\n",
       "<path fill=\"none\" stroke=\"black\" d=\"M582.619,-1750.75C586.862,-1743.49 593.027,-1732.95 598.275,-1723.98\"/>\r\n",
       "<polygon fill=\"black\" stroke=\"black\" points=\"601.449,-1725.49 603.476,-1715.09 595.406,-1721.95 601.449,-1725.49\"/>\r\n",
       "</g>\r\n",
       "<!-- 1444776880032 -->\r\n",
       "<g id=\"node76\" class=\"node\"><title>1444776880032</title>\r\n",
       "<polygon fill=\"lightgrey\" stroke=\"black\" points=\"975,-1198 832,-1198 832,-1179 975,-1179 975,-1198\"/>\r\n",
       "<text text-anchor=\"middle\" x=\"903.5\" y=\"-1186\" font-family=\"monospace\" font-size=\"10.00\">ReshapeAliasBackward0</text>\r\n",
       "</g>\r\n",
       "<!-- 1444776880032&#45;&gt;1444776870480 -->\r\n",
       "<g id=\"edge89\" class=\"edge\"><title>1444776880032&#45;&gt;1444776870480</title>\r\n",
       "<path fill=\"none\" stroke=\"black\" d=\"M899.746,-1178.73C892.327,-1160.56 876.5,-1117.38 876.5,-1079.5 876.5,-1079.5 876.5,-1079.5 876.5,-1022.5 876.5,-987.148 875.607,-945.896 875.014,-922.421\"/>\r\n",
       "<polygon fill=\"black\" stroke=\"black\" points=\"878.506,-922.064 874.745,-912.159 871.508,-922.248 878.506,-922.064\"/>\r\n",
       "</g>\r\n",
       "<!-- 1444776870672 -->\r\n",
       "<g id=\"node77\" class=\"node\"><title>1444776870672</title>\r\n",
       "<polygon fill=\"lightgrey\" stroke=\"black\" points=\"1027,-1253 836,-1253 836,-1234 1027,-1234 1027,-1253\"/>\r\n",
       "<text text-anchor=\"middle\" x=\"931.5\" y=\"-1241\" font-family=\"monospace\" font-size=\"10.00\">MaxPool2DWithIndicesBackward0</text>\r\n",
       "</g>\r\n",
       "<!-- 1444776870672&#45;&gt;1444776880032 -->\r\n",
       "<g id=\"edge90\" class=\"edge\"><title>1444776870672&#45;&gt;1444776880032</title>\r\n",
       "<path fill=\"none\" stroke=\"black\" d=\"M926.876,-1233.75C923.044,-1226.49 917.476,-1215.95 912.735,-1206.98\"/>\r\n",
       "<polygon fill=\"black\" stroke=\"black\" points=\"915.804,-1205.3 908.038,-1198.09 909.614,-1208.57 915.804,-1205.3\"/>\r\n",
       "</g>\r\n",
       "<!-- 1444776883968 -->\r\n",
       "<g id=\"node78\" class=\"node\"><title>1444776883968</title>\r\n",
       "<polygon fill=\"lightgrey\" stroke=\"black\" points=\"947,-1308 852,-1308 852,-1289 947,-1289 947,-1308\"/>\r\n",
       "<text text-anchor=\"middle\" x=\"899.5\" y=\"-1296\" font-family=\"monospace\" font-size=\"10.00\">ReluBackward0</text>\r\n",
       "</g>\r\n",
       "<!-- 1444776883968&#45;&gt;1444776870672 -->\r\n",
       "<g id=\"edge91\" class=\"edge\"><title>1444776883968&#45;&gt;1444776870672</title>\r\n",
       "<path fill=\"none\" stroke=\"black\" d=\"M904.784,-1288.75C909.211,-1281.42 915.663,-1270.73 921.118,-1261.7\"/>\r\n",
       "<polygon fill=\"black\" stroke=\"black\" points=\"924.142,-1263.46 926.314,-1253.09 918.149,-1259.84 924.142,-1263.46\"/>\r\n",
       "</g>\r\n",
       "<!-- 1444776880944&#45;&gt;1444776883968 -->\r\n",
       "<g id=\"edge92\" class=\"edge\"><title>1444776880944&#45;&gt;1444776883968</title>\r\n",
       "<path fill=\"none\" stroke=\"black\" d=\"M854.417,-1343.75C862.28,-1336.03 873.931,-1324.6 883.419,-1315.28\"/>\r\n",
       "<polygon fill=\"black\" stroke=\"black\" points=\"886.064,-1317.59 890.749,-1308.09 881.16,-1312.6 886.064,-1317.59\"/>\r\n",
       "</g>\r\n",
       "<!-- 1449285759184 -->\r\n",
       "<g id=\"node80\" class=\"node\"><title>1449285759184</title>\r\n",
       "<polygon fill=\"lightgrey\" stroke=\"black\" points=\"955,-1418 860,-1418 860,-1399 955,-1399 955,-1418\"/>\r\n",
       "<text text-anchor=\"middle\" x=\"907.5\" y=\"-1406\" font-family=\"monospace\" font-size=\"10.00\">ReluBackward0</text>\r\n",
       "</g>\r\n",
       "<!-- 1449285759184&#45;&gt;1444776880944 -->\r\n",
       "<g id=\"edge93\" class=\"edge\"><title>1449285759184&#45;&gt;1444776880944</title>\r\n",
       "<path fill=\"none\" stroke=\"black\" d=\"M897.539,-1398.98C888.373,-1391.15 874.563,-1379.34 863.472,-1369.86\"/>\r\n",
       "<polygon fill=\"black\" stroke=\"black\" points=\"865.518,-1367.01 855.643,-1363.17 860.97,-1372.33 865.518,-1367.01\"/>\r\n",
       "</g>\r\n",
       "<!-- 1449285753280&#45;&gt;1449285759184 -->\r\n",
       "<g id=\"edge94\" class=\"edge\"><title>1449285753280&#45;&gt;1449285759184</title>\r\n",
       "<path fill=\"none\" stroke=\"black\" d=\"M934.778,-1459.37C930.146,-1450.9 922.948,-1437.74 917.109,-1427.07\"/>\r\n",
       "<polygon fill=\"black\" stroke=\"black\" points=\"920.111,-1425.26 912.241,-1418.17 913.97,-1428.62 920.111,-1425.26\"/>\r\n",
       "</g>\r\n",
       "<!-- 1449285761536 -->\r\n",
       "<g id=\"node82\" class=\"node\"><title>1449285761536</title>\r\n",
       "<polygon fill=\"lightgrey\" stroke=\"black\" points=\"972,-1539 871,-1539 871,-1520 972,-1520 972,-1539\"/>\r\n",
       "<text text-anchor=\"middle\" x=\"921.5\" y=\"-1527\" font-family=\"monospace\" font-size=\"10.00\">SliceBackward0</text>\r\n",
       "</g>\r\n",
       "<!-- 1449285761536&#45;&gt;1449285753280 -->\r\n",
       "<g id=\"edge95\" class=\"edge\"><title>1449285761536&#45;&gt;1449285753280</title>\r\n",
       "<path fill=\"none\" stroke=\"black\" d=\"M924.156,-1519.87C926.682,-1511.66 930.564,-1499.04 933.791,-1488.55\"/>\r\n",
       "<polygon fill=\"black\" stroke=\"black\" points=\"937.237,-1489.25 936.833,-1478.67 930.547,-1487.2 937.237,-1489.25\"/>\r\n",
       "</g>\r\n",
       "<!-- 1449285762688 -->\r\n",
       "<g id=\"node83\" class=\"node\"><title>1449285762688</title>\r\n",
       "<polygon fill=\"lightgrey\" stroke=\"black\" points=\"960,-1599.5 859,-1599.5 859,-1580.5 960,-1580.5 960,-1599.5\"/>\r\n",
       "<text text-anchor=\"middle\" x=\"909.5\" y=\"-1587.5\" font-family=\"monospace\" font-size=\"10.00\">SliceBackward0</text>\r\n",
       "</g>\r\n",
       "<!-- 1449285762688&#45;&gt;1449285761536 -->\r\n",
       "<g id=\"edge96\" class=\"edge\"><title>1449285762688&#45;&gt;1449285761536</title>\r\n",
       "<path fill=\"none\" stroke=\"black\" d=\"M911.271,-1580.37C912.955,-1572.16 915.543,-1559.54 917.694,-1549.05\"/>\r\n",
       "<polygon fill=\"black\" stroke=\"black\" points=\"921.141,-1549.67 919.722,-1539.17 914.284,-1548.26 921.141,-1549.67\"/>\r\n",
       "</g>\r\n",
       "<!-- 1449285756784 -->\r\n",
       "<g id=\"node84\" class=\"node\"><title>1449285756784</title>\r\n",
       "<polygon fill=\"lightgrey\" stroke=\"black\" points=\"923,-1660 822,-1660 822,-1641 923,-1641 923,-1660\"/>\r\n",
       "<text text-anchor=\"middle\" x=\"872.5\" y=\"-1648\" font-family=\"monospace\" font-size=\"10.00\">SliceBackward0</text>\r\n",
       "</g>\r\n",
       "<!-- 1449285756784&#45;&gt;1449285762688 -->\r\n",
       "<g id=\"edge97\" class=\"edge\"><title>1449285756784&#45;&gt;1449285762688</title>\r\n",
       "<path fill=\"none\" stroke=\"black\" d=\"M877.959,-1640.87C883.37,-1632.31 891.808,-1618.97 898.596,-1608.24\"/>\r\n",
       "<polygon fill=\"black\" stroke=\"black\" points=\"901.631,-1609.99 904.018,-1599.67 895.715,-1606.25 901.631,-1609.99\"/>\r\n",
       "</g>\r\n",
       "<!-- 1449285757696 -->\r\n",
       "<g id=\"node85\" class=\"node\"><title>1449285757696</title>\r\n",
       "<polygon fill=\"lightgrey\" stroke=\"black\" points=\"815,-1715 708,-1715 708,-1696 815,-1696 815,-1715\"/>\r\n",
       "<text text-anchor=\"middle\" x=\"761.5\" y=\"-1703\" font-family=\"monospace\" font-size=\"10.00\">SelectBackward0</text>\r\n",
       "</g>\r\n",
       "<!-- 1449285757696&#45;&gt;1449285756784 -->\r\n",
       "<g id=\"edge98\" class=\"edge\"><title>1449285757696&#45;&gt;1449285756784</title>\r\n",
       "<path fill=\"none\" stroke=\"black\" d=\"M779.334,-1695.98C797.11,-1687.5 824.647,-1674.35 845.18,-1664.54\"/>\r\n",
       "<polygon fill=\"black\" stroke=\"black\" points=\"846.825,-1667.64 854.341,-1660.17 843.809,-1661.32 846.825,-1667.64\"/>\r\n",
       "</g>\r\n",
       "<!-- 1449285755200&#45;&gt;1449285757696 -->\r\n",
       "<g id=\"edge99\" class=\"edge\"><title>1449285755200&#45;&gt;1449285757696</title>\r\n",
       "<path fill=\"none\" stroke=\"black\" d=\"M733.949,-1750.75C738.514,-1743.42 745.168,-1732.73 750.793,-1723.7\"/>\r\n",
       "<polygon fill=\"black\" stroke=\"black\" points=\"753.838,-1725.43 756.152,-1715.09 747.895,-1721.73 753.838,-1725.43\"/>\r\n",
       "</g>\r\n",
       "<!-- 1444776886176 -->\r\n",
       "<g id=\"node87\" class=\"node\"><title>1444776886176</title>\r\n",
       "<polygon fill=\"lightgrey\" stroke=\"black\" points=\"1032,-912 931,-912 931,-893 1032,-893 1032,-912\"/>\r\n",
       "<text text-anchor=\"middle\" x=\"981.5\" y=\"-900\" font-family=\"monospace\" font-size=\"10.00\">AccumulateGrad</text>\r\n",
       "</g>\r\n",
       "<!-- 1444776886176&#45;&gt;1444776879312 -->\r\n",
       "<g id=\"edge105\" class=\"edge\"><title>1444776886176&#45;&gt;1444776879312</title>\r\n",
       "<path fill=\"none\" stroke=\"black\" d=\"M1032.27,-893.963C1094.93,-884.66 1201.68,-868.812 1271.14,-858.5\"/>\r\n",
       "<polygon fill=\"black\" stroke=\"black\" points=\"1271.73,-861.951 1281.11,-857.02 1270.7,-855.027 1271.73,-861.951\"/>\r\n",
       "</g>\r\n",
       "<!-- 1444777335904 -->\r\n",
       "<g id=\"node88\" class=\"node\"><title>1444777335904</title>\r\n",
       "<polygon fill=\"lightblue\" stroke=\"black\" points=\"1019,-978 906,-978 906,-948 1019,-948 1019,-978\"/>\r\n",
       "<text text-anchor=\"middle\" x=\"962.5\" y=\"-966\" font-family=\"monospace\" font-size=\"10.00\">gru.weight_ih_l0</text>\r\n",
       "<text text-anchor=\"middle\" x=\"962.5\" y=\"-955\" font-family=\"monospace\" font-size=\"10.00\"> (384, 20)</text>\r\n",
       "</g>\r\n",
       "<!-- 1444777335904&#45;&gt;1444776886176 -->\r\n",
       "<g id=\"edge106\" class=\"edge\"><title>1444777335904&#45;&gt;1444776886176</title>\r\n",
       "<path fill=\"none\" stroke=\"black\" d=\"M967.099,-947.839C969.632,-940.04 972.805,-930.271 975.528,-921.889\"/>\r\n",
       "<polygon fill=\"black\" stroke=\"black\" points=\"978.893,-922.858 978.653,-912.266 972.235,-920.696 978.893,-922.858\"/>\r\n",
       "</g>\r\n",
       "<!-- 1444776876240 -->\r\n",
       "<g id=\"node89\" class=\"node\"><title>1444776876240</title>\r\n",
       "<polygon fill=\"lightgrey\" stroke=\"black\" points=\"1151,-912 1050,-912 1050,-893 1151,-893 1151,-912\"/>\r\n",
       "<text text-anchor=\"middle\" x=\"1100.5\" y=\"-900\" font-family=\"monospace\" font-size=\"10.00\">AccumulateGrad</text>\r\n",
       "</g>\r\n",
       "<!-- 1444776876240&#45;&gt;1444776879312 -->\r\n",
       "<g id=\"edge107\" class=\"edge\"><title>1444776876240&#45;&gt;1444776879312</title>\r\n",
       "<path fill=\"none\" stroke=\"black\" d=\"M1138.74,-892.985C1179.91,-883.817 1245.49,-869.212 1290.2,-859.257\"/>\r\n",
       "<polygon fill=\"black\" stroke=\"black\" points=\"1290.96,-862.672 1299.96,-857.082 1289.44,-855.84 1290.96,-862.672\"/>\r\n",
       "</g>\r\n",
       "<!-- 1444777330144 -->\r\n",
       "<g id=\"node90\" class=\"node\"><title>1444777330144</title>\r\n",
       "<polygon fill=\"lightblue\" stroke=\"black\" points=\"1150,-978 1037,-978 1037,-948 1150,-948 1150,-978\"/>\r\n",
       "<text text-anchor=\"middle\" x=\"1093.5\" y=\"-966\" font-family=\"monospace\" font-size=\"10.00\">gru.weight_hh_l0</text>\r\n",
       "<text text-anchor=\"middle\" x=\"1093.5\" y=\"-955\" font-family=\"monospace\" font-size=\"10.00\"> (384, 128)</text>\r\n",
       "</g>\r\n",
       "<!-- 1444777330144&#45;&gt;1444776876240 -->\r\n",
       "<g id=\"edge108\" class=\"edge\"><title>1444777330144&#45;&gt;1444776876240</title>\r\n",
       "<path fill=\"none\" stroke=\"black\" d=\"M1095.19,-947.839C1096.11,-940.214 1097.24,-930.704 1098.23,-922.45\"/>\r\n",
       "<polygon fill=\"black\" stroke=\"black\" points=\"1101.74,-922.611 1099.45,-912.266 1094.79,-921.779 1101.74,-922.611\"/>\r\n",
       "</g>\r\n",
       "<!-- 1444776870000 -->\r\n",
       "<g id=\"node91\" class=\"node\"><title>1444776870000</title>\r\n",
       "<polygon fill=\"lightgrey\" stroke=\"black\" points=\"1270,-912 1169,-912 1169,-893 1270,-893 1270,-912\"/>\r\n",
       "<text text-anchor=\"middle\" x=\"1219.5\" y=\"-900\" font-family=\"monospace\" font-size=\"10.00\">AccumulateGrad</text>\r\n",
       "</g>\r\n",
       "<!-- 1444776870000&#45;&gt;1444776879312 -->\r\n",
       "<g id=\"edge109\" class=\"edge\"><title>1444776870000&#45;&gt;1444776879312</title>\r\n",
       "<path fill=\"none\" stroke=\"black\" d=\"M1238.62,-892.985C1257.85,-884.42 1287.73,-871.11 1309.81,-861.28\"/>\r\n",
       "<polygon fill=\"black\" stroke=\"black\" points=\"1311.32,-864.436 1319.03,-857.17 1308.47,-858.042 1311.32,-864.436\"/>\r\n",
       "</g>\r\n",
       "<!-- 1444777328944 -->\r\n",
       "<g id=\"node92\" class=\"node\"><title>1444777328944</title>\r\n",
       "<polygon fill=\"lightblue\" stroke=\"black\" points=\"1269,-978 1168,-978 1168,-948 1269,-948 1269,-978\"/>\r\n",
       "<text text-anchor=\"middle\" x=\"1218.5\" y=\"-966\" font-family=\"monospace\" font-size=\"10.00\">gru.bias_ih_l0</text>\r\n",
       "<text text-anchor=\"middle\" x=\"1218.5\" y=\"-955\" font-family=\"monospace\" font-size=\"10.00\"> (384)</text>\r\n",
       "</g>\r\n",
       "<!-- 1444777328944&#45;&gt;1444776870000 -->\r\n",
       "<g id=\"edge110\" class=\"edge\"><title>1444777328944&#45;&gt;1444776870000</title>\r\n",
       "<path fill=\"none\" stroke=\"black\" d=\"M1218.74,-947.839C1218.87,-940.214 1219.03,-930.704 1219.18,-922.45\"/>\r\n",
       "<polygon fill=\"black\" stroke=\"black\" points=\"1222.68,-922.324 1219.35,-912.266 1215.68,-922.205 1222.68,-922.324\"/>\r\n",
       "</g>\r\n",
       "<!-- 1444776878640 -->\r\n",
       "<g id=\"node93\" class=\"node\"><title>1444776878640</title>\r\n",
       "<polygon fill=\"lightgrey\" stroke=\"black\" points=\"1389,-912 1288,-912 1288,-893 1389,-893 1389,-912\"/>\r\n",
       "<text text-anchor=\"middle\" x=\"1338.5\" y=\"-900\" font-family=\"monospace\" font-size=\"10.00\">AccumulateGrad</text>\r\n",
       "</g>\r\n",
       "<!-- 1444776878640&#45;&gt;1444776879312 -->\r\n",
       "<g id=\"edge111\" class=\"edge\"><title>1444776878640&#45;&gt;1444776879312</title>\r\n",
       "<path fill=\"none\" stroke=\"black\" d=\"M1338.5,-892.748C1338.5,-885.802 1338.5,-875.845 1338.5,-867.135\"/>\r\n",
       "<polygon fill=\"black\" stroke=\"black\" points=\"1342,-867.089 1338.5,-857.089 1335,-867.089 1342,-867.089\"/>\r\n",
       "</g>\r\n",
       "<!-- 1444777331824 -->\r\n",
       "<g id=\"node94\" class=\"node\"><title>1444777331824</title>\r\n",
       "<polygon fill=\"lightblue\" stroke=\"black\" points=\"1388,-978 1287,-978 1287,-948 1388,-948 1388,-978\"/>\r\n",
       "<text text-anchor=\"middle\" x=\"1337.5\" y=\"-966\" font-family=\"monospace\" font-size=\"10.00\">gru.bias_hh_l0</text>\r\n",
       "<text text-anchor=\"middle\" x=\"1337.5\" y=\"-955\" font-family=\"monospace\" font-size=\"10.00\"> (384)</text>\r\n",
       "</g>\r\n",
       "<!-- 1444777331824&#45;&gt;1444776878640 -->\r\n",
       "<g id=\"edge112\" class=\"edge\"><title>1444777331824&#45;&gt;1444776878640</title>\r\n",
       "<path fill=\"none\" stroke=\"black\" d=\"M1337.74,-947.839C1337.87,-940.214 1338.03,-930.704 1338.18,-922.45\"/>\r\n",
       "<polygon fill=\"black\" stroke=\"black\" points=\"1341.68,-922.324 1338.35,-912.266 1334.68,-922.205 1341.68,-922.324\"/>\r\n",
       "</g>\r\n",
       "<!-- 1444776870432 -->\r\n",
       "<g id=\"node95\" class=\"node\"><title>1444776870432</title>\r\n",
       "<polygon fill=\"lightgrey\" stroke=\"black\" points=\"1511,-912 1410,-912 1410,-893 1511,-893 1511,-912\"/>\r\n",
       "<text text-anchor=\"middle\" x=\"1460.5\" y=\"-900\" font-family=\"monospace\" font-size=\"10.00\">AccumulateGrad</text>\r\n",
       "</g>\r\n",
       "<!-- 1444776870432&#45;&gt;1444776879312 -->\r\n",
       "<g id=\"edge113\" class=\"edge\"><title>1444776870432&#45;&gt;1444776879312</title>\r\n",
       "<path fill=\"none\" stroke=\"black\" d=\"M1440.9,-892.985C1421.18,-884.42 1390.55,-871.11 1367.92,-861.28\"/>\r\n",
       "<polygon fill=\"black\" stroke=\"black\" points=\"1369.02,-857.945 1358.46,-857.17 1366.24,-864.365 1369.02,-857.945\"/>\r\n",
       "</g>\r\n",
       "<!-- 1444777334544 -->\r\n",
       "<g id=\"node96\" class=\"node\"><title>1444777334544</title>\r\n",
       "<polygon fill=\"lightblue\" stroke=\"black\" points=\"1519,-978 1406,-978 1406,-948 1519,-948 1519,-978\"/>\r\n",
       "<text text-anchor=\"middle\" x=\"1462.5\" y=\"-966\" font-family=\"monospace\" font-size=\"10.00\">gru.weight_ih_l1</text>\r\n",
       "<text text-anchor=\"middle\" x=\"1462.5\" y=\"-955\" font-family=\"monospace\" font-size=\"10.00\"> (384, 128)</text>\r\n",
       "</g>\r\n",
       "<!-- 1444777334544&#45;&gt;1444776870432 -->\r\n",
       "<g id=\"edge114\" class=\"edge\"><title>1444777334544&#45;&gt;1444776870432</title>\r\n",
       "<path fill=\"none\" stroke=\"black\" d=\"M1462.02,-947.839C1461.76,-940.214 1461.43,-930.704 1461.15,-922.45\"/>\r\n",
       "<polygon fill=\"black\" stroke=\"black\" points=\"1464.64,-922.14 1460.8,-912.266 1457.64,-922.38 1464.64,-922.14\"/>\r\n",
       "</g>\r\n",
       "<!-- 1444776884304 -->\r\n",
       "<g id=\"node97\" class=\"node\"><title>1444776884304</title>\r\n",
       "<polygon fill=\"lightgrey\" stroke=\"black\" points=\"1637,-912 1536,-912 1536,-893 1637,-893 1637,-912\"/>\r\n",
       "<text text-anchor=\"middle\" x=\"1586.5\" y=\"-900\" font-family=\"monospace\" font-size=\"10.00\">AccumulateGrad</text>\r\n",
       "</g>\r\n",
       "<!-- 1444776884304&#45;&gt;1444776879312 -->\r\n",
       "<g id=\"edge115\" class=\"edge\"><title>1444776884304&#45;&gt;1444776879312</title>\r\n",
       "<path fill=\"none\" stroke=\"black\" d=\"M1546.65,-892.985C1503.67,-883.798 1435.13,-869.15 1388.54,-859.194\"/>\r\n",
       "<polygon fill=\"black\" stroke=\"black\" points=\"1389.17,-855.749 1378.66,-857.082 1387.71,-862.595 1389.17,-855.749\"/>\r\n",
       "</g>\r\n",
       "<!-- 1444777333904 -->\r\n",
       "<g id=\"node98\" class=\"node\"><title>1444777333904</title>\r\n",
       "<polygon fill=\"lightblue\" stroke=\"black\" points=\"1650,-978 1537,-978 1537,-948 1650,-948 1650,-978\"/>\r\n",
       "<text text-anchor=\"middle\" x=\"1593.5\" y=\"-966\" font-family=\"monospace\" font-size=\"10.00\">gru.weight_hh_l1</text>\r\n",
       "<text text-anchor=\"middle\" x=\"1593.5\" y=\"-955\" font-family=\"monospace\" font-size=\"10.00\"> (384, 128)</text>\r\n",
       "</g>\r\n",
       "<!-- 1444777333904&#45;&gt;1444776884304 -->\r\n",
       "<g id=\"edge116\" class=\"edge\"><title>1444777333904&#45;&gt;1444776884304</title>\r\n",
       "<path fill=\"none\" stroke=\"black\" d=\"M1591.81,-947.839C1590.89,-940.214 1589.76,-930.704 1588.77,-922.45\"/>\r\n",
       "<polygon fill=\"black\" stroke=\"black\" points=\"1592.21,-921.779 1587.55,-912.266 1585.26,-922.611 1592.21,-921.779\"/>\r\n",
       "</g>\r\n",
       "<!-- 1444776876288 -->\r\n",
       "<g id=\"node99\" class=\"node\"><title>1444776876288</title>\r\n",
       "<polygon fill=\"lightgrey\" stroke=\"black\" points=\"1763,-912 1662,-912 1662,-893 1763,-893 1763,-912\"/>\r\n",
       "<text text-anchor=\"middle\" x=\"1712.5\" y=\"-900\" font-family=\"monospace\" font-size=\"10.00\">AccumulateGrad</text>\r\n",
       "</g>\r\n",
       "<!-- 1444776876288&#45;&gt;1444776879312 -->\r\n",
       "<g id=\"edge117\" class=\"edge\"><title>1444776876288&#45;&gt;1444776879312</title>\r\n",
       "<path fill=\"none\" stroke=\"black\" d=\"M1661.67,-894.297C1596.15,-885.012 1481.91,-868.823 1408.29,-858.389\"/>\r\n",
       "<polygon fill=\"black\" stroke=\"black\" points=\"1408.57,-854.895 1398.18,-856.957 1407.59,-861.825 1408.57,-854.895\"/>\r\n",
       "</g>\r\n",
       "<!-- 1444777333984 -->\r\n",
       "<g id=\"node100\" class=\"node\"><title>1444777333984</title>\r\n",
       "<polygon fill=\"lightblue\" stroke=\"black\" points=\"1769,-978 1668,-978 1668,-948 1769,-948 1769,-978\"/>\r\n",
       "<text text-anchor=\"middle\" x=\"1718.5\" y=\"-966\" font-family=\"monospace\" font-size=\"10.00\">gru.bias_ih_l1</text>\r\n",
       "<text text-anchor=\"middle\" x=\"1718.5\" y=\"-955\" font-family=\"monospace\" font-size=\"10.00\"> (384)</text>\r\n",
       "</g>\r\n",
       "<!-- 1444777333984&#45;&gt;1444776876288 -->\r\n",
       "<g id=\"edge118\" class=\"edge\"><title>1444777333984&#45;&gt;1444776876288</title>\r\n",
       "<path fill=\"none\" stroke=\"black\" d=\"M1717.05,-947.839C1716.27,-940.214 1715.29,-930.704 1714.44,-922.45\"/>\r\n",
       "<polygon fill=\"black\" stroke=\"black\" points=\"1717.9,-921.857 1713.4,-912.266 1710.94,-922.571 1717.9,-921.857\"/>\r\n",
       "</g>\r\n",
       "<!-- 1444776874704 -->\r\n",
       "<g id=\"node101\" class=\"node\"><title>1444776874704</title>\r\n",
       "<polygon fill=\"lightgrey\" stroke=\"black\" points=\"1885,-912 1784,-912 1784,-893 1885,-893 1885,-912\"/>\r\n",
       "<text text-anchor=\"middle\" x=\"1834.5\" y=\"-900\" font-family=\"monospace\" font-size=\"10.00\">AccumulateGrad</text>\r\n",
       "</g>\r\n",
       "<!-- 1444776874704&#45;&gt;1444776879312 -->\r\n",
       "<g id=\"edge119\" class=\"edge\"><title>1444776874704&#45;&gt;1444776879312</title>\r\n",
       "<path fill=\"none\" stroke=\"black\" d=\"M1783.97,-894.539C1779.75,-894.002 1775.56,-893.482 1771.5,-893 1643.5,-877.792 1493.85,-863.095 1408.22,-854.979\"/>\r\n",
       "<polygon fill=\"black\" stroke=\"black\" points=\"1408.39,-851.479 1398.1,-854.022 1407.73,-858.448 1408.39,-851.479\"/>\r\n",
       "</g>\r\n",
       "<!-- 1444777338304 -->\r\n",
       "<g id=\"node102\" class=\"node\"><title>1444777338304</title>\r\n",
       "<polygon fill=\"lightblue\" stroke=\"black\" points=\"1888,-978 1787,-978 1787,-948 1888,-948 1888,-978\"/>\r\n",
       "<text text-anchor=\"middle\" x=\"1837.5\" y=\"-966\" font-family=\"monospace\" font-size=\"10.00\">gru.bias_hh_l1</text>\r\n",
       "<text text-anchor=\"middle\" x=\"1837.5\" y=\"-955\" font-family=\"monospace\" font-size=\"10.00\"> (384)</text>\r\n",
       "</g>\r\n",
       "<!-- 1444777338304&#45;&gt;1444776874704 -->\r\n",
       "<g id=\"edge120\" class=\"edge\"><title>1444777338304&#45;&gt;1444776874704</title>\r\n",
       "<path fill=\"none\" stroke=\"black\" d=\"M1836.77,-947.839C1836.38,-940.214 1835.9,-930.704 1835.47,-922.45\"/>\r\n",
       "<polygon fill=\"black\" stroke=\"black\" points=\"1838.96,-922.074 1834.95,-912.266 1831.97,-922.432 1838.96,-922.074\"/>\r\n",
       "</g>\r\n",
       "<!-- 1444776872448 -->\r\n",
       "<g id=\"node103\" class=\"node\"><title>1444776872448</title>\r\n",
       "<polygon fill=\"lightgrey\" stroke=\"black\" points=\"1492,-681 1415,-681 1415,-662 1492,-662 1492,-681\"/>\r\n",
       "<text text-anchor=\"middle\" x=\"1453.5\" y=\"-669\" font-family=\"monospace\" font-size=\"10.00\">TBackward0</text>\r\n",
       "</g>\r\n",
       "<!-- 1444776872448&#45;&gt;1443896358416 -->\r\n",
       "<g id=\"edge121\" class=\"edge\"><title>1444776872448&#45;&gt;1443896358416</title>\r\n",
       "<path fill=\"none\" stroke=\"black\" d=\"M1444.79,-661.868C1435.82,-652.968 1421.62,-638.886 1410.59,-627.953\"/>\r\n",
       "<polygon fill=\"black\" stroke=\"black\" points=\"1412.81,-625.223 1403.24,-620.667 1407.88,-630.194 1412.81,-625.223\"/>\r\n",
       "</g>\r\n",
       "<!-- 1444776882816 -->\r\n",
       "<g id=\"node104\" class=\"node\"><title>1444776882816</title>\r\n",
       "<polygon fill=\"lightgrey\" stroke=\"black\" points=\"1508,-736 1407,-736 1407,-717 1508,-717 1508,-736\"/>\r\n",
       "<text text-anchor=\"middle\" x=\"1457.5\" y=\"-724\" font-family=\"monospace\" font-size=\"10.00\">AccumulateGrad</text>\r\n",
       "</g>\r\n",
       "<!-- 1444776882816&#45;&gt;1444776872448 -->\r\n",
       "<g id=\"edge122\" class=\"edge\"><title>1444776882816&#45;&gt;1444776872448</title>\r\n",
       "<path fill=\"none\" stroke=\"black\" d=\"M1456.84,-716.748C1456.32,-709.802 1455.56,-699.845 1454.91,-691.135\"/>\r\n",
       "<polygon fill=\"black\" stroke=\"black\" points=\"1458.39,-690.797 1454.15,-681.089 1451.41,-691.324 1458.39,-690.797\"/>\r\n",
       "</g>\r\n",
       "<!-- 1443897518544 -->\r\n",
       "<g id=\"node105\" class=\"node\"><title>1443897518544</title>\r\n",
       "<polygon fill=\"lightblue\" stroke=\"black\" points=\"1499,-802 1416,-802 1416,-772 1499,-772 1499,-802\"/>\r\n",
       "<text text-anchor=\"middle\" x=\"1457.5\" y=\"-790\" font-family=\"monospace\" font-size=\"10.00\">fc1.weight</text>\r\n",
       "<text text-anchor=\"middle\" x=\"1457.5\" y=\"-779\" font-family=\"monospace\" font-size=\"10.00\"> (256, 128)</text>\r\n",
       "</g>\r\n",
       "<!-- 1443897518544&#45;&gt;1444776882816 -->\r\n",
       "<g id=\"edge123\" class=\"edge\"><title>1443897518544&#45;&gt;1444776882816</title>\r\n",
       "<path fill=\"none\" stroke=\"black\" d=\"M1457.5,-771.839C1457.5,-764.214 1457.5,-754.704 1457.5,-746.45\"/>\r\n",
       "<polygon fill=\"black\" stroke=\"black\" points=\"1461,-746.266 1457.5,-736.266 1454,-746.266 1461,-746.266\"/>\r\n",
       "</g>\r\n",
       "<!-- 1444776404896 -->\r\n",
       "<g id=\"node106\" class=\"node\"><title>1444776404896</title>\r\n",
       "<polygon fill=\"lightgrey\" stroke=\"black\" points=\"1579,-560 1478,-560 1478,-541 1579,-541 1579,-560\"/>\r\n",
       "<text text-anchor=\"middle\" x=\"1528.5\" y=\"-548\" font-family=\"monospace\" font-size=\"10.00\">AccumulateGrad</text>\r\n",
       "</g>\r\n",
       "<!-- 1444776404896&#45;&gt;1444776400432 -->\r\n",
       "<g id=\"edge124\" class=\"edge\"><title>1444776404896&#45;&gt;1444776400432</title>\r\n",
       "<path fill=\"none\" stroke=\"black\" d=\"M1517.74,-540.985C1507.73,-533.073 1492.61,-521.112 1480.57,-511.585\"/>\r\n",
       "<polygon fill=\"black\" stroke=\"black\" points=\"1482.47,-508.629 1472.46,-505.17 1478.13,-514.119 1482.47,-508.629\"/>\r\n",
       "</g>\r\n",
       "<!-- 1444776382352 -->\r\n",
       "<g id=\"node107\" class=\"node\"><title>1444776382352</title>\r\n",
       "<polygon fill=\"lightblue\" stroke=\"black\" points=\"1561,-626 1496,-626 1496,-596 1561,-596 1561,-626\"/>\r\n",
       "<text text-anchor=\"middle\" x=\"1528.5\" y=\"-614\" font-family=\"monospace\" font-size=\"10.00\">fc1.bias</text>\r\n",
       "<text text-anchor=\"middle\" x=\"1528.5\" y=\"-603\" font-family=\"monospace\" font-size=\"10.00\"> (256)</text>\r\n",
       "</g>\r\n",
       "<!-- 1444776382352&#45;&gt;1444776404896 -->\r\n",
       "<g id=\"edge125\" class=\"edge\"><title>1444776382352&#45;&gt;1444776404896</title>\r\n",
       "<path fill=\"none\" stroke=\"black\" d=\"M1528.5,-595.839C1528.5,-588.214 1528.5,-578.704 1528.5,-570.45\"/>\r\n",
       "<polygon fill=\"black\" stroke=\"black\" points=\"1532,-570.266 1528.5,-560.266 1525,-570.266 1532,-570.266\"/>\r\n",
       "</g>\r\n",
       "<!-- 1444776403264 -->\r\n",
       "<g id=\"node108\" class=\"node\"><title>1444776403264</title>\r\n",
       "<polygon fill=\"lightgrey\" stroke=\"black\" points=\"1617,-329 1540,-329 1540,-310 1617,-310 1617,-329\"/>\r\n",
       "<text text-anchor=\"middle\" x=\"1578.5\" y=\"-317\" font-family=\"monospace\" font-size=\"10.00\">TBackward0</text>\r\n",
       "</g>\r\n",
       "<!-- 1444776403264&#45;&gt;1444776396352 -->\r\n",
       "<g id=\"edge126\" class=\"edge\"><title>1444776403264&#45;&gt;1444776396352</title>\r\n",
       "<path fill=\"none\" stroke=\"black\" d=\"M1569.94,-309.868C1561.12,-300.968 1547.16,-286.886 1536.32,-275.953\"/>\r\n",
       "<polygon fill=\"black\" stroke=\"black\" points=\"1538.62,-273.304 1529.09,-268.667 1533.65,-278.233 1538.62,-273.304\"/>\r\n",
       "</g>\r\n",
       "<!-- 1444776411040 -->\r\n",
       "<g id=\"node109\" class=\"node\"><title>1444776411040</title>\r\n",
       "<polygon fill=\"lightgrey\" stroke=\"black\" points=\"1639,-384 1538,-384 1538,-365 1639,-365 1639,-384\"/>\r\n",
       "<text text-anchor=\"middle\" x=\"1588.5\" y=\"-372\" font-family=\"monospace\" font-size=\"10.00\">AccumulateGrad</text>\r\n",
       "</g>\r\n",
       "<!-- 1444776411040&#45;&gt;1444776403264 -->\r\n",
       "<g id=\"edge127\" class=\"edge\"><title>1444776411040&#45;&gt;1444776403264</title>\r\n",
       "<path fill=\"none\" stroke=\"black\" d=\"M1586.85,-364.748C1585.54,-357.802 1583.66,-347.845 1582.02,-339.135\"/>\r\n",
       "<polygon fill=\"black\" stroke=\"black\" points=\"1585.41,-338.267 1580.12,-329.089 1578.54,-339.565 1585.41,-338.267\"/>\r\n",
       "</g>\r\n",
       "<!-- 1449242170112 -->\r\n",
       "<g id=\"node110\" class=\"node\"><title>1449242170112</title>\r\n",
       "<polygon fill=\"lightblue\" stroke=\"black\" points=\"1631,-450 1554,-450 1554,-420 1631,-420 1631,-450\"/>\r\n",
       "<text text-anchor=\"middle\" x=\"1592.5\" y=\"-438\" font-family=\"monospace\" font-size=\"10.00\">out.weight</text>\r\n",
       "<text text-anchor=\"middle\" x=\"1592.5\" y=\"-427\" font-family=\"monospace\" font-size=\"10.00\"> (1, 256)</text>\r\n",
       "</g>\r\n",
       "<!-- 1449242170112&#45;&gt;1444776411040 -->\r\n",
       "<g id=\"edge128\" class=\"edge\"><title>1449242170112&#45;&gt;1444776411040</title>\r\n",
       "<path fill=\"none\" stroke=\"black\" d=\"M1591.53,-419.839C1591.01,-412.214 1590.36,-402.704 1589.8,-394.45\"/>\r\n",
       "<polygon fill=\"black\" stroke=\"black\" points=\"1593.27,-394.004 1589.1,-384.266 1586.29,-394.481 1593.27,-394.004\"/>\r\n",
       "</g>\r\n",
       "<!-- 1444776401680 -->\r\n",
       "<g id=\"node111\" class=\"node\"><title>1444776401680</title>\r\n",
       "<polygon fill=\"lightgrey\" stroke=\"black\" points=\"1705,-208 1604,-208 1604,-189 1705,-189 1705,-208\"/>\r\n",
       "<text text-anchor=\"middle\" x=\"1654.5\" y=\"-196\" font-family=\"monospace\" font-size=\"10.00\">AccumulateGrad</text>\r\n",
       "</g>\r\n",
       "<!-- 1444776401680&#45;&gt;1444776409888 -->\r\n",
       "<g id=\"edge129\" class=\"edge\"><title>1444776401680&#45;&gt;1444776409888</title>\r\n",
       "<path fill=\"none\" stroke=\"black\" d=\"M1643.74,-188.985C1633.73,-181.073 1618.61,-169.112 1606.57,-159.585\"/>\r\n",
       "<polygon fill=\"black\" stroke=\"black\" points=\"1608.47,-156.629 1598.46,-153.17 1604.13,-162.119 1608.47,-156.629\"/>\r\n",
       "</g>\r\n",
       "<!-- 1449242165392 -->\r\n",
       "<g id=\"node112\" class=\"node\"><title>1449242165392</title>\r\n",
       "<polygon fill=\"lightblue\" stroke=\"black\" points=\"1687,-274 1622,-274 1622,-244 1687,-244 1687,-274\"/>\r\n",
       "<text text-anchor=\"middle\" x=\"1654.5\" y=\"-262\" font-family=\"monospace\" font-size=\"10.00\">out.bias</text>\r\n",
       "<text text-anchor=\"middle\" x=\"1654.5\" y=\"-251\" font-family=\"monospace\" font-size=\"10.00\"> (1)</text>\r\n",
       "</g>\r\n",
       "<!-- 1449242165392&#45;&gt;1444776401680 -->\r\n",
       "<g id=\"edge130\" class=\"edge\"><title>1449242165392&#45;&gt;1444776401680</title>\r\n",
       "<path fill=\"none\" stroke=\"black\" d=\"M1654.5,-243.839C1654.5,-236.214 1654.5,-226.704 1654.5,-218.45\"/>\r\n",
       "<polygon fill=\"black\" stroke=\"black\" points=\"1658,-218.266 1654.5,-208.266 1651,-218.266 1658,-218.266\"/>\r\n",
       "</g>\r\n",
       "<!-- 1443897521744&#45;&gt;1445650757440 -->\r\n",
       "<g id=\"edge133\" class=\"edge\"><title>1443897521744&#45;&gt;1445650757440</title>\r\n",
       "<path fill=\"none\" stroke=\"black\" stroke-dasharray=\"1,5\" d=\"M1634.66,-66.7505C1626.86,-58.4398 1616.96,-47.8954 1608.25,-38.6138\"/>\r\n",
       "<polygon fill=\"black\" stroke=\"black\" points=\"1610.68,-36.0879 1601.29,-31.1911 1605.58,-40.8781 1610.68,-36.0879\"/>\r\n",
       "</g>\r\n",
       "</g>\r\n",
       "</svg>\r\n"
      ],
      "text/plain": [
       "<graphviz.dot.Digraph at 0x15063627bb0>"
      ]
     },
     "execution_count": 115,
     "metadata": {},
     "output_type": "execute_result"
    }
   ],
   "source": [
    "# Visualize model with torchviz\n",
    "from torchviz import make_dot\n",
    "sample_inputs = next(iter(train_loader_hyb))[0].requires_grad_(True)\n",
    "sample_y = model_hb(sample_inputs.to(device))\n",
    "make_dot(sample_y, params=dict(list(model_hb.named_parameters())+[('sample_inputs', sample_inputs)]))"
   ]
  },
  {
   "cell_type": "code",
   "execution_count": 140,
   "metadata": {
    "id": "yfNpynXlFKv8",
    "scrolled": true
   },
   "outputs": [
    {
     "name": "stdout",
     "output_type": "stream",
     "text": [
      "start training the best model\n",
      "Training epoch 1...\n",
      "Current LR: 0.0005\n"
     ]
    },
    {
     "data": {
      "application/vnd.jupyter.widget-view+json": {
       "model_id": "c0275448b931452ea59cebb2e0bc6000",
       "version_major": 2,
       "version_minor": 0
      },
      "text/plain": [
       "  0%|          | 0/225 [00:00<?, ?it/s]"
      ]
     },
     "metadata": {},
     "output_type": "display_data"
    },
    {
     "name": "stdout",
     "output_type": "stream",
     "text": [
      "Epoch 1 train loss: 1.9174\n",
      "Validating epoch 1\n"
     ]
    },
    {
     "data": {
      "application/vnd.jupyter.widget-view+json": {
       "model_id": "e145deb2d9564d41adcc6415d3b7e1b3",
       "version_major": 2,
       "version_minor": 0
      },
      "text/plain": [
       "  0%|          | 0/91 [00:00<?, ?it/s]"
      ]
     },
     "metadata": {},
     "output_type": "display_data"
    },
    {
     "name": "stdout",
     "output_type": "stream",
     "text": [
      "Epoch 1 val loss: 1.6714\n",
      "Saving new best model..\n",
      "Training epoch 2...\n",
      "Current LR: 0.0005\n"
     ]
    },
    {
     "data": {
      "application/vnd.jupyter.widget-view+json": {
       "model_id": "79d7a6d66f514243a3abb75ea248cfc1",
       "version_major": 2,
       "version_minor": 0
      },
      "text/plain": [
       "  0%|          | 0/225 [00:00<?, ?it/s]"
      ]
     },
     "metadata": {},
     "output_type": "display_data"
    },
    {
     "name": "stdout",
     "output_type": "stream",
     "text": [
      "Epoch 2 train loss: 1.9265\n",
      "Validating epoch 2\n"
     ]
    },
    {
     "data": {
      "application/vnd.jupyter.widget-view+json": {
       "model_id": "62f53f8630844d1e8465360d2f70db24",
       "version_major": 2,
       "version_minor": 0
      },
      "text/plain": [
       "  0%|          | 0/91 [00:00<?, ?it/s]"
      ]
     },
     "metadata": {},
     "output_type": "display_data"
    },
    {
     "name": "stdout",
     "output_type": "stream",
     "text": [
      "Epoch 2 val loss: 1.6697\n",
      "Saving new best model..\n",
      "Training epoch 3...\n",
      "Current LR: 0.0005\n"
     ]
    },
    {
     "data": {
      "application/vnd.jupyter.widget-view+json": {
       "model_id": "3f5e6ce17bd648369aa4ac31a1028e22",
       "version_major": 2,
       "version_minor": 0
      },
      "text/plain": [
       "  0%|          | 0/225 [00:00<?, ?it/s]"
      ]
     },
     "metadata": {},
     "output_type": "display_data"
    },
    {
     "name": "stdout",
     "output_type": "stream",
     "text": [
      "Epoch 3 train loss: 1.9152\n",
      "Validating epoch 3\n"
     ]
    },
    {
     "data": {
      "application/vnd.jupyter.widget-view+json": {
       "model_id": "6a4d67874e4c4b97b2c139865b28b7d7",
       "version_major": 2,
       "version_minor": 0
      },
      "text/plain": [
       "  0%|          | 0/91 [00:00<?, ?it/s]"
      ]
     },
     "metadata": {},
     "output_type": "display_data"
    },
    {
     "name": "stdout",
     "output_type": "stream",
     "text": [
      "Epoch 3 val loss: 1.6681\n",
      "Saving new best model..\n",
      "Training epoch 4...\n",
      "Current LR: 0.0005\n"
     ]
    },
    {
     "data": {
      "application/vnd.jupyter.widget-view+json": {
       "model_id": "164f49614264486fb3f3a090f5535b50",
       "version_major": 2,
       "version_minor": 0
      },
      "text/plain": [
       "  0%|          | 0/225 [00:00<?, ?it/s]"
      ]
     },
     "metadata": {},
     "output_type": "display_data"
    },
    {
     "name": "stdout",
     "output_type": "stream",
     "text": [
      "Epoch 4 train loss: 1.9129\n",
      "Validating epoch 4\n"
     ]
    },
    {
     "data": {
      "application/vnd.jupyter.widget-view+json": {
       "model_id": "890ba6addd6649b98a2b80b94fd8bda5",
       "version_major": 2,
       "version_minor": 0
      },
      "text/plain": [
       "  0%|          | 0/91 [00:00<?, ?it/s]"
      ]
     },
     "metadata": {},
     "output_type": "display_data"
    },
    {
     "name": "stdout",
     "output_type": "stream",
     "text": [
      "Epoch 4 val loss: 1.6718\n",
      "Training epoch 5...\n",
      "Current LR: 0.0005\n"
     ]
    },
    {
     "data": {
      "application/vnd.jupyter.widget-view+json": {
       "model_id": "c0920ab66c9f45a7a3941dc1d488f92d",
       "version_major": 2,
       "version_minor": 0
      },
      "text/plain": [
       "  0%|          | 0/225 [00:00<?, ?it/s]"
      ]
     },
     "metadata": {},
     "output_type": "display_data"
    },
    {
     "name": "stdout",
     "output_type": "stream",
     "text": [
      "Epoch 5 train loss: 1.9167\n",
      "Validating epoch 5\n"
     ]
    },
    {
     "data": {
      "application/vnd.jupyter.widget-view+json": {
       "model_id": "a2f9475d5be447019c1cc6c5a377a66f",
       "version_major": 2,
       "version_minor": 0
      },
      "text/plain": [
       "  0%|          | 0/91 [00:00<?, ?it/s]"
      ]
     },
     "metadata": {},
     "output_type": "display_data"
    },
    {
     "name": "stdout",
     "output_type": "stream",
     "text": [
      "Epoch 5 val loss: 1.6680\n",
      "Saving new best model..\n",
      "Training epoch 6...\n",
      "Current LR: 0.0005\n"
     ]
    },
    {
     "data": {
      "application/vnd.jupyter.widget-view+json": {
       "model_id": "e185f3e976e34a2684aeceb8c75374f5",
       "version_major": 2,
       "version_minor": 0
      },
      "text/plain": [
       "  0%|          | 0/225 [00:00<?, ?it/s]"
      ]
     },
     "metadata": {},
     "output_type": "display_data"
    },
    {
     "name": "stdout",
     "output_type": "stream",
     "text": [
      "Epoch 6 train loss: 1.9085\n",
      "Validating epoch 6\n"
     ]
    },
    {
     "data": {
      "application/vnd.jupyter.widget-view+json": {
       "model_id": "e9e101ba723140be86345f5c4f1c6551",
       "version_major": 2,
       "version_minor": 0
      },
      "text/plain": [
       "  0%|          | 0/91 [00:00<?, ?it/s]"
      ]
     },
     "metadata": {},
     "output_type": "display_data"
    },
    {
     "name": "stdout",
     "output_type": "stream",
     "text": [
      "Epoch 6 val loss: 1.6680\n",
      "Training epoch 7...\n",
      "Current LR: 0.00045000000000000004\n"
     ]
    },
    {
     "data": {
      "application/vnd.jupyter.widget-view+json": {
       "model_id": "251701a15ac643ada3686c2ef0082f7b",
       "version_major": 2,
       "version_minor": 0
      },
      "text/plain": [
       "  0%|          | 0/225 [00:00<?, ?it/s]"
      ]
     },
     "metadata": {},
     "output_type": "display_data"
    },
    {
     "name": "stdout",
     "output_type": "stream",
     "text": [
      "Epoch 7 train loss: 1.9098\n",
      "Validating epoch 7\n"
     ]
    },
    {
     "data": {
      "application/vnd.jupyter.widget-view+json": {
       "model_id": "329f9127194349c180a41815c109ba9b",
       "version_major": 2,
       "version_minor": 0
      },
      "text/plain": [
       "  0%|          | 0/91 [00:00<?, ?it/s]"
      ]
     },
     "metadata": {},
     "output_type": "display_data"
    },
    {
     "name": "stdout",
     "output_type": "stream",
     "text": [
      "Epoch 7 val loss: 1.6679\n",
      "Saving new best model..\n",
      "Training epoch 8...\n",
      "Current LR: 0.00045000000000000004\n"
     ]
    },
    {
     "data": {
      "application/vnd.jupyter.widget-view+json": {
       "model_id": "fd7c056941a14d138a541bace022a32a",
       "version_major": 2,
       "version_minor": 0
      },
      "text/plain": [
       "  0%|          | 0/225 [00:00<?, ?it/s]"
      ]
     },
     "metadata": {},
     "output_type": "display_data"
    },
    {
     "name": "stdout",
     "output_type": "stream",
     "text": [
      "Epoch 8 train loss: 1.9082\n",
      "Validating epoch 8\n"
     ]
    },
    {
     "data": {
      "application/vnd.jupyter.widget-view+json": {
       "model_id": "f1c2bd18439f4e7189bef1dbfc64d368",
       "version_major": 2,
       "version_minor": 0
      },
      "text/plain": [
       "  0%|          | 0/91 [00:00<?, ?it/s]"
      ]
     },
     "metadata": {},
     "output_type": "display_data"
    },
    {
     "name": "stdout",
     "output_type": "stream",
     "text": [
      "Epoch 8 val loss: 1.6688\n",
      "Training epoch 9...\n",
      "Current LR: 0.00045000000000000004\n"
     ]
    },
    {
     "data": {
      "application/vnd.jupyter.widget-view+json": {
       "model_id": "639665e904194db1b3dba53875fc1fb0",
       "version_major": 2,
       "version_minor": 0
      },
      "text/plain": [
       "  0%|          | 0/225 [00:00<?, ?it/s]"
      ]
     },
     "metadata": {},
     "output_type": "display_data"
    },
    {
     "name": "stdout",
     "output_type": "stream",
     "text": [
      "Epoch 9 train loss: 1.9086\n",
      "Validating epoch 9\n"
     ]
    },
    {
     "data": {
      "application/vnd.jupyter.widget-view+json": {
       "model_id": "8da97e25904f4cfe81a9146a3b7501fb",
       "version_major": 2,
       "version_minor": 0
      },
      "text/plain": [
       "  0%|          | 0/91 [00:00<?, ?it/s]"
      ]
     },
     "metadata": {},
     "output_type": "display_data"
    },
    {
     "name": "stdout",
     "output_type": "stream",
     "text": [
      "Epoch 9 val loss: 1.6706\n",
      "Training epoch 10...\n",
      "Current LR: 0.00040500000000000003\n"
     ]
    },
    {
     "data": {
      "application/vnd.jupyter.widget-view+json": {
       "model_id": "564f6b8f6e3344dd86702167956851ba",
       "version_major": 2,
       "version_minor": 0
      },
      "text/plain": [
       "  0%|          | 0/225 [00:00<?, ?it/s]"
      ]
     },
     "metadata": {},
     "output_type": "display_data"
    },
    {
     "name": "stdout",
     "output_type": "stream",
     "text": [
      "Epoch 10 train loss: 1.9058\n",
      "Validating epoch 10\n"
     ]
    },
    {
     "data": {
      "application/vnd.jupyter.widget-view+json": {
       "model_id": "cbb6905c364f453d8454d85ecf947407",
       "version_major": 2,
       "version_minor": 0
      },
      "text/plain": [
       "  0%|          | 0/91 [00:00<?, ?it/s]"
      ]
     },
     "metadata": {},
     "output_type": "display_data"
    },
    {
     "name": "stdout",
     "output_type": "stream",
     "text": [
      "Epoch 10 val loss: 1.6679\n",
      "Saving new best model..\n",
      "Finished Training\n"
     ]
    }
   ],
   "source": [
    "################################################################################\n",
    "# TODO#21                                                                      #\n",
    "# Complete the code to train your best model                                   #\n",
    "################################################################################\n",
    "print('start training the best model')\n",
    "################################################################################\n",
    "#                            WRITE YOUR CODE BELOW                             #\n",
    "################################################################################\n",
    "loss_fn = nn.MSELoss()\n",
    "config_hb = {\n",
    "    'architecture': 'HybridCNN-GRU',\n",
    "    'lr': 0.0005,\n",
    "    'hidden_size': 128,\n",
    "    'scheduler_factor': 0.9,\n",
    "    'scheduler_patience': 2,\n",
    "    'scheduler_min_lr': 1e-4,\n",
    "    'epochs': 10\n",
    "}\n",
    "\n",
    "# Model\n",
    "model_hb = CNNGRUNet(hidden_size=config_hb['hidden_size'])\n",
    "model_hb = model_hb.to(device)\n",
    "optimizer = torch.optim.Adam(model_hb.parameters(), lr=config_hb['lr'])\n",
    "scheduler = torch.optim.lr_scheduler.ReduceLROnPlateau(\n",
    "    optimizer, \n",
    "    'min', \n",
    "    factor=config_hb['scheduler_factor'], \n",
    "    patience=config_hb['scheduler_patience'], \n",
    "    min_lr=config_hb['scheduler_min_lr']\n",
    ")\n",
    "\n",
    "history = train(model=model_hb, optimizer=optimizer, scheduler=scheduler,\n",
    "                train_loader=train_loader_hyb, val_loader=val_loader_hyb,\n",
    "                config=config_hb, scheduler_input=\"loss\", wandb_save=False)"
   ]
  },
  {
   "cell_type": "code",
   "execution_count": 160,
   "metadata": {
    "id": "Ag7EC7E9MuZH"
   },
   "outputs": [
    {
     "name": "stdout",
     "output_type": "stream",
     "text": [
      "CNNGRU-model # Convolute first, then pass conv output to recurrent unit\n",
      "Loaded epoch 9 model\n",
      "validate 1.667851209640503\n",
      "test 1.1507552862167358\n",
      "\n",
      "Siamese-model # Pass input to Conv, GRU in parallel scheme then concatenate and pass to FC layer\n",
      "Loaded epoch 4 model\n",
      "validate 1.667472243309021\n",
      "test 1.152024269104004\n"
     ]
    }
   ],
   "source": [
    "# Evaluate best model on validation and test set\n",
    "print('CNNGRU-model # Convolute first, then pass conv output to recurrent unit')\n",
    "loaded_model = get_model(model=CNNGRUNet, path='model_CNNGRUNet.pth.tar', config=config_hb)\n",
    "print('validate', evaluate(val_loader_hyb, loaded_model).item())\n",
    "print('test', evaluate(test_loader_hyb, loaded_model).item())\n",
    "\n",
    "print('\\nSiamese-model # Pass input to Conv, GRU in parallel scheme then concatenate and pass to FC layer')\n",
    "loaded_model = get_model(model=SiameseNet, path='model_SiameseNet.pth.tar', config=config_hb)\n",
    "print('validate', evaluate(val_loader_hyb, loaded_model).item())\n",
    "print('test', evaluate(test_loader_hyb, loaded_model).item())"
   ]
  },
  {
   "cell_type": "code",
   "execution_count": 143,
   "metadata": {
    "id": "tOVQ2zHkFKv-"
   },
   "outputs": [
    {
     "name": "stdout",
     "output_type": "stream",
     "text": [
      "FF-Dropout-model\n",
      "Loaded epoch 6 model\n",
      "validate 1.660577416419983\n",
      "test 1.164641261100769\n",
      "\n",
      "CNN-model\n",
      "Loaded epoch 9 model\n",
      "validate 1.6567449569702148\n",
      "test 1.1621754169464111\n",
      "\n",
      "GRU-model\n",
      "Loaded epoch 9 model\n",
      "validate 1.6685786247253418\n",
      "test 1.1525726318359375\n"
     ]
    }
   ],
   "source": [
    "# Also evaluate your fully-connected model and CNN/GRU model on the test set.\n",
    "print('FF-Dropout-model')\n",
    "loaded_model = get_model(model=FeedForwardDropout, path='model_FeedForwardDropout.pth.tar', config=config_dropout)\n",
    "print('validate', evaluate(val_loader, loaded_model).item())\n",
    "print('test', evaluate(test_loader, loaded_model).item())\n",
    "\n",
    "print('\\nCNN-model')\n",
    "loaded_model = get_model(model=Conv2DNN, path='model_Conv2DNN.pth.tar', config=config_cnn)\n",
    "print('validate', evaluate(val_loader_cnn, loaded_model).item())\n",
    "print('test', evaluate(test_loader_cnn, loaded_model).item())\n",
    "\n",
    "print('\\nGRU-model')\n",
    "loaded_model = get_model(model=GRUModel, path='model_GRUModel.pth.tar', config=config_gru)\n",
    "print('validate', evaluate(val_loader_gru, loaded_model).item())\n",
    "print('test', evaluate(test_loader_gru, loaded_model).item())"
   ]
  },
  {
   "cell_type": "markdown",
   "metadata": {
    "id": "yHyzJulTFKwA"
   },
   "source": [
    "To get full credit for this part, your best model should be better than the previous models on the **test set**. \n",
    "\n",
    "### TODO#22\n",
    "\n",
    "Explain what helped and what did not help here\n",
    "\n",
    "**Ans:**\n",
    "\n",
    "By combining CNN and GRU in image-time-related dataset. This approach combine inductive bias from Convolution and Recurrent which helps model generalize more and achieve the best result in final evaluation. Effect of other hyperparamters are shown as follow:\n",
    "\n",
    "***Effective***: Dropout, Complex arch, Decrease LR\n",
    "\n",
    "***Ineffective***: Increase iteration, Increase hidden size, Change activation\n",
    "\n"
   ]
  },
  {
   "cell_type": "markdown",
   "metadata": {
    "id": "UqJCOYoPaZcc"
   },
   "source": [
    "# [Optional] Augmentation using data loader\n",
    "\n",
    "### Optional TODO#2\n",
    "\n",
    "Implement a new dataloader on your best model that will perform data augmentation. Try adding noise of zero mean and variance of $10e^{-2}$.\n",
    "\n",
    "Then, train your model."
   ]
  },
  {
   "cell_type": "code",
   "execution_count": 34,
   "metadata": {},
   "outputs": [],
   "source": [
    "# Adding noise\n",
    "def Gaussian_noise(mean, var, size):\n",
    "    std = np.sqrt(var)\n",
    "    noise = np.random.normal(loc=mean, scale=std, size=size)\n",
    "    return noise"
   ]
  },
  {
   "cell_type": "code",
   "execution_count": 126,
   "metadata": {},
   "outputs": [],
   "source": [
    "def Augmented_preprocessing(data, label):\n",
    "    x = data.reshape((-1, 5, 5, 5, 3))\n",
    "    y = label.reshape((-1, 5))\n",
    "    return x, y\n",
    "\n",
    "class normalizer_std_Augmented():\n",
    "    def __init__(self):\n",
    "        self.scalers = {}\n",
    "    \n",
    "    def fit(self, data):\n",
    "        X = data.copy()\n",
    "        X = X.reshape((-1, 25, 3))\n",
    "        for i in range(X.shape[2]):\n",
    "            self.scalers[i] = preprocessing.StandardScaler()\n",
    "            self.scalers[i].fit(X[:,:,i])\n",
    "        return self\n",
    "    \n",
    "    def transform(self, data):\n",
    "        X = data.copy()\n",
    "        X = X.reshape((-1, 25, 3)) \n",
    "        for i in range(X.shape[2]):\n",
    "            X[:,:,i] = self.scalers[i].transform(X[:,:,i]) \n",
    "        return X.reshape((5, 5, 5, 3))"
   ]
  },
  {
   "cell_type": "code",
   "execution_count": 131,
   "metadata": {
    "id": "IwEB-0wMaqhr"
   },
   "outputs": [],
   "source": [
    "# Write Dataset/DataLoader with noise here\n",
    "class AugmentedDataset(Dataset):\n",
    "    def __init__(self, x, y, normalizer):\n",
    "        self.x = x.astype(np.float32)\n",
    "        self.normalizer = normalizer\n",
    "        self.y = y.astype(np.float32)\n",
    "\n",
    "    def __getitem__(self, index):\n",
    "        x = self.x[index] # Retrieve data\n",
    "        p = np.random.uniform(0,1,1)\n",
    "        if p >= 0.5:\n",
    "            noise = Gaussian_noise(0, 0.1, x.shape)\n",
    "            x += noise\n",
    "        x = self.normalizer.transform(x)\n",
    "        \n",
    "        x = np.moveaxis(x, -1, 1)\n",
    "        y = self.y[index]\n",
    "        return x, y\n",
    "\n",
    "    def __len__(self):\n",
    "        return self.x.shape[0]"
   ]
  },
  {
   "cell_type": "code",
   "execution_count": 134,
   "metadata": {},
   "outputs": [],
   "source": [
    "# Data preprocessing\n",
    "x_train_aug, y_train_aug = Augmented_preprocessing(x_train, y_train)\n",
    "x_val_aug, y_val_aug = Augmented_preprocessing(x_val, y_val)\n",
    "x_test_aug, y_test_aug = Augmented_preprocessing(x_test, y_test)\n",
    "\n",
    "# Normalization for CNN\n",
    "Augmented_norm = normalizer_std_Augmented().fit(data=x_train_aug)\n",
    "\n",
    "# Create dataset\n",
    "train_dataset_aug = AugmentedDataset(x_train_aug, y_train_aug, Augmented_norm)\n",
    "val_dataset_aug = AugmentedDataset(x_val_aug, y_val_aug, Augmented_norm)\n",
    "test_dataset_aug = AugmentedDataset(x_test_aug, y_test_aug, Augmented_norm)\n",
    "\n",
    "# Data loader\n",
    "train_loader_aug = DataLoader(train_dataset_aug, batch_size=1024, shuffle=True, pin_memory=True)\n",
    "val_loader_aug = DataLoader(val_dataset_aug, batch_size=1024, shuffle=False, pin_memory=True)\n",
    "test_loader_aug = DataLoader(test_dataset_aug, batch_size=1024, shuffle=False, pin_memory=True)"
   ]
  },
  {
   "cell_type": "code",
   "execution_count": 151,
   "metadata": {
    "id": "3l44W5glBdae",
    "scrolled": true
   },
   "outputs": [
    {
     "name": "stdout",
     "output_type": "stream",
     "text": [
      "start training the best model with noise\n",
      "Training epoch 1...\n",
      "Current LR: 0.0005\n"
     ]
    },
    {
     "data": {
      "application/vnd.jupyter.widget-view+json": {
       "model_id": "fd07af826cf84883b95d8c5565f83074",
       "version_major": 2,
       "version_minor": 0
      },
      "text/plain": [
       "  0%|          | 0/225 [00:00<?, ?it/s]"
      ]
     },
     "metadata": {},
     "output_type": "display_data"
    },
    {
     "name": "stdout",
     "output_type": "stream",
     "text": [
      "Epoch 1 train loss: 1.9594\n",
      "Validating epoch 1\n"
     ]
    },
    {
     "data": {
      "application/vnd.jupyter.widget-view+json": {
       "model_id": "9e9cb57d1e8a40c28ac4a85c1efb6b71",
       "version_major": 2,
       "version_minor": 0
      },
      "text/plain": [
       "  0%|          | 0/91 [00:00<?, ?it/s]"
      ]
     },
     "metadata": {},
     "output_type": "display_data"
    },
    {
     "name": "stdout",
     "output_type": "stream",
     "text": [
      "Epoch 1 val loss: 1.6731\n",
      "Saving new best model..\n",
      "Training epoch 2...\n",
      "Current LR: 0.0005\n"
     ]
    },
    {
     "data": {
      "application/vnd.jupyter.widget-view+json": {
       "model_id": "4976c9a40da64c99b8b4a4ee7bf1deeb",
       "version_major": 2,
       "version_minor": 0
      },
      "text/plain": [
       "  0%|          | 0/225 [00:00<?, ?it/s]"
      ]
     },
     "metadata": {},
     "output_type": "display_data"
    },
    {
     "name": "stdout",
     "output_type": "stream",
     "text": [
      "Epoch 2 train loss: 1.9143\n",
      "Validating epoch 2\n"
     ]
    },
    {
     "data": {
      "application/vnd.jupyter.widget-view+json": {
       "model_id": "f35b4fa9697d4690aef35779afae067c",
       "version_major": 2,
       "version_minor": 0
      },
      "text/plain": [
       "  0%|          | 0/91 [00:00<?, ?it/s]"
      ]
     },
     "metadata": {},
     "output_type": "display_data"
    },
    {
     "name": "stdout",
     "output_type": "stream",
     "text": [
      "Epoch 2 val loss: 1.6694\n",
      "Saving new best model..\n",
      "Training epoch 3...\n",
      "Current LR: 0.0005\n"
     ]
    },
    {
     "data": {
      "application/vnd.jupyter.widget-view+json": {
       "model_id": "6c4d9412da8a45a9a17f65578649dcbb",
       "version_major": 2,
       "version_minor": 0
      },
      "text/plain": [
       "  0%|          | 0/225 [00:00<?, ?it/s]"
      ]
     },
     "metadata": {},
     "output_type": "display_data"
    },
    {
     "name": "stdout",
     "output_type": "stream",
     "text": [
      "Epoch 3 train loss: 1.9115\n",
      "Validating epoch 3\n"
     ]
    },
    {
     "data": {
      "application/vnd.jupyter.widget-view+json": {
       "model_id": "4a80813c1ae145b3b7bcad90f5d62734",
       "version_major": 2,
       "version_minor": 0
      },
      "text/plain": [
       "  0%|          | 0/91 [00:00<?, ?it/s]"
      ]
     },
     "metadata": {},
     "output_type": "display_data"
    },
    {
     "name": "stdout",
     "output_type": "stream",
     "text": [
      "Epoch 3 val loss: 1.6710\n",
      "Training epoch 4...\n",
      "Current LR: 0.0005\n"
     ]
    },
    {
     "data": {
      "application/vnd.jupyter.widget-view+json": {
       "model_id": "a81d5335c6664ed28c25276d130111a2",
       "version_major": 2,
       "version_minor": 0
      },
      "text/plain": [
       "  0%|          | 0/225 [00:00<?, ?it/s]"
      ]
     },
     "metadata": {},
     "output_type": "display_data"
    },
    {
     "name": "stdout",
     "output_type": "stream",
     "text": [
      "Epoch 4 train loss: 1.9157\n",
      "Validating epoch 4\n"
     ]
    },
    {
     "data": {
      "application/vnd.jupyter.widget-view+json": {
       "model_id": "7cf876bc67844343b82b9673165e3ca2",
       "version_major": 2,
       "version_minor": 0
      },
      "text/plain": [
       "  0%|          | 0/91 [00:00<?, ?it/s]"
      ]
     },
     "metadata": {},
     "output_type": "display_data"
    },
    {
     "name": "stdout",
     "output_type": "stream",
     "text": [
      "Epoch 4 val loss: 1.6776\n",
      "Training epoch 5...\n",
      "Current LR: 0.0005\n"
     ]
    },
    {
     "data": {
      "application/vnd.jupyter.widget-view+json": {
       "model_id": "5c9ab45d0deb478a8f6158491774cbeb",
       "version_major": 2,
       "version_minor": 0
      },
      "text/plain": [
       "  0%|          | 0/225 [00:00<?, ?it/s]"
      ]
     },
     "metadata": {},
     "output_type": "display_data"
    },
    {
     "name": "stdout",
     "output_type": "stream",
     "text": [
      "Epoch 5 train loss: 1.9136\n",
      "Validating epoch 5\n"
     ]
    },
    {
     "data": {
      "application/vnd.jupyter.widget-view+json": {
       "model_id": "90897e30afe34715aa5699c1e5e2a6ed",
       "version_major": 2,
       "version_minor": 0
      },
      "text/plain": [
       "  0%|          | 0/91 [00:00<?, ?it/s]"
      ]
     },
     "metadata": {},
     "output_type": "display_data"
    },
    {
     "name": "stdout",
     "output_type": "stream",
     "text": [
      "Epoch 5 val loss: 1.6696\n",
      "Training epoch 6...\n",
      "Current LR: 0.00045000000000000004\n"
     ]
    },
    {
     "data": {
      "application/vnd.jupyter.widget-view+json": {
       "model_id": "74ed1e985bf6410baef076152b0475fe",
       "version_major": 2,
       "version_minor": 0
      },
      "text/plain": [
       "  0%|          | 0/225 [00:00<?, ?it/s]"
      ]
     },
     "metadata": {},
     "output_type": "display_data"
    },
    {
     "name": "stdout",
     "output_type": "stream",
     "text": [
      "Epoch 6 train loss: 1.9143\n",
      "Validating epoch 6\n"
     ]
    },
    {
     "data": {
      "application/vnd.jupyter.widget-view+json": {
       "model_id": "0bd4ceebf83d40b79b47ca4dd0aa6310",
       "version_major": 2,
       "version_minor": 0
      },
      "text/plain": [
       "  0%|          | 0/91 [00:00<?, ?it/s]"
      ]
     },
     "metadata": {},
     "output_type": "display_data"
    },
    {
     "name": "stdout",
     "output_type": "stream",
     "text": [
      "Epoch 6 val loss: 1.6687\n",
      "Saving new best model..\n",
      "Training epoch 7...\n",
      "Current LR: 0.00045000000000000004\n"
     ]
    },
    {
     "data": {
      "application/vnd.jupyter.widget-view+json": {
       "model_id": "c3797f810819434eaaeab26675b2a7d9",
       "version_major": 2,
       "version_minor": 0
      },
      "text/plain": [
       "  0%|          | 0/225 [00:00<?, ?it/s]"
      ]
     },
     "metadata": {},
     "output_type": "display_data"
    },
    {
     "name": "stdout",
     "output_type": "stream",
     "text": [
      "Epoch 7 train loss: 1.9086\n",
      "Validating epoch 7\n"
     ]
    },
    {
     "data": {
      "application/vnd.jupyter.widget-view+json": {
       "model_id": "8b7aa214d72144f3a31d5d75e6b75873",
       "version_major": 2,
       "version_minor": 0
      },
      "text/plain": [
       "  0%|          | 0/91 [00:00<?, ?it/s]"
      ]
     },
     "metadata": {},
     "output_type": "display_data"
    },
    {
     "name": "stdout",
     "output_type": "stream",
     "text": [
      "Epoch 7 val loss: 1.6681\n",
      "Saving new best model..\n",
      "Training epoch 8...\n",
      "Current LR: 0.00045000000000000004\n"
     ]
    },
    {
     "data": {
      "application/vnd.jupyter.widget-view+json": {
       "model_id": "844fb172dbd94a3fb0fbc58332fa341b",
       "version_major": 2,
       "version_minor": 0
      },
      "text/plain": [
       "  0%|          | 0/225 [00:00<?, ?it/s]"
      ]
     },
     "metadata": {},
     "output_type": "display_data"
    },
    {
     "name": "stdout",
     "output_type": "stream",
     "text": [
      "Epoch 8 train loss: 1.9077\n",
      "Validating epoch 8\n"
     ]
    },
    {
     "data": {
      "application/vnd.jupyter.widget-view+json": {
       "model_id": "60e08e9f00fd4ebb8300b039811b5521",
       "version_major": 2,
       "version_minor": 0
      },
      "text/plain": [
       "  0%|          | 0/91 [00:00<?, ?it/s]"
      ]
     },
     "metadata": {},
     "output_type": "display_data"
    },
    {
     "name": "stdout",
     "output_type": "stream",
     "text": [
      "Epoch 8 val loss: 1.6683\n",
      "Training epoch 9...\n",
      "Current LR: 0.00045000000000000004\n"
     ]
    },
    {
     "data": {
      "application/vnd.jupyter.widget-view+json": {
       "model_id": "625ec30dafe54478839fc7ca348d333f",
       "version_major": 2,
       "version_minor": 0
      },
      "text/plain": [
       "  0%|          | 0/225 [00:00<?, ?it/s]"
      ]
     },
     "metadata": {},
     "output_type": "display_data"
    },
    {
     "name": "stdout",
     "output_type": "stream",
     "text": [
      "Epoch 9 train loss: 1.9077\n",
      "Validating epoch 9\n"
     ]
    },
    {
     "data": {
      "application/vnd.jupyter.widget-view+json": {
       "model_id": "89ef9cc43e484ee780b3f24668205819",
       "version_major": 2,
       "version_minor": 0
      },
      "text/plain": [
       "  0%|          | 0/91 [00:00<?, ?it/s]"
      ]
     },
     "metadata": {},
     "output_type": "display_data"
    },
    {
     "name": "stdout",
     "output_type": "stream",
     "text": [
      "Epoch 9 val loss: 1.6681\n",
      "Saving new best model..\n",
      "Training epoch 10...\n",
      "Current LR: 0.00045000000000000004\n"
     ]
    },
    {
     "data": {
      "application/vnd.jupyter.widget-view+json": {
       "model_id": "cdb7241297db477a84fef603012434e4",
       "version_major": 2,
       "version_minor": 0
      },
      "text/plain": [
       "  0%|          | 0/225 [00:00<?, ?it/s]"
      ]
     },
     "metadata": {},
     "output_type": "display_data"
    },
    {
     "name": "stdout",
     "output_type": "stream",
     "text": [
      "Epoch 10 train loss: 1.9120\n",
      "Validating epoch 10\n"
     ]
    },
    {
     "data": {
      "application/vnd.jupyter.widget-view+json": {
       "model_id": "2cbe377f78534e5494845e9e2292d8f3",
       "version_major": 2,
       "version_minor": 0
      },
      "text/plain": [
       "  0%|          | 0/91 [00:00<?, ?it/s]"
      ]
     },
     "metadata": {},
     "output_type": "display_data"
    },
    {
     "name": "stdout",
     "output_type": "stream",
     "text": [
      "Epoch 10 val loss: 1.6681\n",
      "Finished Training\n"
     ]
    }
   ],
   "source": [
    "print('start training the best model with noise')\n",
    "################################################################################\n",
    "#                            WRITE YOUR CODE BELOW                             #\n",
    "################################################################################\n",
    "loss_fn = nn.MSELoss()\n",
    "config_aug = {\n",
    "    'architecture': 'HybridCNN-GRU',\n",
    "    'lr': 0.0005,\n",
    "    'hidden_size': 128,\n",
    "    'scheduler_factor': 0.2,\n",
    "    'scheduler_patience': 2,\n",
    "    'scheduler_min_lr': 1e-4,\n",
    "    'epochs': 10\n",
    "}\n",
    "\n",
    "# Model\n",
    "model_hb = CNNGRUNet(hidden_size=config_hb['hidden_size'])\n",
    "model_hb = model_hb.to(device)\n",
    "optimizer = torch.optim.Adam(model_hb.parameters(), lr=config_hb['lr'])\n",
    "scheduler = torch.optim.lr_scheduler.ReduceLROnPlateau(\n",
    "    optimizer, \n",
    "    'min', \n",
    "    factor=config_hb['scheduler_factor'], \n",
    "    patience=config_hb['scheduler_patience'], \n",
    "    min_lr=config_hb['scheduler_min_lr']\n",
    ")\n",
    "\n",
    "history = train(model=model_hb, optimizer=optimizer, scheduler=scheduler,\n",
    "                train_loader=train_loader_aug, val_loader=val_loader_aug,\n",
    "                config=config_aug, scheduler_input=\"loss\", wandb_save=False)"
   ]
  },
  {
   "cell_type": "code",
   "execution_count": 152,
   "metadata": {
    "id": "sxBScR6KBoCs"
   },
   "outputs": [
    {
     "name": "stdout",
     "output_type": "stream",
     "text": [
      "CNNGRU-model # Convolute first, then pass conv output to recurrent unit\n",
      "Loaded epoch 8 model\n",
      "validate 1.6680841445922852\n",
      "test 1.1541861295700073\n"
     ]
    }
   ],
   "source": [
    "# Evaluate the best model trained with noise on validation and test set\n",
    "print('CNNGRU-model # Convolute first, then pass conv output to recurrent unit')\n",
    "loaded_model = get_model(model=CNNGRUNet, path='model_CNNGRUNet.pth.tar', config=config_aug)\n",
    "print('validate', evaluate(val_loader_aug, loaded_model).item())\n",
    "print('test', evaluate(test_loader_aug, loaded_model).item())"
   ]
  },
  {
   "cell_type": "code",
   "execution_count": null,
   "metadata": {},
   "outputs": [],
   "source": []
  }
 ],
 "metadata": {
  "accelerator": "GPU",
  "colab": {
   "collapsed_sections": [],
   "name": "HW5_Precipitation_Nowcasting_PyTorch_Student.ipynb",
   "provenance": []
  },
  "kernelspec": {
   "display_name": "Python 3 (ipykernel)",
   "language": "python",
   "name": "python3"
  },
  "language_info": {
   "codemirror_mode": {
    "name": "ipython",
    "version": 3
   },
   "file_extension": ".py",
   "mimetype": "text/x-python",
   "name": "python",
   "nbconvert_exporter": "python",
   "pygments_lexer": "ipython3",
   "version": "3.10.0"
  }
 },
 "nbformat": 4,
 "nbformat_minor": 1
}
