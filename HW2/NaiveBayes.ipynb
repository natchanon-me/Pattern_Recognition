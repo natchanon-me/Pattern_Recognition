{
 "cells": [
  {
   "cell_type": "code",
   "execution_count": 1,
   "metadata": {},
   "outputs": [],
   "source": [
    "import numpy as np\n",
    "import pandas as pd\n",
    "import matplotlib.pyplot as plt\n",
    "import os\n",
    "\n",
    "%matplotlib inline"
   ]
  },
  {
   "cell_type": "markdown",
   "metadata": {},
   "source": [
    "# ***HR Analytics -- Naive Bayes classifier***\n",
    "\n",
    "<br>\n",
    "\n",
    "## Categorical Features Description\n",
    "\n",
    "<br>\n",
    "\n",
    "|   | Education | EnvironmentSatis | JobInvolvement | Performance | Relationship | WLB |\n",
    "|----|-----------|------------------|----------------|:-----------:|--------------|-----|\n",
    "|  1 | Below College|Low|Low|Low|Low|Bad|\n",
    "|  2 | College|Medium|Medium|Good|Medium|Good|\n",
    "|   3| Bachelor|High|High|Excellent|High|Better|\n",
    "|  4 |  Master|Very High|Very High|Outstanding|Very High|Best|\n",
    "|  5 |Doctor|-|  -              |     -        |      -        | -   |\n",
    "\n",
    "<br>\n",
    "\n"
   ]
  },
  {
   "cell_type": "code",
   "execution_count": 2,
   "metadata": {},
   "outputs": [],
   "source": [
    "path = 'https://raw.githubusercontent.com/ekapolc/pattern_2022/main/HW/HW02/hr-employee-attrition-with-null.csv'\n",
    "df = pd.read_csv(path, index_col=[0])"
   ]
  },
  {
   "cell_type": "code",
   "execution_count": 3,
   "metadata": {
    "scrolled": true
   },
   "outputs": [
    {
     "data": {
      "text/html": [
       "<div>\n",
       "<style scoped>\n",
       "    .dataframe tbody tr th:only-of-type {\n",
       "        vertical-align: middle;\n",
       "    }\n",
       "\n",
       "    .dataframe tbody tr th {\n",
       "        vertical-align: top;\n",
       "    }\n",
       "\n",
       "    .dataframe thead th {\n",
       "        text-align: right;\n",
       "    }\n",
       "</style>\n",
       "<table border=\"1\" class=\"dataframe\">\n",
       "  <thead>\n",
       "    <tr style=\"text-align: right;\">\n",
       "      <th></th>\n",
       "      <th>Age</th>\n",
       "      <th>Attrition</th>\n",
       "      <th>BusinessTravel</th>\n",
       "      <th>DailyRate</th>\n",
       "      <th>Department</th>\n",
       "      <th>DistanceFromHome</th>\n",
       "      <th>Education</th>\n",
       "      <th>EducationField</th>\n",
       "      <th>EmployeeCount</th>\n",
       "      <th>EmployeeNumber</th>\n",
       "      <th>...</th>\n",
       "      <th>RelationshipSatisfaction</th>\n",
       "      <th>StandardHours</th>\n",
       "      <th>StockOptionLevel</th>\n",
       "      <th>TotalWorkingYears</th>\n",
       "      <th>TrainingTimesLastYear</th>\n",
       "      <th>WorkLifeBalance</th>\n",
       "      <th>YearsAtCompany</th>\n",
       "      <th>YearsInCurrentRole</th>\n",
       "      <th>YearsSinceLastPromotion</th>\n",
       "      <th>YearsWithCurrManager</th>\n",
       "    </tr>\n",
       "  </thead>\n",
       "  <tbody>\n",
       "    <tr>\n",
       "      <th>0</th>\n",
       "      <td>41.0</td>\n",
       "      <td>Yes</td>\n",
       "      <td>Travel_Rarely</td>\n",
       "      <td>NaN</td>\n",
       "      <td>NaN</td>\n",
       "      <td>1.0</td>\n",
       "      <td>NaN</td>\n",
       "      <td>Life Sciences</td>\n",
       "      <td>1.0</td>\n",
       "      <td>1.0</td>\n",
       "      <td>...</td>\n",
       "      <td>1.0</td>\n",
       "      <td>80.0</td>\n",
       "      <td>0.0</td>\n",
       "      <td>8.0</td>\n",
       "      <td>0.0</td>\n",
       "      <td>NaN</td>\n",
       "      <td>6.0</td>\n",
       "      <td>NaN</td>\n",
       "      <td>0.0</td>\n",
       "      <td>NaN</td>\n",
       "    </tr>\n",
       "    <tr>\n",
       "      <th>1</th>\n",
       "      <td>NaN</td>\n",
       "      <td>No</td>\n",
       "      <td>NaN</td>\n",
       "      <td>279.0</td>\n",
       "      <td>Research &amp; Development</td>\n",
       "      <td>NaN</td>\n",
       "      <td>NaN</td>\n",
       "      <td>Life Sciences</td>\n",
       "      <td>1.0</td>\n",
       "      <td>2.0</td>\n",
       "      <td>...</td>\n",
       "      <td>4.0</td>\n",
       "      <td>NaN</td>\n",
       "      <td>1.0</td>\n",
       "      <td>10.0</td>\n",
       "      <td>NaN</td>\n",
       "      <td>3.0</td>\n",
       "      <td>10.0</td>\n",
       "      <td>NaN</td>\n",
       "      <td>NaN</td>\n",
       "      <td>7.0</td>\n",
       "    </tr>\n",
       "    <tr>\n",
       "      <th>2</th>\n",
       "      <td>37.0</td>\n",
       "      <td>Yes</td>\n",
       "      <td>NaN</td>\n",
       "      <td>1373.0</td>\n",
       "      <td>NaN</td>\n",
       "      <td>2.0</td>\n",
       "      <td>2.0</td>\n",
       "      <td>NaN</td>\n",
       "      <td>1.0</td>\n",
       "      <td>4.0</td>\n",
       "      <td>...</td>\n",
       "      <td>NaN</td>\n",
       "      <td>80.0</td>\n",
       "      <td>0.0</td>\n",
       "      <td>7.0</td>\n",
       "      <td>3.0</td>\n",
       "      <td>NaN</td>\n",
       "      <td>NaN</td>\n",
       "      <td>0.0</td>\n",
       "      <td>NaN</td>\n",
       "      <td>0.0</td>\n",
       "    </tr>\n",
       "    <tr>\n",
       "      <th>3</th>\n",
       "      <td>NaN</td>\n",
       "      <td>No</td>\n",
       "      <td>Travel_Frequently</td>\n",
       "      <td>1392.0</td>\n",
       "      <td>Research &amp; Development</td>\n",
       "      <td>3.0</td>\n",
       "      <td>4.0</td>\n",
       "      <td>Life Sciences</td>\n",
       "      <td>NaN</td>\n",
       "      <td>NaN</td>\n",
       "      <td>...</td>\n",
       "      <td>3.0</td>\n",
       "      <td>NaN</td>\n",
       "      <td>NaN</td>\n",
       "      <td>8.0</td>\n",
       "      <td>3.0</td>\n",
       "      <td>NaN</td>\n",
       "      <td>8.0</td>\n",
       "      <td>NaN</td>\n",
       "      <td>3.0</td>\n",
       "      <td>0.0</td>\n",
       "    </tr>\n",
       "    <tr>\n",
       "      <th>4</th>\n",
       "      <td>27.0</td>\n",
       "      <td>No</td>\n",
       "      <td>Travel_Rarely</td>\n",
       "      <td>591.0</td>\n",
       "      <td>Research &amp; Development</td>\n",
       "      <td>2.0</td>\n",
       "      <td>1.0</td>\n",
       "      <td>Medical</td>\n",
       "      <td>1.0</td>\n",
       "      <td>7.0</td>\n",
       "      <td>...</td>\n",
       "      <td>4.0</td>\n",
       "      <td>80.0</td>\n",
       "      <td>1.0</td>\n",
       "      <td>6.0</td>\n",
       "      <td>NaN</td>\n",
       "      <td>3.0</td>\n",
       "      <td>2.0</td>\n",
       "      <td>2.0</td>\n",
       "      <td>2.0</td>\n",
       "      <td>NaN</td>\n",
       "    </tr>\n",
       "  </tbody>\n",
       "</table>\n",
       "<p>5 rows × 35 columns</p>\n",
       "</div>"
      ],
      "text/plain": [
       "    Age Attrition     BusinessTravel  DailyRate              Department  \\\n",
       "0  41.0       Yes      Travel_Rarely        NaN                     NaN   \n",
       "1   NaN        No                NaN      279.0  Research & Development   \n",
       "2  37.0       Yes                NaN     1373.0                     NaN   \n",
       "3   NaN        No  Travel_Frequently     1392.0  Research & Development   \n",
       "4  27.0        No      Travel_Rarely      591.0  Research & Development   \n",
       "\n",
       "   DistanceFromHome  Education EducationField  EmployeeCount  EmployeeNumber  \\\n",
       "0               1.0        NaN  Life Sciences            1.0             1.0   \n",
       "1               NaN        NaN  Life Sciences            1.0             2.0   \n",
       "2               2.0        2.0            NaN            1.0             4.0   \n",
       "3               3.0        4.0  Life Sciences            NaN             NaN   \n",
       "4               2.0        1.0        Medical            1.0             7.0   \n",
       "\n",
       "   ...  RelationshipSatisfaction StandardHours  StockOptionLevel  \\\n",
       "0  ...                       1.0          80.0               0.0   \n",
       "1  ...                       4.0           NaN               1.0   \n",
       "2  ...                       NaN          80.0               0.0   \n",
       "3  ...                       3.0           NaN               NaN   \n",
       "4  ...                       4.0          80.0               1.0   \n",
       "\n",
       "   TotalWorkingYears  TrainingTimesLastYear WorkLifeBalance  YearsAtCompany  \\\n",
       "0                8.0                    0.0             NaN             6.0   \n",
       "1               10.0                    NaN             3.0            10.0   \n",
       "2                7.0                    3.0             NaN             NaN   \n",
       "3                8.0                    3.0             NaN             8.0   \n",
       "4                6.0                    NaN             3.0             2.0   \n",
       "\n",
       "  YearsInCurrentRole  YearsSinceLastPromotion  YearsWithCurrManager  \n",
       "0                NaN                      0.0                   NaN  \n",
       "1                NaN                      NaN                   7.0  \n",
       "2                0.0                      NaN                   0.0  \n",
       "3                NaN                      3.0                   0.0  \n",
       "4                2.0                      2.0                   NaN  \n",
       "\n",
       "[5 rows x 35 columns]"
      ]
     },
     "execution_count": 3,
     "metadata": {},
     "output_type": "execute_result"
    }
   ],
   "source": [
    "df.head()"
   ]
  },
  {
   "cell_type": "markdown",
   "metadata": {},
   "source": [
    "## Data Cleaning"
   ]
  },
  {
   "cell_type": "code",
   "execution_count": 4,
   "metadata": {},
   "outputs": [],
   "source": [
    "def Cleaning(df):\n",
    "    df.loc[df[\"Attrition\"] == 'No', \"Attrition\"] = 0.0\n",
    "    df.loc[df[\"Attrition\"] == 'Yes', \"Attrition\"] = 1.0\n",
    "    df['Attrition'] = df['Attrition'].astype('float64')\n",
    "    \n",
    "    # convert each categorical to numerical\n",
    "    cats = []\n",
    "    for col in df.columns:\n",
    "        if str(df[col].dtype) != 'float64':\n",
    "            cats.append(str(col))\n",
    "    for col in cats:\n",
    "        df[col] = pd.Categorical(df[col]).codes\n",
    "        \n",
    "        df.loc[df[col] == -1, col] = np.nan\n",
    "    # Drop EmployeeNumber & EmployeeCount\n",
    "    df = df.drop(columns = ['EmployeeNumber', 'EmployeeCount'])\n",
    "    \n",
    "    return df\n",
    "\n",
    "df = Cleaning(df)"
   ]
  },
  {
   "cell_type": "markdown",
   "metadata": {},
   "source": [
    "## Data segment (Train-Test split)"
   ]
  },
  {
   "cell_type": "code",
   "execution_count": 5,
   "metadata": {},
   "outputs": [],
   "source": [
    "def gen_test():\n",
    "    index_yes = df[df['Attrition'] == 1].index\n",
    "    index_no = df[df[\"Attrition\"] == 0].index\n",
    "    \n",
    "    yes_10 = np.random.choice(len(index_yes), size=int(np.ceil(len(index_yes)*0.1)), replace=False)\n",
    "    no_10 = np.random.choice(len(index_no), size=int(np.ceil(len(index_no)*0.1)), replace=False)\n",
    "    \n",
    "    test_index = []\n",
    "    test_index.extend(np.array(index_yes[yes_10]))\n",
    "    test_index.extend(np.array(index_no[no_10]))\n",
    "    test_df = df.iloc[test_index]\n",
    "    train_df = df.drop(index=test_index)\n",
    "    return train_df, test_df"
   ]
  },
  {
   "cell_type": "code",
   "execution_count": 6,
   "metadata": {},
   "outputs": [],
   "source": [
    "train_df, test_df = gen_test() # size = 148"
   ]
  },
  {
   "cell_type": "code",
   "execution_count": 7,
   "metadata": {},
   "outputs": [
    {
     "data": {
      "text/html": [
       "<div>\n",
       "<style scoped>\n",
       "    .dataframe tbody tr th:only-of-type {\n",
       "        vertical-align: middle;\n",
       "    }\n",
       "\n",
       "    .dataframe tbody tr th {\n",
       "        vertical-align: top;\n",
       "    }\n",
       "\n",
       "    .dataframe thead th {\n",
       "        text-align: right;\n",
       "    }\n",
       "</style>\n",
       "<table border=\"1\" class=\"dataframe\">\n",
       "  <thead>\n",
       "    <tr style=\"text-align: right;\">\n",
       "      <th></th>\n",
       "      <th>Age</th>\n",
       "      <th>Attrition</th>\n",
       "      <th>BusinessTravel</th>\n",
       "      <th>DailyRate</th>\n",
       "      <th>Department</th>\n",
       "      <th>DistanceFromHome</th>\n",
       "      <th>Education</th>\n",
       "      <th>EducationField</th>\n",
       "      <th>EnvironmentSatisfaction</th>\n",
       "      <th>Gender</th>\n",
       "      <th>...</th>\n",
       "      <th>RelationshipSatisfaction</th>\n",
       "      <th>StandardHours</th>\n",
       "      <th>StockOptionLevel</th>\n",
       "      <th>TotalWorkingYears</th>\n",
       "      <th>TrainingTimesLastYear</th>\n",
       "      <th>WorkLifeBalance</th>\n",
       "      <th>YearsAtCompany</th>\n",
       "      <th>YearsInCurrentRole</th>\n",
       "      <th>YearsSinceLastPromotion</th>\n",
       "      <th>YearsWithCurrManager</th>\n",
       "    </tr>\n",
       "  </thead>\n",
       "  <tbody>\n",
       "    <tr>\n",
       "      <th>count</th>\n",
       "      <td>1052.000000</td>\n",
       "      <td>1322.00000</td>\n",
       "      <td>1067.000000</td>\n",
       "      <td>1061.000000</td>\n",
       "      <td>1060.000000</td>\n",
       "      <td>1055.000000</td>\n",
       "      <td>1053.000000</td>\n",
       "      <td>1059.000000</td>\n",
       "      <td>1062.000000</td>\n",
       "      <td>1056.000000</td>\n",
       "      <td>...</td>\n",
       "      <td>1055.000000</td>\n",
       "      <td>1059.0</td>\n",
       "      <td>1061.000000</td>\n",
       "      <td>1060.000000</td>\n",
       "      <td>1054.000000</td>\n",
       "      <td>1056.000000</td>\n",
       "      <td>1055.000000</td>\n",
       "      <td>1055.000000</td>\n",
       "      <td>1072.000000</td>\n",
       "      <td>1060.000000</td>\n",
       "    </tr>\n",
       "    <tr>\n",
       "      <th>mean</th>\n",
       "      <td>37.201521</td>\n",
       "      <td>0.16112</td>\n",
       "      <td>1.619494</td>\n",
       "      <td>798.442978</td>\n",
       "      <td>1.255660</td>\n",
       "      <td>9.422749</td>\n",
       "      <td>2.933523</td>\n",
       "      <td>2.254958</td>\n",
       "      <td>2.734463</td>\n",
       "      <td>0.588068</td>\n",
       "      <td>...</td>\n",
       "      <td>2.687204</td>\n",
       "      <td>80.0</td>\n",
       "      <td>0.750236</td>\n",
       "      <td>11.358491</td>\n",
       "      <td>2.777989</td>\n",
       "      <td>2.765152</td>\n",
       "      <td>7.120379</td>\n",
       "      <td>4.298578</td>\n",
       "      <td>2.215485</td>\n",
       "      <td>4.108491</td>\n",
       "    </tr>\n",
       "    <tr>\n",
       "      <th>std</th>\n",
       "      <td>9.142871</td>\n",
       "      <td>0.36778</td>\n",
       "      <td>0.653691</td>\n",
       "      <td>407.945906</td>\n",
       "      <td>0.533766</td>\n",
       "      <td>8.212053</td>\n",
       "      <td>1.033354</td>\n",
       "      <td>1.339089</td>\n",
       "      <td>1.092826</td>\n",
       "      <td>0.492416</td>\n",
       "      <td>...</td>\n",
       "      <td>1.096301</td>\n",
       "      <td>0.0</td>\n",
       "      <td>0.824628</td>\n",
       "      <td>7.862833</td>\n",
       "      <td>1.283266</td>\n",
       "      <td>0.712620</td>\n",
       "      <td>6.273624</td>\n",
       "      <td>3.624834</td>\n",
       "      <td>3.250400</td>\n",
       "      <td>3.577092</td>\n",
       "    </tr>\n",
       "    <tr>\n",
       "      <th>min</th>\n",
       "      <td>18.000000</td>\n",
       "      <td>0.00000</td>\n",
       "      <td>0.000000</td>\n",
       "      <td>102.000000</td>\n",
       "      <td>0.000000</td>\n",
       "      <td>1.000000</td>\n",
       "      <td>1.000000</td>\n",
       "      <td>0.000000</td>\n",
       "      <td>1.000000</td>\n",
       "      <td>0.000000</td>\n",
       "      <td>...</td>\n",
       "      <td>1.000000</td>\n",
       "      <td>80.0</td>\n",
       "      <td>0.000000</td>\n",
       "      <td>0.000000</td>\n",
       "      <td>0.000000</td>\n",
       "      <td>1.000000</td>\n",
       "      <td>0.000000</td>\n",
       "      <td>0.000000</td>\n",
       "      <td>0.000000</td>\n",
       "      <td>0.000000</td>\n",
       "    </tr>\n",
       "    <tr>\n",
       "      <th>25%</th>\n",
       "      <td>31.000000</td>\n",
       "      <td>0.00000</td>\n",
       "      <td>1.000000</td>\n",
       "      <td>461.000000</td>\n",
       "      <td>1.000000</td>\n",
       "      <td>2.000000</td>\n",
       "      <td>2.000000</td>\n",
       "      <td>1.000000</td>\n",
       "      <td>2.000000</td>\n",
       "      <td>0.000000</td>\n",
       "      <td>...</td>\n",
       "      <td>2.000000</td>\n",
       "      <td>80.0</td>\n",
       "      <td>0.000000</td>\n",
       "      <td>6.000000</td>\n",
       "      <td>2.000000</td>\n",
       "      <td>2.000000</td>\n",
       "      <td>3.000000</td>\n",
       "      <td>2.000000</td>\n",
       "      <td>0.000000</td>\n",
       "      <td>2.000000</td>\n",
       "    </tr>\n",
       "    <tr>\n",
       "      <th>50%</th>\n",
       "      <td>36.000000</td>\n",
       "      <td>0.00000</td>\n",
       "      <td>2.000000</td>\n",
       "      <td>793.000000</td>\n",
       "      <td>1.000000</td>\n",
       "      <td>7.000000</td>\n",
       "      <td>3.000000</td>\n",
       "      <td>2.000000</td>\n",
       "      <td>3.000000</td>\n",
       "      <td>1.000000</td>\n",
       "      <td>...</td>\n",
       "      <td>3.000000</td>\n",
       "      <td>80.0</td>\n",
       "      <td>1.000000</td>\n",
       "      <td>10.000000</td>\n",
       "      <td>3.000000</td>\n",
       "      <td>3.000000</td>\n",
       "      <td>5.000000</td>\n",
       "      <td>3.000000</td>\n",
       "      <td>1.000000</td>\n",
       "      <td>3.000000</td>\n",
       "    </tr>\n",
       "    <tr>\n",
       "      <th>75%</th>\n",
       "      <td>43.000000</td>\n",
       "      <td>0.00000</td>\n",
       "      <td>2.000000</td>\n",
       "      <td>1171.000000</td>\n",
       "      <td>2.000000</td>\n",
       "      <td>15.000000</td>\n",
       "      <td>4.000000</td>\n",
       "      <td>3.000000</td>\n",
       "      <td>4.000000</td>\n",
       "      <td>1.000000</td>\n",
       "      <td>...</td>\n",
       "      <td>4.000000</td>\n",
       "      <td>80.0</td>\n",
       "      <td>1.000000</td>\n",
       "      <td>15.000000</td>\n",
       "      <td>3.000000</td>\n",
       "      <td>3.000000</td>\n",
       "      <td>10.000000</td>\n",
       "      <td>7.000000</td>\n",
       "      <td>3.000000</td>\n",
       "      <td>7.000000</td>\n",
       "    </tr>\n",
       "    <tr>\n",
       "      <th>max</th>\n",
       "      <td>60.000000</td>\n",
       "      <td>1.00000</td>\n",
       "      <td>2.000000</td>\n",
       "      <td>1499.000000</td>\n",
       "      <td>2.000000</td>\n",
       "      <td>29.000000</td>\n",
       "      <td>5.000000</td>\n",
       "      <td>5.000000</td>\n",
       "      <td>4.000000</td>\n",
       "      <td>1.000000</td>\n",
       "      <td>...</td>\n",
       "      <td>4.000000</td>\n",
       "      <td>80.0</td>\n",
       "      <td>3.000000</td>\n",
       "      <td>40.000000</td>\n",
       "      <td>6.000000</td>\n",
       "      <td>4.000000</td>\n",
       "      <td>37.000000</td>\n",
       "      <td>18.000000</td>\n",
       "      <td>15.000000</td>\n",
       "      <td>17.000000</td>\n",
       "    </tr>\n",
       "  </tbody>\n",
       "</table>\n",
       "<p>8 rows × 33 columns</p>\n",
       "</div>"
      ],
      "text/plain": [
       "               Age   Attrition  BusinessTravel    DailyRate   Department  \\\n",
       "count  1052.000000  1322.00000     1067.000000  1061.000000  1060.000000   \n",
       "mean     37.201521     0.16112        1.619494   798.442978     1.255660   \n",
       "std       9.142871     0.36778        0.653691   407.945906     0.533766   \n",
       "min      18.000000     0.00000        0.000000   102.000000     0.000000   \n",
       "25%      31.000000     0.00000        1.000000   461.000000     1.000000   \n",
       "50%      36.000000     0.00000        2.000000   793.000000     1.000000   \n",
       "75%      43.000000     0.00000        2.000000  1171.000000     2.000000   \n",
       "max      60.000000     1.00000        2.000000  1499.000000     2.000000   \n",
       "\n",
       "       DistanceFromHome    Education  EducationField  EnvironmentSatisfaction  \\\n",
       "count       1055.000000  1053.000000     1059.000000              1062.000000   \n",
       "mean           9.422749     2.933523        2.254958                 2.734463   \n",
       "std            8.212053     1.033354        1.339089                 1.092826   \n",
       "min            1.000000     1.000000        0.000000                 1.000000   \n",
       "25%            2.000000     2.000000        1.000000                 2.000000   \n",
       "50%            7.000000     3.000000        2.000000                 3.000000   \n",
       "75%           15.000000     4.000000        3.000000                 4.000000   \n",
       "max           29.000000     5.000000        5.000000                 4.000000   \n",
       "\n",
       "            Gender  ...  RelationshipSatisfaction  StandardHours  \\\n",
       "count  1056.000000  ...               1055.000000         1059.0   \n",
       "mean      0.588068  ...                  2.687204           80.0   \n",
       "std       0.492416  ...                  1.096301            0.0   \n",
       "min       0.000000  ...                  1.000000           80.0   \n",
       "25%       0.000000  ...                  2.000000           80.0   \n",
       "50%       1.000000  ...                  3.000000           80.0   \n",
       "75%       1.000000  ...                  4.000000           80.0   \n",
       "max       1.000000  ...                  4.000000           80.0   \n",
       "\n",
       "       StockOptionLevel  TotalWorkingYears  TrainingTimesLastYear  \\\n",
       "count       1061.000000        1060.000000            1054.000000   \n",
       "mean           0.750236          11.358491               2.777989   \n",
       "std            0.824628           7.862833               1.283266   \n",
       "min            0.000000           0.000000               0.000000   \n",
       "25%            0.000000           6.000000               2.000000   \n",
       "50%            1.000000          10.000000               3.000000   \n",
       "75%            1.000000          15.000000               3.000000   \n",
       "max            3.000000          40.000000               6.000000   \n",
       "\n",
       "       WorkLifeBalance  YearsAtCompany  YearsInCurrentRole  \\\n",
       "count      1056.000000     1055.000000         1055.000000   \n",
       "mean          2.765152        7.120379            4.298578   \n",
       "std           0.712620        6.273624            3.624834   \n",
       "min           1.000000        0.000000            0.000000   \n",
       "25%           2.000000        3.000000            2.000000   \n",
       "50%           3.000000        5.000000            3.000000   \n",
       "75%           3.000000       10.000000            7.000000   \n",
       "max           4.000000       37.000000           18.000000   \n",
       "\n",
       "       YearsSinceLastPromotion  YearsWithCurrManager  \n",
       "count              1072.000000           1060.000000  \n",
       "mean                  2.215485              4.108491  \n",
       "std                   3.250400              3.577092  \n",
       "min                   0.000000              0.000000  \n",
       "25%                   0.000000              2.000000  \n",
       "50%                   1.000000              3.000000  \n",
       "75%                   3.000000              7.000000  \n",
       "max                  15.000000             17.000000  \n",
       "\n",
       "[8 rows x 33 columns]"
      ]
     },
     "execution_count": 7,
     "metadata": {},
     "output_type": "execute_result"
    }
   ],
   "source": [
    "train_df.describe()"
   ]
  },
  {
   "cell_type": "code",
   "execution_count": 8,
   "metadata": {},
   "outputs": [
    {
     "data": {
      "text/html": [
       "<div>\n",
       "<style scoped>\n",
       "    .dataframe tbody tr th:only-of-type {\n",
       "        vertical-align: middle;\n",
       "    }\n",
       "\n",
       "    .dataframe tbody tr th {\n",
       "        vertical-align: top;\n",
       "    }\n",
       "\n",
       "    .dataframe thead th {\n",
       "        text-align: right;\n",
       "    }\n",
       "</style>\n",
       "<table border=\"1\" class=\"dataframe\">\n",
       "  <thead>\n",
       "    <tr style=\"text-align: right;\">\n",
       "      <th></th>\n",
       "      <th>Age</th>\n",
       "      <th>Attrition</th>\n",
       "      <th>BusinessTravel</th>\n",
       "      <th>DailyRate</th>\n",
       "      <th>Department</th>\n",
       "      <th>DistanceFromHome</th>\n",
       "      <th>Education</th>\n",
       "      <th>EducationField</th>\n",
       "      <th>EnvironmentSatisfaction</th>\n",
       "      <th>Gender</th>\n",
       "      <th>...</th>\n",
       "      <th>RelationshipSatisfaction</th>\n",
       "      <th>StandardHours</th>\n",
       "      <th>StockOptionLevel</th>\n",
       "      <th>TotalWorkingYears</th>\n",
       "      <th>TrainingTimesLastYear</th>\n",
       "      <th>WorkLifeBalance</th>\n",
       "      <th>YearsAtCompany</th>\n",
       "      <th>YearsInCurrentRole</th>\n",
       "      <th>YearsSinceLastPromotion</th>\n",
       "      <th>YearsWithCurrManager</th>\n",
       "    </tr>\n",
       "  </thead>\n",
       "  <tbody>\n",
       "    <tr>\n",
       "      <th>count</th>\n",
       "      <td>124.000000</td>\n",
       "      <td>148.000000</td>\n",
       "      <td>109.00000</td>\n",
       "      <td>115.000000</td>\n",
       "      <td>116.000000</td>\n",
       "      <td>121.000000</td>\n",
       "      <td>123.000000</td>\n",
       "      <td>117.000000</td>\n",
       "      <td>114.000000</td>\n",
       "      <td>120.000000</td>\n",
       "      <td>...</td>\n",
       "      <td>121.000000</td>\n",
       "      <td>117.0</td>\n",
       "      <td>115.000000</td>\n",
       "      <td>116.000000</td>\n",
       "      <td>122.000000</td>\n",
       "      <td>120.000000</td>\n",
       "      <td>121.000000</td>\n",
       "      <td>121.000000</td>\n",
       "      <td>104.000000</td>\n",
       "      <td>116.000000</td>\n",
       "    </tr>\n",
       "    <tr>\n",
       "      <th>mean</th>\n",
       "      <td>36.564516</td>\n",
       "      <td>0.162162</td>\n",
       "      <td>1.53211</td>\n",
       "      <td>802.869565</td>\n",
       "      <td>1.206897</td>\n",
       "      <td>8.958678</td>\n",
       "      <td>2.813008</td>\n",
       "      <td>2.316239</td>\n",
       "      <td>2.728070</td>\n",
       "      <td>0.566667</td>\n",
       "      <td>...</td>\n",
       "      <td>2.760331</td>\n",
       "      <td>80.0</td>\n",
       "      <td>0.773913</td>\n",
       "      <td>10.715517</td>\n",
       "      <td>2.868852</td>\n",
       "      <td>2.816667</td>\n",
       "      <td>6.603306</td>\n",
       "      <td>4.223140</td>\n",
       "      <td>1.576923</td>\n",
       "      <td>3.991379</td>\n",
       "    </tr>\n",
       "    <tr>\n",
       "      <th>std</th>\n",
       "      <td>9.602881</td>\n",
       "      <td>0.369851</td>\n",
       "      <td>0.72736</td>\n",
       "      <td>399.451565</td>\n",
       "      <td>0.466574</td>\n",
       "      <td>8.412686</td>\n",
       "      <td>0.986379</td>\n",
       "      <td>1.368674</td>\n",
       "      <td>1.099357</td>\n",
       "      <td>0.497613</td>\n",
       "      <td>...</td>\n",
       "      <td>1.072573</td>\n",
       "      <td>0.0</td>\n",
       "      <td>0.806344</td>\n",
       "      <td>7.020227</td>\n",
       "      <td>1.354215</td>\n",
       "      <td>0.634887</td>\n",
       "      <td>4.662759</td>\n",
       "      <td>3.697944</td>\n",
       "      <td>1.983878</td>\n",
       "      <td>3.163640</td>\n",
       "    </tr>\n",
       "    <tr>\n",
       "      <th>min</th>\n",
       "      <td>19.000000</td>\n",
       "      <td>0.000000</td>\n",
       "      <td>0.00000</td>\n",
       "      <td>104.000000</td>\n",
       "      <td>0.000000</td>\n",
       "      <td>1.000000</td>\n",
       "      <td>1.000000</td>\n",
       "      <td>1.000000</td>\n",
       "      <td>1.000000</td>\n",
       "      <td>0.000000</td>\n",
       "      <td>...</td>\n",
       "      <td>1.000000</td>\n",
       "      <td>80.0</td>\n",
       "      <td>0.000000</td>\n",
       "      <td>0.000000</td>\n",
       "      <td>0.000000</td>\n",
       "      <td>1.000000</td>\n",
       "      <td>0.000000</td>\n",
       "      <td>0.000000</td>\n",
       "      <td>0.000000</td>\n",
       "      <td>0.000000</td>\n",
       "    </tr>\n",
       "    <tr>\n",
       "      <th>25%</th>\n",
       "      <td>29.000000</td>\n",
       "      <td>0.000000</td>\n",
       "      <td>1.00000</td>\n",
       "      <td>438.000000</td>\n",
       "      <td>1.000000</td>\n",
       "      <td>2.000000</td>\n",
       "      <td>2.000000</td>\n",
       "      <td>1.000000</td>\n",
       "      <td>2.000000</td>\n",
       "      <td>0.000000</td>\n",
       "      <td>...</td>\n",
       "      <td>2.000000</td>\n",
       "      <td>80.0</td>\n",
       "      <td>0.000000</td>\n",
       "      <td>6.000000</td>\n",
       "      <td>2.000000</td>\n",
       "      <td>3.000000</td>\n",
       "      <td>3.000000</td>\n",
       "      <td>2.000000</td>\n",
       "      <td>0.000000</td>\n",
       "      <td>2.000000</td>\n",
       "    </tr>\n",
       "    <tr>\n",
       "      <th>50%</th>\n",
       "      <td>36.000000</td>\n",
       "      <td>0.000000</td>\n",
       "      <td>2.00000</td>\n",
       "      <td>829.000000</td>\n",
       "      <td>1.000000</td>\n",
       "      <td>6.000000</td>\n",
       "      <td>3.000000</td>\n",
       "      <td>2.000000</td>\n",
       "      <td>3.000000</td>\n",
       "      <td>1.000000</td>\n",
       "      <td>...</td>\n",
       "      <td>3.000000</td>\n",
       "      <td>80.0</td>\n",
       "      <td>1.000000</td>\n",
       "      <td>10.000000</td>\n",
       "      <td>3.000000</td>\n",
       "      <td>3.000000</td>\n",
       "      <td>5.000000</td>\n",
       "      <td>3.000000</td>\n",
       "      <td>1.000000</td>\n",
       "      <td>3.000000</td>\n",
       "    </tr>\n",
       "    <tr>\n",
       "      <th>75%</th>\n",
       "      <td>42.000000</td>\n",
       "      <td>0.000000</td>\n",
       "      <td>2.00000</td>\n",
       "      <td>1140.000000</td>\n",
       "      <td>1.000000</td>\n",
       "      <td>13.000000</td>\n",
       "      <td>3.000000</td>\n",
       "      <td>3.000000</td>\n",
       "      <td>4.000000</td>\n",
       "      <td>1.000000</td>\n",
       "      <td>...</td>\n",
       "      <td>4.000000</td>\n",
       "      <td>80.0</td>\n",
       "      <td>1.000000</td>\n",
       "      <td>15.000000</td>\n",
       "      <td>3.000000</td>\n",
       "      <td>3.000000</td>\n",
       "      <td>10.000000</td>\n",
       "      <td>7.000000</td>\n",
       "      <td>2.000000</td>\n",
       "      <td>7.000000</td>\n",
       "    </tr>\n",
       "    <tr>\n",
       "      <th>max</th>\n",
       "      <td>60.000000</td>\n",
       "      <td>1.000000</td>\n",
       "      <td>2.00000</td>\n",
       "      <td>1476.000000</td>\n",
       "      <td>2.000000</td>\n",
       "      <td>29.000000</td>\n",
       "      <td>5.000000</td>\n",
       "      <td>5.000000</td>\n",
       "      <td>4.000000</td>\n",
       "      <td>1.000000</td>\n",
       "      <td>...</td>\n",
       "      <td>4.000000</td>\n",
       "      <td>80.0</td>\n",
       "      <td>3.000000</td>\n",
       "      <td>32.000000</td>\n",
       "      <td>6.000000</td>\n",
       "      <td>4.000000</td>\n",
       "      <td>22.000000</td>\n",
       "      <td>16.000000</td>\n",
       "      <td>11.000000</td>\n",
       "      <td>12.000000</td>\n",
       "    </tr>\n",
       "  </tbody>\n",
       "</table>\n",
       "<p>8 rows × 33 columns</p>\n",
       "</div>"
      ],
      "text/plain": [
       "              Age   Attrition  BusinessTravel    DailyRate  Department  \\\n",
       "count  124.000000  148.000000       109.00000   115.000000  116.000000   \n",
       "mean    36.564516    0.162162         1.53211   802.869565    1.206897   \n",
       "std      9.602881    0.369851         0.72736   399.451565    0.466574   \n",
       "min     19.000000    0.000000         0.00000   104.000000    0.000000   \n",
       "25%     29.000000    0.000000         1.00000   438.000000    1.000000   \n",
       "50%     36.000000    0.000000         2.00000   829.000000    1.000000   \n",
       "75%     42.000000    0.000000         2.00000  1140.000000    1.000000   \n",
       "max     60.000000    1.000000         2.00000  1476.000000    2.000000   \n",
       "\n",
       "       DistanceFromHome   Education  EducationField  EnvironmentSatisfaction  \\\n",
       "count        121.000000  123.000000      117.000000               114.000000   \n",
       "mean           8.958678    2.813008        2.316239                 2.728070   \n",
       "std            8.412686    0.986379        1.368674                 1.099357   \n",
       "min            1.000000    1.000000        1.000000                 1.000000   \n",
       "25%            2.000000    2.000000        1.000000                 2.000000   \n",
       "50%            6.000000    3.000000        2.000000                 3.000000   \n",
       "75%           13.000000    3.000000        3.000000                 4.000000   \n",
       "max           29.000000    5.000000        5.000000                 4.000000   \n",
       "\n",
       "           Gender  ...  RelationshipSatisfaction  StandardHours  \\\n",
       "count  120.000000  ...                121.000000          117.0   \n",
       "mean     0.566667  ...                  2.760331           80.0   \n",
       "std      0.497613  ...                  1.072573            0.0   \n",
       "min      0.000000  ...                  1.000000           80.0   \n",
       "25%      0.000000  ...                  2.000000           80.0   \n",
       "50%      1.000000  ...                  3.000000           80.0   \n",
       "75%      1.000000  ...                  4.000000           80.0   \n",
       "max      1.000000  ...                  4.000000           80.0   \n",
       "\n",
       "       StockOptionLevel  TotalWorkingYears  TrainingTimesLastYear  \\\n",
       "count        115.000000         116.000000             122.000000   \n",
       "mean           0.773913          10.715517               2.868852   \n",
       "std            0.806344           7.020227               1.354215   \n",
       "min            0.000000           0.000000               0.000000   \n",
       "25%            0.000000           6.000000               2.000000   \n",
       "50%            1.000000          10.000000               3.000000   \n",
       "75%            1.000000          15.000000               3.000000   \n",
       "max            3.000000          32.000000               6.000000   \n",
       "\n",
       "       WorkLifeBalance  YearsAtCompany  YearsInCurrentRole  \\\n",
       "count       120.000000      121.000000          121.000000   \n",
       "mean          2.816667        6.603306            4.223140   \n",
       "std           0.634887        4.662759            3.697944   \n",
       "min           1.000000        0.000000            0.000000   \n",
       "25%           3.000000        3.000000            2.000000   \n",
       "50%           3.000000        5.000000            3.000000   \n",
       "75%           3.000000       10.000000            7.000000   \n",
       "max           4.000000       22.000000           16.000000   \n",
       "\n",
       "       YearsSinceLastPromotion  YearsWithCurrManager  \n",
       "count               104.000000            116.000000  \n",
       "mean                  1.576923              3.991379  \n",
       "std                   1.983878              3.163640  \n",
       "min                   0.000000              0.000000  \n",
       "25%                   0.000000              2.000000  \n",
       "50%                   1.000000              3.000000  \n",
       "75%                   2.000000              7.000000  \n",
       "max                  11.000000             12.000000  \n",
       "\n",
       "[8 rows x 33 columns]"
      ]
     },
     "execution_count": 8,
     "metadata": {},
     "output_type": "execute_result"
    }
   ],
   "source": [
    "test_df.describe()"
   ]
  },
  {
   "cell_type": "markdown",
   "metadata": {},
   "source": [
    "## Histrogram ***Discretization***"
   ]
  },
  {
   "cell_type": "code",
   "execution_count": 9,
   "metadata": {},
   "outputs": [],
   "source": [
    "# JUST Plot function\n",
    "def plot(data, bins, message):\n",
    "    plt.figure(figsize=(7,3))\n",
    "    ax = plt.subplot(1, 1, 1)\n",
    "    ax.hist(data, bins)\n",
    "    print(message)\n",
    "    plt.show()"
   ]
  },
  {
   "cell_type": "markdown",
   "metadata": {},
   "source": [
    "- ### T4 Observe histogram"
   ]
  },
  {
   "cell_type": "code",
   "execution_count": 10,
   "metadata": {},
   "outputs": [
    {
     "name": "stdout",
     "output_type": "stream",
     "text": [
      "Age attribute\n"
     ]
    },
    {
     "data": {
      "image/png": "[encoded data removed]",
      "text/plain": [
       "<Figure size 504x216 with 1 Axes>"
      ]
     },
     "metadata": {
      "needs_background": "light"
     },
     "output_type": "display_data"
    },
    {
     "name": "stdout",
     "output_type": "stream",
     "text": [
      "MonthlyIncome attribute\n"
     ]
    },
    {
     "data": {
      "image/png": "[encoded data removed]",
      "text/plain": [
       "<Figure size 504x216 with 1 Axes>"
      ]
     },
     "metadata": {
      "needs_background": "light"
     },
     "output_type": "display_data"
    },
    {
     "name": "stdout",
     "output_type": "stream",
     "text": [
      "DistanceFromHome attribute\n"
     ]
    },
    {
     "data": {
      "image/png": "[encoded data removed]",
      "text/plain": [
       "<Figure size 504x216 with 1 Axes>"
      ]
     },
     "metadata": {
      "needs_background": "light"
     },
     "output_type": "display_data"
    }
   ],
   "source": [
    "# remove NaN values to plot distribution\n",
    "hist_list = ['Age', 'MonthlyIncome', 'DistanceFromHome']\n",
    "# bins parameters\n",
    "bins = 40\n",
    "\n",
    "for feat in hist_list:\n",
    "    x = train_df[~np.isnan(train_df[feat])][feat]\n",
    "    plot(x, bins, f\"{feat} attribute\")"
   ]
  },
  {
   "cell_type": "code",
   "execution_count": 11,
   "metadata": {},
   "outputs": [
    {
     "name": "stdout",
     "output_type": "stream",
     "text": [
      "Age attribute\n"
     ]
    },
    {
     "data": {
      "image/png": "[encoded data removed]",
      "text/plain": [
       "<Figure size 504x216 with 1 Axes>"
      ]
     },
     "metadata": {
      "needs_background": "light"
     },
     "output_type": "display_data"
    },
    {
     "name": "stdout",
     "output_type": "stream",
     "text": [
      "MonthlyIncome attribute\n"
     ]
    },
    {
     "data": {
      "image/png": "[encoded data removed]",
      "text/plain": [
       "<Figure size 504x216 with 1 Axes>"
      ]
     },
     "metadata": {
      "needs_background": "light"
     },
     "output_type": "display_data"
    },
    {
     "name": "stdout",
     "output_type": "stream",
     "text": [
      "DistanceFromHome attribute\n"
     ]
    },
    {
     "data": {
      "image/png": "[encoded data removed]",
      "text/plain": [
       "<Figure size 504x216 with 1 Axes>"
      ]
     },
     "metadata": {
      "needs_background": "light"
     },
     "output_type": "display_data"
    }
   ],
   "source": [
    "# remove NaN values to plot distribution\n",
    "hist_list = ['Age', 'MonthlyIncome', 'DistanceFromHome']\n",
    "# bins parameters\n",
    "bins = 10\n",
    "\n",
    "for feat in hist_list:\n",
    "    x = train_df[~np.isnan(train_df[feat])][feat]\n",
    "    plot(x, bins, f\"{feat} attribute\")"
   ]
  },
  {
   "cell_type": "code",
   "execution_count": 12,
   "metadata": {},
   "outputs": [],
   "source": [
    "def make_digitized(x, bins):\n",
    "    bin_list = np.arange(min(x), max(x), (max(x)-min(x))/bins)\n",
    "    bin_list[0] = -np.inf\n",
    "    bin_list = np.append(bin_list, np.inf)\n",
    "    digitized = np.digitize(x, bin_list)\n",
    "    return digitized, bin_list"
   ]
  },
  {
   "cell_type": "code",
   "execution_count": 13,
   "metadata": {},
   "outputs": [
    {
     "name": "stdout",
     "output_type": "stream",
     "text": [
      "Bins =  10\n",
      "[  0  42  70 149 190 180 162  97  70  60  32]\n",
      "Age attribute\n"
     ]
    },
    {
     "data": {
      "image/png": "[encoded data removed]",
      "text/plain": [
       "<Figure size 504x216 with 1 Axes>"
      ]
     },
     "metadata": {
      "needs_background": "light"
     },
     "output_type": "display_data"
    },
    {
     "name": "stdout",
     "output_type": "stream",
     "text": [
      "Bins =  40\n",
      "[ 0 12  8 12 10 11 15 20 24 30 33 43 43 49 40 39 62 55 51 36 71 40 31 32\n",
      " 26 24 33 22 18 14 21 24 11 13 15 15 17 11  2  9 10]\n",
      "Age attribute\n"
     ]
    },
    {
     "data": {
      "image/png": "[encoded data removed]",
      "text/plain": [
       "<Figure size 504x216 with 1 Axes>"
      ]
     },
     "metadata": {
      "needs_background": "light"
     },
     "output_type": "display_data"
    },
    {
     "name": "stdout",
     "output_type": "stream",
     "text": [
      "Bins =  100\n",
      "[ 0  6  0  6  0  8  0  0 12  0 10  0 11  0  0 15  0 20  0  0 24  0 30  0\n",
      " 33  0  0 43  0 43  0 49  0  0 40  0 39  0  0 62  0 55  0 51  0  0 36  0\n",
      " 38  0 33  0  0 40  0 31  0  0 32  0 26  0 24  0  0 33  0 22  0  0 18  0\n",
      " 14  0 21  0  0 24  0 11  0 13  0  0 15  0 15  0  0 17  0 11  0  2  0  0\n",
      "  9  0  6  0  4]\n",
      "Age attribute\n"
     ]
    },
    {
     "data": {
      "image/png": "[encoded data removed]",
      "text/plain": [
       "<Figure size 504x216 with 1 Axes>"
      ]
     },
     "metadata": {
      "needs_background": "light"
     },
     "output_type": "display_data"
    },
    {
     "name": "stdout",
     "output_type": "stream",
     "text": [
      "Bins =  10\n",
      "[  0 266 247 198  87  70  50  36  10  38  51]\n",
      "MonthlyIncome attribute\n"
     ]
    },
    {
     "data": {
      "image/png": "[encoded data removed]",
      "text/plain": [
       "<Figure size 504x216 with 1 Axes>"
      ]
     },
     "metadata": {
      "needs_background": "light"
     },
     "output_type": "display_data"
    },
    {
     "name": "stdout",
     "output_type": "stream",
     "text": [
      "Bins =  40\n",
      "[  0  14  11 130 111  58  54  70  65  55  55  36  52  34  18  19  16  14\n",
      "   8  26  22  24   9   7  10   3   7  18   8   1   2   2   5   8  12  11\n",
      "   7   7   7  18  19]\n",
      "MonthlyIncome attribute\n"
     ]
    },
    {
     "data": {
      "image/png": "[encoded data removed]",
      "text/plain": [
       "<Figure size 504x216 with 1 Axes>"
      ]
     },
     "metadata": {
      "needs_background": "light"
     },
     "output_type": "display_data"
    },
    {
     "name": "stdout",
     "output_type": "stream",
     "text": [
      "Bins =  100\n",
      "[ 0  7  5  7  3  3 47 53 47 50 44 30 21 23 21 17 26 26 29 26 28 24 18 29\n",
      " 26 13 15 14 15 24 20 23  7  4  8 10  6 11  5  7  6  7  5  3  4  3 10 10\n",
      "  9  7 12  9 10  9  3  2  3  3  6  3  2  2  0  1  1  6  5  9  7  4  1  0\n",
      "  1  1  1  0  0  2  0  1  4  2  5  4  5  4  6  3  3  4  2  2  4  1  4  3\n",
      "  7  9  7  8  6]\n",
      "MonthlyIncome attribute\n"
     ]
    },
    {
     "data": {
      "image/png": "[encoded data removed]",
      "text/plain": [
       "<Figure size 504x216 with 1 Axes>"
      ]
     },
     "metadata": {
      "needs_background": "light"
     },
     "output_type": "display_data"
    },
    {
     "name": "stdout",
     "output_type": "stream",
     "text": [
      "Bins =  10\n",
      "[  0 349 136 179 100  24  59  55  45  58  50]\n",
      "DistanceFromHome attribute\n"
     ]
    },
    {
     "data": {
      "image/png": "[encoded data removed]",
      "text/plain": [
       "<Figure size 504x216 with 1 Axes>"
      ]
     },
     "metadata": {
      "needs_background": "light"
     },
     "output_type": "display_data"
    },
    {
     "name": "stdout",
     "output_type": "stream",
     "text": [
      "Bins =  40\n",
      "[  0 142 149  58   0  42  49   0  45  62   0  57  60  62   0  20  18   0\n",
      "   9  15   0  22  24  13   0  21  18   0  16  14   0  13  18  22   0  17\n",
      "  19   0   9  17  24]\n",
      "DistanceFromHome attribute\n"
     ]
    },
    {
     "data": {
      "image/png": "[encoded data removed]",
      "text/plain": [
       "<Figure size 504x216 with 1 Axes>"
      ]
     },
     "metadata": {
      "needs_background": "light"
     },
     "output_type": "display_data"
    },
    {
     "name": "stdout",
     "output_type": "stream",
     "text": [
      "Bins =  100\n",
      "[  0 142   0   0 149   0   0   0  58   0   0  42   0   0   0  49   0   0\n",
      "  45   0   0   0  62   0   0   0  57   0   0  60   0   0   0  62   0   0\n",
      "  20   0   0   0  18   0   0   9   0   0   0  15   0   0  22   0   0   0\n",
      "  24   0   0   0  13   0   0  21   0   0   0  18   0   0  16   0   0   0\n",
      "  14   0   0  13   0   0   0  18   0   0   0  22   0   0  17   0   0   0\n",
      "  19   0   0   9   0   0   0  17   0   0  24]\n",
      "DistanceFromHome attribute\n"
     ]
    },
    {
     "data": {
      "image/png": "[encoded data removed]",
      "text/plain": [
       "<Figure size 504x216 with 1 Axes>"
      ]
     },
     "metadata": {
      "needs_background": "light"
     },
     "output_type": "display_data"
    }
   ],
   "source": [
    "hist_list = ['Age', 'MonthlyIncome', 'DistanceFromHome']\n",
    "# bins parameters\n",
    "bins_list = [10, 40, 100]\n",
    "for feat in hist_list:\n",
    "    for b in bins_list:\n",
    "        print(\"Bins = \", b)\n",
    "        x = train_df[~np.isnan(train_df[feat])][feat]\n",
    "        dg, bin_edge = make_digitized(x, b)\n",
    "        print(np.bincount(dg))\n",
    "        plot(dg, b, f\"{feat} attribute\")"
   ]
  },
  {
   "cell_type": "markdown",
   "metadata": {},
   "source": [
    "## Select Features for Discretize"
   ]
  },
  {
   "cell_type": "code",
   "execution_count": 14,
   "metadata": {},
   "outputs": [
    {
     "name": "stdout",
     "output_type": "stream",
     "text": [
      "Age  : unique -->  43\n",
      "DailyRate  : unique -->  773\n",
      "DistanceFromHome  : unique -->  29\n",
      "HourlyRate  : unique -->  71\n",
      "MonthlyIncome  : unique -->  1105\n",
      "MonthlyRate  : unique -->  1143\n",
      "PercentSalaryHike  : unique -->  15\n",
      "TotalWorkingYears  : unique -->  39\n",
      "YearsAtCompany  : unique -->  35\n",
      "YearsInCurrentRole  : unique -->  19\n",
      "YearsSinceLastPromotion  : unique -->  16\n",
      "YearsWithCurrManager  : unique -->  18\n"
     ]
    }
   ],
   "source": [
    "# We should decretize feature that has continuous values, in other word -> many unique values\n",
    "decretize_list = []\n",
    "non_decretize = []\n",
    "for feat in df.columns:\n",
    "    if feat == \"Attrition\" or (train_df[feat].nunique()==1):\n",
    "        continue;\n",
    "    if df[feat].nunique() > 10:\n",
    "        decretize_list.append(feat)\n",
    "        print(feat, \" : unique --> \", df[feat].nunique())\n",
    "    else:\n",
    "        non_decretize.append(feat)"
   ]
  },
  {
   "cell_type": "code",
   "execution_count": 15,
   "metadata": {},
   "outputs": [
    {
     "name": "stdout",
     "output_type": "stream",
     "text": [
      "Age attribute\n"
     ]
    },
    {
     "data": {
      "image/png": "[encoded data removed]",
      "text/plain": [
       "<Figure size 504x216 with 1 Axes>"
      ]
     },
     "metadata": {
      "needs_background": "light"
     },
     "output_type": "display_data"
    },
    {
     "name": "stdout",
     "output_type": "stream",
     "text": [
      "DailyRate attribute\n"
     ]
    },
    {
     "data": {
      "image/png": "[encoded data removed]",
      "text/plain": [
       "<Figure size 504x216 with 1 Axes>"
      ]
     },
     "metadata": {
      "needs_background": "light"
     },
     "output_type": "display_data"
    },
    {
     "name": "stdout",
     "output_type": "stream",
     "text": [
      "DistanceFromHome attribute\n"
     ]
    },
    {
     "data": {
      "image/png": "[encoded data removed]",
      "text/plain": [
       "<Figure size 504x216 with 1 Axes>"
      ]
     },
     "metadata": {
      "needs_background": "light"
     },
     "output_type": "display_data"
    },
    {
     "name": "stdout",
     "output_type": "stream",
     "text": [
      "HourlyRate attribute\n"
     ]
    },
    {
     "data": {
      "image/png": "[encoded data removed]",
      "text/plain": [
       "<Figure size 504x216 with 1 Axes>"
      ]
     },
     "metadata": {
      "needs_background": "light"
     },
     "output_type": "display_data"
    },
    {
     "name": "stdout",
     "output_type": "stream",
     "text": [
      "MonthlyIncome attribute\n"
     ]
    },
    {
     "data": {
      "image/png": "[encoded data removed]",
      "text/plain": [
       "<Figure size 504x216 with 1 Axes>"
      ]
     },
     "metadata": {
      "needs_background": "light"
     },
     "output_type": "display_data"
    },
    {
     "name": "stdout",
     "output_type": "stream",
     "text": [
      "MonthlyRate attribute\n"
     ]
    },
    {
     "data": {
      "image/png": "[encoded data removed]",
      "text/plain": [
       "<Figure size 504x216 with 1 Axes>"
      ]
     },
     "metadata": {
      "needs_background": "light"
     },
     "output_type": "display_data"
    },
    {
     "name": "stdout",
     "output_type": "stream",
     "text": [
      "PercentSalaryHike attribute\n"
     ]
    },
    {
     "data": {
      "image/png": "[encoded data removed]",
      "text/plain": [
       "<Figure size 504x216 with 1 Axes>"
      ]
     },
     "metadata": {
      "needs_background": "light"
     },
     "output_type": "display_data"
    },
    {
     "name": "stdout",
     "output_type": "stream",
     "text": [
      "TotalWorkingYears attribute\n"
     ]
    },
    {
     "data": {
      "image/png": "[encoded data removed]",
      "text/plain": [
       "<Figure size 504x216 with 1 Axes>"
      ]
     },
     "metadata": {
      "needs_background": "light"
     },
     "output_type": "display_data"
    },
    {
     "name": "stdout",
     "output_type": "stream",
     "text": [
      "YearsAtCompany attribute\n"
     ]
    },
    {
     "data": {
      "image/png": "[encoded data removed]",
      "text/plain": [
       "<Figure size 504x216 with 1 Axes>"
      ]
     },
     "metadata": {
      "needs_background": "light"
     },
     "output_type": "display_data"
    },
    {
     "name": "stdout",
     "output_type": "stream",
     "text": [
      "YearsInCurrentRole attribute\n"
     ]
    },
    {
     "data": {
      "image/png": "[encoded data removed]",
      "text/plain": [
       "<Figure size 504x216 with 1 Axes>"
      ]
     },
     "metadata": {
      "needs_background": "light"
     },
     "output_type": "display_data"
    },
    {
     "name": "stdout",
     "output_type": "stream",
     "text": [
      "YearsSinceLastPromotion attribute\n"
     ]
    },
    {
     "data": {
      "image/png": "[encoded data removed]",
      "text/plain": [
       "<Figure size 504x216 with 1 Axes>"
      ]
     },
     "metadata": {
      "needs_background": "light"
     },
     "output_type": "display_data"
    },
    {
     "name": "stdout",
     "output_type": "stream",
     "text": [
      "YearsWithCurrManager attribute\n"
     ]
    },
    {
     "data": {
      "image/png": "[encoded data removed]",
      "text/plain": [
       "<Figure size 504x216 with 1 Axes>"
      ]
     },
     "metadata": {
      "needs_background": "light"
     },
     "output_type": "display_data"
    }
   ],
   "source": [
    "# Just plot\n",
    "# bins parameters\n",
    "bins = 10\n",
    "\n",
    "for feat in decretize_list:\n",
    "    x = train_df[~np.isnan(train_df[feat])][feat]\n",
    "    plot(x, bins, f\"{feat} attribute\")"
   ]
  },
  {
   "cell_type": "markdown",
   "metadata": {},
   "source": [
    "# The MLE for the likelihood distribution"
   ]
  },
  {
   "cell_type": "code",
   "execution_count": 16,
   "metadata": {},
   "outputs": [],
   "source": [
    "def plot_dist(df, feat, bins=10):\n",
    "    leave_df = df[df[\"Attrition\"] == 1]\n",
    "    stay_df = df[df[\"Attrition\"] == 0]\n",
    "    x_all = df[~np.isnan(df[feat])][feat]\n",
    "    x_leave = leave_df[~np.isnan(leave_df[feat])][feat]\n",
    "    x_stay = stay_df[~np.isnan(stay_df[feat])][feat]\n",
    "\n",
    "    fig, ax = plt.subplots(1,3, figsize=(15,4))\n",
    "    \n",
    "    hist, bins = np.histogram(x_all, bins = bins)\n",
    "    ax[0].bar(bins[:-1], hist.astype(np.float32) / hist.sum(), width=(bins[1]-bins[0]), color='grey')\n",
    "    hist1, bins1 = np.histogram(x_leave)\n",
    "    ax[1].bar(bins1[:-1], hist1.astype(np.float32) / hist1.sum(), width=(bins1[1]-bins1[0]), color='grey')\n",
    "    hist2, bins2 = np.histogram(x_stay)\n",
    "    ax[2].bar(bins2[:-1], hist2.astype(np.float32) / hist2.sum(), width=(bins2[1]-bins2[0]), color='grey')\n",
    "\n",
    "    ax[0].set_title('All Attrition')\n",
    "    ax[1].set_title('Leave Attrition')\n",
    "    ax[2].set_title('Stay Attrition')\n",
    "    plt.show()"
   ]
  },
  {
   "cell_type": "code",
   "execution_count": 17,
   "metadata": {},
   "outputs": [
    {
     "data": {
      "image/png": "[encoded data removed]",
      "text/plain": [
       "<Figure size 1080x288 with 3 Axes>"
      ]
     },
     "metadata": {
      "needs_background": "light"
     },
     "output_type": "display_data"
    }
   ],
   "source": [
    "plot_dist(train_df, \"MonthlyIncome\", bins=10)"
   ]
  },
  {
   "cell_type": "code",
   "execution_count": 18,
   "metadata": {},
   "outputs": [
    {
     "data": {
      "image/png": "[encoded data removed]",
      "text/plain": [
       "<Figure size 1080x288 with 3 Axes>"
      ]
     },
     "metadata": {
      "needs_background": "light"
     },
     "output_type": "display_data"
    }
   ],
   "source": [
    "plot_dist(train_df, \"JobRole\", bins=10)"
   ]
  },
  {
   "cell_type": "code",
   "execution_count": 19,
   "metadata": {},
   "outputs": [
    {
     "data": {
      "image/png": "[encoded data removed]",
      "text/plain": [
       "<Figure size 1080x288 with 3 Axes>"
      ]
     },
     "metadata": {
      "needs_background": "light"
     },
     "output_type": "display_data"
    }
   ],
   "source": [
    "plot_dist(train_df, \"HourlyRate\", bins=10)"
   ]
  },
  {
   "cell_type": "code",
   "execution_count": 20,
   "metadata": {},
   "outputs": [
    {
     "data": {
      "image/png": "[encoded data removed]",
      "text/plain": [
       "<Figure size 1080x288 with 3 Axes>"
      ]
     },
     "metadata": {
      "needs_background": "light"
     },
     "output_type": "display_data"
    }
   ],
   "source": [
    "plot_dist(train_df, \"MaritalStatus\", bins=10)"
   ]
  },
  {
   "cell_type": "markdown",
   "metadata": {},
   "source": [
    "# Naive Bayes Classification \n",
    "<br>\n",
    "\n",
    "- #### Using Histogram distribution\n"
   ]
  },
  {
   "cell_type": "code",
   "execution_count": 21,
   "metadata": {},
   "outputs": [
    {
     "name": "stdout",
     "output_type": "stream",
     "text": [
      "Age  : unique -->  43\n",
      "DailyRate  : unique -->  773\n",
      "DistanceFromHome  : unique -->  29\n",
      "HourlyRate  : unique -->  71\n",
      "MonthlyIncome  : unique -->  1105\n",
      "MonthlyRate  : unique -->  1143\n",
      "PercentSalaryHike  : unique -->  15\n",
      "TotalWorkingYears  : unique -->  39\n",
      "YearsAtCompany  : unique -->  35\n",
      "YearsInCurrentRole  : unique -->  19\n",
      "YearsSinceLastPromotion  : unique -->  16\n",
      "YearsWithCurrManager  : unique -->  18\n"
     ]
    }
   ],
   "source": [
    "# We should decretize feature that has continuous values, in other word -> many unique values\n",
    "decretize_list = []\n",
    "non_decretize = []\n",
    "for feat in df.columns:\n",
    "    if feat == \"Attrition\" or (train_df[feat].nunique()==1):\n",
    "        continue;\n",
    "    if df[feat].nunique() > 10:\n",
    "        decretize_list.append(feat)\n",
    "        print(feat, \" : unique --> \", df[feat].nunique())\n",
    "    else:\n",
    "        non_decretize.append(feat)"
   ]
  },
  {
   "cell_type": "code",
   "execution_count": 22,
   "metadata": {},
   "outputs": [
    {
     "name": "stdout",
     "output_type": "stream",
     "text": [
      "['Age', 'DailyRate', 'DistanceFromHome', 'HourlyRate', 'MonthlyIncome', 'MonthlyRate', 'PercentSalaryHike', 'TotalWorkingYears', 'YearsAtCompany', 'YearsInCurrentRole', 'YearsSinceLastPromotion', 'YearsWithCurrManager']\n"
     ]
    }
   ],
   "source": [
    "print(decretize_list) "
   ]
  },
  {
   "cell_type": "code",
   "execution_count": 23,
   "metadata": {},
   "outputs": [
    {
     "name": "stdout",
     "output_type": "stream",
     "text": [
      "['BusinessTravel', 'Department', 'Education', 'EducationField', 'EnvironmentSatisfaction', 'Gender', 'JobInvolvement', 'JobLevel', 'JobRole', 'JobSatisfaction', 'MaritalStatus', 'NumCompaniesWorked', 'OverTime', 'PerformanceRating', 'RelationshipSatisfaction', 'StockOptionLevel', 'TrainingTimesLastYear', 'WorkLifeBalance']\n"
     ]
    }
   ],
   "source": [
    "print(non_decretize)"
   ]
  },
  {
   "cell_type": "code",
   "execution_count": 24,
   "metadata": {},
   "outputs": [],
   "source": [
    "def get_binslist(df, feat, bins=10):\n",
    "    x = df[~np.isnan(df[feat])][feat]\n",
    "    bin_list = np.arange(min(x), max(x), (max(x)-min(x))/bins)\n",
    "    bin_list[0] = -np.inf\n",
    "    bin_list = np.append(bin_list, np.inf)\n",
    "    digitized = np.digitize(x, bin_list)\n",
    "    return bin_list, np.bincount(digitized)/len(x)\n",
    "\n",
    "def get_problist(df, feat, bins_list):\n",
    "    x = df[~np.isnan(df[feat])][feat]\n",
    "    digitized = np.digitize(x, bins_list)\n",
    "    prob_list = np.bincount(digitized)/len(x)\n",
    "    return np.append(prob_list, np.zeros(len(bins_list)))\n",
    "\n",
    "def get_digitized(x, bins_list):\n",
    "    digitized = np.digitize(x, bins_list)\n",
    "    return digitized\n",
    "\n",
    "def get_prob(digitized, prob_list):\n",
    "    return prob_list[digitized]"
   ]
  },
  {
   "cell_type": "code",
   "execution_count": 25,
   "metadata": {},
   "outputs": [],
   "source": [
    "train_leave_df = train_df[train_df[\"Attrition\"] == 1]\n",
    "train_stay_df = train_df[train_df[\"Attrition\"] == 0]"
   ]
  },
  {
   "cell_type": "code",
   "execution_count": 26,
   "metadata": {},
   "outputs": [],
   "source": [
    "# Evaluation Metric\n",
    "def confusion_metric(y_true, y_pred):\n",
    "    tp = 0\n",
    "    tn = 0\n",
    "    fp = 0\n",
    "    fn = 0\n",
    "    for i in range(len(y_true)):\n",
    "        if((y_true[i]==1) and (y_true[i]==y_pred[i])):\n",
    "            tp += 1\n",
    "        elif((y_true[i]==0) and (y_true[i]!=y_pred[i])):\n",
    "            fp += 1\n",
    "        elif((y_true[i]==1) and (y_true[i]!=y_pred[i])):\n",
    "            fn += 1\n",
    "        else:\n",
    "            tn += 1\n",
    "    return tp, fp, fn, tn\n",
    "\n",
    "def get_metric(y_true, y_pred):\n",
    "    assert len(y_true) == len(y_pred), \"Both label must be the same length.\"\n",
    "    tp, fp, fn, tn = confusion_metric(y_true, y_pred)\n",
    "    accuracy = (tp+tn)/(len(y_true))\n",
    "    precision = tp/(tp+fp+1e-9)\n",
    "    recall = tp/(tp+fn+1e-9)\n",
    "    f1 = 2*((recall*precision)/(recall+precision+1e-9))\n",
    "    return accuracy, precision, recall, f1"
   ]
  },
  {
   "cell_type": "code",
   "execution_count": 27,
   "metadata": {},
   "outputs": [],
   "source": [
    "def Naive_bayes(threshold=0, set_bins = 10):\n",
    "    prediction = np.zeros((len(test_df)))\n",
    "    for lists in [decretize_list, non_decretize]:\n",
    "        for feat in lists:\n",
    "            if feat in non_decretize:\n",
    "                bins = train_df[feat].nunique()\n",
    "            else:\n",
    "                bins = set_bins;\n",
    "            bin_list_all, prob_list_all = get_binslist(train_df, feat, bins)\n",
    "        # Leave side (Attrition==1) calculation\n",
    "            prob_list = get_problist(train_leave_df, feat, bin_list_all)\n",
    "            prob_list[0] = 1 # when log is applied, NaN term become zero that means not take into account.\n",
    "            dg = get_digitized(test_df[feat], bin_list_all)\n",
    "            dg[dg>(len(bin_list_all)-1)]=0 # NaN become index 0 of prob\n",
    "            #dg = dg.reshape([len(dg), 1])\n",
    "            p = get_prob(dg, prob_list)\n",
    "            z = np.argwhere(p == 0)\n",
    "            p[z] += 1e-9\n",
    "            log_p_leave = np.log(p)\n",
    "\n",
    "        # Stay side (Attrition==0) calculation\n",
    "            prob_list = get_problist(train_stay_df, feat, bin_list_all)\n",
    "            prob_list[0] = 1 # when log is applied, NaN term become zero that means not take into account.\n",
    "            dg = get_digitized(test_df[feat], bin_list_all)\n",
    "            dg[dg>(len(bin_list_all)-1)]=0 # NaN become index 0 of prob\n",
    "            #dg = dg.reshape([len(dg), 1])\n",
    "            p = get_prob(dg, prob_list)\n",
    "            z = np.argwhere(p == 0)\n",
    "            p[z] += 1e-9\n",
    "            log_p_stay = np.log(p)\n",
    "            feature_likelihood = log_p_leave-log_p_stay\n",
    "        # Sum over features\n",
    "            prediction += feature_likelihood\n",
    "\n",
    "    # Prior calculation\n",
    "    prior = np.array(train_df[\"Attrition\"].value_counts()/len(train_df))\n",
    "    log_prior_leave = np.log(prior[1]) # prior = 0.161\n",
    "    log_prior_stay = np.log(prior[0])# prior = 0.839\n",
    "    log_prior = log_prior_leave-log_prior_stay\n",
    "    prediction += log_prior\n",
    "\n",
    "    prediction[prediction >= threshold] = 1\n",
    "    prediction[prediction < threshold] = 0\n",
    "    \n",
    "    return prediction"
   ]
  },
  {
   "cell_type": "code",
   "execution_count": 28,
   "metadata": {},
   "outputs": [
    {
     "data": {
      "text/plain": [
       "array([0., 1., 0., 0., 0., 1., 1., 1., 1., 1., 1., 1., 0., 1., 1., 0., 1.,\n",
       "       1., 1., 0., 1., 1., 0., 1., 0., 0., 0., 0., 1., 0., 1., 0., 0., 0.,\n",
       "       0., 0., 0., 0., 0., 1., 0., 0., 0., 0., 0., 0., 0., 0., 0., 0., 0.,\n",
       "       0., 0., 0., 0., 0., 0., 0., 0., 0., 1., 0., 0., 0., 0., 0., 0., 0.,\n",
       "       0., 0., 0., 0., 0., 0., 0., 0., 0., 1., 0., 0., 0., 0., 1., 0., 1.,\n",
       "       0., 0., 0., 0., 0., 0., 1., 0., 0., 0., 1., 0., 0., 0., 0., 0., 0.,\n",
       "       0., 0., 0., 0., 0., 0., 0., 0., 0., 0., 0., 0., 0., 0., 0., 0., 0.,\n",
       "       0., 0., 1., 0., 0., 0., 0., 0., 0., 0., 0., 0., 0., 1., 0., 0., 0.,\n",
       "       0., 0., 0., 0., 0., 0., 0., 0., 0., 0., 0., 1.])"
      ]
     },
     "execution_count": 28,
     "metadata": {},
     "output_type": "execute_result"
    }
   ],
   "source": [
    "prediction = Naive_bayes(0)\n",
    "prediction"
   ]
  },
  {
   "cell_type": "code",
   "execution_count": 29,
   "metadata": {},
   "outputs": [
    {
     "data": {
      "text/plain": [
       "array([1., 1., 1., 1., 1., 1., 1., 1., 1., 1., 1., 1., 1., 1., 1., 1., 1.,\n",
       "       1., 1., 1., 1., 1., 1., 1., 0., 0., 0., 0., 0., 0., 0., 0., 0., 0.,\n",
       "       0., 0., 0., 0., 0., 0., 0., 0., 0., 0., 0., 0., 0., 0., 0., 0., 0.,\n",
       "       0., 0., 0., 0., 0., 0., 0., 0., 0., 0., 0., 0., 0., 0., 0., 0., 0.,\n",
       "       0., 0., 0., 0., 0., 0., 0., 0., 0., 0., 0., 0., 0., 0., 0., 0., 0.,\n",
       "       0., 0., 0., 0., 0., 0., 0., 0., 0., 0., 0., 0., 0., 0., 0., 0., 0.,\n",
       "       0., 0., 0., 0., 0., 0., 0., 0., 0., 0., 0., 0., 0., 0., 0., 0., 0.,\n",
       "       0., 0., 0., 0., 0., 0., 0., 0., 0., 0., 0., 0., 0., 0., 0., 0., 0.,\n",
       "       0., 0., 0., 0., 0., 0., 0., 0., 0., 0., 0., 0.])"
      ]
     },
     "execution_count": 29,
     "metadata": {},
     "output_type": "execute_result"
    }
   ],
   "source": [
    "label = np.array(test_df[\"Attrition\"])\n",
    "label"
   ]
  },
  {
   "cell_type": "code",
   "execution_count": 30,
   "metadata": {},
   "outputs": [
    {
     "name": "stdout",
     "output_type": "stream",
     "text": [
      "Accuracy :  0.8648648648648649\n",
      "Precision :  0.5714285714081633\n",
      "Recall :  0.6666666666388888\n",
      "F1 Score :  0.6153846148639052\n"
     ]
    }
   ],
   "source": [
    "acc, prec, rec, f1 = get_metric(label, prediction)\n",
    "print(\"Accuracy : \", acc)\n",
    "print(\"Precision : \", prec)\n",
    "print(\"Recall : \", rec)\n",
    "print(\"F1 Score : \", f1)"
   ]
  },
  {
   "cell_type": "code",
   "execution_count": null,
   "metadata": {},
   "outputs": [],
   "source": []
  },
  {
   "cell_type": "markdown",
   "metadata": {},
   "source": [
    "# Using PDF Gaussian"
   ]
  },
  {
   "cell_type": "code",
   "execution_count": 31,
   "metadata": {},
   "outputs": [],
   "source": [
    "def get_mean(df, feat):\n",
    "    data = df[~np.isnan(df[feat])][feat]\n",
    "    return sum(data)/len(data)\n",
    "\n",
    "def get_stdev(df, feat):\n",
    "    data = df[~np.isnan(df[feat])][feat]\n",
    "    avg = get_mean(df, feat)\n",
    "    variance = sum([(x-avg)**2 for x in data]) / float(len(data)-1)\n",
    "    return np.sqrt(variance)"
   ]
  },
  {
   "cell_type": "code",
   "execution_count": 32,
   "metadata": {},
   "outputs": [],
   "source": [
    "data_dict_leave = {}\n",
    "data_dict_stay = {}\n",
    "\n",
    "for lists in [decretize_list, non_decretize]:\n",
    "    for feat in lists:\n",
    "        mu = get_mean(train_leave_df, feat)\n",
    "        std = get_stdev(train_leave_df, feat)\n",
    "        data_dict_leave[feat] = [mu, std]\n",
    "        \n",
    "        mu2 = get_mean(train_stay_df, feat)\n",
    "        std2 = get_stdev(train_stay_df, feat)\n",
    "        data_dict_stay[feat] = [mu2, std2]"
   ]
  },
  {
   "cell_type": "code",
   "execution_count": 33,
   "metadata": {},
   "outputs": [],
   "source": [
    "from scipy.stats import norm\n",
    "\n",
    "prediction = np.zeros((len(test_df)))\n",
    "for lists in [decretize_list, non_decretize]:\n",
    "    for feat in lists:\n",
    "    # Leave side (Attrition==1) calculation\n",
    "        p = norm(data_dict_leave[feat][0], data_dict_leave[feat][1]).pdf(test_df[feat])\n",
    "        p = np.nan_to_num(p, nan=1)\n",
    "        p += 1e-6\n",
    "        log_p_leave = np.log(p)\n",
    "\n",
    "    # Stay side (Attrition==0) calculation\n",
    "        p = norm(data_dict_stay[feat][0], data_dict_stay[feat][1]).pdf(test_df[feat])\n",
    "        p = np.nan_to_num(p, nan=1)\n",
    "        p += 1e-6\n",
    "        log_p_stay = np.log(p)\n",
    "        feature_likelihood = log_p_leave-log_p_stay\n",
    "    # Sum over features\n",
    "        prediction += feature_likelihood\n",
    "            \n",
    "# Prior calculation\n",
    "prior = np.array(train_df[\"Attrition\"].value_counts()/len(train_df))\n",
    "log_prior_leave = np.log(prior[1]) # prior = 0.161\n",
    "log_prior_stay = np.log(prior[0])# prior = 0.839\n",
    "log_prior = log_prior_leave-log_prior_stay\n",
    "prediction += log_prior\n",
    "\n",
    "prediction[prediction >= 0] = 1\n",
    "prediction[prediction < 0] = 0"
   ]
  },
  {
   "cell_type": "code",
   "execution_count": 34,
   "metadata": {},
   "outputs": [
    {
     "data": {
      "text/plain": [
       "array([0., 0., 0., 0., 0., 1., 1., 0., 0., 1., 1., 1., 0., 1., 1., 0., 0.,\n",
       "       1., 1., 0., 1., 1., 1., 0., 0., 0., 0., 0., 0., 0., 0., 0., 0., 0.,\n",
       "       0., 0., 0., 0., 0., 0., 0., 0., 0., 0., 0., 0., 0., 0., 0., 0., 0.,\n",
       "       0., 0., 0., 0., 0., 0., 0., 0., 0., 1., 1., 0., 0., 0., 0., 0., 0.,\n",
       "       0., 0., 0., 0., 0., 0., 0., 0., 0., 1., 0., 0., 1., 0., 1., 0., 0.,\n",
       "       0., 0., 0., 0., 0., 0., 1., 0., 0., 0., 0., 0., 0., 1., 0., 0., 0.,\n",
       "       0., 0., 0., 0., 0., 0., 0., 0., 0., 0., 0., 0., 0., 0., 0., 0., 0.,\n",
       "       0., 0., 1., 0., 0., 0., 0., 0., 0., 0., 0., 0., 0., 0., 0., 0., 0.,\n",
       "       1., 0., 0., 0., 0., 0., 0., 0., 0., 0., 0., 1.])"
      ]
     },
     "execution_count": 34,
     "metadata": {},
     "output_type": "execute_result"
    }
   ],
   "source": [
    "prediction"
   ]
  },
  {
   "cell_type": "code",
   "execution_count": 35,
   "metadata": {},
   "outputs": [
    {
     "data": {
      "text/plain": [
       "array([1., 1., 1., 1., 1., 1., 1., 1., 1., 1., 1., 1., 1., 1., 1., 1., 1.,\n",
       "       1., 1., 1., 1., 1., 1., 1., 0., 0., 0., 0., 0., 0., 0., 0., 0., 0.,\n",
       "       0., 0., 0., 0., 0., 0., 0., 0., 0., 0., 0., 0., 0., 0., 0., 0., 0.,\n",
       "       0., 0., 0., 0., 0., 0., 0., 0., 0., 0., 0., 0., 0., 0., 0., 0., 0.,\n",
       "       0., 0., 0., 0., 0., 0., 0., 0., 0., 0., 0., 0., 0., 0., 0., 0., 0.,\n",
       "       0., 0., 0., 0., 0., 0., 0., 0., 0., 0., 0., 0., 0., 0., 0., 0., 0.,\n",
       "       0., 0., 0., 0., 0., 0., 0., 0., 0., 0., 0., 0., 0., 0., 0., 0., 0.,\n",
       "       0., 0., 0., 0., 0., 0., 0., 0., 0., 0., 0., 0., 0., 0., 0., 0., 0.,\n",
       "       0., 0., 0., 0., 0., 0., 0., 0., 0., 0., 0., 0.])"
      ]
     },
     "execution_count": 35,
     "metadata": {},
     "output_type": "execute_result"
    }
   ],
   "source": [
    "label = np.array(test_df[\"Attrition\"])\n",
    "label"
   ]
  },
  {
   "cell_type": "code",
   "execution_count": 36,
   "metadata": {},
   "outputs": [
    {
     "name": "stdout",
     "output_type": "stream",
     "text": [
      "Accuracy :  0.8513513513513513\n",
      "Precision :  0.545454545429752\n",
      "Recall :  0.49999999997916666\n",
      "F1 Score :  0.5217391299130434\n"
     ]
    }
   ],
   "source": [
    "acc, prec, rec, f1 = get_metric(label, prediction)\n",
    "print(\"Accuracy : \", acc)\n",
    "print(\"Precision : \", prec)\n",
    "print(\"Recall : \", rec)\n",
    "print(\"F1 Score : \", f1)"
   ]
  },
  {
   "cell_type": "code",
   "execution_count": null,
   "metadata": {},
   "outputs": [],
   "source": []
  },
  {
   "cell_type": "markdown",
   "metadata": {},
   "source": [
    "# Baseline Evaluation\n",
    "- ##### Random choice\n",
    "- ##### Majority Rule"
   ]
  },
  {
   "cell_type": "code",
   "execution_count": 37,
   "metadata": {},
   "outputs": [
    {
     "data": {
      "text/plain": [
       "array([0, 1, 0, 1, 0, 1, 1, 1, 1, 0, 0, 0, 1, 1, 1, 0, 0, 0, 1, 1, 1, 0,\n",
       "       0, 0, 0, 1, 0, 1, 0, 0, 0, 1, 1, 0, 0, 1, 0, 1, 1, 0, 0, 0, 0, 0,\n",
       "       1, 0, 1, 1, 1, 0, 1, 0, 1, 1, 0, 1, 1, 1, 0, 0, 1, 0, 0, 1, 0, 1,\n",
       "       1, 0, 0, 0, 0, 0, 0, 1, 0, 0, 1, 1, 1, 1, 0, 1, 1, 0, 0, 1, 0, 1,\n",
       "       0, 0, 0, 1, 0, 0, 1, 1, 1, 0, 1, 1, 1, 0, 0, 0, 1, 1, 0, 1, 0, 0,\n",
       "       0, 1, 0, 0, 1, 1, 1, 0, 0, 1, 1, 1, 1, 0, 1, 0, 1, 1, 1, 1, 1, 1,\n",
       "       1, 0, 0, 0, 1, 0, 0, 0, 0, 1, 0, 1, 0, 0, 0, 0])"
      ]
     },
     "execution_count": 37,
     "metadata": {},
     "output_type": "execute_result"
    }
   ],
   "source": [
    "# Random choice\n",
    "rng_pred = np.random.choice(a=[0,1], size=len(test_df), p=[0.5,0.5])\n",
    "rng_pred"
   ]
  },
  {
   "cell_type": "code",
   "execution_count": 38,
   "metadata": {},
   "outputs": [
    {
     "data": {
      "text/plain": [
       "array([1., 1., 1., 1., 1., 1., 1., 1., 1., 1., 1., 1., 1., 1., 1., 1., 1.,\n",
       "       1., 1., 1., 1., 1., 1., 1., 0., 0., 0., 0., 0., 0., 0., 0., 0., 0.,\n",
       "       0., 0., 0., 0., 0., 0., 0., 0., 0., 0., 0., 0., 0., 0., 0., 0., 0.,\n",
       "       0., 0., 0., 0., 0., 0., 0., 0., 0., 0., 0., 0., 0., 0., 0., 0., 0.,\n",
       "       0., 0., 0., 0., 0., 0., 0., 0., 0., 0., 0., 0., 0., 0., 0., 0., 0.,\n",
       "       0., 0., 0., 0., 0., 0., 0., 0., 0., 0., 0., 0., 0., 0., 0., 0., 0.,\n",
       "       0., 0., 0., 0., 0., 0., 0., 0., 0., 0., 0., 0., 0., 0., 0., 0., 0.,\n",
       "       0., 0., 0., 0., 0., 0., 0., 0., 0., 0., 0., 0., 0., 0., 0., 0., 0.,\n",
       "       0., 0., 0., 0., 0., 0., 0., 0., 0., 0., 0., 0.])"
      ]
     },
     "execution_count": 38,
     "metadata": {},
     "output_type": "execute_result"
    }
   ],
   "source": [
    "label"
   ]
  },
  {
   "cell_type": "code",
   "execution_count": 39,
   "metadata": {},
   "outputs": [
    {
     "name": "stdout",
     "output_type": "stream",
     "text": [
      "Accuracy :  0.5202702702702703\n",
      "Precision :  0.16901408450466177\n",
      "Recall :  0.49999999997916666\n",
      "F1 Score :  0.25263157856443214\n"
     ]
    }
   ],
   "source": [
    "acc, prec, rec, f1 = get_metric(label, rng_pred)\n",
    "print(\"Accuracy : \", acc)\n",
    "print(\"Precision : \", prec)\n",
    "print(\"Recall : \", rec)\n",
    "print(\"F1 Score : \", f1)"
   ]
  },
  {
   "cell_type": "code",
   "execution_count": 40,
   "metadata": {},
   "outputs": [
    {
     "data": {
      "text/plain": [
       "array([0., 0., 0., 0., 0., 0., 0., 0., 0., 0., 0., 0., 0., 0., 0., 0., 0.,\n",
       "       0., 0., 0., 0., 0., 0., 0., 0., 0., 0., 0., 0., 0., 0., 0., 0., 0.,\n",
       "       0., 0., 0., 0., 0., 0., 0., 0., 0., 0., 0., 0., 0., 0., 0., 0., 0.,\n",
       "       0., 0., 0., 0., 0., 0., 0., 0., 0., 0., 0., 0., 0., 0., 0., 0., 0.,\n",
       "       0., 0., 0., 0., 0., 0., 0., 0., 0., 0., 0., 0., 0., 0., 0., 0., 0.,\n",
       "       0., 0., 0., 0., 0., 0., 0., 0., 0., 0., 0., 0., 0., 0., 0., 0., 0.,\n",
       "       0., 0., 0., 0., 0., 0., 0., 0., 0., 0., 0., 0., 0., 0., 0., 0., 0.,\n",
       "       0., 0., 0., 0., 0., 0., 0., 0., 0., 0., 0., 0., 0., 0., 0., 0., 0.,\n",
       "       0., 0., 0., 0., 0., 0., 0., 0., 0., 0., 0., 0.])"
      ]
     },
     "execution_count": 40,
     "metadata": {},
     "output_type": "execute_result"
    }
   ],
   "source": [
    "# Majority Rule\n",
    "major_pred = np.zeros(len(test_df))\n",
    "major_pred"
   ]
  },
  {
   "cell_type": "code",
   "execution_count": 41,
   "metadata": {},
   "outputs": [
    {
     "name": "stdout",
     "output_type": "stream",
     "text": [
      "Accuracy :  0.8378378378378378\n",
      "Precision :  0.0\n",
      "Recall :  0.0\n",
      "F1 Score :  0.0\n"
     ]
    }
   ],
   "source": [
    "acc, prec, rec, f1 = get_metric(label, major_pred)\n",
    "print(\"Accuracy : \", acc)\n",
    "print(\"Precision : \", prec)\n",
    "print(\"Recall : \", rec)\n",
    "print(\"F1 Score : \", f1)"
   ]
  },
  {
   "cell_type": "markdown",
   "metadata": {},
   "source": [
    "# Threshold Finding"
   ]
  },
  {
   "cell_type": "code",
   "execution_count": 42,
   "metadata": {},
   "outputs": [
    {
     "name": "stdout",
     "output_type": "stream",
     "text": [
      "200\n"
     ]
    }
   ],
   "source": [
    "# create list of threshold\n",
    "t_list = np.arange(-5, 5, 0.05)\n",
    "print(len(t_list))"
   ]
  },
  {
   "cell_type": "code",
   "execution_count": 43,
   "metadata": {},
   "outputs": [
    {
     "name": "stderr",
     "output_type": "stream",
     "text": [
      "100%|████████████████████████████████████████████████████████████████████████████████| 200/200 [00:14<00:00, 13.41it/s]\n"
     ]
    }
   ],
   "source": [
    "from tqdm import tqdm\n",
    "\n",
    "best_acc = 0\n",
    "best_F1 = 0\n",
    "best_t_acc = 0\n",
    "best_t_f1 = 0\n",
    "for t in tqdm(t_list):\n",
    "    pred = Naive_bayes(threshold=t)\n",
    "    acc, precision, recall, f1 = get_metric(y_true=label, y_pred=pred)\n",
    "    if acc > best_acc:\n",
    "        best_acc = acc\n",
    "        best_t_acc = t\n",
    "    if f1 > best_F1:\n",
    "        best_F1 = f1\n",
    "        best_t_f1 = t"
   ]
  },
  {
   "cell_type": "code",
   "execution_count": 44,
   "metadata": {},
   "outputs": [
    {
     "name": "stdout",
     "output_type": "stream",
     "text": [
      "Best Threshold(Best accuracy):  0.49999999999998046  Acc =  0.8716216216216216\n",
      "Best Threshold(Best F1):  -1.7763568394002505e-14  Acc =  0.6153846148639052\n"
     ]
    }
   ],
   "source": [
    "print(\"Best Threshold(Best accuracy): \", best_t_acc, \" Acc = \", best_acc)\n",
    "print(\"Best Threshold(Best F1): \", best_t_f1, \" Acc = \", best_F1)"
   ]
  },
  {
   "cell_type": "markdown",
   "metadata": {},
   "source": [
    "# Plot RoC"
   ]
  },
  {
   "cell_type": "code",
   "execution_count": 45,
   "metadata": {},
   "outputs": [],
   "source": [
    "def plot_roc(lower, upper, step, discretize_bins=[10]):\n",
    "    t_list = np.arange(lower, upper, step)\n",
    "    plt.figure(figsize=(10,10))\n",
    "    for bins in discretize_bins:\n",
    "        tpr_list = []\n",
    "        fpr_list = []\n",
    "        for t in tqdm(t_list):\n",
    "            pred = Naive_bayes(threshold=t, set_bins=bins)\n",
    "            tp, fp, fn, tn = confusion_metric(y_true=label, y_pred=pred)\n",
    "            tpr = tp/(tp+fn+1e-9)\n",
    "            fpr = fp/(fp+tn+1e-9)\n",
    "            tpr_list.append(tpr)\n",
    "            fpr_list.append(fpr)\n",
    "\n",
    "        plt.plot(fpr_list, tpr_list, lw=1, label=f\"ROC bins: {bins}\")\n",
    "    \n",
    "    plt.plot([0, 1], [0, 1], color=\"navy\", lw=1, linestyle=\"--\")\n",
    "    plt.xlim([0.0, 1.0])\n",
    "    plt.ylim([0.0, 1.05])\n",
    "    plt.xlabel(\"False Positive Rate\")\n",
    "    plt.ylabel(\"True Positive Rate\")\n",
    "    plt.title(\"Receiver operating characteristic example\")\n",
    "    plt.legend(loc=\"lower right\")\n",
    "    plt.show()"
   ]
  },
  {
   "cell_type": "code",
   "execution_count": 46,
   "metadata": {},
   "outputs": [
    {
     "name": "stderr",
     "output_type": "stream",
     "text": [
      "100%|████████████████████████████████████████████████████████████████████████████████| 460/460 [00:36<00:00, 12.69it/s]\n",
      "100%|████████████████████████████████████████████████████████████████████████████████| 460/460 [00:34<00:00, 13.19it/s]\n"
     ]
    },
    {
     "data": {
      "image/png": "[encoded data removed]",
      "text/plain": [
       "<Figure size 720x720 with 1 Axes>"
      ]
     },
     "metadata": {
      "needs_background": "light"
     },
     "output_type": "display_data"
    }
   ],
   "source": [
    "plot_roc(-18, 5, 0.05, discretize_bins=[10,5])"
   ]
  },
  {
   "cell_type": "markdown",
   "metadata": {},
   "source": [
    "# Shuffle Folds"
   ]
  },
  {
   "cell_type": "code",
   "execution_count": 47,
   "metadata": {},
   "outputs": [],
   "source": [
    "def gen_test():\n",
    "    index_yes = df[df['Attrition'] == 1].index\n",
    "    index_no = df[df[\"Attrition\"] == 0].index\n",
    "    \n",
    "    yes_10 = np.random.choice(len(index_yes), size=int(np.ceil(len(index_yes)*0.1)), replace=False)\n",
    "    no_10 = np.random.choice(len(index_no), size=int(np.ceil(len(index_no)*0.1)), replace=False)\n",
    "    \n",
    "    test_index = []\n",
    "    test_index.extend(np.array(index_yes[yes_10]))\n",
    "    test_index.extend(np.array(index_no[no_10]))\n",
    "    test_df = df.iloc[test_index]\n",
    "    train_df = df.drop(index=test_index)\n",
    "    return train_df, test_df"
   ]
  },
  {
   "cell_type": "code",
   "execution_count": 48,
   "metadata": {},
   "outputs": [],
   "source": [
    "def process(train_df, test_df):\n",
    "    decretize_list = []\n",
    "    non_decretize = []\n",
    "    for feat in df.columns:\n",
    "        if feat == \"Attrition\" or (train_df[feat].nunique()==1):\n",
    "            continue;\n",
    "        if df[feat].nunique() > 10:\n",
    "            decretize_list.append(feat)\n",
    "        else:\n",
    "            non_decretize.append(feat)\n",
    "    return decretize_list, non_decretize"
   ]
  },
  {
   "cell_type": "code",
   "execution_count": 49,
   "metadata": {},
   "outputs": [],
   "source": [
    "def get_classified_df(train_df, test_df):    \n",
    "    train_leave_df = train_df[train_df[\"Attrition\"] == 1]\n",
    "    train_stay_df = train_df[train_df[\"Attrition\"] == 0]\n",
    "    label = np.array(test_df[\"Attrition\"])\n",
    "    return train_leave_df, train_stay_df, label"
   ]
  },
  {
   "cell_type": "code",
   "execution_count": 50,
   "metadata": {},
   "outputs": [
    {
     "name": "stdout",
     "output_type": "stream",
     "text": [
      "Setting  1    : Accuracy = 0.757 , F1 = 0.400\n",
      "Setting  2    : Accuracy = 0.777 , F1 = 0.400\n",
      "Setting  3    : Accuracy = 0.770 , F1 = 0.469\n",
      "Setting  4    : Accuracy = 0.750 , F1 = 0.413\n",
      "Setting  5    : Accuracy = 0.703 , F1 = 0.290\n",
      "Setting  6    : Accuracy = 0.804 , F1 = 0.473\n",
      "Setting  7    : Accuracy = 0.797 , F1 = 0.483\n",
      "Setting  8    : Accuracy = 0.764 , F1 = 0.444\n",
      "Setting  9    : Accuracy = 0.818 , F1 = 0.491\n",
      "Setting  10    : Accuracy = 0.845 , F1 = 0.582\n",
      "\n",
      "\n",
      "Mean accuracy for 10 shuffles is 0.7784\n",
      "Variance accuracy for 10 shuffles is 0.0377\n",
      "\n",
      "Mean F1 score for 10 shuffles is 0.4444\n",
      "Variance F1 for 10 shuffles is 0.0377\n"
     ]
    }
   ],
   "source": [
    "# Shuffle for 10 times\n",
    "n = 10\n",
    "all_acc = []\n",
    "all_f1 = []\n",
    "for i in range(n):\n",
    "    train_df, test_df = gen_test()\n",
    "    decretize_list, non_decretize = process(train_df, test_df)\n",
    "    train_leave_df, train_stay_df, label = get_classified_df(train_df, test_df)\n",
    "    pred = Naive_bayes(threshold=-0.8, set_bins=10)\n",
    "    acc, precision, recall, f1 = get_metric(label, pred)\n",
    "    print(\"Setting \", i+1, f\"   : Accuracy = {acc:.3f} , F1 = {f1:.3f}\")\n",
    "    all_acc.append(acc)\n",
    "    all_f1.append(f1)\n",
    "\n",
    "print(\"\\n\")\n",
    "print(f\"Mean accuracy for 10 shuffles is {np.mean(all_acc):.4f}\")\n",
    "print(f\"Variance accuracy for 10 shuffles is {np.std(all_acc):.4f}\\n\")\n",
    "print(f\"Mean F1 score for 10 shuffles is {np.mean(all_f1):.4f}\")\n",
    "print(f\"Variance F1 for 10 shuffles is {np.std(all_acc):.4f}\")"
   ]
  },
  {
   "cell_type": "code",
   "execution_count": null,
   "metadata": {},
   "outputs": [],
   "source": []
  },
  {
   "cell_type": "code",
   "execution_count": null,
   "metadata": {},
   "outputs": [],
   "source": []
  }
 ],
 "metadata": {
  "kernelspec": {
   "display_name": "Python 3",
   "language": "python",
   "name": "python3"
  },
  "language_info": {
   "codemirror_mode": {
    "name": "ipython",
    "version": 3
   },
   "file_extension": ".py",
   "mimetype": "text/x-python",
   "name": "python",
   "nbconvert_exporter": "python",
   "pygments_lexer": "ipython3",
   "version": "3.8.8"
  }
 },
 "nbformat": 4,
 "nbformat_minor": 4
}
